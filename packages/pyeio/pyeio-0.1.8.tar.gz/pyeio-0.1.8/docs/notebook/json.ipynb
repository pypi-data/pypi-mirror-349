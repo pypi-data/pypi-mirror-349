{
 "cells": [
  {
   "cell_type": "markdown",
   "metadata": {},
   "source": [
    "# JSON"
   ]
  },
  {
   "cell_type": "code",
   "execution_count": 1,
   "metadata": {},
   "outputs": [],
   "source": [
    "# comment this out to use default `print` function\n",
    "from rich import print"
   ]
  },
  {
   "cell_type": "markdown",
   "metadata": {},
   "source": [
    "## Basic Usage"
   ]
  },
  {
   "cell_type": "code",
   "execution_count": 2,
   "metadata": {},
   "outputs": [],
   "source": [
    "# import the necessary module\n",
    "from pyeio import json"
   ]
  },
  {
   "cell_type": "markdown",
   "metadata": {},
   "source": [
    "### Parsing serialized data\n",
    "\n",
    "Reference: https://harttraveller.github.io/pyeio/module/pyeio.json/#pyeio.json.parse"
   ]
  },
  {
   "cell_type": "code",
   "execution_count": 3,
   "metadata": {},
   "outputs": [
    {
     "data": {
      "text/plain": [
       "{'color': 'green', 'count': 3}"
      ]
     },
     "execution_count": 3,
     "metadata": {},
     "output_type": "execute_result"
    }
   ],
   "source": [
    "python_dictionary = json.parse(data='{\"color\":\"green\", \"count\": 3}')\n",
    "python_dictionary"
   ]
  },
  {
   "cell_type": "markdown",
   "metadata": {},
   "source": [
    "### Serializing python data\n",
    "\n",
    "Reference: https://harttraveller.github.io/pyeio/module/pyeio.json/#pyeio.json.serialize"
   ]
  },
  {
   "cell_type": "code",
   "execution_count": 4,
   "metadata": {},
   "outputs": [
    {
     "data": {
      "text/plain": [
       "'{\\n    \"color\": \"green\", \\n    \"count\": 3\\n}'"
      ]
     },
     "execution_count": 4,
     "metadata": {},
     "output_type": "execute_result"
    }
   ],
   "source": [
    "json_string = json.serialize(python_dictionary, compact_serialization=False)\n",
    "json_string"
   ]
  },
  {
   "cell_type": "markdown",
   "metadata": {},
   "source": [
    "### Opening a file\n",
    "\n",
    "Reference: https://harttraveller.github.io/pyeio/module/pyeio.json/#pyeio.json.open"
   ]
  },
  {
   "cell_type": "code",
   "execution_count": 5,
   "metadata": {},
   "outputs": [
    {
     "data": {
      "text/html": [
       "<pre style=\"white-space:pre;overflow-x:auto;line-height:normal;font-family:Menlo,'DejaVu Sans Mono',consolas,'Courier New',monospace\"><span style=\"font-weight: bold\">{</span>\n",
       "    <span style=\"color: #008000; text-decoration-color: #008000\">'books'</span>: <span style=\"font-weight: bold\">[</span>\n",
       "        <span style=\"font-weight: bold\">{</span>\n",
       "            <span style=\"color: #008000; text-decoration-color: #008000\">'id'</span>: <span style=\"color: #008080; text-decoration-color: #008080; font-weight: bold\">1</span>,\n",
       "            <span style=\"color: #008000; text-decoration-color: #008000\">'title'</span>: <span style=\"color: #008000; text-decoration-color: #008000\">'To Kill a Mockingbird'</span>,\n",
       "            <span style=\"color: #008000; text-decoration-color: #008000\">'author'</span>: <span style=\"color: #008000; text-decoration-color: #008000\">'Harper Lee'</span>,\n",
       "            <span style=\"color: #008000; text-decoration-color: #008000\">'year'</span>: <span style=\"color: #008080; text-decoration-color: #008080; font-weight: bold\">1960</span>,\n",
       "            <span style=\"color: #008000; text-decoration-color: #008000\">'genres'</span>: <span style=\"font-weight: bold\">[</span><span style=\"color: #008000; text-decoration-color: #008000\">'Fiction'</span>, <span style=\"color: #008000; text-decoration-color: #008000\">'Classic'</span>, <span style=\"color: #008000; text-decoration-color: #008000\">'Coming-of-age'</span><span style=\"font-weight: bold\">]</span>,\n",
       "            <span style=\"color: #008000; text-decoration-color: #008000\">'rating'</span>: <span style=\"color: #008080; text-decoration-color: #008080; font-weight: bold\">4.27</span>,\n",
       "            <span style=\"color: #008000; text-decoration-color: #008000\">'inStock'</span>: <span style=\"color: #00ff00; text-decoration-color: #00ff00; font-style: italic\">True</span>\n",
       "        <span style=\"font-weight: bold\">}</span>,\n",
       "        <span style=\"font-weight: bold\">{</span>\n",
       "            <span style=\"color: #008000; text-decoration-color: #008000\">'id'</span>: <span style=\"color: #008080; text-decoration-color: #008080; font-weight: bold\">2</span>,\n",
       "            <span style=\"color: #008000; text-decoration-color: #008000\">'title'</span>: <span style=\"color: #008000; text-decoration-color: #008000\">'1984'</span>,\n",
       "            <span style=\"color: #008000; text-decoration-color: #008000\">'author'</span>: <span style=\"color: #008000; text-decoration-color: #008000\">'George Orwell'</span>,\n",
       "            <span style=\"color: #008000; text-decoration-color: #008000\">'year'</span>: <span style=\"color: #008080; text-decoration-color: #008080; font-weight: bold\">1949</span>,\n",
       "            <span style=\"color: #008000; text-decoration-color: #008000\">'genres'</span>: <span style=\"font-weight: bold\">[</span><span style=\"color: #008000; text-decoration-color: #008000\">'Fiction'</span>, <span style=\"color: #008000; text-decoration-color: #008000\">'Dystopian'</span>, <span style=\"color: #008000; text-decoration-color: #008000\">'Political'</span><span style=\"font-weight: bold\">]</span>,\n",
       "            <span style=\"color: #008000; text-decoration-color: #008000\">'rating'</span>: <span style=\"color: #008080; text-decoration-color: #008080; font-weight: bold\">4.18</span>,\n",
       "            <span style=\"color: #008000; text-decoration-color: #008000\">'inStock'</span>: <span style=\"color: #ff0000; text-decoration-color: #ff0000; font-style: italic\">False</span>\n",
       "        <span style=\"font-weight: bold\">}</span>,\n",
       "        <span style=\"font-weight: bold\">{</span>\n",
       "            <span style=\"color: #008000; text-decoration-color: #008000\">'id'</span>: <span style=\"color: #008080; text-decoration-color: #008080; font-weight: bold\">3</span>,\n",
       "            <span style=\"color: #008000; text-decoration-color: #008000\">'title'</span>: <span style=\"color: #008000; text-decoration-color: #008000\">'Pride and Prejudice'</span>,\n",
       "            <span style=\"color: #008000; text-decoration-color: #008000\">'author'</span>: <span style=\"color: #008000; text-decoration-color: #008000\">'Jane Austen'</span>,\n",
       "            <span style=\"color: #008000; text-decoration-color: #008000\">'year'</span>: <span style=\"color: #008080; text-decoration-color: #008080; font-weight: bold\">1813</span>,\n",
       "            <span style=\"color: #008000; text-decoration-color: #008000\">'genres'</span>: <span style=\"font-weight: bold\">[</span><span style=\"color: #008000; text-decoration-color: #008000\">'Fiction'</span>, <span style=\"color: #008000; text-decoration-color: #008000\">'Romance'</span>, <span style=\"color: #008000; text-decoration-color: #008000\">'Classic'</span><span style=\"font-weight: bold\">]</span>,\n",
       "            <span style=\"color: #008000; text-decoration-color: #008000\">'rating'</span>: <span style=\"color: #008080; text-decoration-color: #008080; font-weight: bold\">4.25</span>,\n",
       "            <span style=\"color: #008000; text-decoration-color: #008000\">'inStock'</span>: <span style=\"color: #00ff00; text-decoration-color: #00ff00; font-style: italic\">True</span>\n",
       "        <span style=\"font-weight: bold\">}</span>\n",
       "    <span style=\"font-weight: bold\">]</span>,\n",
       "    <span style=\"color: #008000; text-decoration-color: #008000\">'totalBooks'</span>: <span style=\"color: #008080; text-decoration-color: #008080; font-weight: bold\">3</span>,\n",
       "    <span style=\"color: #008000; text-decoration-color: #008000\">'lastUpdated'</span>: <span style=\"color: #008000; text-decoration-color: #008000\">'2023-05-15T14:30:00Z'</span>\n",
       "<span style=\"font-weight: bold\">}</span>\n",
       "</pre>\n"
      ],
      "text/plain": [
       "\u001b[1m{\u001b[0m\n",
       "    \u001b[32m'books'\u001b[0m: \u001b[1m[\u001b[0m\n",
       "        \u001b[1m{\u001b[0m\n",
       "            \u001b[32m'id'\u001b[0m: \u001b[1;36m1\u001b[0m,\n",
       "            \u001b[32m'title'\u001b[0m: \u001b[32m'To Kill a Mockingbird'\u001b[0m,\n",
       "            \u001b[32m'author'\u001b[0m: \u001b[32m'Harper Lee'\u001b[0m,\n",
       "            \u001b[32m'year'\u001b[0m: \u001b[1;36m1960\u001b[0m,\n",
       "            \u001b[32m'genres'\u001b[0m: \u001b[1m[\u001b[0m\u001b[32m'Fiction'\u001b[0m, \u001b[32m'Classic'\u001b[0m, \u001b[32m'Coming-of-age'\u001b[0m\u001b[1m]\u001b[0m,\n",
       "            \u001b[32m'rating'\u001b[0m: \u001b[1;36m4.27\u001b[0m,\n",
       "            \u001b[32m'inStock'\u001b[0m: \u001b[3;92mTrue\u001b[0m\n",
       "        \u001b[1m}\u001b[0m,\n",
       "        \u001b[1m{\u001b[0m\n",
       "            \u001b[32m'id'\u001b[0m: \u001b[1;36m2\u001b[0m,\n",
       "            \u001b[32m'title'\u001b[0m: \u001b[32m'1984'\u001b[0m,\n",
       "            \u001b[32m'author'\u001b[0m: \u001b[32m'George Orwell'\u001b[0m,\n",
       "            \u001b[32m'year'\u001b[0m: \u001b[1;36m1949\u001b[0m,\n",
       "            \u001b[32m'genres'\u001b[0m: \u001b[1m[\u001b[0m\u001b[32m'Fiction'\u001b[0m, \u001b[32m'Dystopian'\u001b[0m, \u001b[32m'Political'\u001b[0m\u001b[1m]\u001b[0m,\n",
       "            \u001b[32m'rating'\u001b[0m: \u001b[1;36m4.18\u001b[0m,\n",
       "            \u001b[32m'inStock'\u001b[0m: \u001b[3;91mFalse\u001b[0m\n",
       "        \u001b[1m}\u001b[0m,\n",
       "        \u001b[1m{\u001b[0m\n",
       "            \u001b[32m'id'\u001b[0m: \u001b[1;36m3\u001b[0m,\n",
       "            \u001b[32m'title'\u001b[0m: \u001b[32m'Pride and Prejudice'\u001b[0m,\n",
       "            \u001b[32m'author'\u001b[0m: \u001b[32m'Jane Austen'\u001b[0m,\n",
       "            \u001b[32m'year'\u001b[0m: \u001b[1;36m1813\u001b[0m,\n",
       "            \u001b[32m'genres'\u001b[0m: \u001b[1m[\u001b[0m\u001b[32m'Fiction'\u001b[0m, \u001b[32m'Romance'\u001b[0m, \u001b[32m'Classic'\u001b[0m\u001b[1m]\u001b[0m,\n",
       "            \u001b[32m'rating'\u001b[0m: \u001b[1;36m4.25\u001b[0m,\n",
       "            \u001b[32m'inStock'\u001b[0m: \u001b[3;92mTrue\u001b[0m\n",
       "        \u001b[1m}\u001b[0m\n",
       "    \u001b[1m]\u001b[0m,\n",
       "    \u001b[32m'totalBooks'\u001b[0m: \u001b[1;36m3\u001b[0m,\n",
       "    \u001b[32m'lastUpdated'\u001b[0m: \u001b[32m'2023-05-15T14:30:00Z'\u001b[0m\n",
       "\u001b[1m}\u001b[0m\n"
      ]
     },
     "metadata": {},
     "output_type": "display_data"
    }
   ],
   "source": [
    "# load the data into memory\n",
    "python_dictionary = json.open(path=\"../../data/json/books.json\")\n",
    "# print the data\n",
    "print(python_dictionary)"
   ]
  },
  {
   "cell_type": "markdown",
   "metadata": {},
   "source": [
    "### Saving data to a file\n",
    "\n",
    "Reference: https://harttraveller.github.io/pyeio/module/pyeio.json/#pyeio.json.save"
   ]
  },
  {
   "cell_type": "code",
   "execution_count": 6,
   "metadata": {},
   "outputs": [],
   "source": [
    "# defin sample data\n",
    "python_dictionary = {\"message\": \"hello world\", \"data\": [1, 2, 3, 4]}\n",
    "# save to local temp file\n",
    "json.save(data=python_dictionary, path=\"./temp/temp.json\", overwrite=True)"
   ]
  },
  {
   "cell_type": "markdown",
   "metadata": {},
   "source": [
    "### Loading data from a URL\n",
    "\n",
    "Reference: https://harttraveller.github.io/pyeio/module/pyeio.json/#pyeio.json.load"
   ]
  },
  {
   "cell_type": "code",
   "execution_count": 7,
   "metadata": {},
   "outputs": [
    {
     "data": {
      "text/html": [
       "<pre style=\"white-space:pre;overflow-x:auto;line-height:normal;font-family:Menlo,'DejaVu Sans Mono',consolas,'Courier New',monospace\"><span style=\"font-weight: bold\">{</span>\n",
       "    <span style=\"color: #008000; text-decoration-color: #008000\">'books'</span>: <span style=\"font-weight: bold\">[</span>\n",
       "        <span style=\"font-weight: bold\">{</span>\n",
       "            <span style=\"color: #008000; text-decoration-color: #008000\">'id'</span>: <span style=\"color: #008080; text-decoration-color: #008080; font-weight: bold\">1</span>,\n",
       "            <span style=\"color: #008000; text-decoration-color: #008000\">'title'</span>: <span style=\"color: #008000; text-decoration-color: #008000\">'To Kill a Mockingbird'</span>,\n",
       "            <span style=\"color: #008000; text-decoration-color: #008000\">'author'</span>: <span style=\"color: #008000; text-decoration-color: #008000\">'Harper Lee'</span>,\n",
       "            <span style=\"color: #008000; text-decoration-color: #008000\">'year'</span>: <span style=\"color: #008080; text-decoration-color: #008080; font-weight: bold\">1960</span>,\n",
       "            <span style=\"color: #008000; text-decoration-color: #008000\">'genres'</span>: <span style=\"font-weight: bold\">[</span><span style=\"color: #008000; text-decoration-color: #008000\">'Fiction'</span>, <span style=\"color: #008000; text-decoration-color: #008000\">'Classic'</span>, <span style=\"color: #008000; text-decoration-color: #008000\">'Coming-of-age'</span><span style=\"font-weight: bold\">]</span>,\n",
       "            <span style=\"color: #008000; text-decoration-color: #008000\">'rating'</span>: <span style=\"color: #008080; text-decoration-color: #008080; font-weight: bold\">4.27</span>,\n",
       "            <span style=\"color: #008000; text-decoration-color: #008000\">'inStock'</span>: <span style=\"color: #00ff00; text-decoration-color: #00ff00; font-style: italic\">True</span>\n",
       "        <span style=\"font-weight: bold\">}</span>,\n",
       "        <span style=\"font-weight: bold\">{</span>\n",
       "            <span style=\"color: #008000; text-decoration-color: #008000\">'id'</span>: <span style=\"color: #008080; text-decoration-color: #008080; font-weight: bold\">2</span>,\n",
       "            <span style=\"color: #008000; text-decoration-color: #008000\">'title'</span>: <span style=\"color: #008000; text-decoration-color: #008000\">'1984'</span>,\n",
       "            <span style=\"color: #008000; text-decoration-color: #008000\">'author'</span>: <span style=\"color: #008000; text-decoration-color: #008000\">'George Orwell'</span>,\n",
       "            <span style=\"color: #008000; text-decoration-color: #008000\">'year'</span>: <span style=\"color: #008080; text-decoration-color: #008080; font-weight: bold\">1949</span>,\n",
       "            <span style=\"color: #008000; text-decoration-color: #008000\">'genres'</span>: <span style=\"font-weight: bold\">[</span><span style=\"color: #008000; text-decoration-color: #008000\">'Fiction'</span>, <span style=\"color: #008000; text-decoration-color: #008000\">'Dystopian'</span>, <span style=\"color: #008000; text-decoration-color: #008000\">'Political'</span><span style=\"font-weight: bold\">]</span>,\n",
       "            <span style=\"color: #008000; text-decoration-color: #008000\">'rating'</span>: <span style=\"color: #008080; text-decoration-color: #008080; font-weight: bold\">4.18</span>,\n",
       "            <span style=\"color: #008000; text-decoration-color: #008000\">'inStock'</span>: <span style=\"color: #ff0000; text-decoration-color: #ff0000; font-style: italic\">False</span>\n",
       "        <span style=\"font-weight: bold\">}</span>,\n",
       "        <span style=\"font-weight: bold\">{</span>\n",
       "            <span style=\"color: #008000; text-decoration-color: #008000\">'id'</span>: <span style=\"color: #008080; text-decoration-color: #008080; font-weight: bold\">3</span>,\n",
       "            <span style=\"color: #008000; text-decoration-color: #008000\">'title'</span>: <span style=\"color: #008000; text-decoration-color: #008000\">'Pride and Prejudice'</span>,\n",
       "            <span style=\"color: #008000; text-decoration-color: #008000\">'author'</span>: <span style=\"color: #008000; text-decoration-color: #008000\">'Jane Austen'</span>,\n",
       "            <span style=\"color: #008000; text-decoration-color: #008000\">'year'</span>: <span style=\"color: #008080; text-decoration-color: #008080; font-weight: bold\">1813</span>,\n",
       "            <span style=\"color: #008000; text-decoration-color: #008000\">'genres'</span>: <span style=\"font-weight: bold\">[</span><span style=\"color: #008000; text-decoration-color: #008000\">'Fiction'</span>, <span style=\"color: #008000; text-decoration-color: #008000\">'Romance'</span>, <span style=\"color: #008000; text-decoration-color: #008000\">'Classic'</span><span style=\"font-weight: bold\">]</span>,\n",
       "            <span style=\"color: #008000; text-decoration-color: #008000\">'rating'</span>: <span style=\"color: #008080; text-decoration-color: #008080; font-weight: bold\">4.25</span>,\n",
       "            <span style=\"color: #008000; text-decoration-color: #008000\">'inStock'</span>: <span style=\"color: #00ff00; text-decoration-color: #00ff00; font-style: italic\">True</span>\n",
       "        <span style=\"font-weight: bold\">}</span>\n",
       "    <span style=\"font-weight: bold\">]</span>,\n",
       "    <span style=\"color: #008000; text-decoration-color: #008000\">'totalBooks'</span>: <span style=\"color: #008080; text-decoration-color: #008080; font-weight: bold\">3</span>,\n",
       "    <span style=\"color: #008000; text-decoration-color: #008000\">'lastUpdated'</span>: <span style=\"color: #008000; text-decoration-color: #008000\">'2023-05-15T14:30:00Z'</span>\n",
       "<span style=\"font-weight: bold\">}</span>\n",
       "</pre>\n"
      ],
      "text/plain": [
       "\u001b[1m{\u001b[0m\n",
       "    \u001b[32m'books'\u001b[0m: \u001b[1m[\u001b[0m\n",
       "        \u001b[1m{\u001b[0m\n",
       "            \u001b[32m'id'\u001b[0m: \u001b[1;36m1\u001b[0m,\n",
       "            \u001b[32m'title'\u001b[0m: \u001b[32m'To Kill a Mockingbird'\u001b[0m,\n",
       "            \u001b[32m'author'\u001b[0m: \u001b[32m'Harper Lee'\u001b[0m,\n",
       "            \u001b[32m'year'\u001b[0m: \u001b[1;36m1960\u001b[0m,\n",
       "            \u001b[32m'genres'\u001b[0m: \u001b[1m[\u001b[0m\u001b[32m'Fiction'\u001b[0m, \u001b[32m'Classic'\u001b[0m, \u001b[32m'Coming-of-age'\u001b[0m\u001b[1m]\u001b[0m,\n",
       "            \u001b[32m'rating'\u001b[0m: \u001b[1;36m4.27\u001b[0m,\n",
       "            \u001b[32m'inStock'\u001b[0m: \u001b[3;92mTrue\u001b[0m\n",
       "        \u001b[1m}\u001b[0m,\n",
       "        \u001b[1m{\u001b[0m\n",
       "            \u001b[32m'id'\u001b[0m: \u001b[1;36m2\u001b[0m,\n",
       "            \u001b[32m'title'\u001b[0m: \u001b[32m'1984'\u001b[0m,\n",
       "            \u001b[32m'author'\u001b[0m: \u001b[32m'George Orwell'\u001b[0m,\n",
       "            \u001b[32m'year'\u001b[0m: \u001b[1;36m1949\u001b[0m,\n",
       "            \u001b[32m'genres'\u001b[0m: \u001b[1m[\u001b[0m\u001b[32m'Fiction'\u001b[0m, \u001b[32m'Dystopian'\u001b[0m, \u001b[32m'Political'\u001b[0m\u001b[1m]\u001b[0m,\n",
       "            \u001b[32m'rating'\u001b[0m: \u001b[1;36m4.18\u001b[0m,\n",
       "            \u001b[32m'inStock'\u001b[0m: \u001b[3;91mFalse\u001b[0m\n",
       "        \u001b[1m}\u001b[0m,\n",
       "        \u001b[1m{\u001b[0m\n",
       "            \u001b[32m'id'\u001b[0m: \u001b[1;36m3\u001b[0m,\n",
       "            \u001b[32m'title'\u001b[0m: \u001b[32m'Pride and Prejudice'\u001b[0m,\n",
       "            \u001b[32m'author'\u001b[0m: \u001b[32m'Jane Austen'\u001b[0m,\n",
       "            \u001b[32m'year'\u001b[0m: \u001b[1;36m1813\u001b[0m,\n",
       "            \u001b[32m'genres'\u001b[0m: \u001b[1m[\u001b[0m\u001b[32m'Fiction'\u001b[0m, \u001b[32m'Romance'\u001b[0m, \u001b[32m'Classic'\u001b[0m\u001b[1m]\u001b[0m,\n",
       "            \u001b[32m'rating'\u001b[0m: \u001b[1;36m4.25\u001b[0m,\n",
       "            \u001b[32m'inStock'\u001b[0m: \u001b[3;92mTrue\u001b[0m\n",
       "        \u001b[1m}\u001b[0m\n",
       "    \u001b[1m]\u001b[0m,\n",
       "    \u001b[32m'totalBooks'\u001b[0m: \u001b[1;36m3\u001b[0m,\n",
       "    \u001b[32m'lastUpdated'\u001b[0m: \u001b[32m'2023-05-15T14:30:00Z'\u001b[0m\n",
       "\u001b[1m}\u001b[0m\n"
      ]
     },
     "metadata": {},
     "output_type": "display_data"
    }
   ],
   "source": [
    "# load the data from url\n",
    "python_dictionary = json.load(\n",
    "    url=\"https://raw.githubusercontent.com/harttraveller/pyeio/refs/heads/main/data/json/books.json\"\n",
    ")\n",
    "# print data\n",
    "print(python_dictionary)"
   ]
  },
  {
   "cell_type": "markdown",
   "metadata": {},
   "source": [
    "### Downloading data at a URL to a file\n",
    "\n",
    "Reference: https://harttraveller.github.io/pyeio/module/pyeio.json/#pyeio.json.download"
   ]
  },
  {
   "cell_type": "code",
   "execution_count": 8,
   "metadata": {},
   "outputs": [],
   "source": [
    "# download data to local file\n",
    "json.download(\n",
    "    url=\"https://raw.githubusercontent.com/harttraveller/pyeio/refs/heads/main/data/json/books.json\",\n",
    "    path=\"./temp/books.json\",\n",
    "    overwrite=True,\n",
    ")"
   ]
  },
  {
   "cell_type": "markdown",
   "metadata": {},
   "source": [
    "## Meta Module\n",
    "\n",
    "**TODO**"
   ]
  }
 ],
 "metadata": {
  "kernelspec": {
   "display_name": "pyeio",
   "language": "python",
   "name": "python3"
  },
  "language_info": {
   "codemirror_mode": {
    "name": "ipython",
    "version": 3
   },
   "file_extension": ".py",
   "mimetype": "text/x-python",
   "name": "python",
   "nbconvert_exporter": "python",
   "pygments_lexer": "ipython3",
   "version": "3.11.9"
  }
 },
 "nbformat": 4,
 "nbformat_minor": 2
}
