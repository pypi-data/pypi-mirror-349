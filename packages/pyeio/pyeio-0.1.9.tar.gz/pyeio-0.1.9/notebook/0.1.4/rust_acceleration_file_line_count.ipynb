{
 "cells": [
  {
   "cell_type": "markdown",
   "metadata": {},
   "source": [
    "Testing to see how much faster rust is than python (for this task)."
   ]
  },
  {
   "cell_type": "code",
   "execution_count": 1,
   "metadata": {},
   "outputs": [],
   "source": [
    "import os\n",
    "from pathlib import Path\n",
    "from pyeio import opt"
   ]
  },
  {
   "cell_type": "markdown",
   "metadata": {},
   "source": [
    "Using a set of wikidata entities, file is ~ 14 GB."
   ]
  },
  {
   "cell_type": "code",
   "execution_count": 5,
   "metadata": {},
   "outputs": [
    {
     "name": "stdout",
     "output_type": "stream",
     "text": [
      "items.jsonl = 14,669,314,232 bytes\n"
     ]
    }
   ],
   "source": [
    "fp = Path.home() / \"user/project/generic/personal/entitect/local/sample/items.jsonl\"\n",
    "assert fp.exists()\n",
    "print(fp.name, \"= {:,} bytes\".format(os.path.getsize(fp)))\n",
    "fp = str(fp)"
   ]
  },
  {
   "cell_type": "markdown",
   "metadata": {},
   "source": [
    "Optimized but improved function is exposed here:\n",
    "\n",
    "```python\n",
    "opt.count_lines_in_file(...)\n",
    "```\n",
    "\n",
    "But can also directly access rust functions with:\n",
    "\n",
    "```python\n",
    "opt.rs.count_lines_in_file(...)\n",
    "```\n",
    "\n",
    "Or python comparison/fallback functions with:\n",
    "\n",
    "```python\n",
    "opt.py.count_lines_in_file(...)\n",
    "```"
   ]
  },
  {
   "cell_type": "code",
   "execution_count": null,
   "metadata": {},
   "outputs": [
    {
     "name": "stdout",
     "output_type": "stream",
     "text": [
      "6.02 s ± 42.3 ms per loop (mean ± std. dev. of 7 runs, 1 loop each)\n"
     ]
    }
   ],
   "source": [
    "%%timeit\n",
    "opt.py.count_lines_in_file(path=fp, chunk_size=1<<20)"
   ]
  },
  {
   "cell_type": "code",
   "execution_count": 8,
   "metadata": {},
   "outputs": [
    {
     "name": "stdout",
     "output_type": "stream",
     "text": [
      "382 ms ± 8.35 ms per loop (mean ± std. dev. of 7 runs, 1 loop each)\n"
     ]
    }
   ],
   "source": [
    "%%timeit\n",
    "opt.rs.count_lines_in_file(path=fp, chunk_size=1<<20, num_threads=8)"
   ]
  },
  {
   "cell_type": "code",
   "execution_count": 21,
   "metadata": {},
   "outputs": [
    {
     "name": "stdout",
     "output_type": "stream",
     "text": [
      "rust is ~16x faster\n"
     ]
    }
   ],
   "source": [
    "speed_increase = round(6.02 / 0.382)\n",
    "print(f\"rust is ~{speed_increase}x faster\")"
   ]
  },
  {
   "cell_type": "markdown",
   "metadata": {},
   "source": [
    "Can probably be optimized more."
   ]
  }
 ],
 "metadata": {
  "kernelspec": {
   "display_name": ".venv",
   "language": "python",
   "name": "python3"
  },
  "language_info": {
   "codemirror_mode": {
    "name": "ipython",
    "version": 3
   },
   "file_extension": ".py",
   "mimetype": "text/x-python",
   "name": "python",
   "nbconvert_exporter": "python",
   "pygments_lexer": "ipython3",
   "version": "3.11.11"
  }
 },
 "nbformat": 4,
 "nbformat_minor": 2
}
