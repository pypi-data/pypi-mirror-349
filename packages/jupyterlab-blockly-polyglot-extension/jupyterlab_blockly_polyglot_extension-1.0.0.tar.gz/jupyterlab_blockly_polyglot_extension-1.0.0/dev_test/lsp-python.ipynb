{
 "cells": [
  {
   "attachments": {},
   "cell_type": "markdown",
   "id": "8e7159d6-d6d1-4387-962b-913105d30188",
   "metadata": {},
   "source": [
    "# start\n",
    "\n",
    "Load 'datasets/iris.csv' into a dataframe\n",
    "\n"
   ]
  },
  {
   "cell_type": "code",
   "execution_count": 56,
   "id": "ae6d8e94-2b82-44a2-b29a-4a6fe75525bf",
   "metadata": {
    "editable": true,
    "slideshow": {
     "slide_type": ""
    },
    "tags": [],
    "user_blocks": [
     "importAs"
    ],
    "user_blocks_xml": "<xml xmlns=\"https://developers.google.com/blockly/xml\"><variables><variable id=\"oIoZ:~IYMv}UCdRU.n)Z\">pd</variable></variables><block type=\"importAs\" id=\"EI2`[V?s2JweihtG(y;T\" x=\"-40\" y=\"294\"><field name=\"libraryName\">pandas</field><field name=\"VAR\" id=\"oIoZ:~IYMv}UCdRU.n)Z\">pd</field></block></xml>",
    "user_code_from_blocks": "import pandas as pd\n"
   },
   "outputs": [],
   "source": [
    "import pandas as pd\n",
    "\n",
    "#<xml xmlns=\"https://developers.google.com/blockly/xml\"><variables><variable id=\"oIoZ:~IYMv}UCdRU.n)Z\">pd</variable></variables><block type=\"importAs\" id=\"EI2`[V?s2JweihtG(y;T\" x=\"-40\" y=\"294\"><field name=\"libraryName\">pandas</field><field name=\"VAR\" id=\"oIoZ:~IYMv}UCdRU.n)Z\">pd</field></block></xml>"
   ]
  },
  {
   "cell_type": "code",
   "execution_count": null,
   "id": "4cd00762-256f-4ac7-b9ed-c63a62a73aba",
   "metadata": {
    "user_blocks": [
     "variables_get"
    ],
    "user_blocks_xml": "<xml xmlns=\"https://developers.google.com/blockly/xml\"><variables><variable id=\"Ah#b{e|-=#w%_Z]awdy,\">y</variable></variables><block type=\"variables_get\" id=\"xyaBx~3I}s(#)Q!-djSs\" x=\"-32\" y=\"330\"><field name=\"VAR\" id=\"Ah#b{e|-=#w%_Z]awdy,\">y</field></block></xml>",
    "user_code_from_blocks": "y\n"
   },
   "outputs": [],
   "source": [
    "y\n",
    "\n",
    "#<xml xmlns=\"https://developers.google.com/blockly/xml\"><variables><variable id=\"Ah#b{e|-=#w%_Z]awdy,\">y</variable></variables><block type=\"variables_get\" id=\"xyaBx~3I}s(#)Q!-djSs\" x=\"-32\" y=\"330\"><field name=\"VAR\" id=\"Ah#b{e|-=#w%_Z]awdy,\">y</field></block></xml>"
   ]
  }
 ],
 "metadata": {
  "kernelspec": {
   "display_name": "Python 3 (ipykernel)",
   "language": "python",
   "name": "python3"
  },
  "language_info": {
   "codemirror_mode": {
    "name": "ipython",
    "version": 3
   },
   "file_extension": ".py",
   "mimetype": "text/x-python",
   "name": "python",
   "nbconvert_exporter": "python",
   "pygments_lexer": "ipython3",
   "version": "3.10.6"
  }
 },
 "nbformat": 4,
 "nbformat_minor": 5
}
