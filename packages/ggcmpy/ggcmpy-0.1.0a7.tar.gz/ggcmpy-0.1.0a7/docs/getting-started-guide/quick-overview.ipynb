{
 "cells": [
  {
   "cell_type": "markdown",
   "metadata": {},
   "source": [
    "# Quick Overview"
   ]
  },
  {
   "cell_type": "markdown",
   "metadata": {},
   "source": [
    "We'll import `xarray` with its standard short name `xr`, since that's what we're using to interact with the data.\n",
    "\n",
    "`ggcmpy` is only needed to get access to some sample data."
   ]
  },
  {
   "cell_type": "code",
   "execution_count": 1,
   "metadata": {},
   "outputs": [],
   "source": [
    "from __future__ import annotations\n",
    "\n",
    "import xarray as xr\n",
    "\n",
    "import ggcmpy"
   ]
  },
  {
   "cell_type": "markdown",
   "metadata": {},
   "source": [
    "\n",
    "## Opening a dataset\n",
    "\n",
    "Let's open a sample dataset, in this case it's a `py_0` OpenGGCM output, that is a cut through the 3-d MHD data at position $y = 0$. Xarray provides a nice summary of the various parts of this dataset -- in particular, the dimensions, the coordinates and the various fields (\"Data variables\") contained in this file."
   ]
  },
  {
   "cell_type": "code",
   "execution_count": null,
   "metadata": {},
   "outputs": [],
   "source": [
    "ds_py = xr.open_dataset(ggcmpy.sample_dir / \"sample_jrrle.py_0.001200\")\n",
    "ds_py"
   ]
  },
  {
   "cell_type": "markdown",
   "metadata": {},
   "source": [
    "## Accessing a field\n",
    "\n",
    "Accessing a particular field (or coordinate) is as simple as `ds_py[\"rr\"]` for the `rr` (density) field -- a `xr.Dataset` behaves like a Python `dict`.\n",
    "\n",
    "One can even save oneself typing the brackets and quotes, since `xr.Dataset` also provides access to the variables (fields/coordinates) as attributes, that is, `ds_py.rr`."
   ]
  },
  {
   "cell_type": "code",
   "execution_count": null,
   "metadata": {},
   "outputs": [],
   "source": [
    "rr = ds_py.rr\n",
    "rr"
   ]
  },
  {
   "cell_type": "markdown",
   "metadata": {},
   "source": [
    "## Plotting\n",
    "\n",
    "A quick way to plot some data is to just call `.plot()` on it. Xarray will try to make a sensible default plot given the data provided. In particular for 2-d data it'll make a pseudo-color plot.\n",
    "\n",
    "Note: I'm transposing the data with `.T` before plotting, since otherwise the $x$ and $z$ axes end up being swapped, which isn't how we usually like to look at the magnetosphere."
   ]
  },
  {
   "cell_type": "code",
   "execution_count": null,
   "metadata": {},
   "outputs": [],
   "source": [
    "rr.T.plot();"
   ]
  },
  {
   "cell_type": "markdown",
   "metadata": {},
   "source": [
    "## 3-d data\n",
    "\n",
    "Let's do a bunch of $x$-$z$ plane cuts of the sample 3-d data, showing pressure (`pp`).\n",
    "\n",
    "(Note that picking a bunch of times would make more sense, rather than a bunch of $y$ values, but we only have sample data for a single time.)"
   ]
  },
  {
   "cell_type": "code",
   "execution_count": null,
   "metadata": {},
   "outputs": [],
   "source": [
    "ds_3d = xr.open_dataset(ggcmpy.sample_dir / \"sample_jrrle.3df.001200\")\n",
    "ds_3d.pp.sel(y=slice(-20, 20, 5)).plot(x=\"x\", y=\"z\", col=\"y\");"
   ]
  },
  {
   "cell_type": "code",
   "execution_count": null,
   "metadata": {},
   "outputs": [],
   "source": []
  }
 ],
 "metadata": {
  "kernelspec": {
   "display_name": ".venv",
   "language": "python",
   "name": "python3"
  },
  "language_info": {
   "codemirror_mode": {
    "name": "ipython",
    "version": 3
   },
   "file_extension": ".py",
   "mimetype": "text/x-python",
   "name": "python",
   "nbconvert_exporter": "python",
   "pygments_lexer": "ipython3",
   "version": "3.10.12"
  }
 },
 "nbformat": 4,
 "nbformat_minor": 2
}
