{
 "cells": [
  {
   "cell_type": "markdown",
   "id": "88000902",
   "metadata": {},
   "source": [
    "### Introduction\n",
    "\n",
    "Persian text preprocessing presents unique challenges in natural language processing (NLP), due to issues like inconsistent orthography, pseudo-spaces, complex morphology, and limited standardized tools. Handling these nuances properly is essential for building accurate and reliable language models and downstream NLP applications.\n",
    "\n",
    "**[Shekar](https://github.com/amirivojdan/shekar)** is an open-source Python library designed to simplify and enhance Persian text preprocessing. It offers a modular and efficient pipeline for a variety of tasks including normalization, punctuation and stopword removal, stemming and lemmatization, spell correction, and word embedding generation.\n",
    "\n",
    "This notebook demonstrates practical examples of how to use Shekar for preprocessing Persian text. By the end, you’ll be able to integrate Shekar into your own NLP workflows with ease and clarity."
   ]
  },
  {
   "cell_type": "markdown",
   "id": "31697924",
   "metadata": {
    "vscode": {
     "languageId": "plaintext"
    }
   },
   "source": [
    "You can install the **Shekar** library in two ways:\n",
    "##### Option 1: Install from PyPI\n"
   ]
  },
  {
   "cell_type": "code",
   "execution_count": 1,
   "id": "dba69c58",
   "metadata": {},
   "outputs": [],
   "source": [
    "# !pip install shekar "
   ]
  },
  {
   "cell_type": "markdown",
   "id": "06b5cafc",
   "metadata": {},
   "source": [
    "##### Option 2: Install the latest version from GitHub"
   ]
  },
  {
   "cell_type": "code",
   "execution_count": 2,
   "id": "1d3ae2e9",
   "metadata": {},
   "outputs": [],
   "source": [
    "# !pip install git+https://github.com/amirivojdan/shekar.git"
   ]
  },
  {
   "cell_type": "markdown",
   "id": "deffd2f4",
   "metadata": {},
   "source": [
    "### Preprocessing with Shekar\n",
    "\n",
    "The `shekar.preprocessing` module provides a rich set of building blocks for cleaning, normalizing, and transforming Persian text. These classes form the foundation of text preprocessing workflows and can be used independently or combined in a `Pipeline`."
   ]
  },
  {
   "cell_type": "markdown",
   "id": "1d3fd497",
   "metadata": {},
   "source": [
    "Here are some of the key text transformers available in the module:\n",
    "\n",
    "- **`SpacingStandardizer`**: Removes extra spaces and adjusts spacing around punctuation.\n",
    "- **`AlphabetNormalizer`**: Converts Arabic characters to standard Persian forms.\n",
    "- **`NumericNormalizer`**: Converts English and Arabic numerals into Persian digits.\n",
    "- **`PunctuationNormalizer`**: Standardizes punctuation symbols.\n",
    "- **`EmojiRemover`**: Removes emojis.\n",
    "- **`EmailMasker` / `URLMasker`**: Mask or remove emails and URLs.\n",
    "- **`DiacriticsRemover`**: Removes Persian/Arabic diacritics.\n",
    "- **`PunctuationRemover`**: Removes all punctuation characters.\n",
    "- **`RedundantCharacterRemover`**: Shrinks repeated characters like \"سسسلام\".\n",
    "- **`ArabicUnicodeNormalizer`**: Converts Arabic presentation forms (e.g., ﷽) into Persian equivalents.\n",
    "- **`StopWordsRemover`**: Removes frequent Persian stopwords.\n",
    "- **`NonPersianRemover`**: Removes all non-Persian content (optionally keeps English).\n",
    "- **`HTMLTagRemover`**: Cleans HTML tags but retains content.\n",
    "- **`PunctuationSpacingStandardizer`**: Standardizes the spaces around punctuations."
   ]
  },
  {
   "cell_type": "markdown",
   "id": "df924aab",
   "metadata": {},
   "source": [
    "##### Example 1: Remove Emojis and Punctuation"
   ]
  },
  {
   "cell_type": "code",
   "execution_count": 3,
   "id": "6f22b699",
   "metadata": {},
   "outputs": [
    {
     "name": "stdout",
     "output_type": "stream",
     "text": [
      "ایران سرای من است\n"
     ]
    }
   ],
   "source": [
    "from shekar.preprocessing import EmojiRemover, PunctuationRemover\n",
    "\n",
    "emoji_remover = EmojiRemover()\n",
    "punct_remover = PunctuationRemover()\n",
    "\n",
    "text = \"ایران سرای من است! 🌍😊\"\n",
    "text = emoji_remover.fit_transform(text)\n",
    "text = punct_remover.fit_transform(text)\n",
    "text = text.strip()\n",
    "\n",
    "print(text)"
   ]
  },
  {
   "cell_type": "code",
   "execution_count": 4,
   "id": "8892226d",
   "metadata": {},
   "outputs": [
    {
     "name": "stdout",
     "output_type": "stream",
     "text": [
      "before standardization: شرکت « گوگل »اعلام کرد .\n",
      "after standardization: شرکت «گوگل» اعلام کرد.\n"
     ]
    }
   ],
   "source": [
    "from shekar.preprocessing import PunctuationSpacingStandardizer\n",
    "\n",
    "punct_spacing_standardizer = PunctuationSpacingStandardizer()\n",
    "text = \"شرکت « گوگل »اعلام کرد .\"\n",
    "print(\"before standardization:\", text)\n",
    "text = punct_spacing_standardizer.fit_transform(text).strip()\n",
    "print(\"after standardization:\", text)"
   ]
  },
  {
   "cell_type": "markdown",
   "id": "80f0ff6c",
   "metadata": {},
   "source": [
    "In Shekar, all preprocessing transformers implement both the **fit_transform()** method and the **__call__()** method. This allows you to use them like functions. Calling a transformer directly is the same as calling .fit_transform().\n",
    "\n",
    "So we could rewrite the previous cell as follows:"
   ]
  },
  {
   "cell_type": "code",
   "execution_count": 5,
   "id": "f31122a6",
   "metadata": {},
   "outputs": [
    {
     "name": "stdout",
     "output_type": "stream",
     "text": [
      "ایران سرای من است\n"
     ]
    }
   ],
   "source": [
    "from shekar.preprocessing import EmojiRemover, PunctuationRemover\n",
    "\n",
    "emoji_remover = EmojiRemover()\n",
    "punct_remover = PunctuationRemover()\n",
    "\n",
    "text = \"ایران سرای من است! 🌍😊\"\n",
    "text = punct_remover(emoji_remover(text)).strip()\n",
    "\n",
    "print(text)"
   ]
  },
  {
   "cell_type": "markdown",
   "id": "e03a87ef",
   "metadata": {},
   "source": [
    "This version is more concise and produces the exact same output!"
   ]
  },
  {
   "cell_type": "markdown",
   "id": "3ae7bdef",
   "metadata": {},
   "source": [
    "##### Example 2: Normalize Persian Characters"
   ]
  },
  {
   "cell_type": "code",
   "execution_count": 6,
   "id": "c037e00f",
   "metadata": {},
   "outputs": [
    {
     "name": "stdout",
     "output_type": "stream",
     "text": [
      "نشان‌دهنده قائده\n"
     ]
    }
   ],
   "source": [
    "from shekar.preprocessing import AlphabetNormalizer\n",
    "alphabet_normalizer = AlphabetNormalizer()\n",
    "text = \"نشان‌دهندة قائدة\"\n",
    "normalized = alphabet_normalizer(text)\n",
    "print(normalized)"
   ]
  },
  {
   "cell_type": "markdown",
   "id": "f3e3be24",
   "metadata": {},
   "source": [
    "##### Example 3: Remove Stopwords"
   ]
  },
  {
   "cell_type": "code",
   "execution_count": 7,
   "id": "258d4ac4",
   "metadata": {},
   "outputs": [
    {
     "name": "stdout",
     "output_type": "stream",
     "text": [
      "جملهٔ نمونه\n"
     ]
    }
   ],
   "source": [
    "from shekar.preprocessing import StopWordsRemover\n",
    "stopword_remover = StopWordsRemover()\n",
    "text = \"این یک جملهٔ نمونه است\"\n",
    "cleaned = stopword_remover(text)\n",
    "print(cleaned)"
   ]
  },
  {
   "cell_type": "markdown",
   "id": "284e6758",
   "metadata": {},
   "source": [
    "#### Creating Custom Transformers\n",
    "\n",
    "In Shekar, you can easily define your own text transformation logic by subclassing `BaseTextTransformer`. This allows you to integrate any custom rule-based or pattern-based transformation into the Shekar pipeline system.\n",
    "\n",
    "All you need to do is implement the `_function(self, text: str) -> str` method, which takes a string and returns the transformed version.\n",
    "\n",
    "Note that the _function() method is automatically invoked by the class when you call the transformer. In most cases, defining this method is sufficient. However, if you need more control over the transformation logic (such as managing state, performing setup, or handling input types differently), you can also override the __init__(), fit(), transform(), and fit_transform() methods directly."
   ]
  },
  {
   "cell_type": "markdown",
   "id": "9e6151bd",
   "metadata": {},
   "source": [
    "##### Example: WhitespaceStripper\n",
    "\n",
    "This custom transformer removes leading and trailing whitespace from input strings."
   ]
  },
  {
   "cell_type": "code",
   "execution_count": 8,
   "id": "d7061ed2",
   "metadata": {},
   "outputs": [],
   "source": [
    "from shekar.base import BaseTextTransformer\n",
    "\n",
    "class WhitespaceStripper(BaseTextTransformer):\n",
    "    def _function(self, text: str) -> str:\n",
    "        return text.strip()"
   ]
  },
  {
   "cell_type": "markdown",
   "id": "377af5af",
   "metadata": {},
   "source": [
    "You can now use it like any other Shekar component:"
   ]
  },
  {
   "cell_type": "code",
   "execution_count": 9,
   "id": "f326d970",
   "metadata": {},
   "outputs": [
    {
     "name": "stdout",
     "output_type": "stream",
     "text": [
      "سلام دنیا!\n"
     ]
    }
   ],
   "source": [
    "text = \"   سلام دنیا!   \"\n",
    "whitespace_stripper = WhitespaceStripper()\n",
    "\n",
    "print(whitespace_stripper(text))"
   ]
  },
  {
   "cell_type": "markdown",
   "id": "e1686724",
   "metadata": {},
   "source": [
    "#### Pipelines: Chaining Text Transformations\n",
    "\n",
    "Shekar's `Pipeline` class allows you to chain multiple text preprocessing steps together into a seamless and reusable workflow. Inspired by Unix-style piping, Shekar also supports the `|` operator for combining transformers, making your code not only more readable but also expressive and modular.\n",
    "\n",
    "##### Why Pipelines?\n",
    "\n",
    "Text preprocessing often involves applying several transformations in sequence. Instead of writing nested function calls or multiple intermediate steps, Shekar’s `Pipeline` lets you define a clean and testable chain of operations.\n",
    "\n",
    "For example, instead of writing:"
   ]
  },
  {
   "cell_type": "code",
   "execution_count": 10,
   "id": "5d331371",
   "metadata": {},
   "outputs": [
    {
     "name": "stdout",
     "output_type": "stream",
     "text": [
      "ایران سرای من است\n"
     ]
    }
   ],
   "source": [
    "text = \"ایران سرای من است! 🌍😊\"\n",
    "text = whitespace_stripper(punct_remover(emoji_remover(text)))\n",
    "\n",
    "print(text)"
   ]
  },
  {
   "cell_type": "markdown",
   "id": "08ec85a5",
   "metadata": {},
   "source": [
    "The same sequence of transformations can be constructed using the | operator, creating a concise and expressive pipeline."
   ]
  },
  {
   "cell_type": "code",
   "execution_count": 11,
   "id": "7f64b3da",
   "metadata": {},
   "outputs": [
    {
     "name": "stdout",
     "output_type": "stream",
     "text": [
      "ایران سرای من است\n"
     ]
    }
   ],
   "source": [
    "text = \"ایران سرای من است! 🌍😊\"\n",
    "pipeline = EmojiRemover() | PunctuationRemover() | WhitespaceStripper()\n",
    "output = pipeline(text)\n",
    "print(output)"
   ]
  },
  {
   "cell_type": "markdown",
   "id": "dec89b9d",
   "metadata": {},
   "source": [
    "This approach clearly shows the order of transformations: first remove emojis, then punctuation, and finally trim whitespace. It reads naturally and makes the preprocessing flow easy to understand at a glance."
   ]
  },
  {
   "cell_type": "markdown",
   "id": "efb42367",
   "metadata": {},
   "source": [
    "The same transformation chain can also be written explicitly using the Pipeline class:"
   ]
  },
  {
   "cell_type": "code",
   "execution_count": 12,
   "id": "5fe9eeb6",
   "metadata": {},
   "outputs": [
    {
     "name": "stdout",
     "output_type": "stream",
     "text": [
      "ایران سرای من است\n"
     ]
    }
   ],
   "source": [
    "from shekar import Pipeline\n",
    "from shekar.preprocessing import EmojiRemover, PunctuationRemover\n",
    " \n",
    "pipeline = Pipeline([\n",
    "    (\"emoji\", EmojiRemover()),\n",
    "    (\"punct\", PunctuationRemover()),\n",
    "    (\"strip\", WhitespaceStripper())\n",
    "])\n",
    "\n",
    "text = \"ایران سرای من است! 🌍😊\"\n",
    "output = pipeline(text)\n",
    "print(output)\n"
   ]
  },
  {
   "cell_type": "markdown",
   "id": "667d127b",
   "metadata": {},
   "source": [
    "##### Batch Processing with Pipelines\n",
    "\n",
    "Note that Pipelines also support batch processing. You can pass a list (or any iterable) of strings to the pipeline, and it will apply the transformations to each item in sequence."
   ]
  },
  {
   "cell_type": "code",
   "execution_count": 13,
   "id": "f9cf63fa",
   "metadata": {},
   "outputs": [
    {
     "data": {
      "text/plain": [
       "<generator object Pipeline.fit_transform.<locals>.generator at 0x000001E9A28157E0>"
      ]
     },
     "execution_count": 13,
     "metadata": {},
     "output_type": "execute_result"
    }
   ],
   "source": [
    "texts = [\"درود! 🌟\", \"چطوری؟! 😄\"]\n",
    "cleaned_texts = pipeline(texts)\n",
    "cleaned_texts"
   ]
  },
  {
   "cell_type": "markdown",
   "id": "efbf16ae",
   "metadata": {},
   "source": [
    "Keep in mind that the result is a generator, not a list. This makes the pipeline more memory-efficient, especially when processing large datasets. You can convert the output to a list if needed:"
   ]
  },
  {
   "cell_type": "code",
   "execution_count": 14,
   "id": "d926d4c1",
   "metadata": {},
   "outputs": [
    {
     "name": "stdout",
     "output_type": "stream",
     "text": [
      "['درود', 'چطوری']\n"
     ]
    }
   ],
   "source": [
    "print(list(cleaned_texts))"
   ]
  },
  {
   "cell_type": "code",
   "execution_count": 15,
   "id": "b0204e96",
   "metadata": {},
   "outputs": [],
   "source": [
    "texts = [\"درود! 🌟\", \"چطوری؟! 😄\"]\n",
    "cleaned_texts = pipeline(texts)\n"
   ]
  },
  {
   "cell_type": "markdown",
   "id": "2b627a83",
   "metadata": {},
   "source": [
    "##### Using Pipelines as Decorators\n",
    "You can apply a pipeline to specific arguments in a function using the `.on_args()` method:"
   ]
  },
  {
   "cell_type": "code",
   "execution_count": 16,
   "id": "620708e2",
   "metadata": {},
   "outputs": [
    {
     "name": "stdout",
     "output_type": "stream",
     "text": [
      "علی احمدی\n"
     ]
    }
   ],
   "source": [
    "@pipeline.on_args([\"first_name\", \"last_name\"])\n",
    "def process(first_name: str, last_name: str) -> str:\n",
    "    return f\"{first_name} {last_name}\"\n",
    "\n",
    "processed_texts = process(first_name=\"🌟علی\", last_name=\"!احمدی\")\n",
    "print(processed_texts)"
   ]
  },
  {
   "cell_type": "markdown",
   "id": "e1f3a60a",
   "metadata": {},
   "source": [
    "Summary\n",
    "\n",
    "- Pipelines let you chain transformations cleanly.\n",
    "- You can build them explicitly or using the `|` operator.\n",
    "- Pipelines support strings, lists, and even decorators.\n",
    "- The result is more modular, testable, and elegant preprocessing code."
   ]
  }
 ],
 "metadata": {
  "kernelspec": {
   "display_name": ".venv",
   "language": "python",
   "name": "python3"
  },
  "language_info": {
   "codemirror_mode": {
    "name": "ipython",
    "version": 3
   },
   "file_extension": ".py",
   "mimetype": "text/x-python",
   "name": "python",
   "nbconvert_exporter": "python",
   "pygments_lexer": "ipython3",
   "version": "3.10.16"
  }
 },
 "nbformat": 4,
 "nbformat_minor": 5
}
