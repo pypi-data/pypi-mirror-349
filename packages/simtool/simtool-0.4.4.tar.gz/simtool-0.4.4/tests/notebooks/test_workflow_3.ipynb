{
 "cells": [
  {
   "cell_type": "code",
   "execution_count": null,
   "metadata": {},
   "outputs": [],
   "source": [
    "import sys\n",
    "\n",
    "from simtool import getSimToolInputs, Run, set_experiment, searchForSimTool"
   ]
  },
  {
   "cell_type": "code",
   "execution_count": null,
   "metadata": {},
   "outputs": [],
   "source": [
    "simToolName = \"test_simtool\"\n",
    "simToolLocation = searchForSimTool(simToolName)\n",
    "inputs = getSimToolInputs(simToolLocation)"
   ]
  },
  {
   "cell_type": "code",
   "execution_count": null,
   "metadata": {},
   "outputs": [],
   "source": [
    "inputs.myarray.value = [[1, 2.0, 3.14],[4,5,6]]"
   ]
  },
  {
   "cell_type": "code",
   "execution_count": null,
   "metadata": {},
   "outputs": [],
   "source": [
    "set_experiment('my_testrun', append=False)\n",
    "runs = []\n",
    "for mvolts in [100,200,300,400,500]:\n",
    "    inputs.volts.value = mvolts\n",
    "    if mvolts % 200:\n",
    "        inputs.options.value = {'FontSize': 28, 'FontColor': 'red', 'Background': 'black'}\n",
    "    else:\n",
    "        inputs.options.value = {'FontSize': 28, 'FontColor': 'yellow', 'Background': 'black'}\n",
    "    r = Run(simToolLocation, inputs)\n",
    "    runs.append(r)"
   ]
  },
  {
   "cell_type": "code",
   "execution_count": null,
   "metadata": {},
   "outputs": [],
   "source": [
    "for run in runs:\n",
    "    run.read('PNG', display=True)"
   ]
  }
 ],
 "metadata": {
  "kernelspec": {
   "display_name": "Python 3",
   "language": "python",
   "name": "python3"
  },
  "language_info": {
   "codemirror_mode": {
    "name": "ipython",
    "version": 3
   },
   "file_extension": ".py",
   "mimetype": "text/x-python",
   "name": "python",
   "nbconvert_exporter": "python",
   "pygments_lexer": "ipython3",
   "version": "3.7.7"
  }
 },
 "nbformat": 4,
 "nbformat_minor": 2
}
