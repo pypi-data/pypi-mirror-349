{
 "cells": [
  {
   "cell_type": "markdown",
   "metadata": {},
   "source": [
    "# SimTool Test\n",
    "\n",
    "Test of a simulation tool that accepts a bunch of different input types and writes different outputs."
   ]
  },
  {
   "cell_type": "code",
   "execution_count": null,
   "metadata": {
    "tags": [
     "DESCRIPTION"
    ]
   },
   "outputs": [],
   "source": [
    "DESCRIPTION = \"Sample notebook testing and documentation\""
   ]
  },
  {
   "cell_type": "code",
   "execution_count": null,
   "metadata": {},
   "outputs": [],
   "source": [
    "%load_ext yamlmagic\n",
    "import numpy as np\n",
    "from simtool import DB"
   ]
  },
  {
   "cell_type": "code",
   "execution_count": null,
   "metadata": {
    "tags": [
     "FILES"
    ]
   },
   "outputs": [],
   "source": [
    "EXTRA_FILES = [\"nanoHUB_logo_color.png\"]"
   ]
  },
  {
   "cell_type": "code",
   "execution_count": null,
   "metadata": {},
   "outputs": [],
   "source": [
    "%%yaml INPUTS\n",
    "\n",
    "some_text:\n",
    "    desc: Text to Write in Output Image\n",
    "    type: Text\n",
    "    maxlen: 20\n",
    "    value: 'Default Text'\n",
    "    \n",
    "volts:\n",
    "    desc: Value to Write in Output Image\n",
    "    type: Number\n",
    "    units: mV\n",
    "    value: 200\n",
    "    max: 1000\n",
    "\n",
    "width:\n",
    "    desc: Width of Output Image in pixels\n",
    "    type: Integer\n",
    "    value: 400\n",
    "    min: 100\n",
    "    max: 2000\n",
    "    \n",
    "height:\n",
    "    desc: Height of Output Image in pixels\n",
    "    type: Integer\n",
    "    value: 200\n",
    "    min: 50\n",
    "    max: 1000\n",
    "\n",
    "position:\n",
    "    desc: Position of text in image [x, y] in pixels\n",
    "    type: List\n",
    "    value: [20, 20]\n",
    "\n",
    "options:\n",
    "    desc: Color and Font Size Options.\n",
    "    type: Dict\n",
    "    value: {'FontSize': 28, 'FontColor': 'red', 'Background': 'black'}\n",
    "    \n",
    "myarray:\n",
    "    type: Array\n",
    "    dim: 1\n",
    "    value: [ 0. ,  0.2,  0.4,  0.6,  0.8,  1. ,  1.2,  1.4,  1.6,  1.8,  2. ,\n",
    "             2.2,  2.4,  2.6,  2.8,  3. ,  3.2,  3.4,  3.6,  3.8,  4. ,  4.2,\n",
    "             4.4,  4.6,  4.8,  5. ,  5.2,  5.4,  5.6,  5.8,  6. ,  6.2,  6.4,\n",
    "             6.6,  6.8,  7. ,  7.2,  7.4,  7.6,  7.8,  8. ,  8.2,  8.4,  8.6,\n",
    "             8.8,  9. ,  9.2,  9.4,  9.6,  9.8]"
   ]
  },
  {
   "cell_type": "code",
   "execution_count": null,
   "metadata": {},
   "outputs": [],
   "source": [
    "%%yaml OUTPUTS\n",
    "\n",
    "volts:\n",
    "    desc: Input 'volts' returned from SimTool\n",
    "    type: Number\n",
    "    units: mV\n",
    "\n",
    "myarray:\n",
    "    desc: The array that was input, doubled.\n",
    "    type: Array\n",
    "\n",
    "PNG:\n",
    "    desc: Image as a PNG\n",
    "    type: Image\n",
    "\n",
    "JPG:\n",
    "    desc: Image as a JPG\n",
    "    type: Image\n",
    "\n",
    "GIF:\n",
    "    desc: Image as a GIF\n",
    "    type: Image\n",
    "    \n",
    "nanohub:\n",
    "    desc: Our logo!\n",
    "    type: Image"
   ]
  },
  {
   "cell_type": "code",
   "execution_count": null,
   "metadata": {
    "tags": [
     "parameters"
    ]
   },
   "outputs": [],
   "source": [
    "from simtool import getValidatedInputs\n",
    "\n",
    "defaultInputs = getValidatedInputs(INPUTS)\n",
    "if defaultInputs:\n",
    "    globals().update(defaultInputs)"
   ]
  },
  {
   "cell_type": "markdown",
   "metadata": {},
   "source": [
    "**** Computation is Done Below ****"
   ]
  },
  {
   "cell_type": "code",
   "execution_count": null,
   "metadata": {},
   "outputs": [],
   "source": [
    "db = DB(OUTPUTS)\n",
    "db.save('volts', volts)"
   ]
  },
  {
   "cell_type": "code",
   "execution_count": null,
   "metadata": {},
   "outputs": [],
   "source": [
    "db.save('volts', volts, display=True)"
   ]
  },
  {
   "cell_type": "code",
   "execution_count": null,
   "metadata": {},
   "outputs": [],
   "source": [
    "myarray = np.array(myarray)\n",
    "db.save('myarray', myarray * 2)\n",
    "db.save('myarray', myarray * 4.1, display=True)"
   ]
  },
  {
   "cell_type": "code",
   "execution_count": null,
   "metadata": {},
   "outputs": [],
   "source": [
    "# Generate output images for our SimTool based on input parameters\n",
    "import PIL.Image\n",
    "import PIL.ImageDraw\n",
    "import PIL.ImageFont\n",
    "\n",
    "img = PIL.Image.new('RGB', (width, height), color=options['Background'])\n",
    "d = PIL.ImageDraw.Draw(img)\n",
    "try:\n",
    "    font = PIL.ImageFont.truetype(\"/usr/share/fonts/truetype/inconsolata/Inconsolata.otf\", options['FontSize'], encoding=\"unic\")\n",
    "except:\n",
    "    font = PIL.ImageFont.load_default()\n",
    "d.text(position, '%s : %smV' % (some_text, volts), font=font, fill=options['FontColor'])\n",
    "img.save('foo.png')\n",
    "db.save('PNG', file='foo.png', display=True)"
   ]
  },
  {
   "cell_type": "code",
   "execution_count": null,
   "metadata": {},
   "outputs": [],
   "source": [
    "img = PIL.Image.new('RGB', (width, height), color=options['Background'])\n",
    "d = PIL.ImageDraw.Draw(img)\n",
    "d.text(position, '%s : %smV (JPG)' % (some_text, volts), font=font, fill=options['FontColor'])\n",
    "# img.save('foo.jpg')\n",
    "db.save('JPG', img, display=True)"
   ]
  },
  {
   "cell_type": "code",
   "execution_count": null,
   "metadata": {},
   "outputs": [],
   "source": [
    "img = PIL.Image.new('RGB', (width, height), color=options['Background'])\n",
    "d = PIL.ImageDraw.Draw(img)\n",
    "d.text(position, '%s : %smV (GIF)' % (some_text, volts), font=font, fill=options['FontColor'])\n",
    "img.save('foo.gif')\n",
    "db.save('GIF', file='foo.gif')"
   ]
  },
  {
   "cell_type": "code",
   "execution_count": null,
   "metadata": {},
   "outputs": [],
   "source": [
    "db.save('nanohub', file='nanoHUB_logo_color.png', display=True)"
   ]
  }
 ],
 "metadata": {
  "celltoolbar": "Tags",
  "kernelspec": {
   "display_name": "Python 3",
   "language": "python",
   "name": "python3"
  },
  "language_info": {
   "codemirror_mode": {
    "name": "ipython",
    "version": 3
   },
   "file_extension": ".py",
   "mimetype": "text/x-python",
   "name": "python",
   "nbconvert_exporter": "python",
   "pygments_lexer": "ipython3",
   "version": "3.7.7"
  }
 },
 "nbformat": 4,
 "nbformat_minor": 2
}
