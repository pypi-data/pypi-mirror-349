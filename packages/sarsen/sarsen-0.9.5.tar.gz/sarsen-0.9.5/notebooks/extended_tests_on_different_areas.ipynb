{
 "cells": [
  {
   "cell_type": "markdown",
   "id": "4c89ab28-5a6d-427e-8e8e-d9315395e440",
   "metadata": {},
   "source": [
    "## Extended tests on different areas"
   ]
  },
  {
   "cell_type": "markdown",
   "id": "68844ccb",
   "metadata": {},
   "source": [
    "This tutorial shows the results of the (i) geometric and (ii) radiometric terrain corrections on the Sentinel-1 GRD product using `sarsen` om 5 zone of the US:\n",
    "- South of Redmond in Washington\n",
    "- Grand Canyon in Arizona \n",
    "- Near Denver in Colorado\n",
    "- Clearwater National Forest in Idaho\n",
    "- Ozark National Forest in Arkansas \n",
    "\n",
    "The zone can be selected in the **Area Selection** section\n",
    "\n",
    "We use a 10-meter resolution DEM, the same resolution of the DEM used to generate the RTC available on the Planetary Computer. The comparison at the end of this notebook demonstrates that the RTC computed by `sarsen` is consistent with the RTC from the Planetary Computer.\n",
    "\n",
    "Steps:\n",
    "- Download the Sentinel-1 GRD\n",
    "- Download the 10-meter DEM\n",
    "- Compute the GTC using `sarsen`\n",
    "- Compute the RTC using `sarsen`\n",
    "- Compare the GTC to the RTC\n",
    "- Compare the RTC computed using `sarsen` to the RTC already available on the Planetery Computer \n",
    "\n",
    "**Note**: Download/retrieval steps are slower on local machines compared to the Planetary Computer. In future versions, it will be possible to access data via [fsspec](https://filesystem-spec.readthedocs.io/en/latest/) without having to download data locally."
   ]
  },
  {
   "cell_type": "markdown",
   "id": "48e9d992-7db0-4743-9439-4a1f0dc79f22",
   "metadata": {},
   "source": [
    "<hr style=\"border:2px solid blue\"> </hr>"
   ]
  },
  {
   "cell_type": "markdown",
   "id": "9ae38ff7",
   "metadata": {},
   "source": [
    "### Import"
   ]
  },
  {
   "cell_type": "code",
   "execution_count": null,
   "id": "f95d095c-a5b6-40d2-a47c-1adc4e60d31b",
   "metadata": {},
   "outputs": [],
   "source": [
    "%matplotlib inline\n",
    "\n",
    "import matplotlib.pyplot as plt\n",
    "\n",
    "plt.rcParams[\"figure.figsize\"] = (10, 7)"
   ]
  },
  {
   "cell_type": "code",
   "execution_count": null,
   "id": "3b976eb9-043d-4cc1-9751-3bdbc71ffa9e",
   "metadata": {},
   "outputs": [],
   "source": [
    "import os\n",
    "import tempfile\n",
    "\n",
    "# enable the `.rio` accessor\n",
    "import numpy as np\n",
    "import rioxarray  # noqa: F401\n",
    "import xarray as xr\n",
    "\n",
    "from sarsen import apps"
   ]
  },
  {
   "cell_type": "code",
   "execution_count": null,
   "id": "ed8f6cbd",
   "metadata": {},
   "outputs": [],
   "source": [
    "import adlfs\n",
    "import planetary_computer\n",
    "import pystac_client\n",
    "import stackstac"
   ]
  },
  {
   "cell_type": "markdown",
   "id": "a54708ca-9b1f-4755-bb04-bd005cf361fb",
   "metadata": {},
   "source": [
    "### Area Selection"
   ]
  },
  {
   "cell_type": "markdown",
   "id": "0e61e8f0",
   "metadata": {},
   "source": [
    "#### Availables Areas"
   ]
  },
  {
   "cell_type": "code",
   "execution_count": null,
   "id": "7569bc0b-c061-4c5c-b265-080d7880dd40",
   "metadata": {},
   "outputs": [],
   "source": [
    "processing_definitions = dict(\n",
    "    washington_south_of_redmond=dict(\n",
    "        lon=-121.95,\n",
    "        lat=47.04,\n",
    "        bbox=[-121.95 - 0.2, 47.04 - 0.2, -121.95 + 0.2, 47.04 + 0.2],\n",
    "        product_folder=\"GRD/2021/12/17/IW/DV/S1B_IW_GRDH_1SDV_20211217T141304_20211217T141329_030066_039705_9048\",\n",
    "    ),\n",
    "    arizona_grand_canyon=dict(\n",
    "        lon=-113.32,\n",
    "        lat=36.11,\n",
    "        product_folder=\"GRD/2021/12/10/IW/DV/S1A_IW_GRDH_1SDV_20211210T133532_20211210T133557_040947_04DCF6_4F80\",\n",
    "    ),\n",
    "    colorado_denver=dict(\n",
    "        lon=-106.28,\n",
    "        lat=39.65,\n",
    "        product_folder=\"GRD/2022/1/12/IW/DV/S1A_IW_GRDH_1SDV_20220112T130955_20220112T131020_041428_04ED13_2B27\",\n",
    "    ),\n",
    "    idaho_clearwater_national_forest=dict(\n",
    "        lon=-115.05,\n",
    "        lat=46.04,\n",
    "        product_folder=\"GRD/2021/12/2/IW/DV/S1B_IW_GRDH_1SDV_20211202T134837_20211202T134902_029847_039022_4099\",\n",
    "    ),\n",
    "    arkansas_ozark_national_forest=dict(\n",
    "        lon=-93.14367475,\n",
    "        lat=35.70534225,\n",
    "        product_folder=\"GRD/2021/12/8/IW/DV/S1A_IW_GRDH_1SDV_20211208T001209_20211208T001234_040910_04DBA7_F03C\",\n",
    "    ),\n",
    ")"
   ]
  },
  {
   "cell_type": "markdown",
   "id": "22a96cb7-d596-462d-9191-f0bfddca1c97",
   "metadata": {},
   "source": [
    "**Area selection**\n",
    "\n",
    "Select a zone from the following list:\n",
    "- \"washington_south_of_redmond\"\n",
    "- \"arizona_grand_canyon\"\n",
    "- \"colorado_denver\"\n",
    "- \"idaho_clearwater_national_forest\"\n",
    "- \"arkansas_ozark_national_forest\""
   ]
  },
  {
   "cell_type": "code",
   "execution_count": null,
   "id": "61cc7731-1e2b-4f32-9b12-78ecb48ab39d",
   "metadata": {},
   "outputs": [],
   "source": [
    "zone = \"colorado_denver\""
   ]
  },
  {
   "cell_type": "markdown",
   "id": "23a700d1-2b4a-45ba-8a64-bd154f775b76",
   "metadata": {},
   "source": [
    "#### processing definition"
   ]
  },
  {
   "cell_type": "code",
   "execution_count": null,
   "id": "f571dffb-53ad-4ac5-b135-4339c13908af",
   "metadata": {},
   "outputs": [],
   "source": [
    "# Area of interest definition\n",
    "lon = processing_definitions[zone][\"lon\"]\n",
    "lat = processing_definitions[zone][\"lat\"]\n",
    "bbox = [lon - 0.2, lat - 0.2, lon + 0.2, lat + 0.2]\n",
    "\n",
    "# Product Definition\n",
    "product_folder = processing_definitions[zone][\"product_folder\"]\n",
    "measurement_group = \"IW/VV\"\n",
    "\n",
    "# create a temporary directory where to store downloaded data\n",
    "tmp_dir = tempfile.gettempdir()\n",
    "# DEM path\n",
    "dem_path = os.path.join(tmp_dir, \"dem.tif\")\n",
    "\n",
    "tmp_dir"
   ]
  },
  {
   "cell_type": "markdown",
   "id": "211d1633-cd35-4e1c-8b71-bc6432e7495c",
   "metadata": {},
   "source": [
    "### DEMs discovery\n",
    "\n",
    "Here we use the DEM with a 10-meter ground sample distance (GDS) available on the Planetary Computer. Note that **any DEM supported by GDAL/Proj can be used**.\n",
    "\n",
    "Using `pystac_client` we can search the Planetary Computer's STAC endpoint for items matching our query parameters.  \n",
    "As multiple DEMs acquired at different times are available in this area, we select the DEMs with 10-meter GDS and perform the average of the remaining DEMs along the time dimension."
   ]
  },
  {
   "cell_type": "code",
   "execution_count": null,
   "id": "8a8883ba-e53f-41bf-95a3-25219c1799e6",
   "metadata": {},
   "outputs": [],
   "source": [
    "catalog = pystac_client.Client.open(\n",
    "    \"https://planetarycomputer.microsoft.com/api/stac/v1\"\n",
    ")\n",
    "search = catalog.search(collections=\"3dep-seamless\", bbox=bbox)\n",
    "items = list(search.get_items())"
   ]
  },
  {
   "cell_type": "markdown",
   "id": "0d016965",
   "metadata": {},
   "source": [
    "Here we load the data into an xarray `DataArray` using stackstac."
   ]
  },
  {
   "cell_type": "code",
   "execution_count": null,
   "id": "e7021623-ba3f-407e-8c96-f09824b2adbe",
   "metadata": {},
   "outputs": [],
   "source": [
    "# select DEMs with resolution 10 meters\n",
    "items_high_res = [\n",
    "    planetary_computer.sign(item).to_dict()\n",
    "    for item in items\n",
    "    if item.properties[\"gsd\"] == 10\n",
    "]\n",
    "\n",
    "dem_raster_all = stackstac.stack(items_high_res, bounds=bbox).squeeze()\n",
    "dem_raster_all"
   ]
  },
  {
   "cell_type": "markdown",
   "id": "55b7fc2e-c6ba-49d5-a04d-a6b61d7a89ab",
   "metadata": {},
   "source": [
    "#### DEMs average along the time dimension"
   ]
  },
  {
   "cell_type": "code",
   "execution_count": null,
   "id": "8bdf169d-28dc-41aa-a34b-29e3aa462e51",
   "metadata": {},
   "outputs": [],
   "source": [
    "dem_raster_geo = dem_raster_all.compute()\n",
    "if \"time\" in dem_raster_geo.dims:\n",
    "    dem_raster_geo = dem_raster_geo.mean(\"time\")\n",
    "_ = dem_raster_geo.rio.set_crs(dem_raster_all.rio.crs)"
   ]
  },
  {
   "cell_type": "markdown",
   "id": "b400b893-0441-4709-88d0-bf95ff4eb00b",
   "metadata": {},
   "source": [
    "#### Convert the DEM in UTM coordinates\n",
    "\n",
    "In order to facilitate the comparison between the RTC computed by sarsen with the RTC available on the Planetery Computer, here we convert the DEM in UTM."
   ]
  },
  {
   "cell_type": "code",
   "execution_count": null,
   "id": "3267b6cd-9612-4948-8ca4-44e6ca0eab01",
   "metadata": {},
   "outputs": [],
   "source": [
    "dem_raster_geo"
   ]
  },
  {
   "cell_type": "code",
   "execution_count": null,
   "id": "57395170-f500-43e8-821c-2bf9bef180f1",
   "metadata": {},
   "outputs": [],
   "source": [
    "# find the UTM zone and project in UTM\n",
    "t_srs = dem_raster_geo.rio.estimate_utm_crs()\n",
    "dem_raster = dem_raster_geo.rio.reproject(t_srs, resolution=(10, 10))\n",
    "dem_raster"
   ]
  },
  {
   "cell_type": "code",
   "execution_count": null,
   "id": "d1730b30-88ca-43e3-a194-1b81fbc439f1",
   "metadata": {},
   "outputs": [],
   "source": [
    "# crop DEM to our area of interest and save it\n",
    "# dem_corners = dict(x=slice(565000, 594000), y=slice(5220000, 5190000))\n",
    "# dem_raster_crop = dem_raster.sel(**dem_corners)\n",
    "\n",
    "dem_corners = dict(\n",
    "    x=slice(len(dem_raster.x) // 2 - 1000, len(dem_raster.x) // 2 + 1000),\n",
    "    y=slice(len(dem_raster.y) // 2 - 1000, len(dem_raster.y) // 2 + 1000),\n",
    ")\n",
    "print(dem_corners)\n",
    "dem_raster_crop = dem_raster.isel(**dem_corners)\n",
    "\n",
    "# dem_raster_crop = xr.where(dem_raster_crop >= 1.7976931348623157e+308, np.nan, dem_raster_crop)\n",
    "\n",
    "dem_raster_crop.rio.to_raster(dem_path)\n",
    "dem_raster_crop"
   ]
  },
  {
   "cell_type": "code",
   "execution_count": null,
   "id": "90da1b04-2a64-40b6-bb7d-2725ea95ddca",
   "metadata": {},
   "outputs": [],
   "source": [
    "dem_raster_crop.plot()\n",
    "_ = plt.title(\"DEM in UTM coordinates\")"
   ]
  },
  {
   "cell_type": "markdown",
   "id": "5a58873c-7bac-47c0-85cc-4b02e087d6a6",
   "metadata": {},
   "source": [
    "### Retrieve Sentinel-1 GRD"
   ]
  },
  {
   "cell_type": "markdown",
   "id": "9f5545dd-d5e0-4f64-b8ac-c56da6db7354",
   "metadata": {},
   "source": [
    "#### Define GRD parameters"
   ]
  },
  {
   "cell_type": "code",
   "execution_count": null,
   "id": "49dc13e7-f72d-4c1c-9c48-e5f466a394c3",
   "metadata": {},
   "outputs": [],
   "source": [
    "grd_account_name = \"sentinel1euwest\"\n",
    "grd_storage_container = \"s1-grd\"\n",
    "grd_product_folder = f\"{grd_storage_container}/{product_folder}\"\n",
    "grd_local_path = os.path.join(tmp_dir, product_folder)"
   ]
  },
  {
   "cell_type": "markdown",
   "id": "116c7c85-a65e-4e74-a8a8-f0bdd952c198",
   "metadata": {},
   "source": [
    "#### Retrieve Sentinel-1 GRD"
   ]
  },
  {
   "cell_type": "code",
   "execution_count": null,
   "id": "976ee57b-f766-4102-b24e-55f1b787a3b5",
   "metadata": {},
   "outputs": [],
   "source": [
    "grd_token = planetary_computer.sas.get_token(\n",
    "    grd_account_name, grd_storage_container\n",
    ").token\n",
    "grd_fs = adlfs.AzureBlobFileSystem(grd_account_name, credential=grd_token)\n",
    "grd_fs.ls(f\"{grd_product_folder}/manifest.safe\")"
   ]
  },
  {
   "cell_type": "code",
   "execution_count": null,
   "id": "6ebd58bb-5584-4a7d-aeef-ffea00290b9a",
   "metadata": {},
   "outputs": [],
   "source": [
    "grd_fs.get(grd_product_folder, grd_local_path, recursive=True)\n",
    "!ls -d {grd_local_path}"
   ]
  },
  {
   "cell_type": "markdown",
   "id": "58994215-f226-41ab-bfcc-7ef846429837",
   "metadata": {
    "tags": []
   },
   "source": [
    "### Processing"
   ]
  },
  {
   "cell_type": "markdown",
   "id": "74b35be6-1481-4b08-8fdd-2a18c70cb5a7",
   "metadata": {},
   "source": [
    "#### GTC\n",
    "\n",
    "Here we compute the geometric terrain correction.\n",
    "\n",
    "Input parameters:\n",
    "- `product_urlpath`: product path\n",
    "- `measurement_group`: band to be processed in the form {swath}/{polarization} (see [xarray-sentinel](https://pypi.org/project/xarray-sentinel/) for more details)\n",
    "- `dem_urlpath`: path to the input DEM. sarsen supports all DEMs supported by GDAL/Proj for ECEF-translation. \n",
    "- `interp_method`: interpolation method, sarsen supports all interpolation methods supported by [xarray.Dataset.interp](https://xarray.pydata.org/en/stable/generated/xarray.Dataset.interp.html)\n",
    "- `chunks`: dask chunks\n",
    "- `output_urlpath`: output path\n",
    "\n",
    "The output is the input SAR image resampled on DEM coordinates. "
   ]
  },
  {
   "cell_type": "code",
   "execution_count": null,
   "id": "9f44371e-dedb-4a06-b16e-c4d748216ace",
   "metadata": {},
   "outputs": [],
   "source": [
    "gtc = apps.terrain_correction(\n",
    "    product_urlpath=grd_local_path,\n",
    "    measurement_group=measurement_group,\n",
    "    dem_urlpath=dem_path,\n",
    "    output_urlpath=os.path.join(\n",
    "        tmp_dir, os.path.basename(product_folder) + \".10m.GTC.tif\"\n",
    "    ),\n",
    ")"
   ]
  },
  {
   "cell_type": "code",
   "execution_count": null,
   "id": "7c3ac2e9-4d7d-45cc-9b06-d1bf223354c7",
   "metadata": {},
   "outputs": [],
   "source": [
    "_ = gtc.plot(vmax=0.4)"
   ]
  },
  {
   "cell_type": "markdown",
   "id": "7e8922b7-81a8-4eb8-907f-5e0128e7aa89",
   "metadata": {},
   "source": [
    "#### RTC\n",
    "`sarsen` implements the radiometric terrain-correction [Gamma Flattening](https://ieeexplore.ieee.org/document/5752845) algorithm.\n",
    "\n",
    "#### Input parameters\n",
    "- `correct_radiometry`: `correct_radiometry`: default `None`. If `correct_radiometry=None`the radiometric terrain correction is not applied. `correct_radiometry=gamma_bilinear` applies the gamma flattening classic algorithm using bilinear interpolation to compute the weights. `correct_radiometry=gamma_nearest` applies the gamma flattening using nearest neighbours instead of bilinear interpolation. 'gamma_nearest' significantly reduces the processing time.\n",
    "- `grouping_area_factor`: scaling factor for the size of the image pixel where the areas are summed. By default, the `grouping_area_factor` is `(1, 1)`, which corresponds to Sentinel-1 input product pixel size. The `grouping_area_factor` shall be increased if the DEM resolution is lower than the Sentinel-1 input product resolution to avoid gaps and distortions the normalization factor. It can be also used to to speed up the computation or  the DEM resolution is lower than the Sentinel-1 input product resolution.  \n",
    "\n",
    "\n",
    "**Note**: The `grouping_area_factor` can be increased (i) to speed up the processing or (ii) when the input DEM resolution is low. The Gamma Flattening usually works properly if the pixel size of the input DEM is much smaller than the pixel size of the input Sentinel-1 product. Otherwise, the output may have radiometric distortions. This problem can be avoided by increasing the `grouping_area_factor`. Be aware that `grouping_area_factor` too high may degrade the final result."
   ]
  },
  {
   "cell_type": "markdown",
   "id": "ea2a878f",
   "metadata": {},
   "source": [
    "**Note:** As the RTC genaration step loads data into the memory, it may take serveral minutes (about 10 minutes on the Planetary Computer). The performances will be improved in the next releases of `sarsen`."
   ]
  },
  {
   "cell_type": "code",
   "execution_count": null,
   "id": "bc90978d-3c8b-4c9e-b77b-781fd04e6f20",
   "metadata": {},
   "outputs": [],
   "source": [
    "rtc = apps.terrain_correction(\n",
    "    grd_local_path,\n",
    "    measurement_group=measurement_group,\n",
    "    dem_urlpath=dem_path,\n",
    "    correct_radiometry=\"gamma_bilinear\",\n",
    "    output_urlpath=os.path.join(\n",
    "        tmp_dir, os.path.basename(product_folder) + \".10m.RTC.tif\"\n",
    "    ),\n",
    "    grouping_area_factor=(3, 3),\n",
    ")"
   ]
  },
  {
   "cell_type": "markdown",
   "id": "ecae137d-447e-43a6-b74e-5165f858bb4e",
   "metadata": {},
   "source": [
    "### Comparison between GTC and RTC"
   ]
  },
  {
   "cell_type": "code",
   "execution_count": null,
   "id": "e0c8af4d-01e9-42bf-b219-ca7ec2641b47",
   "metadata": {},
   "outputs": [],
   "source": [
    "f, axes = plt.subplots(nrows=1, ncols=2, figsize=(30, 12))\n",
    "\n",
    "gtc.plot(ax=axes[0], vmax=0.4)\n",
    "axes[0].grid(c=\"red\")\n",
    "plt.title(\"GTC\")\n",
    "\n",
    "rtc.plot(ax=axes[1], vmax=0.4)\n",
    "axes[1].grid(c=\"red\")\n",
    "plt.title(\"RTC\")\n",
    "\n",
    "plt.tight_layout()"
   ]
  },
  {
   "cell_type": "markdown",
   "id": "2840a7a6-7448-4b87-b8d5-3634e9909188",
   "metadata": {},
   "source": [
    "### Comparison between sarsen RTC and Planetary Computer RTC\n"
   ]
  },
  {
   "cell_type": "markdown",
   "id": "fdf2e625-0180-49e0-955e-65d037262f16",
   "metadata": {},
   "source": [
    "#### Define RTC parameters"
   ]
  },
  {
   "cell_type": "code",
   "execution_count": null,
   "id": "5600d1e0-e157-4b67-bdb4-93cf774b62ae",
   "metadata": {},
   "outputs": [],
   "source": [
    "rtc_account_name = \"sentinel1euwestrtc\"\n",
    "rtc_storage_container = \"sentinel1-grd-rtc\"\n",
    "rtc_product_folder = f\"{rtc_storage_container}/{product_folder}\"\n",
    "rtc_local_path = os.path.join(tmp_dir, rtc_product_folder)"
   ]
  },
  {
   "cell_type": "markdown",
   "id": "ec74cc07-dea9-4b78-bee0-d756e23fb8a5",
   "metadata": {},
   "source": [
    "#### Retrieve Sentinel-1 RTC"
   ]
  },
  {
   "cell_type": "code",
   "execution_count": null,
   "id": "811f6327-e5d8-439f-8920-23d4dd151c2e",
   "metadata": {},
   "outputs": [],
   "source": [
    "rtc_token = planetary_computer.sas.get_token(\n",
    "    rtc_account_name, rtc_storage_container\n",
    ").token\n",
    "rtc_fs = adlfs.AzureBlobFileSystem(rtc_account_name, credential=rtc_token)\n",
    "rtc_fs.ls(rtc_product_folder)"
   ]
  },
  {
   "cell_type": "code",
   "execution_count": null,
   "id": "3f02b52f-670b-46e8-bdc0-1e4acdc371a3",
   "metadata": {},
   "outputs": [],
   "source": [
    "rtc_fs.get(f\"{rtc_product_folder}\", rtc_local_path, recursive=True)\n",
    "!ls -d {rtc_local_path}"
   ]
  },
  {
   "cell_type": "markdown",
   "id": "2fa7282a-2581-43b0-955b-34ddeaf47147",
   "metadata": {},
   "source": [
    "#### Plot sarsen RTC and Planetary Computer RTC"
   ]
  },
  {
   "cell_type": "code",
   "execution_count": null,
   "id": "8c9b241f-568b-4a17-8993-c5edd67ab8a6",
   "metadata": {},
   "outputs": [],
   "source": [
    "rtc_pc = xr.open_dataarray(\n",
    "    rtc_local_path + \"/measurement/iw-vv.rtc.tiff\", cache=False\n",
    ").drop(\"band\")\n",
    "\n",
    "dem_corners_xy = {\n",
    "    \"x\": slice(dem_raster_crop.x[0], dem_raster_crop.x[-1]),\n",
    "    \"y\": slice(dem_raster_crop.y[0], dem_raster_crop.y[-1]),\n",
    "}\n",
    "\n",
    "rtc_pc = rtc_pc.sel(dem_corners_xy)\n",
    "rtc_pc"
   ]
  },
  {
   "cell_type": "code",
   "execution_count": null,
   "id": "2ebe759d-5d53-40fc-badf-a4aafe13a91a",
   "metadata": {},
   "outputs": [],
   "source": [
    "f, axes = plt.subplots(ncols=2, figsize=(30, 12))\n",
    "\n",
    "rtc_pc.plot(ax=axes[0], vmax=0.4)\n",
    "axes[0].set_title(\"Planetary Computer RTC\")\n",
    "axes[0].grid(c=\"red\")\n",
    "\n",
    "rtc.plot(ax=axes[1], vmax=0.4)\n",
    "axes[1].set_title(\"sarsen RTC\")\n",
    "axes[1].grid(c=\"red\")\n",
    "\n",
    "plt.tight_layout()"
   ]
  }
 ],
 "metadata": {
  "kernelspec": {
   "display_name": "Python 3 (ipykernel)",
   "language": "python",
   "name": "python3"
  },
  "language_info": {
   "codemirror_mode": {
    "name": "ipython",
    "version": 3
   },
   "file_extension": ".py",
   "mimetype": "text/x-python",
   "name": "python",
   "nbconvert_exporter": "python",
   "pygments_lexer": "ipython3",
   "version": "3.10.4"
  }
 },
 "nbformat": 4,
 "nbformat_minor": 5
}
