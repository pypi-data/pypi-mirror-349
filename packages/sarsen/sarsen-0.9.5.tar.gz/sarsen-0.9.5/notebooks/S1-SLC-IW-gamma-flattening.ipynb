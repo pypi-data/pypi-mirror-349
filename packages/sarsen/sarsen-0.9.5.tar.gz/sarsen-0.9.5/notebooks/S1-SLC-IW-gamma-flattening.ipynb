{
 "cells": [
  {
   "cell_type": "code",
   "execution_count": null,
   "id": "7dfaec41",
   "metadata": {},
   "outputs": [],
   "source": [
    "%load_ext autoreload\n",
    "%autoreload 2\n",
    "\n",
    "%matplotlib inline\n",
    "%config InlineBackend.figure_format = 'retina'\n",
    "\n",
    "import matplotlib.pyplot as plt\n",
    "\n",
    "plt.rcParams[\"figure.figsize\"] = (12, 8)\n",
    "plt.rcParams[\"font.size\"] = 12"
   ]
  },
  {
   "cell_type": "code",
   "execution_count": null,
   "id": "c5812733",
   "metadata": {},
   "outputs": [],
   "source": [
    "import numpy as np\n",
    "import rioxarray\n",
    "import xarray as xr\n",
    "import xarray_sentinel\n",
    "\n",
    "from sarsen import apps, geocoding, radiometry, orbit, scene"
   ]
  },
  {
   "cell_type": "code",
   "execution_count": null,
   "id": "09438927",
   "metadata": {},
   "outputs": [],
   "source": [
    "# product definition\n",
    "product_urlpath = (\n",
    "    \"data/S1A_IW_SLC__1SDV_20211223T170557_20211223T170624_041139_04E360_B8E2.SAFE\"\n",
    ")\n",
    "dem_urlpath = \"data/Gran-Sasso-3m-DEM-small.tif\"\n",
    "measurement_group = \"IW3/VV\"\n",
    "output_urlpath = \"Gran-Sasso-10m-RTC-SLC.tif\"\n",
    "output_gtc_urlpath = output_urlpath.replace(\"RTC\", \"GTC\")\n",
    "orbit_group = None\n",
    "calibration_group = None\n",
    "multilook = None\n",
    "interp_method = \"nearest\"\n",
    "grouping_area_factor = (1.0, 1.0)\n",
    "open_dem_raster_kwargs = {}\n",
    "kwargs = {}"
   ]
  },
  {
   "cell_type": "code",
   "execution_count": null,
   "id": "888eaf0b",
   "metadata": {
    "scrolled": false
   },
   "outputs": [],
   "source": [
    "%%time\n",
    "apps.terrain_correction(\n",
    "    product_urlpath,\n",
    "    measurement_group,\n",
    "    dem_urlpath,\n",
    "    output_urlpath=output_gtc_urlpath,\n",
    ")\n",
    "geocoded_beta0 = rioxarray.open_rasterio(output_gtc_urlpath)\n",
    "geocoded_beta0.plot(vmin=0, vmax=3)"
   ]
  },
  {
   "cell_type": "code",
   "execution_count": null,
   "id": "74211cf9",
   "metadata": {},
   "outputs": [],
   "source": [
    "apps.terrain_correction(\n",
    "    product_urlpath,\n",
    "    measurement_group,\n",
    "    dem_urlpath,\n",
    "    correct_radiometry=\"gamma_bilinear\",\n",
    "    output_urlpath=output_urlpath,\n",
    "    grouping_area_factor=(1, 5),\n",
    ")\n",
    "geocoded_beta0_c = rioxarray.open_rasterio(output_urlpath)\n",
    "geocoded_beta0_c.plot(vmin=0, vmax=3)"
   ]
  },
  {
   "cell_type": "markdown",
   "id": "02db2010",
   "metadata": {},
   "source": [
    "## CHECK INTERNAL FUNCTIONS"
   ]
  },
  {
   "cell_type": "markdown",
   "id": "6fa3ee18",
   "metadata": {},
   "source": [
    "### READ ORBIT AND INTERPOLATE"
   ]
  },
  {
   "cell_type": "code",
   "execution_count": null,
   "id": "f4c1862c",
   "metadata": {},
   "outputs": [],
   "source": [
    "orbit_group = orbit_group or f\"{measurement_group}/orbit\"\n",
    "calibration_group = calibration_group or f\"{measurement_group}/calibration\"\n",
    "\n",
    "measurement_ds = xr.open_dataset(product_urlpath, engine=\"sentinel-1\", group=measurement_group, **kwargs)  # type: ignore\n",
    "measurement = measurement_ds.measurement\n",
    "\n",
    "dem_raster = scene.open_dem_raster(dem_urlpath, **open_dem_raster_kwargs)\n",
    "\n",
    "orbit_ecef = xr.open_dataset(product_urlpath, engine=\"sentinel-1\", group=orbit_group, **kwargs)  # type: ignore\n",
    "position_ecef = orbit_ecef.position\n",
    "calibration = xr.open_dataset(product_urlpath, engine=\"sentinel-1\", group=calibration_group, **kwargs)  # type: ignore\n",
    "beta_nought_lut = calibration.betaNought"
   ]
  },
  {
   "cell_type": "code",
   "execution_count": null,
   "id": "a5624a08",
   "metadata": {},
   "outputs": [],
   "source": [
    "dem_ecef = scene.convert_to_dem_ecef(dem_raster)"
   ]
  },
  {
   "cell_type": "markdown",
   "id": "9d84f55e",
   "metadata": {},
   "source": [
    "### BACKWARD GEOCODING DEM and DEM_CENTERS"
   ]
  },
  {
   "cell_type": "code",
   "execution_count": null,
   "id": "a8bf0b79",
   "metadata": {},
   "outputs": [],
   "source": [
    "acquisition = apps.simulate_acquisition(position_ecef, dem_ecef)"
   ]
  },
  {
   "cell_type": "markdown",
   "id": "a831aa2e",
   "metadata": {},
   "source": [
    "### COMPUTE GAMMA WEIGHTS"
   ]
  },
  {
   "cell_type": "code",
   "execution_count": null,
   "id": "6550fee5",
   "metadata": {},
   "outputs": [],
   "source": [
    "beta_nought = xarray_sentinel.calibrate_intensity(measurement, beta_nought_lut)\n",
    "beta_nought"
   ]
  },
  {
   "cell_type": "code",
   "execution_count": null,
   "id": "7ef3f686",
   "metadata": {
    "scrolled": false
   },
   "outputs": [],
   "source": [
    "coordinate_conversion = None\n",
    "if measurement_ds.attrs[\"sar:product_type\"] == \"GRD\":\n",
    "    coordinate_conversion = xr.open_dataset(\n",
    "        product_urlpath,\n",
    "        engine=\"sentinel-1\",\n",
    "        group=f\"{measurement_group}/coordinate_conversion\",\n",
    "        **kwargs,\n",
    "    )  # type: ignore\n",
    "    ground_range = xarray_sentinel.slant_range_time_to_ground_range(\n",
    "        acquisition.azimuth_time,\n",
    "        acquisition.slant_range_time,\n",
    "        coordinate_conversion,\n",
    "    )\n",
    "    interp_kwargs = {\"ground_range\": ground_range}\n",
    "elif measurement_ds.attrs[\"sar:product_type\"] == \"SLC\":\n",
    "    interp_kwargs = {\"slant_range_time\": acquisition.slant_range_time}\n",
    "    if measurement_ds.attrs[\"sar:instrument_mode\"] == \"IW\":\n",
    "        beta_nought = xarray_sentinel.mosaic_slc_iw(beta_nought)\n",
    "else:\n",
    "    raise ValueError(\n",
    "        f\"unsupported sar:product_type {measurement_ds.attrs['sar:product_type']}\"\n",
    "    )"
   ]
  },
  {
   "cell_type": "code",
   "execution_count": null,
   "id": "6f3632c8",
   "metadata": {},
   "outputs": [],
   "source": [
    "geocoded = apps.interpolate_measurement(\n",
    "    beta_nought,\n",
    "    multilook=multilook,\n",
    "    azimuth_time=acquisition.azimuth_time,\n",
    "    interp_method=interp_method,\n",
    "    **interp_kwargs,\n",
    ")\n",
    "geocoded"
   ]
  },
  {
   "cell_type": "code",
   "execution_count": null,
   "id": "6dcf6f3f",
   "metadata": {},
   "outputs": [],
   "source": [
    "grid_parameters = radiometry.azimuth_slant_range_grid(\n",
    "    measurement_ds, coordinate_conversion, grouping_area_factor\n",
    ")\n",
    "grid_parameters"
   ]
  },
  {
   "cell_type": "code",
   "execution_count": null,
   "id": "5d6b7bdb",
   "metadata": {
    "scrolled": false
   },
   "outputs": [],
   "source": [
    "%%time\n",
    "weights = radiometry.gamma_weights(\n",
    "    dem_ecef,\n",
    "    acquisition,\n",
    "    **grid_parameters,\n",
    ")"
   ]
  },
  {
   "cell_type": "code",
   "execution_count": null,
   "id": "08abe1fd",
   "metadata": {},
   "outputs": [],
   "source": [
    "f, axes = plt.subplots(nrows=1, ncols=3, figsize=(30, 15))\n",
    "\n",
    "_ = geocoded.plot(ax=axes[0], vmax=3)\n",
    "axes[0].grid(c=\"black\")\n",
    "\n",
    "_ = (geocoded / weights).plot(ax=axes[1], vmax=3)\n",
    "axes[1].grid(c=\"black\")\n",
    "\n",
    "_ = weights.plot(ax=axes[2], vmax=3, x=\"x\")\n",
    "axes[2].grid(c=\"black\")"
   ]
  },
  {
   "cell_type": "code",
   "execution_count": null,
   "id": "470c3323",
   "metadata": {},
   "outputs": [],
   "source": []
  }
 ],
 "metadata": {
  "kernelspec": {
   "display_name": "Python 3",
   "language": "python",
   "name": "python3"
  },
  "language_info": {
   "codemirror_mode": {
    "name": "ipython",
    "version": 3
   },
   "file_extension": ".py",
   "mimetype": "text/x-python",
   "name": "python",
   "nbconvert_exporter": "python",
   "pygments_lexer": "ipython3",
   "version": "3.9.10"
  }
 },
 "nbformat": 4,
 "nbformat_minor": 5
}
