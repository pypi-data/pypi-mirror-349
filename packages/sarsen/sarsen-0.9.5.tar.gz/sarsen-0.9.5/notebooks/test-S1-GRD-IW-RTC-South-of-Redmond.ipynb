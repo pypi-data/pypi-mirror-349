{
 "cells": [
  {
   "cell_type": "code",
   "execution_count": null,
   "id": "1391c47f-d76e-4840-8eed-d547b4784331",
   "metadata": {},
   "outputs": [],
   "source": [
    "%load_ext autoreload\n",
    "%autoreload 2\n",
    "\n",
    "%matplotlib inline\n",
    "%config InlineBackend.figure_format = 'retina'\n",
    "\n",
    "import matplotlib.pyplot as plt\n",
    "import logging\n",
    "\n",
    "# logger = logging.basicConfig(level=logging.INFO)\n",
    "\n",
    "plt.rcParams[\"figure.figsize\"] = (10, 7)\n",
    "plt.rcParams[\"font.size\"] = 12"
   ]
  },
  {
   "cell_type": "markdown",
   "id": "4611867b-79d3-46f6-9c38-ac3b44a17ad7",
   "metadata": {},
   "source": [
    "## install dependencies"
   ]
  },
  {
   "cell_type": "code",
   "execution_count": null,
   "id": "f552f512-205d-4812-9fa4-5f1572edce12",
   "metadata": {},
   "outputs": [],
   "source": [
    "# !mamba install -c conda-forge -y make proj-data sentinelsat xmlschema"
   ]
  },
  {
   "cell_type": "code",
   "execution_count": null,
   "id": "a757e10c-fb0c-403f-b5ee-9af96f06e2a3",
   "metadata": {},
   "outputs": [],
   "source": [
    "# !pip install elevation sarsen xarray-sentinel"
   ]
  },
  {
   "cell_type": "code",
   "execution_count": null,
   "id": "01386435",
   "metadata": {},
   "outputs": [],
   "source": [
    "import os\n",
    "\n",
    "import numpy as np\n",
    "import rioxarray  # enable the `.rio` accessor\n",
    "import xarray as xr\n",
    "\n",
    "from sarsen import apps, scene"
   ]
  },
  {
   "cell_type": "markdown",
   "id": "86970ee8",
   "metadata": {},
   "source": [
    "## processing definition"
   ]
  },
  {
   "cell_type": "code",
   "execution_count": null,
   "id": "dce0c439",
   "metadata": {},
   "outputs": [],
   "source": [
    "os.makedirs(\"data\", exist_ok=True)\n",
    "dem_urlpath = \"data/South-of-Redmond-10m.tif\"\n",
    "dem_10m_UTM_urlpath = dem_urlpath.strip(\".tif\") + \"_UTM.tif\"\n",
    "\n",
    "product_folder = \"GRD/2021/12/17/IW/DV/S1B_IW_GRDH_1SDV_20211217T141304_20211217T141329_030066_039705_9048\"\n",
    "measurement_group = \"IW/VV\""
   ]
  },
  {
   "cell_type": "markdown",
   "id": "19adb6a3-26a4-4fdb-862a-1f6aa4f2abf6",
   "metadata": {},
   "source": [
    "## download DEM"
   ]
  },
  {
   "cell_type": "code",
   "execution_count": null,
   "id": "65ae53fb",
   "metadata": {},
   "outputs": [],
   "source": [
    "import adlfs\n",
    "import planetary_computer\n",
    "import pystac_client\n",
    "import stackstac"
   ]
  },
  {
   "cell_type": "code",
   "execution_count": null,
   "id": "bf19616d",
   "metadata": {},
   "outputs": [],
   "source": [
    "seattle = [-121.95, 47.04]\n",
    "areas_of_interest = {\"type\": \"Point\", \"coordinates\": seattle}\n",
    "\n",
    "catalog = pystac_client.Client.open(\n",
    "    \"https://planetarycomputer.microsoft.com/api/stac/v1\"\n",
    ")\n",
    "threedep = catalog.get_child(id=\"3dep-seamless\")\n",
    "\n",
    "longitude, latitude = seattle\n",
    "buffer = 0.2\n",
    "bbox = [longitude - buffer, latitude - buffer, longitude + buffer, latitude + buffer]\n",
    "search = catalog.search(collections=\"3dep-seamless\", bbox=bbox)\n",
    "items = list(search.get_items())\n",
    "items"
   ]
  },
  {
   "cell_type": "code",
   "execution_count": null,
   "id": "3ed91642",
   "metadata": {},
   "outputs": [],
   "source": [
    "items_high_res = [\n",
    "    planetary_computer.sign(item).to_dict()\n",
    "    for item in items\n",
    "    if item.properties[\"gsd\"] == 10\n",
    "]\n",
    "\n",
    "dem_raster_all = stackstac.stack(items_high_res, bounds=bbox).squeeze()\n",
    "dem_raster_all"
   ]
  },
  {
   "cell_type": "code",
   "execution_count": null,
   "id": "b8c5b7dd",
   "metadata": {},
   "outputs": [],
   "source": [
    "dem_raster = dem_raster_all.compute()\n",
    "if \"time\" in dem_raster.dims:\n",
    "    dem_raster = dem_raster.mean(\"time\")\n",
    "dem_raster.rio.set_crs(dem_raster_all.rio.crs)\n",
    "dem_raster.rio.to_raster(dem_urlpath)"
   ]
  },
  {
   "cell_type": "markdown",
   "id": "c508e760",
   "metadata": {},
   "source": [
    "### RESAMPLING UTM DEM"
   ]
  },
  {
   "cell_type": "markdown",
   "id": "cc49ad59",
   "metadata": {},
   "source": [
    "#### 10 meters"
   ]
  },
  {
   "cell_type": "code",
   "execution_count": null,
   "id": "aff909eb",
   "metadata": {},
   "outputs": [],
   "source": [
    "dem_raster = scene.open_dem_raster(dem_urlpath)\n",
    "_ = dem_raster.plot()"
   ]
  },
  {
   "cell_type": "code",
   "execution_count": null,
   "id": "b73dcd47",
   "metadata": {
    "scrolled": false
   },
   "outputs": [],
   "source": [
    "dem_UTM_corners = dict(x=slice(565000, 594000), y=slice(5220000, 5190000))\n",
    "\n",
    "resolution = (10, 10)\n",
    "\n",
    "t_srs = dem_raster.rio.estimate_utm_crs()\n",
    "dem_raster_10m_UTM = dem_raster.rio.reproject(t_srs, resolution=resolution)\n",
    "\n",
    "dem_raster_10m_UTM = dem_raster_10m_UTM.sel(**dem_UTM_corners)\n",
    "\n",
    "dem_raster_10m_UTM.rio.to_raster(dem_10m_UTM_urlpath)\n",
    "dem_raster_10m_UTM"
   ]
  },
  {
   "cell_type": "code",
   "execution_count": null,
   "id": "1e4b97a6",
   "metadata": {
    "scrolled": false
   },
   "outputs": [],
   "source": [
    "dem_raster_10m_UTM.plot()"
   ]
  },
  {
   "cell_type": "markdown",
   "id": "1a7a2326-e415-4dd3-9858-a31bff62591d",
   "metadata": {},
   "source": [
    "## download data"
   ]
  },
  {
   "cell_type": "code",
   "execution_count": null,
   "id": "ac77356e",
   "metadata": {},
   "outputs": [],
   "source": [
    "import os\n",
    "\n",
    "\n",
    "def mirror_folder(fs, bucket, folder, exclude=\"vh\"):\n",
    "    for path, folders, files in fs.walk(f\"{bucket}/{folder}\"):\n",
    "        os.makedirs(path[len(bucket) + 1 :], exist_ok=True)\n",
    "        for f in files:\n",
    "            if exclude in f:\n",
    "                continue\n",
    "            file_path = os.path.join(path, f)\n",
    "            lfile_path = file_path[len(bucket) + 1 :]\n",
    "            if not os.path.isfile(lfile_path):\n",
    "                print(file_path)\n",
    "                fs.download(file_path, lfile_path + \"~\")\n",
    "                os.rename(lfile_path + \"~\", lfile_path)"
   ]
  },
  {
   "cell_type": "code",
   "execution_count": null,
   "id": "90c5f13f",
   "metadata": {},
   "outputs": [],
   "source": [
    "grd_account_name = \"sentinel1euwest\"\n",
    "grd_bucket = \"s1-grd\"\n",
    "grd_token = planetary_computer.sas.get_token(grd_account_name, grd_bucket).token\n",
    "\n",
    "grd_product_folder = f\"{grd_bucket}/{product_folder}\"\n",
    "\n",
    "grd_fs = adlfs.AzureBlobFileSystem(grd_account_name, credential=grd_token)\n",
    "grd_fs.ls(grd_product_folder)"
   ]
  },
  {
   "cell_type": "code",
   "execution_count": null,
   "id": "6fc9f6e6",
   "metadata": {
    "scrolled": false
   },
   "outputs": [],
   "source": [
    "mirror_folder(grd_fs, grd_bucket, product_folder)"
   ]
  },
  {
   "cell_type": "code",
   "execution_count": null,
   "id": "69b4a3d3",
   "metadata": {},
   "outputs": [],
   "source": [
    "ds = xr.open_dataset(\n",
    "    product_folder,\n",
    "    engine=\"sentinel-1\",\n",
    "    group=measurement_group,\n",
    "    # storage_options=storage_options,\n",
    "    override_product_files=\"{dirname}/{prefix}{swath}-{polarization}{ext}\",\n",
    "    chunks={\"slant_range_time\": 2048},\n",
    ")\n",
    "ds"
   ]
  },
  {
   "cell_type": "code",
   "execution_count": null,
   "id": "5a579f9c",
   "metadata": {},
   "outputs": [],
   "source": [
    "rtc_account_name = \"sentinel1euwestrtc\"\n",
    "rtc_bucket = \"sentinel1-grd-rtc\"\n",
    "rtc_token = planetary_computer.sas.get_token(rtc_account_name, rtc_bucket).token\n",
    "\n",
    "rtc_product_folder = f\"{rtc_bucket}/{product_folder}\"\n",
    "\n",
    "rtc_fs = adlfs.AzureBlobFileSystem(rtc_account_name, credential=rtc_token)\n",
    "rtc_fs.ls(rtc_product_folder)"
   ]
  },
  {
   "cell_type": "code",
   "execution_count": null,
   "id": "ce44debc",
   "metadata": {},
   "outputs": [],
   "source": [
    "mirror_folder(rtc_fs, rtc_bucket, product_folder)"
   ]
  },
  {
   "cell_type": "markdown",
   "id": "89f8c899",
   "metadata": {},
   "source": [
    "## process"
   ]
  },
  {
   "cell_type": "markdown",
   "id": "5a308418",
   "metadata": {},
   "source": [
    "#### GTC"
   ]
  },
  {
   "cell_type": "code",
   "execution_count": null,
   "id": "41add520",
   "metadata": {
    "scrolled": false
   },
   "outputs": [],
   "source": [
    "%%time\n",
    "\n",
    "gtc_path = os.path.basename(product_folder) + \".10m.GTC.tif\"\n",
    "\n",
    "apps.terrain_correction(\n",
    "    product_folder,\n",
    "    measurement_group,\n",
    "    dem_10m_UTM_urlpath,\n",
    "    interp_method=\"nearest\",\n",
    "    override_product_files=\"{dirname}/{prefix}{swath}-{polarization}{ext}\",\n",
    "    chunks={\"slant_range_time\": 2048},\n",
    "    output_urlpath=gtc_path,\n",
    ")\n",
    "\n",
    "!gdaladdo -r average {gtc_path}\n",
    "\n",
    "gtc_path"
   ]
  },
  {
   "cell_type": "code",
   "execution_count": null,
   "id": "27a84435",
   "metadata": {},
   "outputs": [],
   "source": [
    "gtc = xr.open_dataarray(gtc_path).drop(\"band\")\n",
    "gtc.plot(vmax=0.4);"
   ]
  },
  {
   "cell_type": "markdown",
   "id": "c7399622",
   "metadata": {},
   "source": [
    "#### RTC"
   ]
  },
  {
   "cell_type": "code",
   "execution_count": null,
   "id": "bfdd3e96",
   "metadata": {
    "scrolled": false
   },
   "outputs": [],
   "source": [
    "%%time\n",
    "\n",
    "rtc_path = os.path.basename(product_folder) + \".10m.RTC.tif\"\n",
    "\n",
    "apps.terrain_correction(\n",
    "    product_folder,\n",
    "    measurement_group,\n",
    "    dem_10m_UTM_urlpath,\n",
    "    interp_method=\"nearest\",\n",
    "    override_product_files=\"{dirname}/{prefix}{swath}-{polarization}{ext}\",\n",
    "    correct_radiometry=\"gamma_bilinear\",\n",
    "    output_urlpath=rtc_path,\n",
    "    grouping_area_factor=(3, 3),\n",
    ")\n",
    "\n",
    "!gdaladdo -r average {rtc_path}\n",
    "\n",
    "rtc_path"
   ]
  },
  {
   "cell_type": "code",
   "execution_count": null,
   "id": "849a9019",
   "metadata": {},
   "outputs": [],
   "source": [
    "rtc = xr.open_dataarray(rtc_path, cache=False).drop(\"band\")\n",
    "rtc.plot(vmax=0.4);"
   ]
  },
  {
   "cell_type": "code",
   "execution_count": null,
   "id": "6226ee75",
   "metadata": {
    "scrolled": false
   },
   "outputs": [],
   "source": [
    "f, axes = plt.subplots(nrows=1, ncols=2, figsize=(30, 12))\n",
    "\n",
    "gtc.plot(ax=axes[0], vmax=0.4)\n",
    "axes[0].grid(c=\"red\")\n",
    "\n",
    "rtc.plot(ax=axes[1], vmax=0.4)\n",
    "axes[1].grid(c=\"red\")\n",
    "\n",
    "plt.tight_layout()"
   ]
  },
  {
   "cell_type": "code",
   "execution_count": null,
   "id": "d66d4126",
   "metadata": {},
   "outputs": [],
   "source": [
    "rtc_pc = xr.open_dataarray(\n",
    "    product_folder + \"/measurement/iw-vv.rtc.tiff\", cache=False\n",
    ").drop(\"band\")\n",
    "rtc_pc = rtc_pc.sel(dem_UTM_corners)\n",
    "rtc_pc"
   ]
  },
  {
   "cell_type": "code",
   "execution_count": null,
   "id": "5a58503d",
   "metadata": {},
   "outputs": [],
   "source": [
    "f, axes = plt.subplots(nrows=1, ncols=2, figsize=(30, 12))\n",
    "\n",
    "rtc_pc.plot(ax=axes[0], vmax=0.4)\n",
    "axes[0].grid(c=\"red\")\n",
    "\n",
    "rtc.plot(ax=axes[1], vmax=0.4)\n",
    "axes[1].grid(c=\"red\")\n",
    "\n",
    "plt.tight_layout()"
   ]
  },
  {
   "cell_type": "code",
   "execution_count": null,
   "id": "b5fa5ec6",
   "metadata": {},
   "outputs": [],
   "source": []
  }
 ],
 "metadata": {
  "kernelspec": {
   "display_name": "Python 3",
   "language": "python",
   "name": "python3"
  },
  "language_info": {
   "codemirror_mode": {
    "name": "ipython",
    "version": 3
   },
   "file_extension": ".py",
   "mimetype": "text/x-python",
   "name": "python",
   "nbconvert_exporter": "python",
   "pygments_lexer": "ipython3",
   "version": "3.9.10"
  }
 },
 "nbformat": 4,
 "nbformat_minor": 5
}
