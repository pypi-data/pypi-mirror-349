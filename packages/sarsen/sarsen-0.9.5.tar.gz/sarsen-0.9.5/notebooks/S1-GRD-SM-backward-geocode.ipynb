{
 "cells": [
  {
   "cell_type": "code",
   "execution_count": null,
   "id": "94b6ba8a",
   "metadata": {},
   "outputs": [],
   "source": [
    "%load_ext autoreload\n",
    "%autoreload 2\n",
    "\n",
    "%matplotlib inline\n",
    "%config InlineBackend.figure_format = 'retina'\n",
    "\n",
    "import matplotlib.pyplot as plt\n",
    "\n",
    "plt.rcParams[\"figure.figsize\"] = (10, 7)\n",
    "plt.rcParams[\"font.size\"] = 12"
   ]
  },
  {
   "cell_type": "code",
   "execution_count": null,
   "id": "4aac3545",
   "metadata": {
    "scrolled": false
   },
   "outputs": [],
   "source": [
    "import inspect\n",
    "\n",
    "import numpy as np\n",
    "import xarray as xr\n",
    "import xarray_sentinel\n",
    "\n",
    "from sarsen import apps, geocoding, orbit, scene\n",
    "\n",
    "# uncomment to check that the code below is in sync with the implementation\n",
    "# print(inspect.getsource(apps.terrain_correction))"
   ]
  },
  {
   "cell_type": "markdown",
   "id": "c66ab1d4",
   "metadata": {},
   "source": [
    "# define input and load data"
   ]
  },
  {
   "cell_type": "code",
   "execution_count": null,
   "id": "f54eebd4",
   "metadata": {},
   "outputs": [],
   "source": [
    "product_urlpath = (\n",
    "    \"data/S1B_S6_GRDH_1SDV_20211216T115438_20211216T115501_030050_03968A_0F8A.SAFE/\"\n",
    ")\n",
    "measurement_group = \"S6/VV\"\n",
    "dem_urlpath = \"data/Chicago-10m-DEM.tif\"\n",
    "orbit_group = None\n",
    "calibration_group = None\n",
    "output_urlpath = \"Chicago-10m-GTC-GRD.tif\"\n",
    "interp_method = \"nearest\"\n",
    "multilook = None\n",
    "grouping_area_factor = (1.0, 1.0)\n",
    "open_dem_raster_kwargs = {\"chunks\": {}}\n",
    "kwargs = {\"chunks\": 2048}"
   ]
  },
  {
   "cell_type": "code",
   "execution_count": null,
   "id": "e470ab3a",
   "metadata": {},
   "outputs": [],
   "source": [
    "!ls -d {product_urlpath}\n",
    "!ls -d {dem_urlpath}"
   ]
  },
  {
   "cell_type": "code",
   "execution_count": null,
   "id": "9106ac6a",
   "metadata": {},
   "outputs": [],
   "source": [
    "orbit_group = orbit_group or f\"{measurement_group}/orbit\"\n",
    "calibration_group = calibration_group or f\"{measurement_group}/calibration\"\n",
    "\n",
    "measurement_ds = xr.open_dataset(product_urlpath, engine=\"sentinel-1\", group=measurement_group, **kwargs)  # type: ignore\n",
    "measurement = measurement_ds.measurement\n",
    "\n",
    "dem_raster = scene.open_dem_raster(dem_urlpath, **open_dem_raster_kwargs)\n",
    "\n",
    "orbit_ecef = xr.open_dataset(product_urlpath, engine=\"sentinel-1\", group=orbit_group, **kwargs)  # type: ignore\n",
    "position_ecef = orbit_ecef.position\n",
    "calibration = xr.open_dataset(product_urlpath, engine=\"sentinel-1\", group=calibration_group, **kwargs)  # type: ignore\n",
    "beta_nought_lut = calibration.betaNought"
   ]
  },
  {
   "cell_type": "markdown",
   "id": "d6f99462",
   "metadata": {},
   "source": [
    "# scene"
   ]
  },
  {
   "cell_type": "code",
   "execution_count": null,
   "id": "8d6140db",
   "metadata": {},
   "outputs": [],
   "source": [
    "dem_raster"
   ]
  },
  {
   "cell_type": "code",
   "execution_count": null,
   "id": "5148c7ef",
   "metadata": {},
   "outputs": [],
   "source": [
    "_ = dem_raster.plot()"
   ]
  },
  {
   "cell_type": "code",
   "execution_count": null,
   "id": "b646c73b",
   "metadata": {
    "scrolled": false
   },
   "outputs": [],
   "source": [
    "%%time\n",
    "dem_ecef = scene.convert_to_dem_ecef(dem_raster)\n",
    "dem_ecef"
   ]
  },
  {
   "cell_type": "markdown",
   "id": "75e4849d",
   "metadata": {},
   "source": [
    "# acquisition"
   ]
  },
  {
   "cell_type": "code",
   "execution_count": null,
   "id": "702a30cd",
   "metadata": {
    "scrolled": false
   },
   "outputs": [],
   "source": [
    "measurement"
   ]
  },
  {
   "cell_type": "code",
   "execution_count": null,
   "id": "2fedbf87",
   "metadata": {},
   "outputs": [],
   "source": [
    "%%time\n",
    "acquisition = apps.simulate_acquisition(position_ecef, dem_ecef)\n",
    "acquisition"
   ]
  },
  {
   "cell_type": "code",
   "execution_count": null,
   "id": "c7ee12d9",
   "metadata": {},
   "outputs": [],
   "source": [
    "%%time\n",
    "beta_nought = xarray_sentinel.calibrate_intensity(measurement, beta_nought_lut)\n",
    "beta_nought"
   ]
  },
  {
   "cell_type": "code",
   "execution_count": null,
   "id": "f26971d1",
   "metadata": {},
   "outputs": [],
   "source": [
    "%%time\n",
    "coordinate_conversion = None\n",
    "if measurement_ds.attrs[\"sar:product_type\"] == \"GRD\":\n",
    "    coordinate_conversion = xr.open_dataset(\n",
    "        product_urlpath,\n",
    "        engine=\"sentinel-1\",\n",
    "        group=f\"{measurement_group}/coordinate_conversion\",\n",
    "        **kwargs,\n",
    "    )  # type: ignore\n",
    "    ground_range = xarray_sentinel.slant_range_time_to_ground_range(\n",
    "        acquisition.azimuth_time,\n",
    "        acquisition.slant_range_time,\n",
    "        coordinate_conversion,\n",
    "    )\n",
    "    interp_kwargs = {\"ground_range\": ground_range}\n",
    "elif measurement_ds.attrs[\"sar:product_type\"] == \"SLC\":\n",
    "    interp_kwargs = {\"slant_range_time\": acquisition.slant_range_time}\n",
    "    if measurement_ds.attrs[\"sar:instrument_mode\"] == \"IW\":\n",
    "        beta_nought = xarray_sentinel.mosaic_slc_iw(beta_nought)\n",
    "else:\n",
    "    raise ValueError(\n",
    "        f\"unsupported sar:product_type {measurement_ds.attrs['sar:product_type']}\"\n",
    "    )"
   ]
  },
  {
   "cell_type": "code",
   "execution_count": null,
   "id": "e314045c",
   "metadata": {},
   "outputs": [],
   "source": [
    "%%time\n",
    "geocoded = apps.interpolate_measurement(\n",
    "    beta_nought,\n",
    "    multilook=multilook,\n",
    "    azimuth_time=acquisition.azimuth_time,\n",
    "    interp_method=interp_method,\n",
    "    **interp_kwargs,\n",
    ")\n",
    "\n",
    "geocoded"
   ]
  },
  {
   "cell_type": "code",
   "execution_count": null,
   "id": "55740e67",
   "metadata": {},
   "outputs": [],
   "source": [
    "geocoded.rio.set_crs(dem_raster.rio.crs)\n",
    "geocoded.rio.to_raster(\n",
    "    output_urlpath,\n",
    "    dtype=np.float32,\n",
    "    tiled=True,\n",
    "    blockxsize=512,\n",
    "    blockysize=512,\n",
    "    compress=\"ZSTD\",\n",
    "    num_threads=\"ALL_CPUS\",\n",
    ")"
   ]
  },
  {
   "cell_type": "code",
   "execution_count": null,
   "id": "4884af2b",
   "metadata": {},
   "outputs": [],
   "source": [
    "_ = geocoded.plot(vmax=1.0)"
   ]
  },
  {
   "cell_type": "code",
   "execution_count": null,
   "id": "49cb9a6d",
   "metadata": {},
   "outputs": [],
   "source": []
  }
 ],
 "metadata": {
  "kernelspec": {
   "display_name": "Python 3",
   "language": "python",
   "name": "python3"
  },
  "language_info": {
   "codemirror_mode": {
    "name": "ipython",
    "version": 3
   },
   "file_extension": ".py",
   "mimetype": "text/x-python",
   "name": "python",
   "nbconvert_exporter": "python",
   "pygments_lexer": "ipython3",
   "version": "3.9.10"
  }
 },
 "nbformat": 4,
 "nbformat_minor": 5
}
