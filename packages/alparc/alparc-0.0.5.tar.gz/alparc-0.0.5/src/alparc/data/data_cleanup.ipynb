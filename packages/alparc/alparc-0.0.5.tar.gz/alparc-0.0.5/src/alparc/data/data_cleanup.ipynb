{
 "cells": [
  {
   "cell_type": "markdown",
   "metadata": {},
   "source": [
    "# Reading Corpus data as ARPAC Registers"
   ]
  },
  {
   "cell_type": "markdown",
   "metadata": {},
   "source": [
    "How you read in your corpus as a register depends on the data that the corpus provides. We prepared our data all in the same format: as `csv` tables with phonemes/syllables as index, and additional info as columns, but how you prepare this is up to you."
   ]
  },
  {
   "cell_type": "markdown",
   "metadata": {},
   "source": [
    "## Constructing Register Objects"
   ]
  },
  {
   "cell_type": "markdown",
   "metadata": {},
   "source": [
    "Let's take an example from our german corpus. For example, we have a dataset consisting of trigrams with their overall counts of occurrence in the corpus. This is what the first 5 rows of the dataset look like:"
   ]
  },
  {
   "cell_type": "code",
   "execution_count": 9,
   "metadata": {},
   "outputs": [
    {
     "data": {
      "text/html": [
       "<div>\n",
       "<style scoped>\n",
       "    .dataframe tbody tr th:only-of-type {\n",
       "        vertical-align: middle;\n",
       "    }\n",
       "\n",
       "    .dataframe tbody tr th {\n",
       "        vertical-align: top;\n",
       "    }\n",
       "\n",
       "    .dataframe thead th {\n",
       "        text-align: right;\n",
       "    }\n",
       "</style>\n",
       "<table border=\"1\" class=\"dataframe\">\n",
       "  <thead>\n",
       "    <tr style=\"text-align: right;\">\n",
       "      <th></th>\n",
       "      <th>frequency</th>\n",
       "    </tr>\n",
       "  </thead>\n",
       "  <tbody>\n",
       "    <tr>\n",
       "      <th>ʊ_n_t</th>\n",
       "      <td>9109</td>\n",
       "    </tr>\n",
       "    <tr>\n",
       "      <th>n_ɪ_ç</th>\n",
       "      <td>8478</td>\n",
       "    </tr>\n",
       "    <tr>\n",
       "      <th>d_aː_s</th>\n",
       "      <td>7432</td>\n",
       "    </tr>\n",
       "    <tr>\n",
       "      <th>d_a_n</th>\n",
       "      <td>6523</td>\n",
       "    </tr>\n",
       "    <tr>\n",
       "      <th>ɛ_n_t</th>\n",
       "      <td>5868</td>\n",
       "    </tr>\n",
       "  </tbody>\n",
       "</table>\n",
       "</div>"
      ],
      "text/plain": [
       "        frequency\n",
       "ʊ_n_t        9109\n",
       "n_ɪ_ç        8478\n",
       "d_aː_s       7432\n",
       "d_a_n        6523\n",
       "ɛ_n_t        5868"
      ]
     },
     "execution_count": 9,
     "metadata": {},
     "output_type": "execute_result"
    }
   ],
   "source": [
    "import pandas as pd\n",
    "from arpac.io import IPA_TRIGRAMS_DEFAULT_PATH\n",
    "\n",
    "pd.read_csv(IPA_TRIGRAMS_DEFAULT_PATH, index_col=0).head()"
   ]
  },
  {
   "cell_type": "markdown",
   "metadata": {},
   "source": [
    "Now we want to read it into ARPAC's internal representation, which behaves pretty much like a python dictionary. Here, we read in the table line by line and build a register that consists of `Syllable` objects."
   ]
  },
  {
   "cell_type": "code",
   "execution_count": 17,
   "metadata": {},
   "outputs": [
    {
     "name": "stdout",
     "output_type": "stream",
     "text": [
      "ʊnt|nɪç|daːs|dan|ɛnt|lɪç|lzoː|ɪçt|aːbɐ|alz|... (21266 elements total)\n"
     ]
    }
   ],
   "source": [
    "import csv\n",
    "from arpac.io import IPA_TRIGRAMS_DEFAULT_PATH\n",
    "from arpac.types.base_types import Register\n",
    "from arpac.types.elements import Phoneme, Syllable\n",
    "\n",
    "\n",
    "fdata = list(csv.reader(open(IPA_TRIGRAMS_DEFAULT_PATH, \"r\", encoding='utf-8')))[1:]\n",
    "\n",
    "trigrams = Register()\n",
    "for syllable, count in fdata:\n",
    "    syllable_id = \"\".join(syllable.split(\"_\"))\n",
    "    trigrams[syllable_id] = Syllable(\n",
    "        id=syllable_id, \n",
    "        phonemes=[Phoneme(id=phoneme, info={}) for phoneme in syllable.split(\"_\")],\n",
    "        info={\"count\": count}\n",
    "    )\n",
    "\n",
    "print(trigrams)"
   ]
  },
  {
   "cell_type": "markdown",
   "metadata": {},
   "source": [
    "## Example Data Preparation: German Corpus"
   ]
  },
  {
   "cell_type": "markdown",
   "metadata": {},
   "source": [
    "Here, we show for all our german corpora, how we turn them into csv tables of the expected format."
   ]
  },
  {
   "cell_type": "code",
   "execution_count": 44,
   "metadata": {},
   "outputs": [
    {
     "data": {
      "text/html": [
       "<div>\n",
       "<style scoped>\n",
       "    .dataframe tbody tr th:only-of-type {\n",
       "        vertical-align: middle;\n",
       "    }\n",
       "\n",
       "    .dataframe tbody tr th {\n",
       "        vertical-align: top;\n",
       "    }\n",
       "\n",
       "    .dataframe thead th {\n",
       "        text-align: right;\n",
       "    }\n",
       "</style>\n",
       "<table border=\"1\" class=\"dataframe\">\n",
       "  <thead>\n",
       "    <tr style=\"text-align: right;\">\n",
       "      <th></th>\n",
       "      <th>SegNrInWord</th>\n",
       "    </tr>\n",
       "  </thead>\n",
       "  <tbody>\n",
       "    <tr>\n",
       "      <th>&lt;P&gt;</th>\n",
       "      <td>1</td>\n",
       "    </tr>\n",
       "    <tr>\n",
       "      <th>&lt;HÄSITATION&gt;</th>\n",
       "      <td>1</td>\n",
       "    </tr>\n",
       "    <tr>\n",
       "      <th>v</th>\n",
       "      <td>1</td>\n",
       "    </tr>\n",
       "    <tr>\n",
       "      <th>aː</th>\n",
       "      <td>2</td>\n",
       "    </tr>\n",
       "    <tr>\n",
       "      <th>s</th>\n",
       "      <td>3</td>\n",
       "    </tr>\n",
       "  </tbody>\n",
       "</table>\n",
       "</div>"
      ],
      "text/plain": [
       "              SegNrInWord\n",
       "<P>                     1\n",
       "<HÄSITATION>            1\n",
       "v                       1\n",
       "aː                      2\n",
       "s                       3"
      ]
     },
     "execution_count": 44,
     "metadata": {},
     "output_type": "execute_result"
    }
   ],
   "source": [
    "import pandas as pd\n",
    "import csv\n",
    "\n",
    "df = pd.read_csv(\"german/orig/german_IPA_seg.csv\").drop(\"Unnamed: 0\", axis=1).set_index(\"Seg\").rename_axis(index=None).dropna()\n",
    "\n",
    "df.to_csv(\"german/unigrams.csv\")\n",
    "df.head()"
   ]
  },
  {
   "cell_type": "code",
   "execution_count": 33,
   "metadata": {},
   "outputs": [
    {
     "data": {
      "text/html": [
       "<div>\n",
       "<style scoped>\n",
       "    .dataframe tbody tr th:only-of-type {\n",
       "        vertical-align: middle;\n",
       "    }\n",
       "\n",
       "    .dataframe tbody tr th {\n",
       "        vertical-align: top;\n",
       "    }\n",
       "\n",
       "    .dataframe thead th {\n",
       "        text-align: right;\n",
       "    }\n",
       "</style>\n",
       "<table border=\"1\" class=\"dataframe\">\n",
       "  <thead>\n",
       "    <tr style=\"text-align: right;\">\n",
       "      <th></th>\n",
       "      <th>frequency</th>\n",
       "    </tr>\n",
       "  </thead>\n",
       "  <tbody>\n",
       "    <tr>\n",
       "      <th>ɪ_ç</th>\n",
       "      <td>32175</td>\n",
       "    </tr>\n",
       "    <tr>\n",
       "      <th>ə_n</th>\n",
       "      <td>27681</td>\n",
       "    </tr>\n",
       "    <tr>\n",
       "      <th>n_t</th>\n",
       "      <td>25515</td>\n",
       "    </tr>\n",
       "    <tr>\n",
       "      <th>t_s</th>\n",
       "      <td>19529</td>\n",
       "    </tr>\n",
       "    <tr>\n",
       "      <th>j_aː</th>\n",
       "      <td>19326</td>\n",
       "    </tr>\n",
       "  </tbody>\n",
       "</table>\n",
       "</div>"
      ],
      "text/plain": [
       "      frequency\n",
       "ɪ_ç       32175\n",
       "ə_n       27681\n",
       "n_t       25515\n",
       "t_s       19529\n",
       "j_aː      19326"
      ]
     },
     "execution_count": 33,
     "metadata": {},
     "output_type": "execute_result"
    }
   ],
   "source": [
    "import pandas as pd\n",
    "import csv\n",
    "\n",
    "df = pd.read_csv(\"german/orig/ipa_bigrams_german.csv\").drop(\"Unnamed: 0\", axis=1).set_index(\"bigram\").rename_axis(index=None)\n",
    "\n",
    "df.to_csv(\"german/bigrams.csv\")\n",
    "df.head()"
   ]
  },
  {
   "cell_type": "code",
   "execution_count": 37,
   "metadata": {},
   "outputs": [
    {
     "data": {
      "text/html": [
       "<div>\n",
       "<style scoped>\n",
       "    .dataframe tbody tr th:only-of-type {\n",
       "        vertical-align: middle;\n",
       "    }\n",
       "\n",
       "    .dataframe tbody tr th {\n",
       "        vertical-align: top;\n",
       "    }\n",
       "\n",
       "    .dataframe thead th {\n",
       "        text-align: right;\n",
       "    }\n",
       "</style>\n",
       "<table border=\"1\" class=\"dataframe\">\n",
       "  <thead>\n",
       "    <tr style=\"text-align: right;\">\n",
       "      <th></th>\n",
       "      <th>frequency</th>\n",
       "    </tr>\n",
       "  </thead>\n",
       "  <tbody>\n",
       "    <tr>\n",
       "      <th>ʊ_n_t</th>\n",
       "      <td>9109</td>\n",
       "    </tr>\n",
       "    <tr>\n",
       "      <th>n_ɪ_ç</th>\n",
       "      <td>8478</td>\n",
       "    </tr>\n",
       "    <tr>\n",
       "      <th>d_aː_s</th>\n",
       "      <td>7432</td>\n",
       "    </tr>\n",
       "    <tr>\n",
       "      <th>d_a_n</th>\n",
       "      <td>6523</td>\n",
       "    </tr>\n",
       "    <tr>\n",
       "      <th>ɛ_n_t</th>\n",
       "      <td>5868</td>\n",
       "    </tr>\n",
       "  </tbody>\n",
       "</table>\n",
       "</div>"
      ],
      "text/plain": [
       "        frequency\n",
       "ʊ_n_t        9109\n",
       "n_ɪ_ç        8478\n",
       "d_aː_s       7432\n",
       "d_a_n        6523\n",
       "ɛ_n_t        5868"
      ]
     },
     "execution_count": 37,
     "metadata": {},
     "output_type": "execute_result"
    }
   ],
   "source": [
    "import pandas as pd\n",
    "import csv\n",
    "\n",
    "df = pd.read_csv(\"german/orig/ipa_trigrams_german.csv\").set_index(\"ipa_trigram\").rename_axis(index=None)\n",
    "\n",
    "df.to_csv(\"german/trigrams.csv\")\n",
    "df.head()"
   ]
  },
  {
   "cell_type": "code",
   "execution_count": 4,
   "metadata": {},
   "outputs": [
    {
     "data": {
      "text/html": [
       "<div>\n",
       "<style scoped>\n",
       "    .dataframe tbody tr th:only-of-type {\n",
       "        vertical-align: middle;\n",
       "    }\n",
       "\n",
       "    .dataframe tbody tr th {\n",
       "        vertical-align: top;\n",
       "    }\n",
       "\n",
       "    .dataframe thead th {\n",
       "        text-align: right;\n",
       "    }\n",
       "</style>\n",
       "<table border=\"1\" class=\"dataframe\">\n",
       "  <thead>\n",
       "    <tr style=\"text-align: right;\">\n",
       "      <th></th>\n",
       "      <th>freq</th>\n",
       "      <th>prob</th>\n",
       "    </tr>\n",
       "  </thead>\n",
       "  <tbody>\n",
       "    <tr>\n",
       "      <th>jaː</th>\n",
       "      <td>19303</td>\n",
       "      <td>0.019100</td>\n",
       "    </tr>\n",
       "    <tr>\n",
       "      <th>ɪç</th>\n",
       "      <td>18267</td>\n",
       "      <td>0.018075</td>\n",
       "    </tr>\n",
       "    <tr>\n",
       "      <th>das</th>\n",
       "      <td>16420</td>\n",
       "      <td>0.016247</td>\n",
       "    </tr>\n",
       "    <tr>\n",
       "      <th>n</th>\n",
       "      <td>16191</td>\n",
       "      <td>0.016020</td>\n",
       "    </tr>\n",
       "    <tr>\n",
       "      <th>dan</th>\n",
       "      <td>11181</td>\n",
       "      <td>0.011063</td>\n",
       "    </tr>\n",
       "  </tbody>\n",
       "</table>\n",
       "</div>"
      ],
      "text/plain": [
       "      freq      prob\n",
       "jaː  19303  0.019100\n",
       "ɪç   18267  0.018075\n",
       "das  16420  0.016247\n",
       "n    16191  0.016020\n",
       "dan  11181  0.011063"
      ]
     },
     "execution_count": 4,
     "metadata": {},
     "output_type": "execute_result"
    }
   ],
   "source": [
    "from arpac.phonecodes import phonecodes\n",
    "import csv\n",
    "import pandas as pd\n",
    "\n",
    "\n",
    "syllables_corpus_path = \"german/orig/syll.txt\"\n",
    "\n",
    "with open(syllables_corpus_path, \"r\", encoding='utf-8') as csv_file:\n",
    "    fdata = list(csv.reader(csv_file, delimiter='\\t'))\n",
    "\n",
    "syllables_dict = {}\n",
    "\n",
    "for syll_stats in fdata[1:]:\n",
    "    #unfortunately, the xsampa codes don't let us know\n",
    "    syll_ipa = phonecodes.xsampa2ipa(syll_stats[1], language=\"deu\")\n",
    "    info = {\"freq\": int(syll_stats[2]), \"prob\": float(syll_stats[3])}\n",
    "    syllables_dict[syll_ipa] = info  # will overwrite if already present\n",
    "\n",
    "df = pd.DataFrame.from_dict(syllables_dict, orient=\"index\")\n",
    "\n",
    "\n",
    "df.to_csv(\"german/syllables.csv\")\n",
    "df.head()"
   ]
  },
  {
   "cell_type": "markdown",
   "metadata": {},
   "source": [
    "# Example Data Preparation: English Corpus"
   ]
  },
  {
   "cell_type": "code",
   "execution_count": 35,
   "metadata": {},
   "outputs": [
    {
     "data": {
      "text/html": [
       "<div>\n",
       "<style scoped>\n",
       "    .dataframe tbody tr th:only-of-type {\n",
       "        vertical-align: middle;\n",
       "    }\n",
       "\n",
       "    .dataframe tbody tr th {\n",
       "        vertical-align: top;\n",
       "    }\n",
       "\n",
       "    .dataframe thead th {\n",
       "        text-align: right;\n",
       "    }\n",
       "</style>\n",
       "<table border=\"1\" class=\"dataframe\">\n",
       "  <thead>\n",
       "    <tr style=\"text-align: right;\">\n",
       "      <th></th>\n",
       "      <th>freq</th>\n",
       "      <th>prob</th>\n",
       "    </tr>\n",
       "  </thead>\n",
       "  <tbody>\n",
       "    <tr>\n",
       "      <th>ɑː</th>\n",
       "      <td>1070</td>\n",
       "      <td>1.554662e-04</td>\n",
       "    </tr>\n",
       "    <tr>\n",
       "      <th>ɑːɲ</th>\n",
       "      <td>25</td>\n",
       "      <td>3.632388e-06</td>\n",
       "    </tr>\n",
       "    <tr>\n",
       "      <th>ɑːɲt</th>\n",
       "      <td>5</td>\n",
       "      <td>7.264777e-07</td>\n",
       "    </tr>\n",
       "    <tr>\n",
       "      <th>ɑːɜ˞</th>\n",
       "      <td>4688</td>\n",
       "      <td>6.811455e-04</td>\n",
       "    </tr>\n",
       "    <tr>\n",
       "      <th>ɑːʃ</th>\n",
       "      <td>0</td>\n",
       "      <td>0.000000e+00</td>\n",
       "    </tr>\n",
       "  </tbody>\n",
       "</table>\n",
       "</div>"
      ],
      "text/plain": [
       "      freq          prob\n",
       "ɑː    1070  1.554662e-04\n",
       "ɑːɲ     25  3.632388e-06\n",
       "ɑːɲt     5  7.264777e-07\n",
       "ɑːɜ˞  4688  6.811455e-04\n",
       "ɑːʃ      0  0.000000e+00"
      ]
     },
     "execution_count": 35,
     "metadata": {},
     "output_type": "execute_result"
    }
   ],
   "source": [
    "from arpac.phonecodes import phonecodes\n",
    "import pandas as pd\n",
    "\n",
    "df = pd.read_csv(\"english/orig/EFS.CD\", delimiter=\"\\\\\", names=[\"Syllable\", \"freq\"], usecols=[0, 3])\n",
    "df[\"Syllable\"] = df[\"Syllable\"].apply(lambda x: phonecodes.disc2ipa(x, L=\"eng\"))\n",
    "\n",
    "df = df.set_index(\"Syllable\").rename_axis(index=None)\n",
    "\n",
    "df[\"prob\"] = df[\"freq\"]/df.sum()[\"freq\"]\n",
    "df = df.drop_duplicates()\n",
    "\n",
    "\n",
    "df.to_csv(\"english/syllables.csv\")\n",
    "df.head()"
   ]
  },
  {
   "cell_type": "code",
   "execution_count": null,
   "metadata": {},
   "outputs": [],
   "source": []
  }
 ],
 "metadata": {
  "kernelspec": {
   "display_name": "arpac",
   "language": "python",
   "name": "python3"
  },
  "language_info": {
   "codemirror_mode": {
    "name": "ipython",
    "version": 3
   },
   "file_extension": ".py",
   "mimetype": "text/x-python",
   "name": "python",
   "nbconvert_exporter": "python",
   "pygments_lexer": "ipython3",
   "version": "3.9.21"
  }
 },
 "nbformat": 4,
 "nbformat_minor": 2
}
