{
 "cells": [
  {
   "cell_type": "markdown",
   "metadata": {},
   "source": [
    "## Bell State Preparation from Cirq"
   ]
  },
  {
   "cell_type": "code",
   "execution_count": 1,
   "metadata": {
    "execution": {
     "iopub.execute_input": "1970-01-01T00:00:00.000000Z",
     "iopub.status.busy": "1970-01-01T00:00:00.000000Z",
     "iopub.status.idle": "1970-01-01T00:00:00.000000Z",
     "shell.execute_reply": "1970-01-01T00:00:00.000000Z"
    },
    "tags": []
   },
   "outputs": [],
   "source": [
    "import cirq\n",
    "from jaqalpaq.transpilers.cirq.frontend import jaqal_circuit_from_cirq_circuit\n",
    "from jaqalpaq.generator import generate_jaqal_program"
   ]
  },
  {
   "cell_type": "code",
   "execution_count": 2,
   "metadata": {
    "execution": {
     "iopub.execute_input": "1970-01-01T00:00:00.000000Z",
     "iopub.status.busy": "1970-01-01T00:00:00.000000Z",
     "iopub.status.idle": "1970-01-01T00:00:00.000000Z",
     "shell.execute_reply": "1970-01-01T00:00:00.000000Z"
    },
    "tags": []
   },
   "outputs": [
    {
     "name": "stdout",
     "output_type": "stream",
     "text": [
      "0: ───H───@───\n",
      "          │\n",
      "1: ───────X───\n"
     ]
    }
   ],
   "source": [
    "cirq_bell = cirq.Circuit()\n",
    "qubits = [cirq.LineQubit(0), cirq.LineQubit(1)]\n",
    "cirq_bell.append(cirq.H.on(qubits[0]))\n",
    "cirq_bell.append(cirq.CNOT(*qubits))\n",
    "print(cirq_bell)"
   ]
  },
  {
   "cell_type": "code",
   "execution_count": 3,
   "metadata": {
    "execution": {
     "iopub.execute_input": "1970-01-01T00:00:00.000000Z",
     "iopub.status.busy": "1970-01-01T00:00:00.000000Z",
     "iopub.status.idle": "1970-01-01T00:00:00.000000Z",
     "shell.execute_reply": "1970-01-01T00:00:00.000000Z"
    },
    "tags": []
   },
   "outputs": [
    {
     "name": "stdout",
     "output_type": "stream",
     "text": [
      "0: ───PhX(1)───MS(0.25π)───PhX(-0.5)^0.5───S^-1───\n",
      "               │\n",
      "1: ────────────MS(0.25π)───PhX(1)^0.5─────────────\n"
     ]
    }
   ],
   "source": [
    "try:\n",
    "    cirq_ion_bell = cirq.ConvertToIonGates().convert_circuit(cirq_bell)\n",
    "except AttributeError:\n",
    "    from jaqalpaq.transpilers.cirq.frontend import QSCOUTTargetGateset\n",
    "    cirq_ion_bell = cirq.optimize_for_target_gateset(\n",
    "                cirq_bell, gateset=QSCOUTTargetGateset()\n",
    "            )\n",
    "print(cirq_ion_bell)"
   ]
  },
  {
   "cell_type": "code",
   "execution_count": 4,
   "metadata": {
    "execution": {
     "iopub.execute_input": "1970-01-01T00:00:00.000000Z",
     "iopub.status.busy": "1970-01-01T00:00:00.000000Z",
     "iopub.status.idle": "1970-01-01T00:00:00.000000Z",
     "shell.execute_reply": "1970-01-01T00:00:00.000000Z"
    },
    "tags": []
   },
   "outputs": [
    {
     "name": "stdout",
     "output_type": "stream",
     "text": [
      "register allqubits[2]\n",
      "\n",
      "prepare_all\n",
      "R allqubits[0] 3.141592653589793 3.141592653589793\n",
      "MS allqubits[0] allqubits[1] 0 1.5707963267948966\n",
      "<\n",
      "\tR allqubits[0] -1.5707963267948972 1.5707963267948966\n",
      "\tR allqubits[1] 3.141592653589793 1.5707963267948966\n",
      ">\n",
      "Rz allqubits[0] -1.5707963267948966\n",
      "measure_all\n",
      "\n"
     ]
    }
   ],
   "source": [
    "jaqal_bell = jaqal_circuit_from_cirq_circuit(cirq_ion_bell)\n",
    "print(generate_jaqal_program(jaqal_bell))"
   ]
  },
  {
   "cell_type": "markdown",
   "metadata": {},
   "source": [
    "## Bell State Preparation from Quil"
   ]
  },
  {
   "cell_type": "code",
   "execution_count": 5,
   "metadata": {
    "execution": {
     "iopub.execute_input": "1970-01-01T00:00:00.000000Z",
     "iopub.status.busy": "1970-01-01T00:00:00.000000Z",
     "iopub.status.idle": "1970-01-01T00:00:00.000000Z",
     "shell.execute_reply": "1970-01-01T00:00:00.000000Z"
    },
    "tags": []
   },
   "outputs": [],
   "source": [
    "import pyquil\n",
    "from pyquil.gates import *\n",
    "from numpy import pi\n",
    "from jaqalpaq.transpilers.quil import get_ion_qc, quil_gates"
   ]
  },
  {
   "cell_type": "code",
   "execution_count": 6,
   "metadata": {
    "execution": {
     "iopub.execute_input": "1970-01-01T00:00:00.000000Z",
     "iopub.status.busy": "1970-01-01T00:00:00.000000Z",
     "iopub.status.idle": "1970-01-01T00:00:00.000000Z",
     "shell.execute_reply": "1970-01-01T00:00:00.000000Z"
    },
    "tags": []
   },
   "outputs": [
    {
     "name": "stdout",
     "output_type": "stream",
     "text": [
      "X 0\n",
      "MS(0,pi/2) 0 1\n",
      "R(-pi/2,pi/2) 0\n",
      "R(pi,pi/2) 1\n",
      "RZ(-pi/2) 0\n",
      "\n"
     ]
    }
   ],
   "source": [
    "qg = quil_gates()\n",
    "MS = qg[\"MS\"]\n",
    "R = qg[\"R\"]\n",
    "quil_bell = pyquil.Program()\n",
    "quil_bell += X(0)\n",
    "quil_bell += MS(0, pi/2, 0, 1)\n",
    "quil_bell += R(-pi/2, pi/2, 0)\n",
    "quil_bell += R(pi, pi/2, 1)\n",
    "quil_bell += RZ(-pi/2, 0)\n",
    "print(quil_bell)"
   ]
  },
  {
   "cell_type": "code",
   "execution_count": 7,
   "metadata": {
    "execution": {
     "iopub.execute_input": "1970-01-01T00:00:00.000000Z",
     "iopub.status.busy": "1970-01-01T00:00:00.000000Z",
     "iopub.status.idle": "1970-01-01T00:00:00.000000Z",
     "shell.execute_reply": "1970-01-01T00:00:00.000000Z"
    },
    "tags": []
   },
   "outputs": [
    {
     "name": "stdout",
     "output_type": "stream",
     "text": [
      "register qreg[2]\n",
      "\n",
      "{\n",
      "\tprepare_all\n",
      "\tPx qreg[0]\n",
      "\tMS qreg[0] qreg[1] 0.0 1.5707963267948966\n",
      "\tR qreg[0] -1.5707963267948966 1.5707963267948966\n",
      "\tR qreg[1] 3.141592653589793 1.5707963267948966\n",
      "\tRz qreg[0] -1.5707963267948966\n",
      "\tmeasure_all\n",
      "}\n",
      "\n"
     ]
    }
   ],
   "source": [
    "quil_qc = get_ion_qc(2)\n",
    "jaqal_bell = quil_qc.compile(quil_bell)\n",
    "print(generate_jaqal_program(jaqal_bell))"
   ]
  },
  {
   "cell_type": "markdown",
   "metadata": {},
   "source": [
    "## Bell State Preparation from ProjectQ"
   ]
  },
  {
   "cell_type": "code",
   "execution_count": 8,
   "metadata": {
    "execution": {
     "iopub.execute_input": "1970-01-01T00:00:00.000000Z",
     "iopub.status.busy": "1970-01-01T00:00:00.000000Z",
     "iopub.status.idle": "1970-01-01T00:00:00.000000Z",
     "shell.execute_reply": "1970-01-01T00:00:00.000000Z"
    },
    "tags": []
   },
   "outputs": [],
   "source": [
    "import projectq\n",
    "from projectq.cengines import MainEngine, DummyEngine\n",
    "from projectq.ops import H, CNOT, Measure, All\n",
    "from jaqalpaq.transpilers.projectq import get_engine_list, JaqalBackend"
   ]
  },
  {
   "cell_type": "code",
   "execution_count": 9,
   "metadata": {
    "execution": {
     "iopub.execute_input": "1970-01-01T00:00:00.000000Z",
     "iopub.status.busy": "1970-01-01T00:00:00.000000Z",
     "iopub.status.idle": "1970-01-01T00:00:00.000000Z",
     "shell.execute_reply": "1970-01-01T00:00:00.000000Z"
    },
    "tags": []
   },
   "outputs": [
    {
     "name": "stdout",
     "output_type": "stream",
     "text": [
      "register q[2]\n",
      "\n",
      "{\n",
      "\tprepare_all\n",
      "\tR q[0] 0 3.14159265359\n",
      "\tR q[0] 1.5707963267948966 3.141592653589413\n",
      "\tR q[0] 0 4.712388980384414\n",
      "\tR q[1] 0 1.570796326795\n",
      "\tMS q[0] q[1] 0 1.570796326795\n",
      "\tR q[0] 1.5707963267948966 1.570796326795\n",
      "\tmeasure_all\n",
      "}\n",
      "\n"
     ]
    }
   ],
   "source": [
    "backend = JaqalBackend()\n",
    "engine_list = get_engine_list()\n",
    "engine = MainEngine(backend, engine_list, verbose=True)\n",
    "q1 = engine.allocate_qubit()\n",
    "q2 = engine.allocate_qubit()\n",
    "H | q1\n",
    "CNOT | (q1, q2)\n",
    "All(Measure) | [q1, q2]\n",
    "engine.flush()\n",
    "print(generate_jaqal_program(backend.circuit))"
   ]
  },
  {
   "cell_type": "markdown",
   "metadata": {},
   "source": [
    "## The Automated Scheduler"
   ]
  },
  {
   "cell_type": "code",
   "execution_count": 10,
   "metadata": {
    "execution": {
     "iopub.execute_input": "1970-01-01T00:00:00.000000Z",
     "iopub.status.busy": "1970-01-01T00:00:00.000000Z",
     "iopub.status.idle": "1970-01-01T00:00:00.000000Z",
     "shell.execute_reply": "1970-01-01T00:00:00.000000Z"
    },
    "tags": []
   },
   "outputs": [],
   "source": [
    "from jaqalpaq.scheduler import schedule_circuit"
   ]
  },
  {
   "cell_type": "code",
   "execution_count": 11,
   "metadata": {
    "execution": {
     "iopub.execute_input": "1970-01-01T00:00:00.000000Z",
     "iopub.status.busy": "1970-01-01T00:00:00.000000Z",
     "iopub.status.idle": "1970-01-01T00:00:00.000000Z",
     "shell.execute_reply": "1970-01-01T00:00:00.000000Z"
    },
    "scrolled": true,
    "tags": []
   },
   "outputs": [
    {
     "name": "stdout",
     "output_type": "stream",
     "text": [
      "register q[2]\n",
      "\n",
      "{\n",
      "\tprepare_all\n",
      "\t<\n",
      "\t\tR q[0] 0 3.14159265359\n",
      "\t\tR q[1] 0 1.570796326795\n",
      "\t>\n",
      "\tR q[0] 1.5707963267948966 3.141592653589413\n",
      "\tR q[0] 0 4.712388980384414\n",
      "\tMS q[0] q[1] 0 1.570796326795\n",
      "\tR q[0] 1.5707963267948966 1.570796326795\n",
      "\tmeasure_all\n",
      "}\n",
      "\n"
     ]
    }
   ],
   "source": [
    "scheduled_circuit = schedule_circuit(backend.circuit)\n",
    "print(generate_jaqal_program(scheduled_circuit))"
   ]
  },
  {
   "cell_type": "markdown",
   "metadata": {},
   "source": [
    "## Detailed Example: VQE Transpilation from Qiskit"
   ]
  },
  {
   "cell_type": "markdown",
   "metadata": {},
   "source": [
    "### Constructing the VQE Circuit in Qiskit"
   ]
  },
  {
   "cell_type": "code",
   "execution_count": 12,
   "metadata": {
    "execution": {
     "iopub.execute_input": "1970-01-01T00:00:00.000000Z",
     "iopub.status.busy": "1970-01-01T00:00:00.000000Z",
     "iopub.status.idle": "1970-01-01T00:00:00.000000Z",
     "shell.execute_reply": "1970-01-01T00:00:00.000000Z"
    },
    "tags": []
   },
   "outputs": [],
   "source": [
    "import qiskit\n",
    "from qiskit_nature.drivers import UnitsType, Molecule\n",
    "from qiskit_nature.drivers.second_quantization import (\n",
    "    ElectronicStructureDriverType,\n",
    "    ElectronicStructureMoleculeDriver,\n",
    ")\n",
    "from qiskit_nature.problems.second_quantization import ElectronicStructureProblem\n",
    "from qiskit_nature.converters.second_quantization import QubitConverter\n",
    "from qiskit_nature.mappers.second_quantization import ParityMapper\n",
    "from qiskit_nature.circuit.library.ansatzes import UCCSD\n",
    "from qiskit_nature.circuit.library.initial_states import HartreeFock\n",
    "\n",
    "from qiskit.transpiler import PassManager\n",
    "\n",
    "from jaqalpaq.transpilers.qiskit import jaqal_circuit_from_qiskit_circuit, ion_pass_manager, get_ion_instance\n",
    "from jaqalpaq.run import run_jaqal_circuit"
   ]
  },
  {
   "cell_type": "code",
   "execution_count": 13,
   "metadata": {
    "execution": {
     "iopub.execute_input": "1970-01-01T00:00:00.000000Z",
     "iopub.status.busy": "1970-01-01T00:00:00.000000Z",
     "iopub.status.idle": "1970-01-01T00:00:00.000000Z",
     "shell.execute_reply": "1970-01-01T00:00:00.000000Z"
    },
    "tags": []
   },
   "outputs": [
    {
     "name": "stdout",
     "output_type": "stream",
     "text": [
      "     ┌───┐┌───────────────────────────────────┐»\n",
      "q_0: ┤ X ├┤0                                  ├»\n",
      "     └───┘│  exp(-it IY)(4.88181757698641e-5) │»\n",
      "q_1: ─────┤1                                  ├»\n",
      "          └───────────────────────────────────┘»\n",
      "«     ┌────────────────────────────────────┐»\n",
      "«q_0: ┤0                                   ├»\n",
      "«     │  exp(-it YI)(-1.51803127714302e-5) │»\n",
      "«q_1: ┤1                                   ├»\n",
      "«     └────────────────────────────────────┘»\n",
      "«     ┌──────────────────────────────────────────┐\n",
      "«q_0: ┤0                                         ├\n",
      "«     │  exp(-it (XY + YX))(-0.0760504796042852) │\n",
      "«q_1: ┤1                                         ├\n",
      "«     └──────────────────────────────────────────┘\n"
     ]
    }
   ],
   "source": [
    "molecule = Molecule(\n",
    "    geometry=[[\"H\", [0.0, 0.0, 0.0]], [\"H\", [0.735, 0.0, 0.0]]], charge=0, multiplicity=1\n",
    ")\n",
    "driver = ElectronicStructureMoleculeDriver(\n",
    "    molecule, basis=\"sto6g\", driver_type=ElectronicStructureDriverType.PYSCF\n",
    ")\n",
    "\n",
    "es_problem = ElectronicStructureProblem(driver)\n",
    "second_q_op = es_problem.second_q_ops()\n",
    "\n",
    "qubit_converter = QubitConverter(mapper=ParityMapper(), two_qubit_reduction=True)\n",
    "qubit_op = qubit_converter.convert(second_q_op[0], num_particles=es_problem.num_particles)\n",
    "\n",
    "num_spin_orbitals = 4\n",
    "initial_state = HartreeFock(num_spin_orbitals, es_problem.num_particles, qubit_converter)\n",
    "uccsd = UCCSD()\n",
    "uccsd.qubit_converter = qubit_converter\n",
    "uccsd.num_particles = es_problem.num_particles\n",
    "uccsd.initial_state = initial_state\n",
    "uccsd.num_spin_orbitals = num_spin_orbitals\n",
    "\n",
    "params = (4.881817576986406e-05, -1.5180312771430236e-05, -0.07605047960428524)\n",
    "superconducting_circuit = uccsd.assign_parameters(dict(zip(uccsd.parameters, params))).decompose()\n",
    "print(superconducting_circuit)"
   ]
  },
  {
   "cell_type": "markdown",
   "metadata": {},
   "source": [
    "### Unrolling to Ion Gates"
   ]
  },
  {
   "cell_type": "code",
   "execution_count": 14,
   "metadata": {
    "execution": {
     "iopub.execute_input": "1970-01-01T00:00:00.000000Z",
     "iopub.status.busy": "1970-01-01T00:00:00.000000Z",
     "iopub.status.idle": "1970-01-01T00:00:00.000000Z",
     "shell.execute_reply": "1970-01-01T00:00:00.000000Z"
    },
    "tags": []
   },
   "outputs": [
    {
     "name": "stdout",
     "output_type": "stream",
     "text": [
      "                    ┌───┐               ┌─────────────────────────────────┐»\n",
      "q_0: ───────────────┤ X ├───────────────┤ Jaqalr(π/2,9.76363515397281e-5) ├»\n",
      "     ┌──────────────┴───┴──────────────┐└──────────────┬───┬──────────────┘»\n",
      "q_1: ┤ Jaqalr(π/2,3.03606255428605e-5) ├───────────────┤ Z ├───────────────»\n",
      "     └─────────────────────────────────┘               └───┘               »\n",
      "«     ┌─────┐┌───┐ ┌────┐┌─────────────────┐┌──────┐┌─────────────────────────┐»\n",
      "«q_0: ┤ Sdg ├┤ Z ├─┤ Sy ├┤1                ├┤ √Xdg ├┤ Rz(-0.0760504796042852) ├»\n",
      "«     └┬────┤├───┴┐└────┘│  Jaqalms(0,π/2) │├──────┤└─────────┬──────┬────────┘»\n",
      "«q_1: ─┤ Sy ├┤ Sy ├──────┤0                ├┤ √Xdg ├──────────┤ Sydg ├─────────»\n",
      "«      └────┘└────┘      └─────────────────┘└──────┘          └──────┘         »\n",
      "«           ┌─────────────────┐┌──────┐ ┌───┐  ┌────┐┌───┐  ┌───┐ ┌────┐      »\n",
      "«q_0: ──────┤1                ├┤ √Xdg ├─┤ Z ├──┤ Sy ├┤ S ├──┤ Z ├─┤ Sy ├──────»\n",
      "«     ┌────┐│  Jaqalms(0,π/2) │├──────┤┌┴───┴─┐├───┬┘├───┴┐┌┴───┴┐├───┬┘┌────┐»\n",
      "«q_1: ┤ Sy ├┤0                ├┤ √Xdg ├┤ Sydg ├┤ Z ├─┤ Sy ├┤ Sdg ├┤ Z ├─┤ Sy ├»\n",
      "«     └────┘└─────────────────┘└──────┘└──────┘└───┘ └────┘└─────┘└───┘ └────┘»\n",
      "«           ┌─────────────────┐┌──────┐┌────────────────────────┐      »\n",
      "«q_0: ──────┤1                ├┤ √Xdg ├┤ Rz(0.0760504796042852) ├──────»\n",
      "«     ┌────┐│  Jaqalms(0,π/2) │├──────┤└────────┬──────┬────────┘┌────┐»\n",
      "«q_1: ┤ Sy ├┤0                ├┤ √Xdg ├─────────┤ Sydg ├─────────┤ Sy ├»\n",
      "«     └────┘└─────────────────┘└──────┘         └──────┘         └────┘»\n",
      "«     ┌─────────────────┐┌──────┐ ┌───┐  ┌────┐           \n",
      "«q_0: ┤1                ├┤ √Xdg ├─┤ Z ├──┤ Sy ├───────────\n",
      "«     │  Jaqalms(0,π/2) │├──────┤┌┴───┴─┐├───┬┘┌────┐┌───┐\n",
      "«q_1: ┤0                ├┤ √Xdg ├┤ Sydg ├┤ Z ├─┤ Sy ├┤ S ├\n",
      "«     └─────────────────┘└──────┘└──────┘└───┘ └────┘└───┘\n"
     ]
    }
   ],
   "source": [
    "ion_circuit = ion_pass_manager().run(superconducting_circuit)\n",
    "print(ion_circuit)"
   ]
  },
  {
   "cell_type": "markdown",
   "metadata": {},
   "source": [
    "### Transpiling to Jaqal"
   ]
  },
  {
   "cell_type": "code",
   "execution_count": 15,
   "metadata": {
    "execution": {
     "iopub.execute_input": "1970-01-01T00:00:00.000000Z",
     "iopub.status.busy": "1970-01-01T00:00:00.000000Z",
     "iopub.status.idle": "1970-01-01T00:00:00.000000Z",
     "shell.execute_reply": "1970-01-01T00:00:00.000000Z"
    },
    "tags": []
   },
   "outputs": [
    {
     "name": "stdout",
     "output_type": "stream",
     "text": [
      "register baseregister[2]\n",
      "\n",
      "map q baseregister[0:2:1]\n",
      "\n",
      "{\n",
      "\tprepare_all\n",
      "\tPx q[0]\n",
      "\tR q[0] 1.5707963267948966 9.76363515397281e-05\n",
      "\tSzd q[0]\n",
      "\tPz q[0]\n",
      "\tSy q[0]\n",
      "\tR q[1] 1.5707963267948966 3.0360625542860465e-05\n",
      "\tPz q[1]\n",
      "\tSy q[1]\n",
      "\tSy q[1]\n",
      "\tMS q[1] q[0] 0.0 1.5707963267948966\n",
      "\tSxd q[0]\n",
      "\tRz q[0] -0.07605047960428522\n",
      "\tSxd q[1]\n",
      "\tSyd q[1]\n",
      "\tSy q[1]\n",
      "\tMS q[1] q[0] 0.0 1.5707963267948966\n",
      "\tSxd q[0]\n",
      "\tPz q[0]\n",
      "\tSy q[0]\n",
      "\tSz q[0]\n",
      "\tPz q[0]\n",
      "\tSy q[0]\n",
      "\tSxd q[1]\n",
      "\tSyd q[1]\n",
      "\tPz q[1]\n",
      "\tSy q[1]\n",
      "\tSzd q[1]\n",
      "\tPz q[1]\n",
      "\tSy q[1]\n",
      "\tSy q[1]\n",
      "\tMS q[1] q[0] 0.0 1.5707963267948966\n",
      "\tSxd q[0]\n",
      "\tRz q[0] 0.07605047960428522\n",
      "\tSxd q[1]\n",
      "\tSyd q[1]\n",
      "\tSy q[1]\n",
      "\tMS q[1] q[0] 0.0 1.5707963267948966\n",
      "\tSxd q[0]\n",
      "\tPz q[0]\n",
      "\tSy q[0]\n",
      "\tSxd q[1]\n",
      "\tSyd q[1]\n",
      "\tPz q[1]\n",
      "\tSy q[1]\n",
      "\tSz q[1]\n",
      "\tmeasure_all\n",
      "}\n",
      "\n"
     ]
    }
   ],
   "source": [
    "jaqal_circuit = jaqal_circuit_from_qiskit_circuit(ion_circuit)\n",
    "print(generate_jaqal_program(jaqal_circuit))"
   ]
  },
  {
   "cell_type": "markdown",
   "metadata": {},
   "source": [
    "### Scheduling and Emulation"
   ]
  },
  {
   "cell_type": "code",
   "execution_count": 16,
   "metadata": {
    "execution": {
     "iopub.execute_input": "1970-01-01T00:00:00.000000Z",
     "iopub.status.busy": "1970-01-01T00:00:00.000000Z",
     "iopub.status.idle": "1970-01-01T00:00:00.000000Z",
     "shell.execute_reply": "1970-01-01T00:00:00.000000Z"
    },
    "tags": []
   },
   "outputs": [
    {
     "name": "stdout",
     "output_type": "stream",
     "text": [
      "register baseregister[2]\n",
      "\n",
      "map q baseregister[0:2:1]\n",
      "\n",
      "{\n",
      "\tprepare_all\n",
      "\t<\n",
      "\t\tPx q[0]\n",
      "\t\tR q[1] 1.5707963267948966 3.0360625542860465e-05\n",
      "\t>\n",
      "\t<\n",
      "\t\tR q[0] 1.5707963267948966 9.76363515397281e-05\n",
      "\t\tPz q[1]\n",
      "\t>\n",
      "\t<\n",
      "\t\tSzd q[0]\n",
      "\t\tSy q[1]\n",
      "\t>\n",
      "\t<\n",
      "\t\tPz q[0]\n",
      "\t\tSy q[1]\n",
      "\t>\n",
      "\tSy q[0]\n",
      "\tMS q[1] q[0] 0.0 1.5707963267948966\n",
      "\t<\n",
      "\t\tSxd q[0]\n",
      "\t\tSxd q[1]\n",
      "\t>\n",
      "\t<\n",
      "\t\tRz q[0] -0.07605047960428522\n",
      "\t\tSyd q[1]\n",
      "\t>\n",
      "\tSy q[1]\n",
      "\tMS q[1] q[0] 0.0 1.5707963267948966\n",
      "\t<\n",
      "\t\tSxd q[0]\n",
      "\t\tSxd q[1]\n",
      "\t>\n",
      "\t<\n",
      "\t\tPz q[0]\n",
      "\t\tSyd q[1]\n",
      "\t>\n",
      "\t<\n",
      "\t\tSy q[0]\n",
      "\t\tPz q[1]\n",
      "\t>\n",
      "\t<\n",
      "\t\tSz q[0]\n",
      "\t\tSy q[1]\n",
      "\t>\n",
      "\t<\n",
      "\t\tPz q[0]\n",
      "\t\tSzd q[1]\n",
      "\t>\n",
      "\t<\n",
      "\t\tSy q[0]\n",
      "\t\tPz q[1]\n",
      "\t>\n",
      "\tSy q[1]\n",
      "\tSy q[1]\n",
      "\tMS q[1] q[0] 0.0 1.5707963267948966\n",
      "\t<\n",
      "\t\tSxd q[0]\n",
      "\t\tSxd q[1]\n",
      "\t>\n",
      "\t<\n",
      "\t\tRz q[0] 0.07605047960428522\n",
      "\t\tSyd q[1]\n",
      "\t>\n",
      "\tSy q[1]\n",
      "\tMS q[1] q[0] 0.0 1.5707963267948966\n",
      "\t<\n",
      "\t\tSxd q[0]\n",
      "\t\tSxd q[1]\n",
      "\t>\n",
      "\t<\n",
      "\t\tPz q[0]\n",
      "\t\tSyd q[1]\n",
      "\t>\n",
      "\t<\n",
      "\t\tSy q[0]\n",
      "\t\tPz q[1]\n",
      "\t>\n",
      "\tSy q[1]\n",
      "\tSz q[1]\n",
      "\tmeasure_all\n",
      "}\n",
      "\n"
     ]
    }
   ],
   "source": [
    "scheduled_jaqal_circuit = schedule_circuit(jaqal_circuit)\n",
    "print(generate_jaqal_program(scheduled_jaqal_circuit))"
   ]
  },
  {
   "cell_type": "code",
   "execution_count": 17,
   "metadata": {
    "execution": {
     "iopub.execute_input": "1970-01-01T00:00:00.000000Z",
     "iopub.status.busy": "1970-01-01T00:00:00.000000Z",
     "iopub.status.idle": "1970-01-01T00:00:00.000000Z",
     "shell.execute_reply": "1970-01-01T00:00:00.000000Z"
    },
    "tags": []
   },
   "outputs": [
    {
     "data": {
      "text/plain": [
       "OrderedDict([('00', 2.383214283044736e-09),\n",
       "             ('10', 0.9942274637711583),\n",
       "             ('01', 0.005772533615185433),\n",
       "             ('11', 2.3044189527351244e-10)])"
      ]
     },
     "execution_count": 17,
     "metadata": {},
     "output_type": "execute_result"
    }
   ],
   "source": [
    "run_jaqal_circuit(scheduled_jaqal_circuit).subcircuits[0].probability_by_str"
   ]
  },
  {
   "cell_type": "markdown",
   "metadata": {},
   "source": [
    "## Optimizing Circuits for Ion Hardware with t|ket>"
   ]
  },
  {
   "cell_type": "code",
   "execution_count": 18,
   "metadata": {
    "execution": {
     "iopub.execute_input": "1970-01-01T00:00:00.000000Z",
     "iopub.status.busy": "1970-01-01T00:00:00.000000Z",
     "iopub.status.idle": "1970-01-01T00:00:00.000000Z",
     "shell.execute_reply": "1970-01-01T00:00:00.000000Z"
    },
    "tags": []
   },
   "outputs": [],
   "source": [
    "from jaqalpaq.transpilers.tket import jaqal_circuit_from_tket_circuit\n",
    "from pytket.predicates import CompilationUnit\n",
    "from pytket.extensions.qiskit import qiskit_to_tk\n",
    "from pytket.passes import SynthesiseUMD, DecomposeBoxes"
   ]
  },
  {
   "cell_type": "code",
   "execution_count": 19,
   "metadata": {
    "execution": {
     "iopub.execute_input": "1970-01-01T00:00:00.000000Z",
     "iopub.status.busy": "1970-01-01T00:00:00.000000Z",
     "iopub.status.idle": "1970-01-01T00:00:00.000000Z",
     "shell.execute_reply": "1970-01-01T00:00:00.000000Z"
    },
    "tags": []
   },
   "outputs": [
    {
     "data": {
      "text/plain": [
       "[X q[0]; CircBox q[0], q[1]; CircBox q[0], q[1]; CircBox q[0], q[1]; ]"
      ]
     },
     "execution_count": 19,
     "metadata": {},
     "output_type": "execute_result"
    }
   ],
   "source": [
    "tket_circuit = qiskit_to_tk(superconducting_circuit)\n",
    "tket_circuit"
   ]
  },
  {
   "cell_type": "code",
   "execution_count": 20,
   "metadata": {
    "execution": {
     "iopub.execute_input": "1970-01-01T00:00:00.000000Z",
     "iopub.status.busy": "1970-01-01T00:00:00.000000Z",
     "iopub.status.idle": "1970-01-01T00:00:00.000000Z",
     "shell.execute_reply": "1970-01-01T00:00:00.000000Z"
    }
   },
   "outputs": [
    {
     "name": "stdout",
     "output_type": "stream",
     "text": [
      "register baseregister[2]\n",
      "\n",
      "map q baseregister[0:2:1]\n",
      "\n",
      "{\n",
      "\tprepare_all\n",
      "\tRz q[0] 10.995574287564276\n",
      "\tRz q[1] 4.71238898038469\n",
      "\tR q[0] 1.5707963267948966 1.5707963267948966\n",
      "\tMS q[1] q[0] 0 1.5707963267948966\n",
      "\tRz q[0] 1.5707963267948966\n",
      "\tR q[1] 0.0 4.71238898038469\n",
      "\tR q[0] 3.141592653589793 7.853981633974483\n",
      "\tMS q[1] q[0] 0 1.5707963267948966\n",
      "\tRz q[0] 9.42477796076938\n",
      "\tR q[1] 1.5707963267948966 1.5707963267948966\n",
      "\tR q[0] 1.5707963267948966 1.5707963267948966\n",
      "\tMS q[1] q[0] 0 1.5707963267948966\n",
      "\tR q[0] 0.7853981633974483 3.141592653589793\n",
      "\tR q[1] 0.0 4.71238898038469\n",
      "\tMS q[1] q[0] 0 1.5707963267948966\n",
      "\tmeasure_all\n",
      "}\n",
      "\n"
     ]
    }
   ],
   "source": [
    "unit = CompilationUnit(tket_circuit)\n",
    "DecomposeBoxes().apply(unit)\n",
    "SynthesiseUMD().apply(unit)\n",
    "tket_jaqal_circuit = jaqal_circuit_from_tket_circuit(unit.circuit)\n",
    "print(generate_jaqal_program(tket_jaqal_circuit))"
   ]
  },
  {
   "cell_type": "code",
   "execution_count": 21,
   "metadata": {
    "execution": {
     "iopub.execute_input": "1970-01-01T00:00:00.000000Z",
     "iopub.status.busy": "1970-01-01T00:00:00.000000Z",
     "iopub.status.idle": "1970-01-01T00:00:00.000000Z",
     "shell.execute_reply": "1970-01-01T00:00:00.000000Z"
    }
   },
   "outputs": [
    {
     "name": "stdout",
     "output_type": "stream",
     "text": [
      "register baseregister[2]\n",
      "\n",
      "map q baseregister[0:2:1]\n",
      "\n",
      "{\n",
      "\tprepare_all\n",
      "\t<\n",
      "\t\tRz q[0] 10.995574287564276\n",
      "\t\tRz q[1] 4.71238898038469\n",
      "\t>\n",
      "\tR q[0] 1.5707963267948966 1.5707963267948966\n",
      "\tMS q[1] q[0] 0 1.5707963267948966\n",
      "\t<\n",
      "\t\tRz q[0] 1.5707963267948966\n",
      "\t\tR q[1] 0.0 4.71238898038469\n",
      "\t>\n",
      "\tR q[0] 3.141592653589793 7.853981633974483\n",
      "\tMS q[1] q[0] 0 1.5707963267948966\n",
      "\t<\n",
      "\t\tRz q[0] 9.42477796076938\n",
      "\t\tR q[1] 1.5707963267948966 1.5707963267948966\n",
      "\t>\n",
      "\tR q[0] 1.5707963267948966 1.5707963267948966\n",
      "\tMS q[1] q[0] 0 1.5707963267948966\n",
      "\t<\n",
      "\t\tR q[0] 0.7853981633974483 3.141592653589793\n",
      "\t\tR q[1] 0.0 4.71238898038469\n",
      "\t>\n",
      "\tMS q[1] q[0] 0 1.5707963267948966\n",
      "\tmeasure_all\n",
      "}\n",
      "\n"
     ]
    }
   ],
   "source": [
    "optimized_jaqal_circuit = schedule_circuit(tket_jaqal_circuit)\n",
    "print(generate_jaqal_program(optimized_jaqal_circuit))"
   ]
  },
  {
   "cell_type": "code",
   "execution_count": 22,
   "metadata": {
    "execution": {
     "iopub.execute_input": "1970-01-01T00:00:00.000000Z",
     "iopub.status.busy": "1970-01-01T00:00:00.000000Z",
     "iopub.status.idle": "1970-01-01T00:00:00.000000Z",
     "shell.execute_reply": "1970-01-01T00:00:00.000000Z"
    }
   },
   "outputs": [
    {
     "data": {
      "text/plain": [
       "OrderedDict([('00', 7.703719777548946e-33),\n",
       "             ('10', 1.0),\n",
       "             ('01', 2.0029671421627253e-31),\n",
       "             ('11', 1.248002603962929e-31)])"
      ]
     },
     "execution_count": 22,
     "metadata": {},
     "output_type": "execute_result"
    }
   ],
   "source": [
    "run_jaqal_circuit(optimized_jaqal_circuit).subcircuits[0].probability_by_str"
   ]
  },
  {
   "cell_type": "code",
   "execution_count": null,
   "metadata": {},
   "outputs": [],
   "source": []
  }
 ],
 "metadata": {
  "kernelspec": {
   "display_name": "Python 3 (ipykernel)",
   "language": "python",
   "name": "python3"
  },
  "language_info": {
   "codemirror_mode": {
    "name": "ipython",
    "version": 3
   },
   "file_extension": ".py",
   "mimetype": "text/x-python",
   "name": "python",
   "nbconvert_exporter": "python",
   "pygments_lexer": "ipython3",
   "version": "3.8.0"
  }
 },
 "nbformat": 4,
 "nbformat_minor": 4
}
