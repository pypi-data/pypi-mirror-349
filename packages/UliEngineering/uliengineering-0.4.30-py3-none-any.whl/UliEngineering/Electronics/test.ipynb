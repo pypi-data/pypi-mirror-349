{
 "cells": [
  {
   "cell_type": "code",
   "execution_count": 2,
   "id": "079e685e",
   "metadata": {},
   "outputs": [],
   "source": [
    "from UliEngineering.Electronics.Capacitors import *"
   ]
  },
  {
   "cell_type": "code",
   "execution_count": 11,
   "id": "1209ad9c",
   "metadata": {},
   "outputs": [
    {
     "data": {
      "text/plain": [
       "'56.0 V'"
      ]
     },
     "execution_count": 11,
     "metadata": {},
     "output_type": "execute_result"
    }
   ],
   "source": [
    "from UliEngineering.EngineerIO import format_value\n",
    "\n",
    "format_value(capacitor_voltage_by_energy(64*4700e-6, \"125J\", \"48V\"), \"V\")"
   ]
  },
  {
   "cell_type": "code",
   "execution_count": 3,
   "id": "9f212aa4",
   "metadata": {},
   "outputs": [
    {
     "data": {
      "text/plain": [
       "'96.9 V'"
      ]
     },
     "execution_count": 3,
     "metadata": {},
     "output_type": "execute_result"
    }
   ],
   "source": [
    "format_value(capacitor_voltage_by_energy(\"70500uF\", \"250J\", \"48V\"), \"V\")"
   ]
  },
  {
   "cell_type": "code",
   "execution_count": null,
   "id": "8a9f991a",
   "metadata": {},
   "outputs": [],
   "source": []
  }
 ],
 "metadata": {
  "kernelspec": {
   "display_name": "Python 3",
   "language": "python",
   "name": "python3"
  },
  "language_info": {
   "codemirror_mode": {
    "name": "ipython",
    "version": 3
   },
   "file_extension": ".py",
   "mimetype": "text/x-python",
   "name": "python",
   "nbconvert_exporter": "python",
   "pygments_lexer": "ipython3",
   "version": "3.12.3"
  }
 },
 "nbformat": 4,
 "nbformat_minor": 5
}
