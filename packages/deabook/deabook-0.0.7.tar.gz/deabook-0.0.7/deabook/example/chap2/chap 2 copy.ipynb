{
 "cells": [
  {
   "cell_type": "code",
   "execution_count": 65,
   "metadata": {},
   "outputs": [
    {
     "name": "stdout",
     "output_type": "stream",
     "text": [
      "Estimated parameters:  r1:        message: Optimization terminated successfully.\n",
      "       success: True\n",
      "        status: 0\n",
      "           fun: 3.228618872383598\n",
      "             x: [-9.000e-01  9.000e-01]\n",
      "           nit: 10\n",
      "          nfev: 39\n",
      " final_simplex: (array([[-9.000e-01,  9.000e-01],\n",
      "                       [-9.001e-01,  9.000e-01],\n",
      "                       [-9.000e-01,  9.001e-01]]), array([ 3.229e+00,  3.229e+00,  3.229e+00]))\n"
     ]
    }
   ],
   "source": [
    "import numpy as np\n",
    "from scipy.optimize import minimize\n",
    "\n",
    "def u_minus(x, r1):\n",
    "    return np.where(x < r1, x, 0)\n",
    "\n",
    "def u_plus(x, r2):\n",
    "    return np.where(x > r2, x, 0)\n",
    "\n",
    "def W(X, Z, r1, r2):\n",
    "    return np.column_stack((u_minus(X, r1), u_plus(X, r2), Z))\n",
    "\n",
    "def objective(params, Y, X, Z):\n",
    "    r1, r2  = params\n",
    "    \n",
    "    Y_bar = np.mean(Y)\n",
    "    W_bar = np.mean(W(X, Z, r1, r2), axis=0)\n",
    "    # print(Z)\n",
    "    # print(\"1\",W(X, Z, r1, r2))\n",
    "    # print(\"2\",W_bar)\n",
    "    Y_dot = Y - Y_bar\n",
    "    W_dot = W(X, Z, r1, r2) - W_bar\n",
    "    # print(\"3\",W_dot)\n",
    "    eta = np.linalg.inv(W_dot.T @ W_dot) @ W_dot.T @ Y_dot\n",
    "    # print(\"4\",np.sum((Y_dot - W_dot @ eta)**2))\n",
    "    return np.sum((Y_dot - W_dot @ eta)**2)\n",
    "\n",
    "\n",
    "\n",
    "\n",
    "\n",
    "# example usage\n",
    "X = np.random.normal(size=10)\n",
    "Z = np.random.normal(size=(10, 3))\n",
    "Y = 2*u_minus(X, -1) + 3*u_plus(X, 1) + Z @ np.array([1, 2, 3]) + np.random.normal(size=10)\n",
    "\n",
    "result = minimize(objective, x0=np.asarray([-0.9,0.9]).reshape(2,), args=(Y, X, Z),  method='Nelder-Mead',)\n",
    "\n",
    "print(f\"Estimated parameters:  r1: {result}\")\n",
    "\n",
    "\n",
    "r1, r2  = result.x\n",
    "# print(W(X, Z, r1, r2))\n",
    "Y_bar = np.mean(Y)\n",
    "W_bar = np.mean(W(X, Z, r1, r2), axis=0)\n",
    "# print(\"1\",W(X, Z, r1, r2))\n",
    "# print(\"2\",W_bar)\n",
    "Y_dot = Y - Y_bar\n",
    "W_dot = W(X, Z, r1, r2) - W_bar\n",
    "# print(\"3\",W_dot)\n",
    "eta = np.linalg.inv(W_dot.T @ W_dot) @ W_dot.T @ Y_dot\n"
   ]
  },
  {
   "cell_type": "code",
   "execution_count": 67,
   "metadata": {},
   "outputs": [
    {
     "name": "stdout",
     "output_type": "stream",
     "text": [
      "-0.21979196165274512\n",
      "0.2646422782009617\n"
     ]
    }
   ],
   "source": [
    "import numpy as np\n",
    "from scipy.optimize import minimize\n",
    "\n",
    "np.random.seed(12345)\n",
    "n = 2000\n",
    "x = np.random.normal(size=n)\n",
    "q = np.random.normal(size=n)\n",
    "z = np.random.normal(size=n)\n",
    "\n",
    "def neg_part2(x, r):\n",
    "    return x * (x < r)\n",
    "\n",
    "def pos_part2(x, r):\n",
    "    return x * (x > r)\n",
    "\n",
    "def reg(X, y):\n",
    "    Q, R = np.linalg.qr(X)\n",
    "    bols = np.dot(np.linalg.inv(R), np.dot(Q.T, y))\n",
    "    return bols\n",
    "\n",
    "def sse(r, y, x, z):\n",
    "    r1 = r[0]\n",
    "    r2 = r[1]\n",
    "    if r1 < r2:\n",
    "        xx = np.column_stack((neg_part2(x, r1), pos_part2(x, r2), z))\n",
    "    else:\n",
    "        xx = np.column_stack((neg_part2(x, r2), pos_part2(x, r1), z))\n",
    "    \n",
    "    b = reg(xx, y)\n",
    "    return np.sum((y - np.dot(xx, b))**2)\n",
    "\n",
    "def sse2(r, y, x, z):\n",
    "    r1 = r[0]\n",
    "    r2 = r[1]\n",
    "    \n",
    "    r1 = -1 / (1 + np.exp(r1)) + np.exp(r1) / (1 + np.exp(r1))\n",
    "    r2 = -1 / (1 + np.exp(r2)) + np.exp(r2) / (1 + np.exp(r2))\n",
    "    \n",
    "    if r1 < r2:\n",
    "        xx = np.column_stack((neg_part2(x, r1), pos_part2(x, r2), z))\n",
    "    else:\n",
    "        xx = np.column_stack((neg_part2(x, r2), pos_part2(x, r1), z))\n",
    "    \n",
    "    b = reg(xx, y)\n",
    "    return np.sum((y - np.dot(xx, b))**2)\n",
    "\n",
    "x1 = np.column_stack((neg_part2(x, -0.2), pos_part2(x, 0.2), z))\n",
    "b0 = np.array([2, 2, 1])\n",
    "y = np.dot(x1, b0) + np.random.normal(size=n)\n",
    "\n",
    "r01 = np.percentile(x, 0.1)\n",
    "r02 = np.percentile(x, 0.9)\n",
    "\n",
    "\n",
    "# res = minimize(sse, x0=[-0.5, 0.5], args=(y, x, z), method='Nelder-Mead')\n",
    "\n",
    "# res = minimize(sse, x0=[-0.5, 0.5], args=(y, x, z), method='Nelder-Mead', )\n",
    "\n",
    "res = minimize(sse2, x0=[-0.5, 0.5], args=(y, x, z), method='Nelder-Mead')\n",
    "\n",
    "\n",
    "\n",
    "r1 = res.x[0]\n",
    "r2 = res.x[1]\n",
    "r1 = -1 / (1 + np.exp(r1)) + np.exp(r1) / (1 + np.exp(r1))\n",
    "r2 = -1 / (1 + np.exp(r2)) + np.exp(r2) / (1 + np.exp(r2))\n",
    "print(r1)\n",
    "print(r2)\n"
   ]
  },
  {
   "cell_type": "code",
   "execution_count": 52,
   "metadata": {},
   "outputs": [
    {
     "data": {
      "text/plain": [
       "array([-0.20470766,  0.        , -0.51943872, ..., -0.2424589 ,\n",
       "       -3.05698974,  0.        ])"
      ]
     },
     "execution_count": 52,
     "metadata": {},
     "output_type": "execute_result"
    }
   ],
   "source": [
    "neg_part2(x, -0.2)"
   ]
  },
  {
   "cell_type": "code",
   "execution_count": null,
   "metadata": {},
   "outputs": [],
   "source": []
  },
  {
   "cell_type": "code",
   "execution_count": 33,
   "metadata": {},
   "outputs": [
    {
     "data": {
      "text/plain": [
       "array([2.55706282, 2.83112037, 1.38073722, 2.34866909, 3.28611982])"
      ]
     },
     "execution_count": 33,
     "metadata": {},
     "output_type": "execute_result"
    }
   ],
   "source": [
    "eta"
   ]
  },
  {
   "cell_type": "code",
   "execution_count": 41,
   "metadata": {},
   "outputs": [
    {
     "ename": "ModuleNotFoundError",
     "evalue": "No module named 'statsmodels'",
     "output_type": "error",
     "traceback": [
      "\u001b[1;31m---------------------------------------------------------------------------\u001b[0m",
      "\u001b[1;31mModuleNotFoundError\u001b[0m                       Traceback (most recent call last)",
      "Cell \u001b[1;32mIn[41], line 3\u001b[0m\n\u001b[0;32m      1\u001b[0m \u001b[39mimport\u001b[39;00m \u001b[39mnumpy\u001b[39;00m \u001b[39mas\u001b[39;00m \u001b[39mnp\u001b[39;00m\n\u001b[0;32m      2\u001b[0m \u001b[39mimport\u001b[39;00m \u001b[39mpandas\u001b[39;00m \u001b[39mas\u001b[39;00m \u001b[39mpd\u001b[39;00m\n\u001b[1;32m----> 3\u001b[0m \u001b[39mimport\u001b[39;00m \u001b[39mstatsmodels\u001b[39;00m\u001b[39m.\u001b[39;00m\u001b[39mapi\u001b[39;00m \u001b[39mas\u001b[39;00m \u001b[39msm\u001b[39;00m\n\u001b[0;32m      5\u001b[0m \u001b[39m# 创建一个示例数据集\u001b[39;00m\n\u001b[0;32m      6\u001b[0m data \u001b[39m=\u001b[39m pd\u001b[39m.\u001b[39mDataFrame({\n\u001b[0;32m      7\u001b[0m     \u001b[39m'\u001b[39m\u001b[39mgroup\u001b[39m\u001b[39m'\u001b[39m: [\u001b[39m'\u001b[39m\u001b[39mA\u001b[39m\u001b[39m'\u001b[39m, \u001b[39m'\u001b[39m\u001b[39mA\u001b[39m\u001b[39m'\u001b[39m, \u001b[39m'\u001b[39m\u001b[39mB\u001b[39m\u001b[39m'\u001b[39m, \u001b[39m'\u001b[39m\u001b[39mB\u001b[39m\u001b[39m'\u001b[39m, \u001b[39m'\u001b[39m\u001b[39mC\u001b[39m\u001b[39m'\u001b[39m, \u001b[39m'\u001b[39m\u001b[39mC\u001b[39m\u001b[39m'\u001b[39m],\n\u001b[0;32m      8\u001b[0m     \u001b[39m'\u001b[39m\u001b[39mtime\u001b[39m\u001b[39m'\u001b[39m: [\u001b[39m1\u001b[39m, \u001b[39m2\u001b[39m, \u001b[39m1\u001b[39m, \u001b[39m2\u001b[39m, \u001b[39m1\u001b[39m, \u001b[39m2\u001b[39m],\n\u001b[0;32m      9\u001b[0m     \u001b[39m'\u001b[39m\u001b[39my\u001b[39m\u001b[39m'\u001b[39m: [\u001b[39m3\u001b[39m, \u001b[39m4\u001b[39m, \u001b[39m5\u001b[39m, \u001b[39m6\u001b[39m, \u001b[39m7\u001b[39m, \u001b[39m8\u001b[39m]\n\u001b[0;32m     10\u001b[0m })\n",
      "\u001b[1;31mModuleNotFoundError\u001b[0m: No module named 'statsmodels'"
     ]
    }
   ],
   "source": [
    "import numpy as np\n",
    "import pandas as pd\n",
    "import statsmodels.api as sm\n",
    "\n",
    "# 创建一个示例数据集\n",
    "data = pd.DataFrame({\n",
    "    'group': ['A', 'A', 'B', 'B', 'C', 'C'],\n",
    "    'time': [1, 2, 1, 2, 1, 2],\n",
    "    'y': [3, 4, 5, 6, 7, 8]\n",
    "})\n",
    "\n",
    "# 将group列设置为分类变量\n",
    "data['group'] = pd.Categorical(data['group'])\n",
    "\n",
    "# 对数据进行组内差分\n",
    "data['y_diff'] = data.groupby('group')['y'].transform(lambda x: x.diff())\n",
    "\n",
    "# 拟合固定效应模型\n",
    "model = sm.OLS(data['y_diff'], sm.add_constant(data['time']))\n",
    "result = model.fit()\n",
    "\n",
    "# 打印模型结果\n",
    "print(result.summary())\n"
   ]
  }
 ],
 "metadata": {
  "kernelspec": {
   "display_name": "pyomo",
   "language": "python",
   "name": "python3"
  },
  "language_info": {
   "codemirror_mode": {
    "name": "ipython",
    "version": 3
   },
   "file_extension": ".py",
   "mimetype": "text/x-python",
   "name": "python",
   "nbconvert_exporter": "python",
   "pygments_lexer": "ipython3",
   "version": "3.8.16"
  },
  "orig_nbformat": 4
 },
 "nbformat": 4,
 "nbformat_minor": 2
}
