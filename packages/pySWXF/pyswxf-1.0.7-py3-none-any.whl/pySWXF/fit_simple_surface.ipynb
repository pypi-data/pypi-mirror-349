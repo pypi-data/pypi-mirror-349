{
 "cells": [
  {
   "cell_type": "code",
   "execution_count": 4,
   "id": "a618387d",
   "metadata": {},
   "outputs": [
    {
     "name": "stdout",
     "output_type": "stream",
     "text": [
      "['c:\\\\Users\\\\lluri\\\\Dropbox\\\\PYTHON - Documents\\\\pySWXF\\\\src\\\\pySWXF', 'c:\\\\Users\\\\lluri\\\\anaconda3\\\\python312.zip', 'c:\\\\Users\\\\lluri\\\\anaconda3\\\\DLLs', 'c:\\\\Users\\\\lluri\\\\anaconda3\\\\Lib', 'c:\\\\Users\\\\lluri\\\\anaconda3', '', 'c:\\\\Users\\\\lluri\\\\anaconda3\\\\Lib\\\\site-packages', 'c:\\\\Users\\\\lluri\\\\anaconda3\\\\Lib\\\\site-packages\\\\win32', 'c:\\\\Users\\\\lluri\\\\anaconda3\\\\Lib\\\\site-packages\\\\win32\\\\lib', 'c:\\\\Users\\\\lluri\\\\anaconda3\\\\Lib\\\\site-packages\\\\Pythonwin', 'c:\\\\Users\\\\lluri\\\\anaconda3\\\\Lib\\\\site-packages\\\\setuptools\\\\_vendor', 'c:\\\\Users\\\\lluri\\\\Dropbox\\\\PYTHON - Documents\\\\pySWXF\\\\src\\\\pySWXF', 'c:\\\\Users\\\\lluri\\\\Dropbox\\\\PYTHON - Documents\\\\pySWXF\\\\src\\\\pySWXF', 'c:\\\\Users\\\\lluri\\\\Dropbox\\\\PYTHON - Documents\\\\pySWXF\\\\src\\\\pySWXF']\n"
     ]
    },
    {
     "ename": "ModuleNotFoundError",
     "evalue": "No module named 'simple_surface'",
     "output_type": "error",
     "traceback": [
      "\u001b[1;31m---------------------------------------------------------------------------\u001b[0m",
      "\u001b[1;31mModuleNotFoundError\u001b[0m                       Traceback (most recent call last)",
      "Cell \u001b[1;32mIn[4], line 13\u001b[0m\n\u001b[0;32m      8\u001b[0m sys\u001b[38;5;241m.\u001b[39mpath\u001b[38;5;241m.\u001b[39mappend(os\u001b[38;5;241m.\u001b[39mgetcwd())\n\u001b[0;32m     10\u001b[0m \u001b[38;5;28mprint\u001b[39m(sys\u001b[38;5;241m.\u001b[39mpath)\n\u001b[1;32m---> 13\u001b[0m \u001b[38;5;28;01mfrom\u001b[39;00m \u001b[38;5;21;01msimple_surface\u001b[39;00m \u001b[38;5;28;01mimport\u001b[39;00m simple_surface_model \n\u001b[0;32m     14\u001b[0m \u001b[38;5;66;03m# Define fitting parameters with constraints\u001b[39;00m\n\u001b[0;32m     15\u001b[0m params \u001b[38;5;241m=\u001b[39m simple_surface_model\u001b[38;5;241m.\u001b[39mmake_params(\n\u001b[0;32m     16\u001b[0m     I0\u001b[38;5;241m=\u001b[39m\u001b[38;5;28mdict\u001b[39m(value\u001b[38;5;241m=\u001b[39m\u001b[38;5;241m1e8\u001b[39m, vary\u001b[38;5;241m=\u001b[39m\u001b[38;5;28;01mFalse\u001b[39;00m, \u001b[38;5;28mmin\u001b[39m\u001b[38;5;241m=\u001b[39m\u001b[38;5;241m1e2\u001b[39m, \u001b[38;5;28mmax\u001b[39m\u001b[38;5;241m=\u001b[39m\u001b[38;5;241m1e10\u001b[39m),\n\u001b[0;32m     17\u001b[0m     rho1\u001b[38;5;241m=\u001b[39m\u001b[38;5;28mdict\u001b[39m(value\u001b[38;5;241m=\u001b[39m\u001b[38;5;241m1.0\u001b[39m, vary\u001b[38;5;241m=\u001b[39m\u001b[38;5;28;01mTrue\u001b[39;00m, \u001b[38;5;28mmin\u001b[39m\u001b[38;5;241m=\u001b[39m\u001b[38;5;241m0.5\u001b[39m, \u001b[38;5;28mmax\u001b[39m\u001b[38;5;241m=\u001b[39m\u001b[38;5;241m2.0\u001b[39m),\n\u001b[1;32m   (...)\u001b[0m\n\u001b[0;32m     21\u001b[0m     sig2\u001b[38;5;241m=\u001b[39m\u001b[38;5;28mdict\u001b[39m(value\u001b[38;5;241m=\u001b[39m\u001b[38;5;241m3\u001b[39m, vary\u001b[38;5;241m=\u001b[39m\u001b[38;5;28;01mTrue\u001b[39;00m, \u001b[38;5;28mmin\u001b[39m\u001b[38;5;241m=\u001b[39m\u001b[38;5;241m1\u001b[39m, \u001b[38;5;28mmax\u001b[39m\u001b[38;5;241m=\u001b[39m\u001b[38;5;241m10\u001b[39m),\n\u001b[0;32m     22\u001b[0m )\n",
      "\u001b[1;31mModuleNotFoundError\u001b[0m: No module named 'simple_surface'"
     ]
    }
   ],
   "source": [
    "import numpy as np\n",
    "import matplotlib.pyplot as plt\n",
    "\n",
    "import sys\n",
    "import os\n",
    "\n",
    "# Add the notebook's directory to sys.path\n",
    "sys.path.append(os.getcwd())\n",
    "\n",
    "print(sys.path)\n",
    "\n",
    "\n",
    "from simple_surface import simple_surface_model \n",
    "# Define fitting parameters with constraints\n",
    "params = simple_surface_model.make_params(\n",
    "    I0=dict(value=1e8, vary=False, min=1e2, max=1e10),\n",
    "    rho1=dict(value=1.0, vary=True, min=0.5, max=2.0),\n",
    "    d1=dict(value=40, vary=True, min=30, max=60),\n",
    "    d2=dict(value=15, vary=True, min=5, max=20),\n",
    "    sig1=dict(value=3, vary=True, min=1, max=10),\n",
    "    sig2=dict(value=3, vary=True, min=1, max=10),\n",
    ")\n",
    "\n",
    "# Simulated angle data (in degrees)\n",
    "xsim = np.linspace(0.01, 5, 1000)\n",
    "\n",
    "# Evaluate the model using initial parameters\n",
    "ysim = simple_surface_model.eval(params=params, theta=xsim)\n",
    "\n",
    "plt.plot(xsim, ysim)\n",
    "plt.xlabel(\"Angle (degrees)\")\n",
    "plt.ylabel(\"Reflected Intensity\")\n",
    "plt.title(\"Simple Surface Reflectivity (Initial Guess)\")\n",
    "plt.grid(True)\n",
    "plt.show()\n"
   ]
  }
 ],
 "metadata": {
  "kernelspec": {
   "display_name": "base",
   "language": "python",
   "name": "python3"
  },
  "language_info": {
   "codemirror_mode": {
    "name": "ipython",
    "version": 3
   },
   "file_extension": ".py",
   "mimetype": "text/x-python",
   "name": "python",
   "nbconvert_exporter": "python",
   "pygments_lexer": "ipython3",
   "version": "3.12.7"
  }
 },
 "nbformat": 4,
 "nbformat_minor": 5
}
