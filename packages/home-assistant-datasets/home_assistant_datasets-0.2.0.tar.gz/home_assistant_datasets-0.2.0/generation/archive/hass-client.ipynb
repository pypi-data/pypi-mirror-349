{
 "cells": [
  {
   "cell_type": "markdown",
   "metadata": {},
   "source": [
    "# Hass Client\n",
    "\n",
    "Create a long lived access token https://www.home-assistant.io/docs/authentication/"
   ]
  },
  {
   "cell_type": "code",
   "execution_count": 1,
   "metadata": {},
   "outputs": [],
   "source": [
    "import secrets\n",
    "\n",
    "api_token = secrets.get_secret(\"hass_token\")\n",
    "hostport = secrets.get_secret(\"hostport\")"
   ]
  },
  {
   "cell_type": "code",
   "execution_count": 4,
   "metadata": {},
   "outputs": [],
   "source": [
    "\n",
    "from hass_data_client import create_client\n",
    "\n",
    "client = await create_client(hostport, api_token)"
   ]
  },
  {
   "cell_type": "code",
   "execution_count": 5,
   "metadata": {},
   "outputs": [
    {
     "data": {
      "text/plain": [
       "686"
      ]
     },
     "execution_count": 5,
     "metadata": {},
     "output_type": "execute_result"
    }
   ],
   "source": [
    "states = await client.get_states()\n",
    "len(states)"
   ]
  },
  {
   "cell_type": "markdown",
   "metadata": {},
   "source": [
    "# Statistics"
   ]
  },
  {
   "cell_type": "code",
   "execution_count": 4,
   "metadata": {},
   "outputs": [],
   "source": [
    "import datetime \n",
    "\n",
    "now = datetime.datetime.now()\n",
    "\n",
    "start = now - datetime.timedelta(days=30)\n",
    "end = start + datetime.timedelta(days=1)\n",
    "\n",
    "result = await client.send_command(\n",
    "    \"recorder/statistics_during_period\",\n",
    "    start_time=start.isoformat(),\n",
    "    end_time=end.isoformat(),\n",
    "    period=\"hour\",\n",
    "    statistic_ids=[\"sensor.weather_temperature\"],\n",
    "    types=[\"mean\", \"state\"],\n",
    ")\n"
   ]
  },
  {
   "cell_type": "code",
   "execution_count": 5,
   "metadata": {},
   "outputs": [
    {
     "data": {
      "text/plain": [
       "{'sensor.weather_temperature': [{'start': 1703815200000,\n",
       "   'end': 1703818800000,\n",
       "   'mean': 54.928756172777774},\n",
       "  {'start': 1703818800000, 'end': 1703822400000, 'mean': 53.531315820555555},\n",
       "  {'start': 1703822400000, 'end': 1703826000000, 'mean': 53.40201823638889},\n",
       "  {'start': 1703826000000, 'end': 1703829600000, 'mean': 53.664695450833335},\n",
       "  {'start': 1703829600000, 'end': 1703833200000, 'mean': 52.46316521833334},\n",
       "  {'start': 1703833200000, 'end': 1703836800000, 'mean': 51.0},\n",
       "  {'start': 1703836800000, 'end': 1703840400000, 'mean': 51.0},\n",
       "  {'start': 1703840400000, 'end': 1703844000000, 'mean': 50.931589800000005},\n",
       "  {'start': 1703844000000, 'end': 1703847600000, 'mean': 50.0},\n",
       "  {'start': 1703847600000, 'end': 1703851200000, 'mean': 50.0},\n",
       "  {'start': 1703851200000, 'end': 1703854800000, 'mean': 49.06491863444444},\n",
       "  {'start': 1703854800000, 'end': 1703858400000, 'mean': 49.0},\n",
       "  {'start': 1703858400000, 'end': 1703862000000, 'mean': 48.19823716222222},\n",
       "  {'start': 1703862000000, 'end': 1703865600000, 'mean': 48.0},\n",
       "  {'start': 1703865600000, 'end': 1703869200000, 'mean': 48.668394508333336},\n",
       "  {'start': 1703869200000, 'end': 1703872800000, 'mean': 50.80436186666666},\n",
       "  {'start': 1703872800000, 'end': 1703876400000, 'mean': 54.13809912},\n",
       "  {'start': 1703876400000, 'end': 1703880000000, 'mean': 57.403562394999994},\n",
       "  {'start': 1703880000000, 'end': 1703883600000, 'mean': 59.80238478555555},\n",
       "  {'start': 1703883600000, 'end': 1703887200000, 'mean': 61.33448674861111},\n",
       "  {'start': 1703887200000, 'end': 1703890800000, 'mean': 62.26757994055556},\n",
       "  {'start': 1703890800000, 'end': 1703894400000, 'mean': 62.79908173694445},\n",
       "  {'start': 1703894400000, 'end': 1703898000000, 'mean': 61.86575784972222},\n",
       "  {'start': 1703898000000, 'end': 1703901600000, 'mean': 60.66206936388889}]}"
      ]
     },
     "execution_count": 5,
     "metadata": {},
     "output_type": "execute_result"
    }
   ],
   "source": [
    "result"
   ]
  },
  {
   "cell_type": "code",
   "execution_count": 6,
   "metadata": {},
   "outputs": [
    {
     "data": {
      "text/plain": [
       "24"
      ]
     },
     "execution_count": 6,
     "metadata": {},
     "output_type": "execute_result"
    }
   ],
   "source": [
    "len(result['sensor.weather_temperature'])"
   ]
  },
  {
   "cell_type": "markdown",
   "metadata": {},
   "source": [
    "# Entities\n",
    "\n",
    "Query available entities."
   ]
  },
  {
   "cell_type": "code",
   "execution_count": 7,
   "metadata": {},
   "outputs": [
    {
     "data": {
      "text/plain": [
       "1274"
      ]
     },
     "execution_count": 7,
     "metadata": {},
     "output_type": "execute_result"
    }
   ],
   "source": [
    "result = await client.send_command(\n",
    "    \"config/entity_registry/list\",\n",
    ")\n",
    "len([ r['entity_id'] for r in result ])"
   ]
  },
  {
   "cell_type": "code",
   "execution_count": 8,
   "metadata": {},
   "outputs": [
    {
     "data": {
      "text/plain": [
       "682"
      ]
     },
     "execution_count": 8,
     "metadata": {},
     "output_type": "execute_result"
    }
   ],
   "source": [
    "result = await client.send_command(\n",
    "    \"config/entity_registry/list_for_display\",\n",
    ")\n",
    "entity_ids = [ e['ei'] for e in result['entities'] ]\n",
    "len(entity_ids)"
   ]
  },
  {
   "cell_type": "markdown",
   "metadata": {},
   "source": [
    "# Services"
   ]
  },
  {
   "cell_type": "code",
   "execution_count": 10,
   "metadata": {},
   "outputs": [],
   "source": [
    "result = await client.send_command(\"get_services\")"
   ]
  },
  {
   "cell_type": "code",
   "execution_count": 11,
   "metadata": {},
   "outputs": [
    {
     "name": "stdout",
     "output_type": "stream",
     "text": [
      "Domains: 71\n",
      "Services: 278\n"
     ]
    }
   ],
   "source": [
    "service_names = [\n",
    "    f\"{domain}.{name}\"\n",
    "    for domain, services in result.items()\n",
    "    for name in services\n",
    "]\n",
    "print(f\"Domains: {len(result.items())}\")\n",
    "print(f\"Services: {len(service_names)}\")"
   ]
  },
  {
   "cell_type": "code",
   "execution_count": 12,
   "metadata": {},
   "outputs": [
    {
     "data": {
      "text/plain": [
       "{'name': 'Get to-do list items',\n",
       " 'description': 'Get items on a to-do list.',\n",
       " 'fields': {'status': {'example': 'needs_action',\n",
       "   'default': 'needs_action',\n",
       "   'selector': {'select': {'translation_key': 'status',\n",
       "     'options': ['needs_action', 'completed'],\n",
       "     'multiple': True}},\n",
       "   'name': 'Status',\n",
       "   'description': 'Only return to-do items with the specified statuses. Returns not completed actions by default.'}},\n",
       " 'target': {'entity': [{'domain': ['todo']}]},\n",
       " 'response': {'optional': False}}"
      ]
     },
     "execution_count": 12,
     "metadata": {},
     "output_type": "execute_result"
    }
   ],
   "source": [
    "result['todo']['get_items']"
   ]
  },
  {
   "cell_type": "code",
   "execution_count": 13,
   "metadata": {},
   "outputs": [
    {
     "data": {
      "text/plain": [
       "['todo.maintenance', 'todo.grocery', 'todo.my_tasks']"
      ]
     },
     "execution_count": 13,
     "metadata": {},
     "output_type": "execute_result"
    }
   ],
   "source": [
    "[ entity_id for entity_id in entity_ids if entity_id.startswith(\"todo\") ]"
   ]
  },
  {
   "cell_type": "code",
   "execution_count": 14,
   "metadata": {},
   "outputs": [],
   "source": [
    "result = await client.send_command(\n",
    "    \"call_service\",\n",
    "    domain=\"todo\",\n",
    "    service=\"get_items\",\n",
    "    target={\"entity_id\": \"todo.my_tasks\"},\n",
    "    return_response=True,\n",
    ")"
   ]
  },
  {
   "cell_type": "code",
   "execution_count": 15,
   "metadata": {},
   "outputs": [
    {
     "data": {
      "text/plain": [
       "{'summary': 'Med prompt',\n",
       " 'uid': 'UHh2aVVTTVUzenVsWmFqWA',\n",
       " 'status': 'needs_action'}"
      ]
     },
     "execution_count": 15,
     "metadata": {},
     "output_type": "execute_result"
    }
   ],
   "source": [
    "result['response']['todo.my_tasks']['items'][0]"
   ]
  },
  {
   "cell_type": "markdown",
   "metadata": {},
   "source": [
    "# Events\n",
    "\n",
    "The hass client needs a streaming API to be able to return these messages."
   ]
  },
  {
   "cell_type": "code",
   "execution_count": 16,
   "metadata": {},
   "outputs": [],
   "source": [
    "import logging\n",
    "\n",
    "logging.getLogger().setLevel(logging.DEBUG)\n"
   ]
  },
  {
   "cell_type": "code",
   "execution_count": 17,
   "metadata": {},
   "outputs": [],
   "source": [
    "import datetime \n",
    "\n",
    "now = datetime.datetime.now()\n",
    "\n",
    "start = now + datetime.timedelta(days=-1)\n",
    "end = start + datetime.timedelta(days=1)\n",
    "\n",
    "result = await client.send_command_no_wait(\n",
    "    \"logbook/event_stream\",\n",
    "    start_time=start.isoformat(),\n",
    "    end_time=end.isoformat(),\n",
    ")\n",
    "result\n"
   ]
  }
 ],
 "metadata": {
  "kernelspec": {
   "display_name": "venv",
   "language": "python",
   "name": "python3"
  },
  "language_info": {
   "codemirror_mode": {
    "name": "ipython",
    "version": 3
   },
   "file_extension": ".py",
   "mimetype": "text/x-python",
   "name": "python",
   "nbconvert_exporter": "python",
   "pygments_lexer": "ipython3",
   "version": "3.11.3"
  }
 },
 "nbformat": 4,
 "nbformat_minor": 2
}
