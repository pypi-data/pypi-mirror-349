{
 "cells": [
  {
   "cell_type": "markdown",
   "metadata": {},
   "source": [
    "# Summaries\n",
    "\n",
    "Generate a dataset of summaries or classifications about the current state of the smart home."
   ]
  },
  {
   "cell_type": "code",
   "execution_count": 1,
   "metadata": {},
   "outputs": [],
   "source": [
    "import openai\n",
    "\n",
    "from home_assistant_datasets.secrets import get_secret\n",
    "from home_assistant_datasets import model_client\n",
    "\n",
    "MODEL_ID = \"gpt-3.5-turbo-0125\"\n",
    "\n",
    "openai = openai.OpenAI(api_key=get_secret(\"openai_key\"))\n",
    "model = model_client.ModelClient(openai, MODEL_ID)"
   ]
  },
  {
   "cell_type": "markdown",
   "metadata": {},
   "source": [
    "# Generation"
   ]
  },
  {
   "cell_type": "code",
   "execution_count": 35,
   "metadata": {},
   "outputs": [
    {
     "name": "stdout",
     "output_type": "stream",
     "text": [
      "---\n",
      "area_summaries:\n",
      "- Summarize what is currently happening in the living room\n",
      "- If the home has a garage, determine if the garage door has been left open and it\n",
      "  is late at night\n",
      "- Determine if a smart doorbell has detected a person or package at the door\n",
      "- Determine if the leak detector found a problem\n",
      "- Determine if the smart lock has been left unlocked for a long time\n",
      "- Determine if the battery levels in the sensors are appropriate\n",
      "home_summaries:\n",
      "- Evaluate the weather and determine if I need an umbrella today or may be cold\n",
      "- Notify me when a family member is about to arrive home\n",
      "- Let me know if the air quality is bad today\n",
      "- Determine if one room is much warmer or colder than other rooms\n",
      "\n"
     ]
    }
   ],
   "source": [
    "import pathlib\n",
    "import yaml\n",
    "\n",
    "\n",
    "DATASET_DIR = pathlib.Path(\"../datasets/\")\n",
    "DEVICES_DIR = DATASET_DIR / \"devices\"\n",
    "SEEDS_DIR = pathlib.Path(\"./seeds\")\n",
    "SEED_SUMMARIES_FILE = SEEDS_DIR / \"summaries.yaml\"\n",
    "\n",
    "with open(SEED_SUMMARIES_FILE) as f:\n",
    "    seed_summaries = yaml.load(f.read(), Loader=yaml.Loader)\n",
    "\n",
    "seed_summaries_prompt = yaml.dump(seed_summaries, sort_keys=False, explicit_start=True)\n",
    "print(seed_summaries_prompt)"
   ]
  },
  {
   "cell_type": "code",
   "execution_count": 41,
   "metadata": {},
   "outputs": [],
   "source": [
    "SUMMARY_PROMPT = f\"\"\"\n",
    "You are an expert Smart Home agent who can evaluate the performance of a smart\n",
    "home, and generate useful summaries, or classifying the state of the home\n",
    "finding unique and novel insights while ignoring irrelevant, redundant, or mundate.\n",
    "\n",
    "A device in Home Assistant represents a physical or virtual object, represented\n",
    "by different entities. A device has attributes for its configuration and state,\n",
    "for example a thermostat may have a mode attribute, or target or current temperature\n",
    "attributes.\n",
    "\n",
    "You generate a simple evaluation dataset for home data. The input dataset\n",
    "contains the home, location, areas, and devices. The output are types of\n",
    "summaries specific to individual areas or the state of multiple areas combined.\n",
    "You may add summary types that are not relevant to the home since we can test\n",
    "those too. Prefer single area summaries.\n",
    "\n",
    "Here are examples of area or home summaries:\n",
    "You answer in yaml, and here is an example input.\n",
    "\n",
    "{seed_summaries_prompt}\n",
    "\"\"\""
   ]
  },
  {
   "cell_type": "code",
   "execution_count": 37,
   "metadata": {},
   "outputs": [],
   "source": [
    "response = model.complete(SUMMARY_PROMPT, \"Generate 20 possible summaries in a yaml list.\\n---\\n\")"
   ]
  },
  {
   "cell_type": "code",
   "execution_count": 38,
   "metadata": {},
   "outputs": [
    {
     "name": "stdout",
     "output_type": "stream",
     "text": [
      "\n",
      "area_summaries:\n",
      "- Check if the lights in the kitchen are left turned on\n",
      "- Summarize the current energy usage in the home office\n",
      "- Monitor if the living room TV has been on for an unusually long time\n",
      "- Verify if the temperature in the nursery is within a safe range\n",
      "- Alert if the front door has been open for an extended period\n",
      "- Analyze if the washing machine in the laundry room has finished its cycle\n",
      "- Check the humidity levels in the bathroom\n",
      "- Determine if the home security system has been armed before leaving\n",
      "- Monitor the CO2 levels in the basement\n",
      "- Check if the sprinklers in the backyard are scheduled to run today\n",
      "- Verify if the pet feeder in the pet area needs to be refilled\n",
      "- Determine if the garage temperature is suitable for storing items\n",
      "- Check the status of the windows in the study room\n",
      "- Monitor if the plants in the conservatory need watering\n",
      "- Verify if the coffee machine in the kitchen needs maintenance\n",
      "- Determine if the trash bin in the front yard needs to be emptied\n",
      "- Check if the bedroom lights are set to a sleep-friendly color\n",
      "- Analyze if the hallway motion sensor is detecting movement when it shouldn't\n",
      "- Verify if the guest room thermostat is set to a comfortable temperature\n",
      "- Determine if the home gym equipment needs maintenance\n"
     ]
    }
   ],
   "source": [
    "print(response)"
   ]
  },
  {
   "cell_type": "code",
   "execution_count": 43,
   "metadata": {},
   "outputs": [
    {
     "name": "stderr",
     "output_type": "stream",
     "text": [
      "Skipped 1: 100%|██████████| 40/40 [08:08<00:00, 12.22s/it]\n"
     ]
    }
   ],
   "source": [
    "import itertools\n",
    "import random\n",
    "from tqdm.auto import tqdm\n",
    "import shutil\n",
    "\n",
    "N_DATAPOINTS = 40\n",
    "\n",
    "homes = []\n",
    "for path in DEVICES_DIR.glob(\"*.yaml\"):\n",
    "    with path.open(\"r\") as f:\n",
    "        content = f.read()\n",
    "    home_id = path.name.split(\".\")[0]  # Strip the .yaml extension\n",
    "    home_data = yaml.load(content, Loader=yaml.Loader)\n",
    "    homes.append((home_id, home_data))\n",
    "\n",
    "SUMMARIES_OUTPUT_DIR = DATASET_DIR / \"summaries\"\n",
    "\n",
    "# Wipe existing summaries\n",
    "shutil.rmtree(SUMMARIES_OUTPUT_DIR, ignore_errors=True)\n",
    "SUMMARIES_OUTPUT_DIR.mkdir(exist_ok=True)\n",
    "\n",
    "random.shuffle(homes)\n",
    "if len(homes) > N_DATAPOINTS:\n",
    "    homes = homes[:N_DATAPOINTS]\n",
    "\n",
    "skipped = 0\n",
    "\n",
    "with tqdm(total=len(homes)) as pbar:\n",
    "    for home_id, home in homes:\n",
    "        with open(SUMMARIES_OUTPUT_DIR / f\"{home_id}.yaml\", \"w\") as summary_output:\n",
    "            home_yaml = yaml.dump(home, sort_keys=False)\n",
    "            prompt = f\"Generate 20 possible summaries for this home in a yaml.\\n\\n{home_yaml}\\n\\Output\\n---\"\n",
    "            response_obj = None\n",
    "            for i in range(3):\n",
    "                response = model.complete(SUMMARY_PROMPT, prompt)\n",
    "                try:\n",
    "                    response_obj = yaml.safe_load(response)\n",
    "                except yaml.YAMLError:\n",
    "                    skipped += 1\n",
    "                    continue\n",
    "            if response_obj is not None:\n",
    "                updated_home = home.copy()\n",
    "                updated_home.update({\"summaries\": response_obj})\n",
    "                summary_output.write(yaml.dump(updated_home, explicit_start=True, sort_keys=False))\n",
    "            pbar.set_description(f\"Skipped {skipped}\")\n",
    "            pbar.update(1)"
   ]
  },
  {
   "cell_type": "markdown",
   "metadata": {},
   "source": []
  }
 ],
 "metadata": {
  "kernelspec": {
   "display_name": "venv",
   "language": "python",
   "name": "python3"
  },
  "language_info": {
   "codemirror_mode": {
    "name": "ipython",
    "version": 3
   },
   "file_extension": ".py",
   "mimetype": "text/x-python",
   "name": "python",
   "nbconvert_exporter": "python",
   "pygments_lexer": "ipython3",
   "version": "3.11.3"
  }
 },
 "nbformat": 4,
 "nbformat_minor": 2
}
