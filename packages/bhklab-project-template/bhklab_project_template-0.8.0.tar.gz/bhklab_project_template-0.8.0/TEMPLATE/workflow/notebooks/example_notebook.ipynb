{
 "cells": [
  {
   "cell_type": "markdown",
   "id": "442beff9",
   "metadata": {},
   "source": [
    "# Example Notebook\n",
    "\n",
    "This is just a quick example showing how to use the template."
   ]
  },
  {
   "cell_type": "code",
   "execution_count": 1,
   "id": "75fde9f9",
   "metadata": {},
   "outputs": [],
   "source": [
    "import logging\n",
    "\n",
    "logging.basicConfig(\n",
    "\tlevel=logging.INFO, format='%(asctime)s - %(levelname)s - %(message)s'\n",
    ")\n",
    "\n",
    "logger = logging.getLogger(__name__)"
   ]
  },
  {
   "cell_type": "code",
   "execution_count": 2,
   "id": "2d08bd5d",
   "metadata": {},
   "outputs": [
    {
     "name": "stderr",
     "output_type": "stream",
     "text": [
      "2025-05-09 13:20:53,996 - INFO - PIXI_PROJECT_ROOT: /Users/bhklab/dev/bhklab/testdirs/another-example has 20 files\n",
      "2025-05-09 13:20:53,997 - INFO - RAWDATA: data/rawdata has 0 files\n",
      "2025-05-09 13:20:53,998 - INFO - PROCDATA: data/procdata has 0 files\n",
      "2025-05-09 13:20:53,998 - INFO - SCRIPTS: workflow/scripts has 0 files\n"
     ]
    }
   ],
   "source": [
    "import os\n",
    "from pathlib import Path\n",
    "\n",
    "env_dir_variables = [\n",
    "    'PIXI_PROJECT_ROOT',\n",
    "    'RAWDATA',\n",
    "    'PROCDATA',\n",
    "    'SCRIPTS',\n",
    "]\n",
    "\n",
    "for var in env_dir_variables:\n",
    "    var_path = Path(os.environ.get(var))\n",
    "    logger.info(f'{var}: {var_path} has {len(list(var_path.glob(\"*\")))} files')\n",
    "\n",
    "\n"
   ]
  },
  {
   "cell_type": "code",
   "execution_count": null,
   "id": "ac1f9617",
   "metadata": {},
   "outputs": [],
   "source": []
  }
 ],
 "metadata": {
  "kernelspec": {
   "display_name": "default",
   "language": "python",
   "name": "python3"
  },
  "language_info": {
   "codemirror_mode": {
    "name": "ipython",
    "version": 3
   },
   "file_extension": ".py",
   "mimetype": "text/x-python",
   "name": "python",
   "nbconvert_exporter": "python",
   "pygments_lexer": "ipython3",
   "version": "3.13.3"
  }
 },
 "nbformat": 4,
 "nbformat_minor": 5
}
