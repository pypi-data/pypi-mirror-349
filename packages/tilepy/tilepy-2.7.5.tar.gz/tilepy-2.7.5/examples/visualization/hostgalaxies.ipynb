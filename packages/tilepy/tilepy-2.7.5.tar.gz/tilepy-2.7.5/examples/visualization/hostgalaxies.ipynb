{
 "cells": [
  {
   "cell_type": "code",
   "execution_count": 1,
   "metadata": {},
   "outputs": [
    {
     "name": "stderr",
     "output_type": "stream",
     "text": [
      "/opt/miniconda3/envs/tilepyenv_1/lib/python3.9/site-packages/tqdm/auto.py:21: TqdmWarning: IProgress not found. Please update jupyter and ipywidgets. See https://ipywidgets.readthedocs.io/en/stable/user_install.html\n",
      "  from .autonotebook import tqdm as notebook_tqdm\n"
     ]
    }
   ],
   "source": [
    "# This code follows is a modified version of the tutorial from ligo.skymap\n",
    "from astropy.coordinates import SkyCoord\n",
    "from ligo.skymap.io import read_sky_map\n",
    "from ligo.skymap.postprocess import crossmatch"
   ]
  },
  {
   "cell_type": "code",
   "execution_count": 2,
   "metadata": {},
   "outputs": [],
   "source": [
    "# Skymap \n",
    "url = 'https://gracedb.ligo.org/api/superevents/S240615dg/files/Bilby.offline0.multiorder.fits'\n",
    "skymap = read_sky_map(url, moc=True)"
   ]
  },
  {
   "cell_type": "code",
   "execution_count": 6,
   "metadata": {},
   "outputs": [],
   "source": [
    "# Galaxy catalog\n",
    "from tilepy.include.PointingTools import LoadGalaxies "
   ]
  },
  {
   "cell_type": "code",
   "execution_count": null,
   "metadata": {},
   "outputs": [
    {
     "name": "stdout",
     "output_type": "stream",
     "text": [
      "Loading galaxy catalogue from ../../tilepy/dataset/Gladeplus.h5\n"
     ]
    }
   ],
   "source": [
    "catalog = '../../src/tilepy/dataset/Gladeplus.h5'\n",
    "cat = LoadGalaxies(catalog)"
   ]
  },
  {
   "cell_type": "code",
   "execution_count": 11,
   "metadata": {},
   "outputs": [
    {
     "data": {
      "text/html": [
       "<div><i>Table length=3553147</i>\n",
       "<table id=\"table6042064688\" class=\"table-striped table-bordered table-condensed\">\n",
       "<thead><tr><th>no_GLADE</th><th>RAJ2000</th><th>DEJ2000</th><th>Dist</th><th>Bmag</th></tr></thead>\n",
       "<thead><tr><th>uint32</th><th>float64</th><th>float64</th><th>float32</th><th>float32</th></tr></thead>\n",
       "<tr><td>1078404</td><td>209.660614</td><td>28.544758</td><td>307.755</td><td>17.04</td></tr>\n",
       "<tr><td>1078382</td><td>150.492096</td><td>27.61278</td><td>390.2103</td><td>17.033</td></tr>\n",
       "<tr><td>1078358</td><td>171.639633</td><td>26.348652</td><td>216.03331</td><td>16.671</td></tr>\n",
       "<tr><td>1078355</td><td>155.931229</td><td>26.182703</td><td>293.52972</td><td>16.539</td></tr>\n",
       "<tr><td>1078350</td><td>160.374588</td><td>25.971264</td><td>356.17014</td><td>16.558</td></tr>\n",
       "<tr><td>1078319</td><td>181.437912</td><td>24.259342</td><td>234.59818</td><td>16.125</td></tr>\n",
       "<tr><td>1078292</td><td>162.406204</td><td>22.255919</td><td>226.93306</td><td>16.213</td></tr>\n",
       "<tr><td>1078251</td><td>218.096588</td><td>19.566315</td><td>243.14256</td><td>17.153</td></tr>\n",
       "<tr><td>1078114</td><td>159.47876</td><td>10.863852</td><td>433.2221</td><td>16.338</td></tr>\n",
       "<tr><td>1078065</td><td>203.012299</td><td>7.717185</td><td>247.49423</td><td>16.934</td></tr>\n",
       "<tr><td>...</td><td>...</td><td>...</td><td>...</td><td>...</td></tr>\n",
       "<tr><td>20555283</td><td>333.90832819999997</td><td>38.009969899999994</td><td>180.01659</td><td>18.970552</td></tr>\n",
       "<tr><td>20554968</td><td>332.8740831</td><td>37.517107200000005</td><td>455.0752</td><td>19.20633</td></tr>\n",
       "<tr><td>20554837</td><td>333.2940975</td><td>37.3800771</td><td>169.05609</td><td>18.537142</td></tr>\n",
       "<tr><td>20554699</td><td>332.7534083</td><td>37.7907546</td><td>406.502</td><td>19.068687</td></tr>\n",
       "<tr><td>20554666</td><td>334.1571791</td><td>37.80708610000001</td><td>355.1456</td><td>18.378386</td></tr>\n",
       "<tr><td>20554374</td><td>334.3910396</td><td>-37.5879115</td><td>381.56363</td><td>19.181099</td></tr>\n",
       "<tr><td>20554174</td><td>333.199051</td><td>-37.5110586</td><td>255.28783</td><td>18.11603</td></tr>\n",
       "<tr><td>20554078</td><td>332.7263005</td><td>-38.0133004</td><td>452.06735</td><td>18.684393</td></tr>\n",
       "<tr><td>20554012</td><td>333.64259730000003</td><td>-37.967659999999995</td><td>107.82191</td><td>19.130539</td></tr>\n",
       "<tr><td>20553953</td><td>333.4828595</td><td>-37.8762555</td><td>381.21658</td><td>18.109917</td></tr>\n",
       "</table></div>"
      ],
      "text/plain": [
       "<Table length=3553147>\n",
       "no_GLADE      RAJ2000             DEJ2000          Dist      Bmag  \n",
       " uint32       float64             float64        float32   float32 \n",
       "-------- ------------------ ------------------- --------- ---------\n",
       " 1078404         209.660614           28.544758   307.755     17.04\n",
       " 1078382         150.492096            27.61278  390.2103    17.033\n",
       " 1078358         171.639633           26.348652 216.03331    16.671\n",
       " 1078355         155.931229           26.182703 293.52972    16.539\n",
       " 1078350         160.374588           25.971264 356.17014    16.558\n",
       " 1078319         181.437912           24.259342 234.59818    16.125\n",
       " 1078292         162.406204           22.255919 226.93306    16.213\n",
       " 1078251         218.096588           19.566315 243.14256    17.153\n",
       " 1078114          159.47876           10.863852  433.2221    16.338\n",
       " 1078065         203.012299            7.717185 247.49423    16.934\n",
       "     ...                ...                 ...       ...       ...\n",
       "20555283 333.90832819999997  38.009969899999994 180.01659 18.970552\n",
       "20554968        332.8740831  37.517107200000005  455.0752  19.20633\n",
       "20554837        333.2940975          37.3800771 169.05609 18.537142\n",
       "20554699        332.7534083          37.7907546   406.502 19.068687\n",
       "20554666        334.1571791   37.80708610000001  355.1456 18.378386\n",
       "20554374        334.3910396         -37.5879115 381.56363 19.181099\n",
       "20554174         333.199051         -37.5110586 255.28783  18.11603\n",
       "20554078        332.7263005         -38.0133004 452.06735 18.684393\n",
       "20554012 333.64259730000003 -37.967659999999995 107.82191 19.130539\n",
       "20553953        333.4828595         -37.8762555 381.21658 18.109917"
      ]
     },
     "execution_count": 11,
     "metadata": {},
     "output_type": "execute_result"
    }
   ],
   "source": [
    "cat"
   ]
  },
  {
   "cell_type": "code",
   "execution_count": 14,
   "metadata": {},
   "outputs": [],
   "source": [
    "from astropy import units as u\n",
    "coordinates = SkyCoord(cat['RAJ2000']*u.deg, cat['DEJ2000']*u.deg, cat['Dist']*u.Mpc)"
   ]
  },
  {
   "cell_type": "code",
   "execution_count": 15,
   "metadata": {},
   "outputs": [],
   "source": [
    "result = crossmatch(skymap, coordinates)\n"
   ]
  },
  {
   "cell_type": "code",
   "execution_count": 19,
   "metadata": {},
   "outputs": [
    {
     "data": {
      "text/plain": [
       "CrossmatchResult(searched_area=array([32739.1665124 , 36996.06388091, 17591.59480363, ...,\n",
       "        2196.43146952,  2196.43146952,  2196.43146952]), searched_prob=array([1., 1., 1., ..., 1., 1., 1.]), offset=array([103.14481975,  99.30071145, 106.51358524, ...,  89.39273311,\n",
       "        89.06493348,  89.03025649]), searched_modes=nan, contour_areas=[], area_probs=[], contour_modes=nan, searched_prob_dist=array([3.14463689e-06, 1.36309478e-05, 4.94113982e-07, ...,\n",
       "       3.79554302e-05, 2.59884814e-08, 1.16913326e-05]), contour_dists=[], searched_vol=array([1.38263860e+12, 1.11437678e+12, 2.45408945e+12, ...,\n",
       "       3.13224463e+11, 3.13231050e+11, 3.13224459e+11]), searched_prob_vol=array([1.00000331, 1.00000331, 1.00000331, ..., 1.00000331, 1.00000331,\n",
       "       1.00000331]), contour_vols=[], probdensity=array([0., 0., 0., ..., 0., 0., 0.]), probdensity_vol=array([0., 0., 0., ..., 0., 0., 0.]))"
      ]
     },
     "execution_count": 19,
     "metadata": {},
     "output_type": "execute_result"
    }
   ],
   "source": [
    "#print(cat[result.searched_prob_vol < 0.9])\n",
    "result"
   ]
  },
  {
   "cell_type": "code",
   "execution_count": 24,
   "metadata": {},
   "outputs": [
    {
     "name": "stdout",
     "output_type": "stream",
     "text": [
      "Loading HEALPix map from file: https://gracedb.ligo.org/api/superevents/S240615dg/files/Bilby.offline0.multiorder.fits\n",
      "Event has triggered  H1,L1,V1  => distance = 1420.02  +- 235.56  Mpc\n"
     ]
    }
   ],
   "source": [
    "from tilepy.include.PointingTools import LoadHealpixMap \n",
    "prob, distmu, distsigma, distnorm, detectors, fits_id, thisDistance, thisDistanceErr = LoadHealpixMap(url)\n",
    "npix = len(prob)\n"
   ]
  },
  {
   "cell_type": "code",
   "execution_count": 23,
   "metadata": {},
   "outputs": [],
   "source": [
    "import healpy as hp\n",
    "nside = hp.npix2nside(npix)"
   ]
  },
  {
   "cell_type": "code",
   "execution_count": null,
   "metadata": {},
   "outputs": [],
   "source": []
  },
  {
   "cell_type": "code",
   "execution_count": 26,
   "metadata": {},
   "outputs": [],
   "source": [
    "from tilepy.include.PointingTools import CorrelateGalaxies_LVC\n",
    "Gals, sum_dP_dV = CorrelateGalaxies_LVC(prob, distmu, distsigma, distnorm, cat, 'True', 0.002)"
   ]
  },
  {
   "cell_type": "markdown",
   "metadata": {},
   "source": []
  }
 ],
 "metadata": {
  "kernelspec": {
   "display_name": "tilepyenv_1",
   "language": "python",
   "name": "python3"
  },
  "language_info": {
   "codemirror_mode": {
    "name": "ipython",
    "version": 3
   },
   "file_extension": ".py",
   "mimetype": "text/x-python",
   "name": "python",
   "nbconvert_exporter": "python",
   "pygments_lexer": "ipython3",
   "version": "3.9.0"
  }
 },
 "nbformat": 4,
 "nbformat_minor": 4
}
