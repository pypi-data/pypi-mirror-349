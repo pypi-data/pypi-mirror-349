{
 "cells": [
  {
   "cell_type": "code",
   "execution_count": 1,
   "id": "8879b037-7d01-41b7-9e57-68488159878b",
   "metadata": {},
   "outputs": [
    {
     "name": "stderr",
     "output_type": "stream",
     "text": [
      "/Users/md274436/software/miniforge3/envs/tilepy/lib/python3.11/site-packages/ligo/lw/lsctables.py:89: UserWarning: Wswiglal-redir-stdio:\n",
      "\n",
      "SWIGLAL standard output/error redirection is enabled in IPython.\n",
      "This may lead to performance penalties. To disable locally, use:\n",
      "\n",
      "with lal.no_swig_redirect_standard_output_error():\n",
      "    ...\n",
      "\n",
      "To disable globally, use:\n",
      "\n",
      "lal.swig_redirect_standard_output_error(False)\n",
      "\n",
      "Note however that this will likely lead to error messages from\n",
      "LAL functions being either misdirected or lost when called from\n",
      "Jupyter notebooks.\n",
      "\n",
      "To suppress this warning, use:\n",
      "\n",
      "import warnings\n",
      "warnings.filterwarnings(\"ignore\", \"Wswiglal-redir-stdio\")\n",
      "import lal\n",
      "\n",
      "  import lal\n",
      "/Users/md274436/software/miniforge3/envs/tilepy/lib/python3.11/site-packages/tqdm/auto.py:21: TqdmWarning: IProgress not found. Please update jupyter and ipywidgets. See https://ipywidgets.readthedocs.io/en/stable/user_install.html\n",
      "  from .autonotebook import tqdm as notebook_tqdm\n"
     ]
    }
   ],
   "source": [
    "from tilepy.tools.VisualizationTools import Pretty_Plot, LocateSource\n",
    "from astropy.coordinates import SkyCoord\n",
    "from astropy import units as u\n",
    "from tilepy.include.PointingTools import (LoadGalaxies, ObservationParameters)\n",
    "import numpy as np\n",
    "import datetime"
   ]
  },
  {
   "attachments": {},
   "cell_type": "markdown",
   "id": "28e57160",
   "metadata": {},
   "source": [
    "Adjust the following as desired"
   ]
  },
  {
   "cell_type": "code",
   "execution_count": 2,
   "id": "c4230808",
   "metadata": {},
   "outputs": [],
   "source": [
    "#adjust the following as desired\n",
    "configDir = '../config/'\n",
    "datasetDir = '../../tilepy/dataset/'\n",
    "outDir = '../paperplots/'\n",
    "galcatName = \"Gladeplus.h5\"\n",
    "pointingsFile = None"
   ]
  },
  {
   "attachments": {},
   "cell_type": "markdown",
   "id": "955ac857",
   "metadata": {},
   "source": [
    "Choose one of the follwing 4 examples"
   ]
  },
  {
   "cell_type": "code",
   "execution_count": 3,
   "id": "1bf5fe41",
   "metadata": {},
   "outputs": [],
   "source": [
    "url = 'https://dcc.ligo.org/public/0119/P1500071/007/927563_lalinference.fits.gz'\n",
    "obsTime = datetime.datetime.fromisoformat(\"2023-03-15 20:51:47\")\n",
    "ObsArray = ['CTAON', 'CTAOS']\n",
    "colors_list = ['blue', 'green']\n",
    "\n",
    "name = '927563_lalinference_CTAO'\n",
    "PointingsFile1 = '../sciencecases/P1500071/PGalinFoV_NObs/SuggestedPointings_GWOptimisation.txt'\n",
    "dirName = '../paperplots'\n",
    "\n",
    "center = SkyCoord(195, 15, unit='deg', frame='icrs')\n",
    "radius = '20 deg'"
   ]
  },
  {
   "cell_type": "code",
   "execution_count": 4,
   "id": "10e2800e",
   "metadata": {},
   "outputs": [],
   "source": [
    "url = 'https://gracedb.ligo.org/api/superevents/S190814bv/files/LALInference.v1.fits.gz'\n",
    "obsTime = datetime.datetime.fromisoformat(\"2023-09-15 01:30:10\")\n",
    "ObsArray = ['ESO', 'ESO2', 'LP','LP2', 'OHP', 'SA', 'HA']\n",
    "#colors_list = ['k','grey','g','b','c','m','r']\n",
    "colors_list = ['b', 'g', 'r', 'c', 'm', 'y', 'k', '#1f77b4', '#ff7f0e', '#2ca02c']\n",
    "\n",
    "name = 'S190814bv_MWL'\n",
    "PointingsFile1 = '../sciencecases/S190814bv/PGalinFoV_NObs/SuggestedPointings_GWOptimisation.txt'\n",
    "dirName = '../paperplots'\n",
    "\n",
    "center = SkyCoord(12, -25, unit='deg', frame='icrs')\n",
    "radius = '5 deg'"
   ]
  },
  {
   "cell_type": "code",
   "execution_count": 5,
   "id": "45d15864",
   "metadata": {},
   "outputs": [],
   "source": [
    "url = 'https://heasarc.gsfc.nasa.gov/FTP/fermi/data/gbm/triggers/2023/bn231012231/quicklook/glg_healpix_all_bn231012231.fit'\n",
    "obsTime = datetime.datetime.fromisoformat(\"2023-10-12 20:42:18\")\n",
    "ObsArray = ['LST1', 'LST2','LST3','LST4']\n",
    "colors_list = ['g','b','C4','cyan']\n",
    "\n",
    "name = 'GRB231012A_PWG'\n",
    "PointingsFile1 = '../sciencecases/bn231012231/PGWinFoV_NObs/SuggestedPointings_GWOptimisation.txt'\n",
    "dirName = '../paperplots'\n",
    "\n",
    "center = SkyCoord(30, 20, unit='deg', frame='icrs')\n",
    "radius = '20 deg'\n",
    "tGals0 = None"
   ]
  },
  {
   "cell_type": "code",
   "execution_count": 6,
   "id": "24e4221e",
   "metadata": {},
   "outputs": [],
   "source": [
    "url = 'https://www.ioffe.ru/LEA/ShortGRBs_IPN/data/20120612T59382/GRB20120612_T59382_IPN_map_hpx.fits.gz'\n",
    "obsTime = datetime.datetime.fromisoformat(\"2017-08-17 10:30:10\")\n",
    "ObsArray = ['ATCA']\n",
    "colors_list = ['k']\n",
    "\n",
    "name = 'IPN_PWG'\n",
    "PointingsFile1 = '../sciencecases/IPN_GRB20120612/PGWinFoV_NObs/SuggestedPointings_GWOptimisation.txt'\n",
    "dirName = '../paperplots'\n",
    "\n",
    "center = None\n",
    "radius = '3 deg'\n",
    "tGals0 = None"
   ]
  },
  {
   "attachments": {},
   "cell_type": "markdown",
   "id": "e5d47d0b",
   "metadata": {},
   "source": [
    "Procceed with the cells one by one "
   ]
  },
  {
   "cell_type": "code",
   "execution_count": 7,
   "id": "91c7eb1e",
   "metadata": {},
   "outputs": [
    {
     "name": "stdout",
     "output_type": "stream",
     "text": [
      "===========================================================================================\n",
      "parameters ['../config/FollowupParameters_ATCA.ini']\n"
     ]
    }
   ],
   "source": [
    "parameters = []\n",
    "obsparameters = []\n",
    "\n",
    "\n",
    "for i in ObsArray:\n",
    "    parameters.append(\"../config/FollowupParameters_%s.ini\" % i)\n",
    "print(\"===========================================================================================\")\n",
    "print('parameters', parameters)\n",
    "obsparameters = []"
   ]
  },
  {
   "cell_type": "code",
   "execution_count": 8,
   "id": "85be930a",
   "metadata": {},
   "outputs": [
    {
     "name": "stdout",
     "output_type": "stream",
     "text": [
      "============== Main parsed observation parameters ==============  \n",
      "Observatory Name: ATCA\n",
      "Observatory: -30.31 deg\n",
      "Observatory: 149.55 deg\n",
      "Observatory: 237.0 m\n",
      "Max zenith: 60\n",
      "Using Greytime is: True\n",
      "FOV: 0.1\n",
      "Max runs: 50\n",
      "Duration: 10\n",
      "High Resolution NSIDE: 512\n",
      "Low Resolution NSIDE: 512\n",
      "The strategy is (2D, integrated, mangrove=False)\n",
      "The level of details is (doPlot=True, doRank = True)\n",
      "\n"
     ]
    }
   ],
   "source": [
    "for j in range(len(parameters)):\n",
    "    obspar = ObservationParameters()\n",
    "    obspar.add_parsed_args(url, obsTime, datasetDir, galcatName, outDir, pointingsFile)\n",
    "    obspar.from_configfile(parameters[j])\n",
    "    obsparameters.append(obspar)\n",
    "print(obspar)"
   ]
  },
  {
   "attachments": {},
   "cell_type": "markdown",
   "id": "3612e155",
   "metadata": {},
   "source": [
    "ONLY for 3D cases"
   ]
  },
  {
   "cell_type": "code",
   "execution_count": 9,
   "id": "aa929f64-da3a-4180-a159-8ea231e8ccbb",
   "metadata": {},
   "outputs": [
    {
     "name": "stdout",
     "output_type": "stream",
     "text": [
      "Loading galaxy catalogue from ../../tilepy/dataset/Gladeplus.h5\n"
     ]
    },
    {
     "ename": "NameError",
     "evalue": "name 'LoadHealpixMap' is not defined",
     "output_type": "error",
     "traceback": [
      "\u001b[0;31m---------------------------------------------------------------------------\u001b[0m",
      "\u001b[0;31mNameError\u001b[0m                                 Traceback (most recent call last)",
      "Cell \u001b[0;32mIn[9], line 4\u001b[0m\n\u001b[1;32m      1\u001b[0m galaxies \u001b[38;5;241m=\u001b[39m obspar\u001b[38;5;241m.\u001b[39mdatasetDir \u001b[38;5;241m+\u001b[39m obspar\u001b[38;5;241m.\u001b[39mgalcatName\n\u001b[1;32m      3\u001b[0m cat \u001b[38;5;241m=\u001b[39m LoadGalaxies(galaxies)\n\u001b[0;32m----> 4\u001b[0m prob, distmu, distsigma, distnorm, detectors, fits_id, thisDistance, thisDistanceErr \u001b[38;5;241m=\u001b[39m \u001b[43mLoadHealpixMap\u001b[49m(url)\n\u001b[1;32m      5\u001b[0m tGals0, sum_dP_dV \u001b[38;5;241m=\u001b[39m CorrelateGalaxies_LVC(prob, distmu, distsigma, distnorm, cat, \u001b[38;5;28;01mTrue\u001b[39;00m, obspar\u001b[38;5;241m.\u001b[39mminimumProbCutForCatalogue)\n",
      "\u001b[0;31mNameError\u001b[0m: name 'LoadHealpixMap' is not defined"
     ]
    }
   ],
   "source": [
    "galaxies = obspar.datasetDir + obspar.galcatName\n",
    "\n",
    "cat = LoadGalaxies(galaxies)\n",
    "prob, distmu, distsigma, distnorm, detectors, fits_id, thisDistance, thisDistanceErr = LoadHealpixMap(url)\n",
    "tGals0, sum_dP_dV = CorrelateGalaxies_LVC(prob, distmu, distsigma, distnorm, cat, True, obspar.minimumProbCutForCatalogue)\n"
   ]
  },
  {
   "attachments": {},
   "cell_type": "markdown",
   "id": "cdb03148",
   "metadata": {},
   "source": [
    "Launch the plotting tool"
   ]
  },
  {
   "cell_type": "code",
   "execution_count": null,
   "id": "67b354da",
   "metadata": {},
   "outputs": [],
   "source": [
    "Pretty_Plot(url, name, PointingsFile1, dirName, obspar, tGals0, center, radius, colors_list)\n",
    "\n"
   ]
  }
 ],
 "metadata": {
  "kernelspec": {
   "display_name": "Python 3 (ipykernel)",
   "language": "python",
   "name": "python3"
  },
  "language_info": {
   "codemirror_mode": {
    "name": "ipython",
    "version": 3
   },
   "file_extension": ".py",
   "mimetype": "text/x-python",
   "name": "python",
   "nbconvert_exporter": "python",
   "pygments_lexer": "ipython3",
   "version": "3.11.10"
  },
  "vscode": {
   "interpreter": {
    "hash": "27b68d8d765e3bcc7497bdaa8796e67fcbf6255f91f21a56387fb4d1cc5ead39"
   }
  }
 },
 "nbformat": 4,
 "nbformat_minor": 5
}
