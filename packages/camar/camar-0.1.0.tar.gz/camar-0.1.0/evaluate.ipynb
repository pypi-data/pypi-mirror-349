{
 "cells": [
  {
   "cell_type": "code",
   "execution_count": 1,
   "id": "e5deea98",
   "metadata": {},
   "outputs": [],
   "source": [
    "import pandas as pd\n",
    "from glob import glob\n",
    "from matplotlib import pyplot as plt\n",
    "\n",
    "import scipy.stats as stats\n",
    "import numpy as np"
   ]
  },
  {
   "cell_type": "markdown",
   "id": "5d8983c8",
   "metadata": {},
   "source": [
    "RRT"
   ]
  },
  {
   "cell_type": "code",
   "execution_count": 2,
   "id": "ba5112d5",
   "metadata": {},
   "outputs": [],
   "source": [
    "all_data = {}\n",
    "for filename in glob(\"metrics_rrt/*.csv\"):\n",
    "    map_type = \"_\".join(filename.split(\"/\")[1].split(\"_\")[:2])\n",
    "    if map_type not in all_data:\n",
    "        all_data[map_type] = []\n",
    "    all_data[map_type].append(pd.read_csv(filename, index_col=0))"
   ]
  },
  {
   "cell_type": "code",
   "execution_count": 3,
   "id": "1cf64c95",
   "metadata": {},
   "outputs": [
    {
     "name": "stdout",
     "output_type": "stream",
     "text": [
      "random_grid :\n",
      "success_rate :  0.428±0.014\n",
      "flowtime :  2496±137\n",
      "makespan :  159.6±0.5\n",
      "coordination :  0.795±0.012\n",
      "\n",
      "labmaze_grid :\n",
      "success_rate :  0.542±0.022\n",
      "flowtime :  2105±136\n",
      "makespan :  144.5±3.3\n",
      "coordination :  0.593±0.018\n",
      "\n"
     ]
    }
   ],
   "source": [
    "cols = [\"success_rate\", \"flowtime\", \"makespan\", \"coordination\"]\n",
    "for map_type in [\"random_grid\", \"labmaze_grid\"]:\n",
    "    map_df = pd.concat(all_data[map_type])[cols] # concat and select cols\n",
    "    num_samples = map_df.shape[0]\n",
    "    mean = map_df.mean().values\n",
    "    median = map_df.median().values\n",
    "    std = map_df.std().values\n",
    "    left, right = stats.t.interval(0.95, df=num_samples, loc=mean, scale=std / np.sqrt(num_samples))\n",
    "\n",
    "    print(map_type, \":\")\n",
    "    print(cols[0], \":\", f\"{mean[0]: .3f}±{right[0] - mean[0] :.3f}\")\n",
    "    print(cols[1], \":\", f\"{mean[1]: .0f}±{right[1] - mean[1] :.0f}\")\n",
    "    print(cols[2], \":\", f\"{mean[2]: .1f}±{right[2] - mean[2] :.1f}\")\n",
    "    print(cols[3], \":\", f\"{mean[3]: .3f}±{right[3] - mean[3] :.3f}\")\n",
    "    # for col, val, right_ci in zip(cols, mean, right):\n",
    "    #     print(col, \":\", f\"{val: .3f}±{right_ci - val :.3f}\")\n",
    "\n",
    "    # print(map_df.apply(lambda col: f\"{float(col.mean()) :.2f}±{float(col.std()) :.2f}\"))\n",
    "    print()"
   ]
  },
  {
   "cell_type": "markdown",
   "id": "286614db",
   "metadata": {},
   "source": [
    "IPPO"
   ]
  },
  {
   "cell_type": "code",
   "execution_count": 4,
   "id": "b7f5f201",
   "metadata": {},
   "outputs": [],
   "source": [
    "all_data = {}\n",
    "for filename in glob(\"metrics/ippo/*/metrics/*.csv\"):\n",
    "    map_type = \"_\".join(filename.split(\"/\")[-1].split(\"_\")[:2])\n",
    "    if map_type not in all_data:\n",
    "        all_data[map_type] = []\n",
    "    all_data[map_type].append(pd.read_csv(filename, index_col=0))"
   ]
  },
  {
   "cell_type": "code",
   "execution_count": 5,
   "id": "94d7487f",
   "metadata": {},
   "outputs": [
    {
     "name": "stdout",
     "output_type": "stream",
     "text": [
      "random_grid :\n",
      "success_rate :  0.479±0.003\n",
      "flowtime :  1757±14\n",
      "makespan :  151.0±0.3\n",
      "coordination :  0.932±0.002\n",
      "\n",
      "labmaze_grid :\n",
      "success_rate :  0.330±0.003\n",
      "flowtime :  2155±16\n",
      "makespan :  155.2±0.3\n",
      "coordination :  0.929±0.001\n",
      "\n"
     ]
    }
   ],
   "source": [
    "cols = [\"success_rate\", \"flowtime\", \"makespan\", \"coordination\"]\n",
    "for map_type in [\"random_grid\", \"labmaze_grid\"]:\n",
    "    map_df = pd.concat(all_data[map_type])[cols] # concat and select cols\n",
    "    num_samples = map_df.shape[0]\n",
    "    mean = map_df.mean().values\n",
    "    median = map_df.median().values\n",
    "    std = map_df.std().values\n",
    "    left, right = stats.t.interval(0.95, df=num_samples, loc=mean, scale=std / np.sqrt(num_samples))\n",
    "\n",
    "    print(map_type, \":\")\n",
    "    print(cols[0], \":\", f\"{mean[0]: .3f}±{right[0] - mean[0] :.3f}\")\n",
    "    print(cols[1], \":\", f\"{mean[1]: .0f}±{right[1] - mean[1] :.0f}\")\n",
    "    print(cols[2], \":\", f\"{mean[2]: .1f}±{right[2] - mean[2] :.1f}\")\n",
    "    print(cols[3], \":\", f\"{mean[3]: .3f}±{right[3] - mean[3] :.3f}\")\n",
    "    # for col, val, right_ci in zip(cols, mean, right):\n",
    "    #     print(col, \":\", f\"{val: .3f}±{right_ci - val :.3f}\")\n",
    "\n",
    "    # print(map_df.apply(lambda col: f\"{float(col.mean()) :.2f}±{float(col.std()) :.2f}\"))\n",
    "    print()"
   ]
  },
  {
   "cell_type": "markdown",
   "id": "f9488ac4",
   "metadata": {},
   "source": [
    "MAPPO"
   ]
  },
  {
   "cell_type": "code",
   "execution_count": 6,
   "id": "b4d72071",
   "metadata": {},
   "outputs": [],
   "source": [
    "all_data = {}\n",
    "for filename in glob(\"metrics/mappo/*/metrics/*.csv\"):\n",
    "    map_type = \"_\".join(filename.split(\"/\")[-1].split(\"_\")[:2])\n",
    "    if map_type not in all_data:\n",
    "        all_data[map_type] = []\n",
    "    all_data[map_type].append(pd.read_csv(filename, index_col=0))"
   ]
  },
  {
   "cell_type": "code",
   "execution_count": 7,
   "id": "ed48f77f",
   "metadata": {},
   "outputs": [
    {
     "name": "stdout",
     "output_type": "stream",
     "text": [
      "random_grid :\n",
      "success_rate :  0.497±0.003\n",
      "flowtime :  1770±14\n",
      "makespan :  143.8±0.4\n",
      "coordination :  0.924±0.002\n",
      "\n",
      "labmaze_grid :\n",
      "success_rate :  0.300±0.003\n",
      "flowtime :  2303±16\n",
      "makespan :  155.3±0.3\n",
      "coordination :  0.935±0.001\n",
      "\n"
     ]
    }
   ],
   "source": [
    "cols = [\"success_rate\", \"flowtime\", \"makespan\", \"coordination\"]\n",
    "for map_type in [\"random_grid\", \"labmaze_grid\"]:\n",
    "    map_df = pd.concat(all_data[map_type])[cols] # concat and select cols\n",
    "    num_samples = map_df.shape[0]\n",
    "    mean = map_df.mean().values\n",
    "    median = map_df.median().values\n",
    "    std = map_df.std().values\n",
    "    left, right = stats.t.interval(0.95, df=num_samples, loc=mean, scale=std / np.sqrt(num_samples))\n",
    "\n",
    "    print(map_type, \":\")\n",
    "    print(cols[0], \":\", f\"{mean[0]: .3f}±{right[0] - mean[0] :.3f}\")\n",
    "    print(cols[1], \":\", f\"{mean[1]: .0f}±{right[1] - mean[1] :.0f}\")\n",
    "    print(cols[2], \":\", f\"{mean[2]: .1f}±{right[2] - mean[2] :.1f}\")\n",
    "    print(cols[3], \":\", f\"{mean[3]: .3f}±{right[3] - mean[3] :.3f}\")\n",
    "    # for col, val, right_ci in zip(cols, mean, right):\n",
    "    #     print(col, \":\", f\"{val: .3f}±{right_ci - val :.3f}\")\n",
    "\n",
    "    # print(map_df.apply(lambda col: f\"{float(col.mean()) :.2f}±{float(col.std()) :.2f}\"))\n",
    "    print()"
   ]
  },
  {
   "cell_type": "markdown",
   "id": "7616b7b3",
   "metadata": {},
   "source": [
    "ISAC"
   ]
  },
  {
   "cell_type": "code",
   "execution_count": 8,
   "id": "2f58a63e",
   "metadata": {},
   "outputs": [],
   "source": [
    "all_data = {}\n",
    "for filename in glob(\"metrics/isac/*/metrics/*.csv\"):\n",
    "    map_type = \"_\".join(filename.split(\"/\")[-1].split(\"_\")[:2])\n",
    "    if map_type not in all_data:\n",
    "        all_data[map_type] = []\n",
    "    all_data[map_type].append(pd.read_csv(filename, index_col=0))"
   ]
  },
  {
   "cell_type": "code",
   "execution_count": 9,
   "id": "60d9cd30",
   "metadata": {},
   "outputs": [
    {
     "name": "stdout",
     "output_type": "stream",
     "text": [
      "random_grid :\n",
      "success_rate :  0.232±0.003\n",
      "flowtime :  2462±17\n",
      "makespan :  157.1±0.2\n",
      "coordination :  0.984±0.001\n",
      "\n",
      "labmaze_grid :\n",
      "success_rate :  0.171±0.002\n",
      "flowtime :  2707±18\n",
      "makespan :  159.6±0.1\n",
      "coordination :  0.957±0.001\n",
      "\n"
     ]
    }
   ],
   "source": [
    "cols = [\"success_rate\", \"flowtime\", \"makespan\", \"coordination\"]\n",
    "for map_type in [\"random_grid\", \"labmaze_grid\"]:\n",
    "    map_df = pd.concat(all_data[map_type])[cols] # concat and select cols\n",
    "    num_samples = map_df.shape[0]\n",
    "    mean = map_df.mean().values\n",
    "    median = map_df.median().values\n",
    "    std = map_df.std().values\n",
    "    left, right = stats.t.interval(0.95, df=num_samples, loc=mean, scale=std / np.sqrt(num_samples))\n",
    "\n",
    "    print(map_type, \":\")\n",
    "    print(cols[0], \":\", f\"{mean[0]: .3f}±{right[0] - mean[0] :.3f}\")\n",
    "    print(cols[1], \":\", f\"{mean[1]: .0f}±{right[1] - mean[1] :.0f}\")\n",
    "    print(cols[2], \":\", f\"{mean[2]: .1f}±{right[2] - mean[2] :.1f}\")\n",
    "    print(cols[3], \":\", f\"{mean[3]: .3f}±{right[3] - mean[3] :.3f}\")\n",
    "    # for col, val, right_ci in zip(cols, mean, right):\n",
    "    #     print(col, \":\", f\"{val: .3f}±{right_ci - val :.3f}\")\n",
    "\n",
    "    # print(map_df.apply(lambda col: f\"{float(col.mean()) :.2f}±{float(col.std()) :.2f}\"))\n",
    "    print()"
   ]
  },
  {
   "cell_type": "markdown",
   "id": "a7be0539",
   "metadata": {},
   "source": [
    "MASAC"
   ]
  },
  {
   "cell_type": "code",
   "execution_count": 10,
   "id": "043b9511",
   "metadata": {},
   "outputs": [],
   "source": [
    "all_data = {}\n",
    "for filename in glob(\"metrics/masac/*/metrics/*.csv\"):\n",
    "    map_type = \"_\".join(filename.split(\"/\")[-1].split(\"_\")[:2])\n",
    "    if map_type not in all_data:\n",
    "        all_data[map_type] = []\n",
    "    all_data[map_type].append(pd.read_csv(filename, index_col=0))"
   ]
  },
  {
   "cell_type": "code",
   "execution_count": 11,
   "id": "b328c78a",
   "metadata": {},
   "outputs": [
    {
     "name": "stdout",
     "output_type": "stream",
     "text": [
      "random_grid :\n",
      "success_rate :  0.046±0.001\n",
      "flowtime :  2782±18\n",
      "makespan :  160.0±0.0\n",
      "coordination :  0.814±0.002\n",
      "\n",
      "labmaze_grid :\n",
      "success_rate :  0.032±0.001\n",
      "flowtime :  2865±18\n",
      "makespan :  160.0±0.0\n",
      "coordination :  0.806±0.002\n",
      "\n"
     ]
    }
   ],
   "source": [
    "cols = [\"success_rate\", \"flowtime\", \"makespan\", \"coordination\"]\n",
    "for map_type in [\"random_grid\", \"labmaze_grid\"]:\n",
    "    map_df = pd.concat(all_data[map_type])[cols] # concat and select cols\n",
    "    num_samples = map_df.shape[0]\n",
    "    mean = map_df.mean().values\n",
    "    median = map_df.median().values\n",
    "    std = map_df.std().values\n",
    "    left, right = stats.t.interval(0.95, df=num_samples, loc=mean, scale=std / np.sqrt(num_samples))\n",
    "\n",
    "    print(map_type, \":\")\n",
    "    print(cols[0], \":\", f\"{mean[0]: .3f}±{right[0] - mean[0] :.3f}\")\n",
    "    print(cols[1], \":\", f\"{mean[1]: .0f}±{right[1] - mean[1] :.0f}\")\n",
    "    print(cols[2], \":\", f\"{mean[2]: .1f}±{right[2] - mean[2] :.1f}\")\n",
    "    print(cols[3], \":\", f\"{mean[3]: .3f}±{right[3] - mean[3] :.3f}\")\n",
    "    # for col, val, right_ci in zip(cols, mean, right):\n",
    "    #     print(col, \":\", f\"{val: .3f}±{right_ci - val :.3f}\")\n",
    "\n",
    "    # print(map_df.apply(lambda col: f\"{float(col.mean()) :.2f}±{float(col.std()) :.2f}\"))\n",
    "    print()"
   ]
  },
  {
   "cell_type": "markdown",
   "id": "40130580",
   "metadata": {},
   "source": [
    "IDDPG"
   ]
  },
  {
   "cell_type": "code",
   "execution_count": 12,
   "id": "2316d172",
   "metadata": {},
   "outputs": [],
   "source": [
    "all_data = {}\n",
    "for filename in glob(\"metrics/iddpg/*/metrics/*.csv\"):\n",
    "    map_type = \"_\".join(filename.split(\"/\")[-1].split(\"_\")[:2])\n",
    "    if map_type not in all_data:\n",
    "        all_data[map_type] = []\n",
    "    all_data[map_type].append(pd.read_csv(filename, index_col=0))"
   ]
  },
  {
   "cell_type": "code",
   "execution_count": 13,
   "id": "12685483",
   "metadata": {},
   "outputs": [
    {
     "name": "stdout",
     "output_type": "stream",
     "text": [
      "random_grid :\n",
      "success_rate :  0.299±0.003\n",
      "flowtime :  2182±16\n",
      "makespan :  155.1±0.2\n",
      "coordination :  0.970±0.001\n",
      "\n",
      "labmaze_grid :\n",
      "success_rate :  0.337±0.003\n",
      "flowtime :  2329±17\n",
      "makespan :  153.6±0.3\n",
      "coordination :  0.949±0.001\n",
      "\n"
     ]
    }
   ],
   "source": [
    "cols = [\"success_rate\", \"flowtime\", \"makespan\", \"coordination\"]\n",
    "for map_type in [\"random_grid\", \"labmaze_grid\"]:\n",
    "    map_df = pd.concat(all_data[map_type])[cols] # concat and select cols\n",
    "    num_samples = map_df.shape[0]\n",
    "    mean = map_df.mean().values\n",
    "    median = map_df.median().values\n",
    "    std = map_df.std().values\n",
    "    left, right = stats.t.interval(0.95, df=num_samples, loc=mean, scale=std / np.sqrt(num_samples))\n",
    "\n",
    "    print(map_type, \":\")\n",
    "    print(cols[0], \":\", f\"{mean[0]: .3f}±{right[0] - mean[0] :.3f}\")\n",
    "    print(cols[1], \":\", f\"{mean[1]: .0f}±{right[1] - mean[1] :.0f}\")\n",
    "    print(cols[2], \":\", f\"{mean[2]: .1f}±{right[2] - mean[2] :.1f}\")\n",
    "    print(cols[3], \":\", f\"{mean[3]: .3f}±{right[3] - mean[3] :.3f}\")\n",
    "    # for col, val, right_ci in zip(cols, mean, right):\n",
    "    #     print(col, \":\", f\"{val: .3f}±{right_ci - val :.3f}\")\n",
    "\n",
    "    # print(map_df.apply(lambda col: f\"{float(col.mean()) :.2f}±{float(col.std()) :.2f}\"))\n",
    "    print()"
   ]
  },
  {
   "cell_type": "markdown",
   "id": "a4f95f65",
   "metadata": {},
   "source": [
    "MADDPG"
   ]
  },
  {
   "cell_type": "code",
   "execution_count": 14,
   "id": "04d36b71",
   "metadata": {},
   "outputs": [],
   "source": [
    "all_data = {}\n",
    "for filename in glob(\"metrics/maddpg/*/metrics/*.csv\"):\n",
    "    map_type = \"_\".join(filename.split(\"/\")[-1].split(\"_\")[:2])\n",
    "    if map_type not in all_data:\n",
    "        all_data[map_type] = []\n",
    "    all_data[map_type].append(pd.read_csv(filename, index_col=0))"
   ]
  },
  {
   "cell_type": "code",
   "execution_count": 15,
   "id": "636ff813",
   "metadata": {},
   "outputs": [
    {
     "name": "stdout",
     "output_type": "stream",
     "text": [
      "random_grid :\n",
      "success_rate :  0.024±0.001\n",
      "flowtime :  3024±19\n",
      "makespan :  160.0±0.0\n",
      "coordination :  0.880±0.002\n",
      "\n",
      "labmaze_grid :\n",
      "success_rate :  0.005±0.000\n",
      "flowtime :  2996±18\n",
      "makespan :  160.0±0.0\n",
      "coordination :  0.849±0.001\n",
      "\n"
     ]
    }
   ],
   "source": [
    "cols = [\"success_rate\", \"flowtime\", \"makespan\", \"coordination\"]\n",
    "for map_type in [\"random_grid\", \"labmaze_grid\"]:\n",
    "    map_df = pd.concat(all_data[map_type])[cols] # concat and select cols\n",
    "    num_samples = map_df.shape[0]\n",
    "    mean = map_df.mean().values\n",
    "    median = map_df.median().values\n",
    "    std = map_df.std().values\n",
    "    left, right = stats.t.interval(0.95, df=num_samples, loc=mean, scale=std / np.sqrt(num_samples))\n",
    "\n",
    "    print(map_type, \":\")\n",
    "    print(cols[0], \":\", f\"{mean[0]: .3f}±{right[0] - mean[0] :.3f}\")\n",
    "    print(cols[1], \":\", f\"{mean[1]: .0f}±{right[1] - mean[1] :.0f}\")\n",
    "    print(cols[2], \":\", f\"{mean[2]: .1f}±{right[2] - mean[2] :.1f}\")\n",
    "    print(cols[3], \":\", f\"{mean[3]: .3f}±{right[3] - mean[3] :.3f}\")\n",
    "    # for col, val, right_ci in zip(cols, mean, right):\n",
    "    #     print(col, \":\", f\"{val: .3f}±{right_ci - val :.3f}\")\n",
    "\n",
    "    # print(map_df.apply(lambda col: f\"{float(col.mean()) :.2f}±{float(col.std()) :.2f}\"))\n",
    "    print()"
   ]
  },
  {
   "cell_type": "code",
   "execution_count": 16,
   "id": "22ec4690",
   "metadata": {},
   "outputs": [],
   "source": [
    "data_count = {}\n",
    "for filename in glob(\"metrics/*/*/*/*.csv\"):\n",
    "    _, algo_name, algo, _, task_name = filename.split(\"/\")\n",
    "    if algo_name not in data_count:\n",
    "        data_count[algo_name] = 0\n",
    "    data_count[algo_name] += 1"
   ]
  },
  {
   "cell_type": "code",
   "execution_count": 17,
   "id": "a3825847",
   "metadata": {},
   "outputs": [
    {
     "data": {
      "text/plain": [
       "{'mappo': 72, 'masac': 72, 'isac': 72, 'maddpg': 72, 'ippo': 72, 'iddpg': 72}"
      ]
     },
     "execution_count": 17,
     "metadata": {},
     "output_type": "execute_result"
    }
   ],
   "source": [
    "data_count"
   ]
  }
 ],
 "metadata": {
  "kernelspec": {
   "display_name": ".venv",
   "language": "python",
   "name": "python3"
  },
  "language_info": {
   "codemirror_mode": {
    "name": "ipython",
    "version": 3
   },
   "file_extension": ".py",
   "mimetype": "text/x-python",
   "name": "python",
   "nbconvert_exporter": "python",
   "pygments_lexer": "ipython3",
   "version": "3.10.17"
  }
 },
 "nbformat": 4,
 "nbformat_minor": 5
}
