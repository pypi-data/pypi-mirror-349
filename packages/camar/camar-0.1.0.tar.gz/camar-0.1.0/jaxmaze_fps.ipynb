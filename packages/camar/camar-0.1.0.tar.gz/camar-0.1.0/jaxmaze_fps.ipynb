{
 "cells": [
  {
   "cell_type": "code",
   "execution_count": 1,
   "metadata": {},
   "outputs": [],
   "source": [
    "import os\n",
    "\n",
    "os.environ['CUDA_VISIBLE_DEVICES'] = '1'"
   ]
  },
  {
   "cell_type": "code",
   "execution_count": 2,
   "metadata": {},
   "outputs": [
    {
     "name": "stdout",
     "output_type": "stream",
     "text": [
      "env: XLA_PYTHON_CLIENT_MEM_FRACTION=0.90\n"
     ]
    }
   ],
   "source": [
    "%env XLA_PYTHON_CLIENT_MEM_FRACTION=0.90"
   ]
  },
  {
   "cell_type": "code",
   "execution_count": 3,
   "metadata": {},
   "outputs": [],
   "source": [
    "import time\n",
    "import jax\n",
    "import wandb"
   ]
  },
  {
   "cell_type": "code",
   "execution_count": 4,
   "metadata": {},
   "outputs": [
    {
     "data": {
      "text/plain": [
       "([CudaDevice(id=0)], 'gpu')"
      ]
     },
     "execution_count": 4,
     "metadata": {},
     "output_type": "execute_result"
    }
   ],
   "source": [
    "jax.devices(), jax.default_backend()"
   ]
  },
  {
   "cell_type": "code",
   "execution_count": 5,
   "metadata": {},
   "outputs": [],
   "source": [
    "from grid_maze3 import Grid_Maze"
   ]
  },
  {
   "cell_type": "code",
   "execution_count": 6,
   "metadata": {},
   "outputs": [],
   "source": [
    "def make_benchmark(config):\n",
    "\tenv = Grid_Maze(**config[\"ENV_KWARGS\"])\n",
    "\tconfig[\"NUM_ACTORS\"] = env.num_agents * config[\"NUM_ENVS\"]\n",
    "\n",
    "\tdef benchmark(rng):\n",
    "\t\tdef init_runner_state(rng):\n",
    "\n",
    "\t\t\t# INIT ENV\n",
    "\t\t\trng, _rng = jax.random.split(rng)\n",
    "\t\t\treset_rng = jax.random.split(_rng, config[\"NUM_ENVS\"])\n",
    "\t\t\tenv_state, obsv, done = jax.vmap(env.reset)(reset_rng)\n",
    "\n",
    "\t\t\treturn (env_state, obsv, rng)\n",
    "\n",
    "\t\tdef env_step(runner_state, unused):\n",
    "\t\t\tenv_state, last_obs, rng = runner_state\n",
    "\n",
    "\t\t\t# SELECT ACTION\n",
    "\t\t\trng, _rng = jax.random.split(rng)\n",
    "\t\t\trngs = jax.random.split(_rng, config[\"NUM_ENVS\"]).reshape((config[\"NUM_ENVS\"], -1))\n",
    "\t\t\tactions = jax.vmap(env.action_spaces.sample)(rngs)\n",
    "\n",
    "\t\t\t# STEP ENV\n",
    "\t\t\trng, _rng = jax.random.split(rng)\n",
    "\t\t\trng_step = jax.random.split(_rng, config[\"NUM_ENVS\"])\n",
    "\t\t\tenv_state, obsv, _, _ = jax.vmap(env.step)(\n",
    "\t\t\t\trng_step, env_state, actions\n",
    "\t\t\t)\n",
    "\t\t\trunner_state = (env_state, obsv, rng)\n",
    "\t\t\treturn runner_state, None\n",
    "\n",
    "\t\trng, init_rng = jax.random.split(rng)\n",
    "\t\trunner_state = init_runner_state(init_rng)\n",
    "\t\trunner_state = jax.lax.scan(env_step, runner_state, None, config[\"NUM_STEPS\"])\n",
    "\t\treturn runner_state\n",
    "\n",
    "\treturn benchmark"
   ]
  },
  {
   "cell_type": "code",
   "execution_count": null,
   "metadata": {},
   "outputs": [
    {
     "name": "stderr",
     "output_type": "stream",
     "text": [
      "\u001b[34m\u001b[1mwandb\u001b[0m: Currently logged in as: \u001b[33mapshenitsyn\u001b[0m (\u001b[33mapshenitsyn-\u001b[0m) to \u001b[32mhttps://api.wandb.ai\u001b[0m. Use \u001b[1m`wandb login --relogin`\u001b[0m to force relogin\n",
      "\u001b[34m\u001b[1mwandb\u001b[0m: Using wandb-core as the SDK backend.  Please refer to https://wandb.me/wandb-core for more information.\n"
     ]
    },
    {
     "data": {
      "text/html": [
       "Tracking run with wandb version 0.19.6"
      ],
      "text/plain": [
       "<IPython.core.display.HTML object>"
      ]
     },
     "metadata": {},
     "output_type": "display_data"
    },
    {
     "data": {
      "text/html": [
       "Run data is saved locally in <code>/home/apshenitsyn/jaxmarl/wandb/run-20250311_000921-qvghmef5</code>"
      ],
      "text/plain": [
       "<IPython.core.display.HTML object>"
      ]
     },
     "metadata": {},
     "output_type": "display_data"
    },
    {
     "data": {
      "text/html": [
       "Syncing run <strong><a href='https://wandb.ai/apshenitsyn-/env_comparisons/runs/qvghmef5' target=\"_blank\">rl2/myenv_jax</a></strong> to <a href='https://wandb.ai/apshenitsyn-/env_comparisons' target=\"_blank\">Weights & Biases</a> (<a href='https://wandb.me/developer-guide' target=\"_blank\">docs</a>)<br>"
      ],
      "text/plain": [
       "<IPython.core.display.HTML object>"
      ]
     },
     "metadata": {},
     "output_type": "display_data"
    },
    {
     "data": {
      "text/html": [
       " View project at <a href='https://wandb.ai/apshenitsyn-/env_comparisons' target=\"_blank\">https://wandb.ai/apshenitsyn-/env_comparisons</a>"
      ],
      "text/plain": [
       "<IPython.core.display.HTML object>"
      ]
     },
     "metadata": {},
     "output_type": "display_data"
    },
    {
     "data": {
      "text/html": [
       " View run at <a href='https://wandb.ai/apshenitsyn-/env_comparisons/runs/qvghmef5' target=\"_blank\">https://wandb.ai/apshenitsyn-/env_comparisons/runs/qvghmef5</a>"
      ],
      "text/plain": [
       "<IPython.core.display.HTML object>"
      ]
     },
     "metadata": {},
     "output_type": "display_data"
    },
    {
     "data": {
      "text/html": [],
      "text/plain": [
       "<IPython.core.display.HTML object>"
      ]
     },
     "metadata": {},
     "output_type": "display_data"
    },
    {
     "data": {
      "text/html": [
       "<br>    <style><br>        .wandb-row {<br>            display: flex;<br>            flex-direction: row;<br>            flex-wrap: wrap;<br>            justify-content: flex-start;<br>            width: 100%;<br>        }<br>        .wandb-col {<br>            display: flex;<br>            flex-direction: column;<br>            flex-basis: 100%;<br>            flex: 1;<br>            padding: 10px;<br>        }<br>    </style><br><div class=\"wandb-row\"><div class=\"wandb-col\"><h3>Run history:</h3><br/><table class=\"wandb\"><tr><td>OPS</td><td>▁▆▇█▇▇▇▆▆▆</td></tr><tr><td>SPS</td><td>▁▆▇█▇▇▇▆▆▆</td></tr><tr><td>n_agents</td><td>▁▁▁▁▁▁▁▁▁▁</td></tr><tr><td>n_objects</td><td>▁▁▁▁▁▁▁▁▁▁</td></tr><tr><td>num_envs</td><td>▁▂▃▃▄▅▆▆▇█</td></tr></table><br/></div><div class=\"wandb-col\"><h3>Run summary:</h3><br/><table class=\"wandb\"><tr><td>OPS</td><td>430301.20829</td></tr><tr><td>SPS</td><td>10757.53021</td></tr><tr><td>n_agents</td><td>40</td></tr><tr><td>n_objects</td><td>2680</td></tr><tr><td>num_envs</td><td>4600</td></tr></table><br/></div></div>"
      ],
      "text/plain": [
       "<IPython.core.display.HTML object>"
      ]
     },
     "metadata": {},
     "output_type": "display_data"
    },
    {
     "data": {
      "text/html": [
       " View run <strong style=\"color:#cdcd00\">rl2/myenv_jax</strong> at: <a href='https://wandb.ai/apshenitsyn-/env_comparisons/runs/qvghmef5' target=\"_blank\">https://wandb.ai/apshenitsyn-/env_comparisons/runs/qvghmef5</a><br> View project at: <a href='https://wandb.ai/apshenitsyn-/env_comparisons' target=\"_blank\">https://wandb.ai/apshenitsyn-/env_comparisons</a><br>Synced 5 W&B file(s), 0 media file(s), 0 artifact file(s) and 0 other file(s)"
      ],
      "text/plain": [
       "<IPython.core.display.HTML object>"
      ]
     },
     "metadata": {},
     "output_type": "display_data"
    },
    {
     "data": {
      "text/html": [
       "Find logs at: <code>./wandb/run-20250311_000921-qvghmef5/logs</code>"
      ],
      "text/plain": [
       "<IPython.core.display.HTML object>"
      ]
     },
     "metadata": {},
     "output_type": "display_data"
    },
    {
     "ename": "",
     "evalue": "",
     "output_type": "error",
     "traceback": [
      "\u001b[1;31mThe Kernel crashed while executing code in the current cell or a previous cell. \n",
      "\u001b[1;31mPlease review the code in the cell(s) to identify a possible cause of the failure. \n",
      "\u001b[1;31mClick <a href='https://aka.ms/vscodeJupyterKernelCrash'>here</a> for more info. \n",
      "\u001b[1;31mView Jupyter <a href='command:jupyter.viewOutput'>log</a> for further details."
     ]
    }
   ],
   "source": [
    "for num_agents in [40]:\n",
    "\tconfig = {\n",
    "\t\t\"NUM_STEPS\": 5,\n",
    "\t\t\"NUM_ENVS\": 1000,\n",
    "\t\t\"ACTIVATION\": \"relu\",\n",
    "\t\t\"ENV_NAME\": \"grid_maze\",\n",
    "\t\t\"NUM_SEEDS\": 1,\n",
    "\t\t\"SEED\": 0,\n",
    "\t}\n",
    "\n",
    "\tconfig[\"ENV_KWARGS\"] = {\n",
    "\t\t\"width\": 20,\n",
    "\t\t\"height\": 20,\n",
    "\t\t\"obstacle_density\": 0.5,\n",
    "\t\t\"num_agents\": num_agents,\n",
    "\t\t\"grain_factor\": 4,\n",
    "\t\t\"obstacle_size\": 0.4,\n",
    "\t\t\"contact_force\": 500,\n",
    "\t\t\"contact_margin\": 1e-3,\n",
    "\t\t\"dt\": 0.01,\n",
    "\t\t\"max_steps\": 500,\n",
    "\t\t\"frameskip\": 4,\n",
    "\t}\n",
    "\n",
    "\twandb.init(\n",
    "\t\tproject=\"env_comparisons\",\n",
    "\t\tconfig={\n",
    "\t\t\t\"n_runs\": 1,\n",
    "\t\t\t\"rollout_length\": config[\"NUM_STEPS\"],\n",
    "\t\t\t\"device\": str(jax.devices()[0]),\n",
    "\t\t\t\"benchamrk_config\": config\n",
    "\t\t},\n",
    "\t\tname=f\"rl2/myenv_jax\"\n",
    "\t)\n",
    "\n",
    "\t### JAXMARL BENCHMARK\n",
    "\tnum_envs = [100, 600, 1100, 1600, 2100, 2600, 3100, 3600, 4100, 4600]\n",
    "\tfor num in num_envs:\n",
    "\t\tconfig[\"NUM_ENVS\"] = num\n",
    "\n",
    "\t\ttotal_time = 0.\n",
    "\t\tfor run in range(wandb.config.n_runs):\n",
    "\t\t\tjax.clear_caches()\n",
    "\t\t\tbenchmark_fn = jax.jit(make_benchmark(config))\n",
    "\t\t\trng = jax.random.PRNGKey(config[\"SEED\"])\n",
    "\t\t\trng, _rng = jax.random.split(rng)\\\n",
    "\n",
    "\t\t\tbenchmark_jit = jax.jit(benchmark_fn).lower(_rng).compile()\n",
    "\n",
    "\t\t\tbefore = time.perf_counter_ns()\n",
    "\t\t\trunner_state = jax.block_until_ready(benchmark_jit(_rng))\n",
    "\t\t\tafter = time.perf_counter_ns()\n",
    "\n",
    "\t\t\ttotal_time += (after - before) / 1e9\n",
    "\t\t\t\n",
    "\t\tenv = Grid_Maze(**config[\"ENV_KWARGS\"])\n",
    "\t\t# env = jaxmarl.make(config[\"ENV_NAME\"], **config[\"ENV_KWARGS\"])\n",
    "\n",
    "\t\tsps = wandb.config.n_runs * config['NUM_STEPS'] * config['NUM_ENVS'] / total_time\n",
    "\t\tops = sps * env.num_agents\n",
    "\n",
    "\t\twandb.log({\"num_envs\": config[\"NUM_ENVS\"], \"SPS\": sps, \"OPS\": ops, \"n_agents\": env.num_agents, \"n_objects\": env.num_entities})\n",
    "\n",
    "\twandb.finish()"
   ]
  },
  {
   "cell_type": "code",
   "execution_count": 7,
   "metadata": {},
   "outputs": [
    {
     "name": "stderr",
     "output_type": "stream",
     "text": [
      "\u001b[34m\u001b[1mwandb\u001b[0m: Currently logged in as: \u001b[33mapshenitsyn\u001b[0m (\u001b[33mapshenitsyn-\u001b[0m) to \u001b[32mhttps://api.wandb.ai\u001b[0m. Use \u001b[1m`wandb login --relogin`\u001b[0m to force relogin\n",
      "\u001b[34m\u001b[1mwandb\u001b[0m: Using wandb-core as the SDK backend.  Please refer to https://wandb.me/wandb-core for more information.\n"
     ]
    },
    {
     "data": {
      "text/html": [
       "Tracking run with wandb version 0.19.6"
      ],
      "text/plain": [
       "<IPython.core.display.HTML object>"
      ]
     },
     "metadata": {},
     "output_type": "display_data"
    },
    {
     "data": {
      "text/html": [
       "Run data is saved locally in <code>/home/apshenitsyn/jaxmarl/wandb/run-20250226_162156-gsjxerht</code>"
      ],
      "text/plain": [
       "<IPython.core.display.HTML object>"
      ]
     },
     "metadata": {},
     "output_type": "display_data"
    },
    {
     "data": {
      "text/html": [
       "Syncing run <strong><a href='https://wandb.ai/apshenitsyn-/jaxmarl_fps/runs/gsjxerht' target=\"_blank\">rl2/grid_maze3_a32_od0.05_jupyter</a></strong> to <a href='https://wandb.ai/apshenitsyn-/jaxmarl_fps' target=\"_blank\">Weights & Biases</a> (<a href='https://wandb.me/developer-guide' target=\"_blank\">docs</a>)<br>"
      ],
      "text/plain": [
       "<IPython.core.display.HTML object>"
      ]
     },
     "metadata": {},
     "output_type": "display_data"
    },
    {
     "data": {
      "text/html": [
       " View project at <a href='https://wandb.ai/apshenitsyn-/jaxmarl_fps' target=\"_blank\">https://wandb.ai/apshenitsyn-/jaxmarl_fps</a>"
      ],
      "text/plain": [
       "<IPython.core.display.HTML object>"
      ]
     },
     "metadata": {},
     "output_type": "display_data"
    },
    {
     "data": {
      "text/html": [
       " View run at <a href='https://wandb.ai/apshenitsyn-/jaxmarl_fps/runs/gsjxerht' target=\"_blank\">https://wandb.ai/apshenitsyn-/jaxmarl_fps/runs/gsjxerht</a>"
      ],
      "text/plain": [
       "<IPython.core.display.HTML object>"
      ]
     },
     "metadata": {},
     "output_type": "display_data"
    },
    {
     "data": {
      "text/html": [],
      "text/plain": [
       "<IPython.core.display.HTML object>"
      ]
     },
     "metadata": {},
     "output_type": "display_data"
    },
    {
     "data": {
      "text/html": [
       "<br>    <style><br>        .wandb-row {<br>            display: flex;<br>            flex-direction: row;<br>            flex-wrap: wrap;<br>            justify-content: flex-start;<br>            width: 100%;<br>        }<br>        .wandb-col {<br>            display: flex;<br>            flex-direction: column;<br>            flex-basis: 100%;<br>            flex: 1;<br>            padding: 10px;<br>        }<br>    </style><br><div class=\"wandb-row\"><div class=\"wandb-col\"><h3>Run history:</h3><br/><table class=\"wandb\"><tr><td>OPS</td><td>▃█▅▅▅▄▁</td></tr><tr><td>SPS</td><td>▃█▅▅▅▄▁</td></tr><tr><td>n_agents</td><td>▁▁▁▁▁▁▁</td></tr><tr><td>n_objects</td><td>▁▁▁▁▁▁▁</td></tr><tr><td>n_obstacles</td><td>▁▁▁▁▁▁▁</td></tr><tr><td>num_envs</td><td>▁▁▂▃▄▄█</td></tr></table><br/></div><div class=\"wandb-col\"><h3>Run summary:</h3><br/><table class=\"wandb\"><tr><td>OPS</td><td>2936909.06759</td></tr><tr><td>SPS</td><td>91778.40836</td></tr><tr><td>n_agents</td><td>32</td></tr><tr><td>n_objects</td><td>440</td></tr><tr><td>n_obstacles</td><td>16</td></tr><tr><td>num_envs</td><td>10000</td></tr></table><br/></div></div>"
      ],
      "text/plain": [
       "<IPython.core.display.HTML object>"
      ]
     },
     "metadata": {},
     "output_type": "display_data"
    },
    {
     "data": {
      "text/html": [
       " View run <strong style=\"color:#cdcd00\">rl2/grid_maze3_a32_od0.05_jupyter</strong> at: <a href='https://wandb.ai/apshenitsyn-/jaxmarl_fps/runs/gsjxerht' target=\"_blank\">https://wandb.ai/apshenitsyn-/jaxmarl_fps/runs/gsjxerht</a><br> View project at: <a href='https://wandb.ai/apshenitsyn-/jaxmarl_fps' target=\"_blank\">https://wandb.ai/apshenitsyn-/jaxmarl_fps</a><br>Synced 5 W&B file(s), 0 media file(s), 0 artifact file(s) and 0 other file(s)"
      ],
      "text/plain": [
       "<IPython.core.display.HTML object>"
      ]
     },
     "metadata": {},
     "output_type": "display_data"
    },
    {
     "data": {
      "text/html": [
       "Find logs at: <code>./wandb/run-20250226_162156-gsjxerht/logs</code>"
      ],
      "text/plain": [
       "<IPython.core.display.HTML object>"
      ]
     },
     "metadata": {},
     "output_type": "display_data"
    },
    {
     "data": {
      "text/html": [
       "Tracking run with wandb version 0.19.6"
      ],
      "text/plain": [
       "<IPython.core.display.HTML object>"
      ]
     },
     "metadata": {},
     "output_type": "display_data"
    },
    {
     "data": {
      "text/html": [
       "Run data is saved locally in <code>/home/apshenitsyn/jaxmarl/wandb/run-20250226_162708-xl0t4j77</code>"
      ],
      "text/plain": [
       "<IPython.core.display.HTML object>"
      ]
     },
     "metadata": {},
     "output_type": "display_data"
    },
    {
     "data": {
      "text/html": [
       "Syncing run <strong><a href='https://wandb.ai/apshenitsyn-/jaxmarl_fps/runs/xl0t4j77' target=\"_blank\">rl2/grid_maze3_a32_od0.1_jupyter</a></strong> to <a href='https://wandb.ai/apshenitsyn-/jaxmarl_fps' target=\"_blank\">Weights & Biases</a> (<a href='https://wandb.me/developer-guide' target=\"_blank\">docs</a>)<br>"
      ],
      "text/plain": [
       "<IPython.core.display.HTML object>"
      ]
     },
     "metadata": {},
     "output_type": "display_data"
    },
    {
     "data": {
      "text/html": [
       " View project at <a href='https://wandb.ai/apshenitsyn-/jaxmarl_fps' target=\"_blank\">https://wandb.ai/apshenitsyn-/jaxmarl_fps</a>"
      ],
      "text/plain": [
       "<IPython.core.display.HTML object>"
      ]
     },
     "metadata": {},
     "output_type": "display_data"
    },
    {
     "data": {
      "text/html": [
       " View run at <a href='https://wandb.ai/apshenitsyn-/jaxmarl_fps/runs/xl0t4j77' target=\"_blank\">https://wandb.ai/apshenitsyn-/jaxmarl_fps/runs/xl0t4j77</a>"
      ],
      "text/plain": [
       "<IPython.core.display.HTML object>"
      ]
     },
     "metadata": {},
     "output_type": "display_data"
    },
    {
     "data": {
      "text/html": [],
      "text/plain": [
       "<IPython.core.display.HTML object>"
      ]
     },
     "metadata": {},
     "output_type": "display_data"
    },
    {
     "data": {
      "text/html": [
       "<br>    <style><br>        .wandb-row {<br>            display: flex;<br>            flex-direction: row;<br>            flex-wrap: wrap;<br>            justify-content: flex-start;<br>            width: 100%;<br>        }<br>        .wandb-col {<br>            display: flex;<br>            flex-direction: column;<br>            flex-basis: 100%;<br>            flex: 1;<br>            padding: 10px;<br>        }<br>    </style><br><div class=\"wandb-row\"><div class=\"wandb-col\"><h3>Run history:</h3><br/><table class=\"wandb\"><tr><td>OPS</td><td>▃█▅▅▄▃▁</td></tr><tr><td>SPS</td><td>▃█▅▅▄▃▁</td></tr><tr><td>n_agents</td><td>▁▁▁▁▁▁▁</td></tr><tr><td>n_objects</td><td>▁▁▁▁▁▁▁</td></tr><tr><td>n_obstacles</td><td>▁▁▁▁▁▁▁</td></tr><tr><td>num_envs</td><td>▁▁▂▃▄▄█</td></tr></table><br/></div><div class=\"wandb-col\"><h3>Run summary:</h3><br/><table class=\"wandb\"><tr><td>OPS</td><td>1883562.99396</td></tr><tr><td>SPS</td><td>58861.34356</td></tr><tr><td>n_agents</td><td>32</td></tr><tr><td>n_objects</td><td>632</td></tr><tr><td>n_obstacles</td><td>32</td></tr><tr><td>num_envs</td><td>10000</td></tr></table><br/></div></div>"
      ],
      "text/plain": [
       "<IPython.core.display.HTML object>"
      ]
     },
     "metadata": {},
     "output_type": "display_data"
    },
    {
     "data": {
      "text/html": [
       " View run <strong style=\"color:#cdcd00\">rl2/grid_maze3_a32_od0.1_jupyter</strong> at: <a href='https://wandb.ai/apshenitsyn-/jaxmarl_fps/runs/xl0t4j77' target=\"_blank\">https://wandb.ai/apshenitsyn-/jaxmarl_fps/runs/xl0t4j77</a><br> View project at: <a href='https://wandb.ai/apshenitsyn-/jaxmarl_fps' target=\"_blank\">https://wandb.ai/apshenitsyn-/jaxmarl_fps</a><br>Synced 5 W&B file(s), 0 media file(s), 0 artifact file(s) and 0 other file(s)"
      ],
      "text/plain": [
       "<IPython.core.display.HTML object>"
      ]
     },
     "metadata": {},
     "output_type": "display_data"
    },
    {
     "data": {
      "text/html": [
       "Find logs at: <code>./wandb/run-20250226_162708-xl0t4j77/logs</code>"
      ],
      "text/plain": [
       "<IPython.core.display.HTML object>"
      ]
     },
     "metadata": {},
     "output_type": "display_data"
    },
    {
     "data": {
      "text/html": [
       "Tracking run with wandb version 0.19.6"
      ],
      "text/plain": [
       "<IPython.core.display.HTML object>"
      ]
     },
     "metadata": {},
     "output_type": "display_data"
    },
    {
     "data": {
      "text/html": [
       "Run data is saved locally in <code>/home/apshenitsyn/jaxmarl/wandb/run-20250226_163314-7lsocsj4</code>"
      ],
      "text/plain": [
       "<IPython.core.display.HTML object>"
      ]
     },
     "metadata": {},
     "output_type": "display_data"
    },
    {
     "data": {
      "text/html": [
       "Syncing run <strong><a href='https://wandb.ai/apshenitsyn-/jaxmarl_fps/runs/7lsocsj4' target=\"_blank\">rl2/grid_maze3_a32_od0.15_jupyter</a></strong> to <a href='https://wandb.ai/apshenitsyn-/jaxmarl_fps' target=\"_blank\">Weights & Biases</a> (<a href='https://wandb.me/developer-guide' target=\"_blank\">docs</a>)<br>"
      ],
      "text/plain": [
       "<IPython.core.display.HTML object>"
      ]
     },
     "metadata": {},
     "output_type": "display_data"
    },
    {
     "data": {
      "text/html": [
       " View project at <a href='https://wandb.ai/apshenitsyn-/jaxmarl_fps' target=\"_blank\">https://wandb.ai/apshenitsyn-/jaxmarl_fps</a>"
      ],
      "text/plain": [
       "<IPython.core.display.HTML object>"
      ]
     },
     "metadata": {},
     "output_type": "display_data"
    },
    {
     "data": {
      "text/html": [
       " View run at <a href='https://wandb.ai/apshenitsyn-/jaxmarl_fps/runs/7lsocsj4' target=\"_blank\">https://wandb.ai/apshenitsyn-/jaxmarl_fps/runs/7lsocsj4</a>"
      ],
      "text/plain": [
       "<IPython.core.display.HTML object>"
      ]
     },
     "metadata": {},
     "output_type": "display_data"
    },
    {
     "data": {
      "text/html": [],
      "text/plain": [
       "<IPython.core.display.HTML object>"
      ]
     },
     "metadata": {},
     "output_type": "display_data"
    },
    {
     "data": {
      "text/html": [
       "<br>    <style><br>        .wandb-row {<br>            display: flex;<br>            flex-direction: row;<br>            flex-wrap: wrap;<br>            justify-content: flex-start;<br>            width: 100%;<br>        }<br>        .wandb-col {<br>            display: flex;<br>            flex-direction: column;<br>            flex-basis: 100%;<br>            flex: 1;<br>            padding: 10px;<br>        }<br>    </style><br><div class=\"wandb-row\"><div class=\"wandb-col\"><h3>Run history:</h3><br/><table class=\"wandb\"><tr><td>OPS</td><td>▄▇█▇▆▄▁</td></tr><tr><td>SPS</td><td>▄▇█▇▆▄▁</td></tr><tr><td>n_agents</td><td>▁▁▁▁▁▁▁</td></tr><tr><td>n_objects</td><td>▁▁▁▁▁▁▁</td></tr><tr><td>n_obstacles</td><td>▁▁▁▁▁▁▁</td></tr><tr><td>num_envs</td><td>▁▁▂▃▄▄█</td></tr></table><br/></div><div class=\"wandb-col\"><h3>Run summary:</h3><br/><table class=\"wandb\"><tr><td>OPS</td><td>1376658.83931</td></tr><tr><td>SPS</td><td>43020.58873</td></tr><tr><td>n_agents</td><td>32</td></tr><tr><td>n_objects</td><td>824</td></tr><tr><td>n_obstacles</td><td>48</td></tr><tr><td>num_envs</td><td>10000</td></tr></table><br/></div></div>"
      ],
      "text/plain": [
       "<IPython.core.display.HTML object>"
      ]
     },
     "metadata": {},
     "output_type": "display_data"
    },
    {
     "data": {
      "text/html": [
       " View run <strong style=\"color:#cdcd00\">rl2/grid_maze3_a32_od0.15_jupyter</strong> at: <a href='https://wandb.ai/apshenitsyn-/jaxmarl_fps/runs/7lsocsj4' target=\"_blank\">https://wandb.ai/apshenitsyn-/jaxmarl_fps/runs/7lsocsj4</a><br> View project at: <a href='https://wandb.ai/apshenitsyn-/jaxmarl_fps' target=\"_blank\">https://wandb.ai/apshenitsyn-/jaxmarl_fps</a><br>Synced 5 W&B file(s), 0 media file(s), 0 artifact file(s) and 0 other file(s)"
      ],
      "text/plain": [
       "<IPython.core.display.HTML object>"
      ]
     },
     "metadata": {},
     "output_type": "display_data"
    },
    {
     "data": {
      "text/html": [
       "Find logs at: <code>./wandb/run-20250226_163314-7lsocsj4/logs</code>"
      ],
      "text/plain": [
       "<IPython.core.display.HTML object>"
      ]
     },
     "metadata": {},
     "output_type": "display_data"
    },
    {
     "data": {
      "text/html": [
       "Tracking run with wandb version 0.19.6"
      ],
      "text/plain": [
       "<IPython.core.display.HTML object>"
      ]
     },
     "metadata": {},
     "output_type": "display_data"
    },
    {
     "data": {
      "text/html": [
       "Run data is saved locally in <code>/home/apshenitsyn/jaxmarl/wandb/run-20250226_164044-cdaqkjwv</code>"
      ],
      "text/plain": [
       "<IPython.core.display.HTML object>"
      ]
     },
     "metadata": {},
     "output_type": "display_data"
    },
    {
     "data": {
      "text/html": [
       "Syncing run <strong><a href='https://wandb.ai/apshenitsyn-/jaxmarl_fps/runs/cdaqkjwv' target=\"_blank\">rl2/grid_maze3_a32_od0.2_jupyter</a></strong> to <a href='https://wandb.ai/apshenitsyn-/jaxmarl_fps' target=\"_blank\">Weights & Biases</a> (<a href='https://wandb.me/developer-guide' target=\"_blank\">docs</a>)<br>"
      ],
      "text/plain": [
       "<IPython.core.display.HTML object>"
      ]
     },
     "metadata": {},
     "output_type": "display_data"
    },
    {
     "data": {
      "text/html": [
       " View project at <a href='https://wandb.ai/apshenitsyn-/jaxmarl_fps' target=\"_blank\">https://wandb.ai/apshenitsyn-/jaxmarl_fps</a>"
      ],
      "text/plain": [
       "<IPython.core.display.HTML object>"
      ]
     },
     "metadata": {},
     "output_type": "display_data"
    },
    {
     "data": {
      "text/html": [
       " View run at <a href='https://wandb.ai/apshenitsyn-/jaxmarl_fps/runs/cdaqkjwv' target=\"_blank\">https://wandb.ai/apshenitsyn-/jaxmarl_fps/runs/cdaqkjwv</a>"
      ],
      "text/plain": [
       "<IPython.core.display.HTML object>"
      ]
     },
     "metadata": {},
     "output_type": "display_data"
    },
    {
     "data": {
      "text/html": [],
      "text/plain": [
       "<IPython.core.display.HTML object>"
      ]
     },
     "metadata": {},
     "output_type": "display_data"
    },
    {
     "data": {
      "text/html": [
       "<br>    <style><br>        .wandb-row {<br>            display: flex;<br>            flex-direction: row;<br>            flex-wrap: wrap;<br>            justify-content: flex-start;<br>            width: 100%;<br>        }<br>        .wandb-col {<br>            display: flex;<br>            flex-direction: column;<br>            flex-basis: 100%;<br>            flex: 1;<br>            padding: 10px;<br>        }<br>    </style><br><div class=\"wandb-row\"><div class=\"wandb-col\"><h3>Run history:</h3><br/><table class=\"wandb\"><tr><td>OPS</td><td>▄▆█▆▅▄▁</td></tr><tr><td>SPS</td><td>▄▆█▆▅▄▁</td></tr><tr><td>n_agents</td><td>▁▁▁▁▁▁▁</td></tr><tr><td>n_objects</td><td>▁▁▁▁▁▁▁</td></tr><tr><td>n_obstacles</td><td>▁▁▁▁▁▁▁</td></tr><tr><td>num_envs</td><td>▁▁▂▃▄▄█</td></tr></table><br/></div><div class=\"wandb-col\"><h3>Run summary:</h3><br/><table class=\"wandb\"><tr><td>OPS</td><td>1074962.53109</td></tr><tr><td>SPS</td><td>33592.5791</td></tr><tr><td>n_agents</td><td>32</td></tr><tr><td>n_objects</td><td>1016</td></tr><tr><td>n_obstacles</td><td>64</td></tr><tr><td>num_envs</td><td>10000</td></tr></table><br/></div></div>"
      ],
      "text/plain": [
       "<IPython.core.display.HTML object>"
      ]
     },
     "metadata": {},
     "output_type": "display_data"
    },
    {
     "data": {
      "text/html": [
       " View run <strong style=\"color:#cdcd00\">rl2/grid_maze3_a32_od0.2_jupyter</strong> at: <a href='https://wandb.ai/apshenitsyn-/jaxmarl_fps/runs/cdaqkjwv' target=\"_blank\">https://wandb.ai/apshenitsyn-/jaxmarl_fps/runs/cdaqkjwv</a><br> View project at: <a href='https://wandb.ai/apshenitsyn-/jaxmarl_fps' target=\"_blank\">https://wandb.ai/apshenitsyn-/jaxmarl_fps</a><br>Synced 5 W&B file(s), 0 media file(s), 0 artifact file(s) and 0 other file(s)"
      ],
      "text/plain": [
       "<IPython.core.display.HTML object>"
      ]
     },
     "metadata": {},
     "output_type": "display_data"
    },
    {
     "data": {
      "text/html": [
       "Find logs at: <code>./wandb/run-20250226_164044-cdaqkjwv/logs</code>"
      ],
      "text/plain": [
       "<IPython.core.display.HTML object>"
      ]
     },
     "metadata": {},
     "output_type": "display_data"
    },
    {
     "data": {
      "text/html": [
       "Tracking run with wandb version 0.19.6"
      ],
      "text/plain": [
       "<IPython.core.display.HTML object>"
      ]
     },
     "metadata": {},
     "output_type": "display_data"
    },
    {
     "data": {
      "text/html": [
       "Run data is saved locally in <code>/home/apshenitsyn/jaxmarl/wandb/run-20250226_164922-k61o9qvc</code>"
      ],
      "text/plain": [
       "<IPython.core.display.HTML object>"
      ]
     },
     "metadata": {},
     "output_type": "display_data"
    },
    {
     "data": {
      "text/html": [
       "Syncing run <strong><a href='https://wandb.ai/apshenitsyn-/jaxmarl_fps/runs/k61o9qvc' target=\"_blank\">rl2/grid_maze3_a32_od0.25_jupyter</a></strong> to <a href='https://wandb.ai/apshenitsyn-/jaxmarl_fps' target=\"_blank\">Weights & Biases</a> (<a href='https://wandb.me/developer-guide' target=\"_blank\">docs</a>)<br>"
      ],
      "text/plain": [
       "<IPython.core.display.HTML object>"
      ]
     },
     "metadata": {},
     "output_type": "display_data"
    },
    {
     "data": {
      "text/html": [
       " View project at <a href='https://wandb.ai/apshenitsyn-/jaxmarl_fps' target=\"_blank\">https://wandb.ai/apshenitsyn-/jaxmarl_fps</a>"
      ],
      "text/plain": [
       "<IPython.core.display.HTML object>"
      ]
     },
     "metadata": {},
     "output_type": "display_data"
    },
    {
     "data": {
      "text/html": [
       " View run at <a href='https://wandb.ai/apshenitsyn-/jaxmarl_fps/runs/k61o9qvc' target=\"_blank\">https://wandb.ai/apshenitsyn-/jaxmarl_fps/runs/k61o9qvc</a>"
      ],
      "text/plain": [
       "<IPython.core.display.HTML object>"
      ]
     },
     "metadata": {},
     "output_type": "display_data"
    },
    {
     "data": {
      "text/html": [],
      "text/plain": [
       "<IPython.core.display.HTML object>"
      ]
     },
     "metadata": {},
     "output_type": "display_data"
    },
    {
     "data": {
      "text/html": [
       "<br>    <style><br>        .wandb-row {<br>            display: flex;<br>            flex-direction: row;<br>            flex-wrap: wrap;<br>            justify-content: flex-start;<br>            width: 100%;<br>        }<br>        .wandb-col {<br>            display: flex;<br>            flex-direction: column;<br>            flex-basis: 100%;<br>            flex: 1;<br>            padding: 10px;<br>        }<br>    </style><br><div class=\"wandb-row\"><div class=\"wandb-col\"><h3>Run history:</h3><br/><table class=\"wandb\"><tr><td>OPS</td><td>▄▇█▆▅▄▁</td></tr><tr><td>SPS</td><td>▄▇█▆▅▄▁</td></tr><tr><td>n_agents</td><td>▁▁▁▁▁▁▁</td></tr><tr><td>n_objects</td><td>▁▁▁▁▁▁▁</td></tr><tr><td>n_obstacles</td><td>▁▁▁▁▁▁▁</td></tr><tr><td>num_envs</td><td>▁▁▂▃▄▄█</td></tr></table><br/></div><div class=\"wandb-col\"><h3>Run summary:</h3><br/><table class=\"wandb\"><tr><td>OPS</td><td>874931.89184</td></tr><tr><td>SPS</td><td>27341.62162</td></tr><tr><td>n_agents</td><td>32</td></tr><tr><td>n_objects</td><td>1220</td></tr><tr><td>n_obstacles</td><td>81</td></tr><tr><td>num_envs</td><td>10000</td></tr></table><br/></div></div>"
      ],
      "text/plain": [
       "<IPython.core.display.HTML object>"
      ]
     },
     "metadata": {},
     "output_type": "display_data"
    },
    {
     "data": {
      "text/html": [
       " View run <strong style=\"color:#cdcd00\">rl2/grid_maze3_a32_od0.25_jupyter</strong> at: <a href='https://wandb.ai/apshenitsyn-/jaxmarl_fps/runs/k61o9qvc' target=\"_blank\">https://wandb.ai/apshenitsyn-/jaxmarl_fps/runs/k61o9qvc</a><br> View project at: <a href='https://wandb.ai/apshenitsyn-/jaxmarl_fps' target=\"_blank\">https://wandb.ai/apshenitsyn-/jaxmarl_fps</a><br>Synced 5 W&B file(s), 0 media file(s), 0 artifact file(s) and 0 other file(s)"
      ],
      "text/plain": [
       "<IPython.core.display.HTML object>"
      ]
     },
     "metadata": {},
     "output_type": "display_data"
    },
    {
     "data": {
      "text/html": [
       "Find logs at: <code>./wandb/run-20250226_164922-k61o9qvc/logs</code>"
      ],
      "text/plain": [
       "<IPython.core.display.HTML object>"
      ]
     },
     "metadata": {},
     "output_type": "display_data"
    },
    {
     "data": {
      "text/html": [
       "Tracking run with wandb version 0.19.6"
      ],
      "text/plain": [
       "<IPython.core.display.HTML object>"
      ]
     },
     "metadata": {},
     "output_type": "display_data"
    },
    {
     "data": {
      "text/html": [
       "Run data is saved locally in <code>/home/apshenitsyn/jaxmarl/wandb/run-20250226_165920-i7jcfot0</code>"
      ],
      "text/plain": [
       "<IPython.core.display.HTML object>"
      ]
     },
     "metadata": {},
     "output_type": "display_data"
    },
    {
     "data": {
      "text/html": [
       "Syncing run <strong><a href='https://wandb.ai/apshenitsyn-/jaxmarl_fps/runs/i7jcfot0' target=\"_blank\">rl2/grid_maze3_a32_od0.3_jupyter</a></strong> to <a href='https://wandb.ai/apshenitsyn-/jaxmarl_fps' target=\"_blank\">Weights & Biases</a> (<a href='https://wandb.me/developer-guide' target=\"_blank\">docs</a>)<br>"
      ],
      "text/plain": [
       "<IPython.core.display.HTML object>"
      ]
     },
     "metadata": {},
     "output_type": "display_data"
    },
    {
     "data": {
      "text/html": [
       " View project at <a href='https://wandb.ai/apshenitsyn-/jaxmarl_fps' target=\"_blank\">https://wandb.ai/apshenitsyn-/jaxmarl_fps</a>"
      ],
      "text/plain": [
       "<IPython.core.display.HTML object>"
      ]
     },
     "metadata": {},
     "output_type": "display_data"
    },
    {
     "data": {
      "text/html": [
       " View run at <a href='https://wandb.ai/apshenitsyn-/jaxmarl_fps/runs/i7jcfot0' target=\"_blank\">https://wandb.ai/apshenitsyn-/jaxmarl_fps/runs/i7jcfot0</a>"
      ],
      "text/plain": [
       "<IPython.core.display.HTML object>"
      ]
     },
     "metadata": {},
     "output_type": "display_data"
    },
    {
     "data": {
      "text/html": [],
      "text/plain": [
       "<IPython.core.display.HTML object>"
      ]
     },
     "metadata": {},
     "output_type": "display_data"
    },
    {
     "data": {
      "text/html": [
       "<br>    <style><br>        .wandb-row {<br>            display: flex;<br>            flex-direction: row;<br>            flex-wrap: wrap;<br>            justify-content: flex-start;<br>            width: 100%;<br>        }<br>        .wandb-col {<br>            display: flex;<br>            flex-direction: column;<br>            flex-basis: 100%;<br>            flex: 1;<br>            padding: 10px;<br>        }<br>    </style><br><div class=\"wandb-row\"><div class=\"wandb-col\"><h3>Run history:</h3><br/><table class=\"wandb\"><tr><td>OPS</td><td>▅▇█▆▅▄▁</td></tr><tr><td>SPS</td><td>▅▇█▆▅▄▁</td></tr><tr><td>n_agents</td><td>▁▁▁▁▁▁▁</td></tr><tr><td>n_objects</td><td>▁▁▁▁▁▁▁</td></tr><tr><td>n_obstacles</td><td>▁▁▁▁▁▁▁</td></tr><tr><td>num_envs</td><td>▁▁▂▃▄▄█</td></tr></table><br/></div><div class=\"wandb-col\"><h3>Run summary:</h3><br/><table class=\"wandb\"><tr><td>OPS</td><td>740695.35668</td></tr><tr><td>SPS</td><td>23146.7299</td></tr><tr><td>n_agents</td><td>32</td></tr><tr><td>n_objects</td><td>1412</td></tr><tr><td>n_obstacles</td><td>97</td></tr><tr><td>num_envs</td><td>10000</td></tr></table><br/></div></div>"
      ],
      "text/plain": [
       "<IPython.core.display.HTML object>"
      ]
     },
     "metadata": {},
     "output_type": "display_data"
    },
    {
     "data": {
      "text/html": [
       " View run <strong style=\"color:#cdcd00\">rl2/grid_maze3_a32_od0.3_jupyter</strong> at: <a href='https://wandb.ai/apshenitsyn-/jaxmarl_fps/runs/i7jcfot0' target=\"_blank\">https://wandb.ai/apshenitsyn-/jaxmarl_fps/runs/i7jcfot0</a><br> View project at: <a href='https://wandb.ai/apshenitsyn-/jaxmarl_fps' target=\"_blank\">https://wandb.ai/apshenitsyn-/jaxmarl_fps</a><br>Synced 5 W&B file(s), 0 media file(s), 0 artifact file(s) and 0 other file(s)"
      ],
      "text/plain": [
       "<IPython.core.display.HTML object>"
      ]
     },
     "metadata": {},
     "output_type": "display_data"
    },
    {
     "data": {
      "text/html": [
       "Find logs at: <code>./wandb/run-20250226_165920-i7jcfot0/logs</code>"
      ],
      "text/plain": [
       "<IPython.core.display.HTML object>"
      ]
     },
     "metadata": {},
     "output_type": "display_data"
    },
    {
     "data": {
      "text/html": [
       "Tracking run with wandb version 0.19.6"
      ],
      "text/plain": [
       "<IPython.core.display.HTML object>"
      ]
     },
     "metadata": {},
     "output_type": "display_data"
    },
    {
     "data": {
      "text/html": [
       "Run data is saved locally in <code>/home/apshenitsyn/jaxmarl/wandb/run-20250226_171034-kwez4ewb</code>"
      ],
      "text/plain": [
       "<IPython.core.display.HTML object>"
      ]
     },
     "metadata": {},
     "output_type": "display_data"
    },
    {
     "data": {
      "text/html": [
       "Syncing run <strong><a href='https://wandb.ai/apshenitsyn-/jaxmarl_fps/runs/kwez4ewb' target=\"_blank\">rl2/grid_maze3_a32_od0.35_jupyter</a></strong> to <a href='https://wandb.ai/apshenitsyn-/jaxmarl_fps' target=\"_blank\">Weights & Biases</a> (<a href='https://wandb.me/developer-guide' target=\"_blank\">docs</a>)<br>"
      ],
      "text/plain": [
       "<IPython.core.display.HTML object>"
      ]
     },
     "metadata": {},
     "output_type": "display_data"
    },
    {
     "data": {
      "text/html": [
       " View project at <a href='https://wandb.ai/apshenitsyn-/jaxmarl_fps' target=\"_blank\">https://wandb.ai/apshenitsyn-/jaxmarl_fps</a>"
      ],
      "text/plain": [
       "<IPython.core.display.HTML object>"
      ]
     },
     "metadata": {},
     "output_type": "display_data"
    },
    {
     "data": {
      "text/html": [
       " View run at <a href='https://wandb.ai/apshenitsyn-/jaxmarl_fps/runs/kwez4ewb' target=\"_blank\">https://wandb.ai/apshenitsyn-/jaxmarl_fps/runs/kwez4ewb</a>"
      ],
      "text/plain": [
       "<IPython.core.display.HTML object>"
      ]
     },
     "metadata": {},
     "output_type": "display_data"
    },
    {
     "data": {
      "text/html": [],
      "text/plain": [
       "<IPython.core.display.HTML object>"
      ]
     },
     "metadata": {},
     "output_type": "display_data"
    },
    {
     "data": {
      "text/html": [
       "<br>    <style><br>        .wandb-row {<br>            display: flex;<br>            flex-direction: row;<br>            flex-wrap: wrap;<br>            justify-content: flex-start;<br>            width: 100%;<br>        }<br>        .wandb-col {<br>            display: flex;<br>            flex-direction: column;<br>            flex-basis: 100%;<br>            flex: 1;<br>            padding: 10px;<br>        }<br>    </style><br><div class=\"wandb-row\"><div class=\"wandb-col\"><h3>Run history:</h3><br/><table class=\"wandb\"><tr><td>OPS</td><td>▅▇█▆▅▃▁</td></tr><tr><td>SPS</td><td>▅▇█▆▅▃▁</td></tr><tr><td>n_agents</td><td>▁▁▁▁▁▁▁</td></tr><tr><td>n_objects</td><td>▁▁▁▁▁▁▁</td></tr><tr><td>n_obstacles</td><td>▁▁▁▁▁▁▁</td></tr><tr><td>num_envs</td><td>▁▁▂▃▄▄█</td></tr></table><br/></div><div class=\"wandb-col\"><h3>Run summary:</h3><br/><table class=\"wandb\"><tr><td>OPS</td><td>592799.75373</td></tr><tr><td>SPS</td><td>18524.9923</td></tr><tr><td>n_agents</td><td>32</td></tr><tr><td>n_objects</td><td>1604</td></tr><tr><td>n_obstacles</td><td>113</td></tr><tr><td>num_envs</td><td>10000</td></tr></table><br/></div></div>"
      ],
      "text/plain": [
       "<IPython.core.display.HTML object>"
      ]
     },
     "metadata": {},
     "output_type": "display_data"
    },
    {
     "data": {
      "text/html": [
       " View run <strong style=\"color:#cdcd00\">rl2/grid_maze3_a32_od0.35_jupyter</strong> at: <a href='https://wandb.ai/apshenitsyn-/jaxmarl_fps/runs/kwez4ewb' target=\"_blank\">https://wandb.ai/apshenitsyn-/jaxmarl_fps/runs/kwez4ewb</a><br> View project at: <a href='https://wandb.ai/apshenitsyn-/jaxmarl_fps' target=\"_blank\">https://wandb.ai/apshenitsyn-/jaxmarl_fps</a><br>Synced 5 W&B file(s), 0 media file(s), 0 artifact file(s) and 0 other file(s)"
      ],
      "text/plain": [
       "<IPython.core.display.HTML object>"
      ]
     },
     "metadata": {},
     "output_type": "display_data"
    },
    {
     "data": {
      "text/html": [
       "Find logs at: <code>./wandb/run-20250226_171034-kwez4ewb/logs</code>"
      ],
      "text/plain": [
       "<IPython.core.display.HTML object>"
      ]
     },
     "metadata": {},
     "output_type": "display_data"
    },
    {
     "data": {
      "text/html": [
       "Tracking run with wandb version 0.19.6"
      ],
      "text/plain": [
       "<IPython.core.display.HTML object>"
      ]
     },
     "metadata": {},
     "output_type": "display_data"
    },
    {
     "data": {
      "text/html": [
       "Run data is saved locally in <code>/home/apshenitsyn/jaxmarl/wandb/run-20250226_172331-j0u4o4zc</code>"
      ],
      "text/plain": [
       "<IPython.core.display.HTML object>"
      ]
     },
     "metadata": {},
     "output_type": "display_data"
    },
    {
     "data": {
      "text/html": [
       "Syncing run <strong><a href='https://wandb.ai/apshenitsyn-/jaxmarl_fps/runs/j0u4o4zc' target=\"_blank\">rl2/grid_maze3_a32_od0.4_jupyter</a></strong> to <a href='https://wandb.ai/apshenitsyn-/jaxmarl_fps' target=\"_blank\">Weights & Biases</a> (<a href='https://wandb.me/developer-guide' target=\"_blank\">docs</a>)<br>"
      ],
      "text/plain": [
       "<IPython.core.display.HTML object>"
      ]
     },
     "metadata": {},
     "output_type": "display_data"
    },
    {
     "data": {
      "text/html": [
       " View project at <a href='https://wandb.ai/apshenitsyn-/jaxmarl_fps' target=\"_blank\">https://wandb.ai/apshenitsyn-/jaxmarl_fps</a>"
      ],
      "text/plain": [
       "<IPython.core.display.HTML object>"
      ]
     },
     "metadata": {},
     "output_type": "display_data"
    },
    {
     "data": {
      "text/html": [
       " View run at <a href='https://wandb.ai/apshenitsyn-/jaxmarl_fps/runs/j0u4o4zc' target=\"_blank\">https://wandb.ai/apshenitsyn-/jaxmarl_fps/runs/j0u4o4zc</a>"
      ],
      "text/plain": [
       "<IPython.core.display.HTML object>"
      ]
     },
     "metadata": {},
     "output_type": "display_data"
    },
    {
     "data": {
      "text/html": [],
      "text/plain": [
       "<IPython.core.display.HTML object>"
      ]
     },
     "metadata": {},
     "output_type": "display_data"
    },
    {
     "data": {
      "text/html": [
       "<br>    <style><br>        .wandb-row {<br>            display: flex;<br>            flex-direction: row;<br>            flex-wrap: wrap;<br>            justify-content: flex-start;<br>            width: 100%;<br>        }<br>        .wandb-col {<br>            display: flex;<br>            flex-direction: column;<br>            flex-basis: 100%;<br>            flex: 1;<br>            padding: 10px;<br>        }<br>    </style><br><div class=\"wandb-row\"><div class=\"wandb-col\"><h3>Run history:</h3><br/><table class=\"wandb\"><tr><td>OPS</td><td>▅▇█▆▅▃▁</td></tr><tr><td>SPS</td><td>▅▇█▆▅▃▁</td></tr><tr><td>n_agents</td><td>▁▁▁▁▁▁▁</td></tr><tr><td>n_objects</td><td>▁▁▁▁▁▁▁</td></tr><tr><td>n_obstacles</td><td>▁▁▁▁▁▁▁</td></tr><tr><td>num_envs</td><td>▁▁▂▃▄▄█</td></tr></table><br/></div><div class=\"wandb-col\"><h3>Run summary:</h3><br/><table class=\"wandb\"><tr><td>OPS</td><td>546557.5781</td></tr><tr><td>SPS</td><td>17079.92432</td></tr><tr><td>n_agents</td><td>32</td></tr><tr><td>n_objects</td><td>1796</td></tr><tr><td>n_obstacles</td><td>129</td></tr><tr><td>num_envs</td><td>10000</td></tr></table><br/></div></div>"
      ],
      "text/plain": [
       "<IPython.core.display.HTML object>"
      ]
     },
     "metadata": {},
     "output_type": "display_data"
    },
    {
     "data": {
      "text/html": [
       " View run <strong style=\"color:#cdcd00\">rl2/grid_maze3_a32_od0.4_jupyter</strong> at: <a href='https://wandb.ai/apshenitsyn-/jaxmarl_fps/runs/j0u4o4zc' target=\"_blank\">https://wandb.ai/apshenitsyn-/jaxmarl_fps/runs/j0u4o4zc</a><br> View project at: <a href='https://wandb.ai/apshenitsyn-/jaxmarl_fps' target=\"_blank\">https://wandb.ai/apshenitsyn-/jaxmarl_fps</a><br>Synced 5 W&B file(s), 0 media file(s), 0 artifact file(s) and 0 other file(s)"
      ],
      "text/plain": [
       "<IPython.core.display.HTML object>"
      ]
     },
     "metadata": {},
     "output_type": "display_data"
    },
    {
     "data": {
      "text/html": [
       "Find logs at: <code>./wandb/run-20250226_172331-j0u4o4zc/logs</code>"
      ],
      "text/plain": [
       "<IPython.core.display.HTML object>"
      ]
     },
     "metadata": {},
     "output_type": "display_data"
    },
    {
     "data": {
      "text/html": [
       "Tracking run with wandb version 0.19.6"
      ],
      "text/plain": [
       "<IPython.core.display.HTML object>"
      ]
     },
     "metadata": {},
     "output_type": "display_data"
    },
    {
     "data": {
      "text/html": [
       "Run data is saved locally in <code>/home/apshenitsyn/jaxmarl/wandb/run-20250226_173740-7o52l8kn</code>"
      ],
      "text/plain": [
       "<IPython.core.display.HTML object>"
      ]
     },
     "metadata": {},
     "output_type": "display_data"
    },
    {
     "data": {
      "text/html": [
       "Syncing run <strong><a href='https://wandb.ai/apshenitsyn-/jaxmarl_fps/runs/7o52l8kn' target=\"_blank\">rl2/grid_maze3_a32_od0.45_jupyter</a></strong> to <a href='https://wandb.ai/apshenitsyn-/jaxmarl_fps' target=\"_blank\">Weights & Biases</a> (<a href='https://wandb.me/developer-guide' target=\"_blank\">docs</a>)<br>"
      ],
      "text/plain": [
       "<IPython.core.display.HTML object>"
      ]
     },
     "metadata": {},
     "output_type": "display_data"
    },
    {
     "data": {
      "text/html": [
       " View project at <a href='https://wandb.ai/apshenitsyn-/jaxmarl_fps' target=\"_blank\">https://wandb.ai/apshenitsyn-/jaxmarl_fps</a>"
      ],
      "text/plain": [
       "<IPython.core.display.HTML object>"
      ]
     },
     "metadata": {},
     "output_type": "display_data"
    },
    {
     "data": {
      "text/html": [
       " View run at <a href='https://wandb.ai/apshenitsyn-/jaxmarl_fps/runs/7o52l8kn' target=\"_blank\">https://wandb.ai/apshenitsyn-/jaxmarl_fps/runs/7o52l8kn</a>"
      ],
      "text/plain": [
       "<IPython.core.display.HTML object>"
      ]
     },
     "metadata": {},
     "output_type": "display_data"
    },
    {
     "data": {
      "text/html": [],
      "text/plain": [
       "<IPython.core.display.HTML object>"
      ]
     },
     "metadata": {},
     "output_type": "display_data"
    },
    {
     "data": {
      "text/html": [
       "<br>    <style><br>        .wandb-row {<br>            display: flex;<br>            flex-direction: row;<br>            flex-wrap: wrap;<br>            justify-content: flex-start;<br>            width: 100%;<br>        }<br>        .wandb-col {<br>            display: flex;<br>            flex-direction: column;<br>            flex-basis: 100%;<br>            flex: 1;<br>            padding: 10px;<br>        }<br>    </style><br><div class=\"wandb-row\"><div class=\"wandb-col\"><h3>Run history:</h3><br/><table class=\"wandb\"><tr><td>OPS</td><td>▃▇█▆▅▃▁</td></tr><tr><td>SPS</td><td>▃▇█▆▅▃▁</td></tr><tr><td>n_agents</td><td>▁▁▁▁▁▁▁</td></tr><tr><td>n_objects</td><td>▁▁▁▁▁▁▁</td></tr><tr><td>n_obstacles</td><td>▁▁▁▁▁▁▁</td></tr><tr><td>num_envs</td><td>▁▁▂▃▄▄█</td></tr></table><br/></div><div class=\"wandb-col\"><h3>Run summary:</h3><br/><table class=\"wandb\"><tr><td>OPS</td><td>475394.92466</td></tr><tr><td>SPS</td><td>14856.0914</td></tr><tr><td>n_agents</td><td>32</td></tr><tr><td>n_objects</td><td>1988</td></tr><tr><td>n_obstacles</td><td>145</td></tr><tr><td>num_envs</td><td>10000</td></tr></table><br/></div></div>"
      ],
      "text/plain": [
       "<IPython.core.display.HTML object>"
      ]
     },
     "metadata": {},
     "output_type": "display_data"
    },
    {
     "data": {
      "text/html": [
       " View run <strong style=\"color:#cdcd00\">rl2/grid_maze3_a32_od0.45_jupyter</strong> at: <a href='https://wandb.ai/apshenitsyn-/jaxmarl_fps/runs/7o52l8kn' target=\"_blank\">https://wandb.ai/apshenitsyn-/jaxmarl_fps/runs/7o52l8kn</a><br> View project at: <a href='https://wandb.ai/apshenitsyn-/jaxmarl_fps' target=\"_blank\">https://wandb.ai/apshenitsyn-/jaxmarl_fps</a><br>Synced 5 W&B file(s), 0 media file(s), 0 artifact file(s) and 0 other file(s)"
      ],
      "text/plain": [
       "<IPython.core.display.HTML object>"
      ]
     },
     "metadata": {},
     "output_type": "display_data"
    },
    {
     "data": {
      "text/html": [
       "Find logs at: <code>./wandb/run-20250226_173740-7o52l8kn/logs</code>"
      ],
      "text/plain": [
       "<IPython.core.display.HTML object>"
      ]
     },
     "metadata": {},
     "output_type": "display_data"
    },
    {
     "data": {
      "text/html": [
       "Tracking run with wandb version 0.19.6"
      ],
      "text/plain": [
       "<IPython.core.display.HTML object>"
      ]
     },
     "metadata": {},
     "output_type": "display_data"
    },
    {
     "data": {
      "text/html": [
       "Run data is saved locally in <code>/home/apshenitsyn/jaxmarl/wandb/run-20250226_175306-j7q0s4rf</code>"
      ],
      "text/plain": [
       "<IPython.core.display.HTML object>"
      ]
     },
     "metadata": {},
     "output_type": "display_data"
    },
    {
     "data": {
      "text/html": [
       "Syncing run <strong><a href='https://wandb.ai/apshenitsyn-/jaxmarl_fps/runs/j7q0s4rf' target=\"_blank\">rl2/grid_maze3_a32_od0.5_jupyter</a></strong> to <a href='https://wandb.ai/apshenitsyn-/jaxmarl_fps' target=\"_blank\">Weights & Biases</a> (<a href='https://wandb.me/developer-guide' target=\"_blank\">docs</a>)<br>"
      ],
      "text/plain": [
       "<IPython.core.display.HTML object>"
      ]
     },
     "metadata": {},
     "output_type": "display_data"
    },
    {
     "data": {
      "text/html": [
       " View project at <a href='https://wandb.ai/apshenitsyn-/jaxmarl_fps' target=\"_blank\">https://wandb.ai/apshenitsyn-/jaxmarl_fps</a>"
      ],
      "text/plain": [
       "<IPython.core.display.HTML object>"
      ]
     },
     "metadata": {},
     "output_type": "display_data"
    },
    {
     "data": {
      "text/html": [
       " View run at <a href='https://wandb.ai/apshenitsyn-/jaxmarl_fps/runs/j7q0s4rf' target=\"_blank\">https://wandb.ai/apshenitsyn-/jaxmarl_fps/runs/j7q0s4rf</a>"
      ],
      "text/plain": [
       "<IPython.core.display.HTML object>"
      ]
     },
     "metadata": {},
     "output_type": "display_data"
    },
    {
     "data": {
      "text/html": [],
      "text/plain": [
       "<IPython.core.display.HTML object>"
      ]
     },
     "metadata": {},
     "output_type": "display_data"
    },
    {
     "data": {
      "text/html": [
       "<br>    <style><br>        .wandb-row {<br>            display: flex;<br>            flex-direction: row;<br>            flex-wrap: wrap;<br>            justify-content: flex-start;<br>            width: 100%;<br>        }<br>        .wandb-col {<br>            display: flex;<br>            flex-direction: column;<br>            flex-basis: 100%;<br>            flex: 1;<br>            padding: 10px;<br>        }<br>    </style><br><div class=\"wandb-row\"><div class=\"wandb-col\"><h3>Run history:</h3><br/><table class=\"wandb\"><tr><td>OPS</td><td>▃██▆▅▄▁</td></tr><tr><td>SPS</td><td>▃██▆▅▄▁</td></tr><tr><td>n_agents</td><td>▁▁▁▁▁▁▁</td></tr><tr><td>n_objects</td><td>▁▁▁▁▁▁▁</td></tr><tr><td>n_obstacles</td><td>▁▁▁▁▁▁▁</td></tr><tr><td>num_envs</td><td>▁▁▂▃▄▄█</td></tr></table><br/></div><div class=\"wandb-col\"><h3>Run summary:</h3><br/><table class=\"wandb\"><tr><td>OPS</td><td>454759.00673</td></tr><tr><td>SPS</td><td>14211.21896</td></tr><tr><td>n_agents</td><td>32</td></tr><tr><td>n_objects</td><td>2192</td></tr><tr><td>n_obstacles</td><td>162</td></tr><tr><td>num_envs</td><td>10000</td></tr></table><br/></div></div>"
      ],
      "text/plain": [
       "<IPython.core.display.HTML object>"
      ]
     },
     "metadata": {},
     "output_type": "display_data"
    },
    {
     "data": {
      "text/html": [
       " View run <strong style=\"color:#cdcd00\">rl2/grid_maze3_a32_od0.5_jupyter</strong> at: <a href='https://wandb.ai/apshenitsyn-/jaxmarl_fps/runs/j7q0s4rf' target=\"_blank\">https://wandb.ai/apshenitsyn-/jaxmarl_fps/runs/j7q0s4rf</a><br> View project at: <a href='https://wandb.ai/apshenitsyn-/jaxmarl_fps' target=\"_blank\">https://wandb.ai/apshenitsyn-/jaxmarl_fps</a><br>Synced 5 W&B file(s), 0 media file(s), 0 artifact file(s) and 0 other file(s)"
      ],
      "text/plain": [
       "<IPython.core.display.HTML object>"
      ]
     },
     "metadata": {},
     "output_type": "display_data"
    },
    {
     "data": {
      "text/html": [
       "Find logs at: <code>./wandb/run-20250226_175306-j7q0s4rf/logs</code>"
      ],
      "text/plain": [
       "<IPython.core.display.HTML object>"
      ]
     },
     "metadata": {},
     "output_type": "display_data"
    },
    {
     "data": {
      "text/html": [
       "Tracking run with wandb version 0.19.6"
      ],
      "text/plain": [
       "<IPython.core.display.HTML object>"
      ]
     },
     "metadata": {},
     "output_type": "display_data"
    },
    {
     "data": {
      "text/html": [
       "Run data is saved locally in <code>/home/apshenitsyn/jaxmarl/wandb/run-20250226_180929-w88k7vdc</code>"
      ],
      "text/plain": [
       "<IPython.core.display.HTML object>"
      ]
     },
     "metadata": {},
     "output_type": "display_data"
    },
    {
     "data": {
      "text/html": [
       "Syncing run <strong><a href='https://wandb.ai/apshenitsyn-/jaxmarl_fps/runs/w88k7vdc' target=\"_blank\">rl2/grid_maze3_a32_od0.55_jupyter</a></strong> to <a href='https://wandb.ai/apshenitsyn-/jaxmarl_fps' target=\"_blank\">Weights & Biases</a> (<a href='https://wandb.me/developer-guide' target=\"_blank\">docs</a>)<br>"
      ],
      "text/plain": [
       "<IPython.core.display.HTML object>"
      ]
     },
     "metadata": {},
     "output_type": "display_data"
    },
    {
     "data": {
      "text/html": [
       " View project at <a href='https://wandb.ai/apshenitsyn-/jaxmarl_fps' target=\"_blank\">https://wandb.ai/apshenitsyn-/jaxmarl_fps</a>"
      ],
      "text/plain": [
       "<IPython.core.display.HTML object>"
      ]
     },
     "metadata": {},
     "output_type": "display_data"
    },
    {
     "data": {
      "text/html": [
       " View run at <a href='https://wandb.ai/apshenitsyn-/jaxmarl_fps/runs/w88k7vdc' target=\"_blank\">https://wandb.ai/apshenitsyn-/jaxmarl_fps/runs/w88k7vdc</a>"
      ],
      "text/plain": [
       "<IPython.core.display.HTML object>"
      ]
     },
     "metadata": {},
     "output_type": "display_data"
    },
    {
     "data": {
      "text/html": [],
      "text/plain": [
       "<IPython.core.display.HTML object>"
      ]
     },
     "metadata": {},
     "output_type": "display_data"
    },
    {
     "data": {
      "text/html": [
       "<br>    <style><br>        .wandb-row {<br>            display: flex;<br>            flex-direction: row;<br>            flex-wrap: wrap;<br>            justify-content: flex-start;<br>            width: 100%;<br>        }<br>        .wandb-col {<br>            display: flex;<br>            flex-direction: column;<br>            flex-basis: 100%;<br>            flex: 1;<br>            padding: 10px;<br>        }<br>    </style><br><div class=\"wandb-row\"><div class=\"wandb-col\"><h3>Run history:</h3><br/><table class=\"wandb\"><tr><td>OPS</td><td>▃█▇▆▅▄▁</td></tr><tr><td>SPS</td><td>▃█▇▆▅▄▁</td></tr><tr><td>n_agents</td><td>▁▁▁▁▁▁▁</td></tr><tr><td>n_objects</td><td>▁▁▁▁▁▁▁</td></tr><tr><td>n_obstacles</td><td>▁▁▁▁▁▁▁</td></tr><tr><td>num_envs</td><td>▁▁▂▃▄▄█</td></tr></table><br/></div><div class=\"wandb-col\"><h3>Run summary:</h3><br/><table class=\"wandb\"><tr><td>OPS</td><td>403024.14994</td></tr><tr><td>SPS</td><td>12594.50469</td></tr><tr><td>n_agents</td><td>32</td></tr><tr><td>n_objects</td><td>2384</td></tr><tr><td>n_obstacles</td><td>178</td></tr><tr><td>num_envs</td><td>10000</td></tr></table><br/></div></div>"
      ],
      "text/plain": [
       "<IPython.core.display.HTML object>"
      ]
     },
     "metadata": {},
     "output_type": "display_data"
    },
    {
     "data": {
      "text/html": [
       " View run <strong style=\"color:#cdcd00\">rl2/grid_maze3_a32_od0.55_jupyter</strong> at: <a href='https://wandb.ai/apshenitsyn-/jaxmarl_fps/runs/w88k7vdc' target=\"_blank\">https://wandb.ai/apshenitsyn-/jaxmarl_fps/runs/w88k7vdc</a><br> View project at: <a href='https://wandb.ai/apshenitsyn-/jaxmarl_fps' target=\"_blank\">https://wandb.ai/apshenitsyn-/jaxmarl_fps</a><br>Synced 5 W&B file(s), 0 media file(s), 0 artifact file(s) and 0 other file(s)"
      ],
      "text/plain": [
       "<IPython.core.display.HTML object>"
      ]
     },
     "metadata": {},
     "output_type": "display_data"
    },
    {
     "data": {
      "text/html": [
       "Find logs at: <code>./wandb/run-20250226_180929-w88k7vdc/logs</code>"
      ],
      "text/plain": [
       "<IPython.core.display.HTML object>"
      ]
     },
     "metadata": {},
     "output_type": "display_data"
    }
   ],
   "source": [
    "for obstacle_density in range(5, 60, 5):\n",
    "\tobstacle_density = obstacle_density / 100\n",
    "\tconfig = {\n",
    "\t\"NUM_STEPS\": 100,\n",
    "\t\"NUM_ENVS\": 1000,\n",
    "\t\"ACTIVATION\": \"relu\",\n",
    "\t\"ENV_NAME\": \"grid_maze\",\n",
    "\t\"NUM_SEEDS\": 1,\n",
    "\t\"SEED\": 0,\n",
    "\t}\n",
    "\n",
    "\tconfig[\"ENV_KWARGS\"] = {\n",
    "\t\"width\": 18,\n",
    "\t\"height\": 18,\n",
    "\t\"obstacle_density\": obstacle_density,\n",
    "\t\"num_agents\": 32,\n",
    "\t\"grain_factor\": 4,\n",
    "\t\"obstacle_size\": 0.4,\n",
    "\t\"contact_force\": 500,\n",
    "\t\"contact_margin\": 1e-3,\n",
    "\t\"dt\": 0.01,\n",
    "\t\"max_steps\": 100,\n",
    "\t\"frameskip\": 6,\n",
    "\t}\n",
    "\n",
    "\twandb.init(\n",
    "\tproject=\"jaxmarl_fps\",\n",
    "\tconfig={\n",
    "\t\t\"n_runs\": 5,\n",
    "\t\t\"rollout_length\": config[\"NUM_STEPS\"],\n",
    "\t\t\"device\": str(jax.devices()[0]),\n",
    "\t\t\"benchamrk_config\": config\n",
    "\t},\n",
    "\tname=f\"rl2/grid_maze3_a{config['ENV_KWARGS']['num_agents']}_od{config['ENV_KWARGS']['obstacle_density']}_jupyter\"\n",
    "\t)\n",
    "\n",
    "\t### JAXMARL BENCHMARK\n",
    "\tnum_envs = [400, 1000, 2000, 3000, 4000, 5000, 10000]\n",
    "\tfor num in num_envs:\n",
    "\t\ttry:\n",
    "\t\t\tconfig[\"NUM_ENVS\"] = num\n",
    "\n",
    "\t\t\ttotal_time = 0.\n",
    "\t\t\tfor run in range(wandb.config.n_runs):\n",
    "\t\t\t\tjax.clear_caches()\n",
    "\t\t\t\tbenchmark_fn = jax.jit(make_benchmark(config))\n",
    "\t\t\t\trng = jax.random.PRNGKey(config[\"SEED\"])\n",
    "\t\t\t\trng, _rng = jax.random.split(rng)\\\n",
    "\n",
    "\t\t\t\tbenchmark_jit = jax.jit(benchmark_fn).lower(_rng).compile()\n",
    "\n",
    "\t\t\t\tbefore = time.perf_counter_ns()\n",
    "\t\t\t\trunner_state = jax.block_until_ready(benchmark_jit(_rng))\n",
    "\t\t\t\tafter = time.perf_counter_ns()\n",
    "\n",
    "\t\t\t\ttotal_time += (after - before) / 1e9\n",
    "\t\t\t\t\n",
    "\t\t\tenv = Grid_Maze(**config[\"ENV_KWARGS\"])\n",
    "\t\t\t# env = jaxmarl.make(config[\"ENV_NAME\"], **config[\"ENV_KWARGS\"])\n",
    "\n",
    "\t\t\tsps = wandb.config.n_runs * config['NUM_STEPS'] * config['NUM_ENVS'] / total_time\n",
    "\t\t\tops = sps * env.num_agents\n",
    "\n",
    "\t\t\twandb.log({\"num_envs\": config[\"NUM_ENVS\"], \"SPS\": sps, \"OPS\": ops, \"n_agents\": env.num_agents, \"n_objects\": env.num_entities, \"n_obstacles\": env.num_obstacles})\n",
    "\t\texcept:\n",
    "\t\t\tbreak\n",
    "\n",
    "\twandb.finish()"
   ]
  },
  {
   "cell_type": "code",
   "execution_count": 13,
   "metadata": {},
   "outputs": [
    {
     "data": {
      "text/plain": [
       "(10000, 32, 178, 2)"
      ]
     },
     "execution_count": 13,
     "metadata": {},
     "output_type": "execute_result"
    }
   ],
   "source": [
    "runner_state[0][1].shape"
   ]
  },
  {
   "cell_type": "code",
   "execution_count": 8,
   "metadata": {},
   "outputs": [],
   "source": [
    "config = {\n",
    "\"NUM_STEPS\": 100,\n",
    "\"NUM_ENVS\": 1000,\n",
    "\"ACTIVATION\": \"relu\",\n",
    "\"ENV_NAME\": \"grid_maze\",\n",
    "\"NUM_SEEDS\": 1,\n",
    "\"SEED\": 0,\n",
    "}\n",
    "\n",
    "config[\"ENV_KWARGS\"] = {\n",
    "\"width\": 18,\n",
    "\"height\": 18,\n",
    "\"obstacle_density\": 0.55,\n",
    "\"num_agents\": 32,\n",
    "\"grain_factor\": 4,\n",
    "\"obstacle_size\": 0.4,\n",
    "\"contact_force\": 500,\n",
    "\"contact_margin\": 1e-3,\n",
    "\"dt\": 0.015,\n",
    "\"max_steps\": 100,\n",
    "}\n",
    "\n",
    "jax.clear_caches()\n",
    "benchmark_fn = jax.jit(make_benchmark(config))\n",
    "rng = jax.random.PRNGKey(config[\"SEED\"])\n",
    "rng, _rng = jax.random.split(rng)\\\n",
    "\n",
    "benchmark_jit = jax.jit(benchmark_fn).lower(_rng).compile()\n",
    "\n",
    "runner_state = jax.block_until_ready(benchmark_jit(_rng))"
   ]
  },
  {
   "cell_type": "code",
   "execution_count": 12,
   "metadata": {},
   "outputs": [
    {
     "data": {
      "text/plain": [
       "(1000, 32, 2)"
      ]
     },
     "execution_count": 12,
     "metadata": {},
     "output_type": "execute_result"
    }
   ],
   "source": [
    "runner_state[0][0].agent_pos.shape"
   ]
  }
 ],
 "metadata": {
  "kernelspec": {
   "display_name": "jax",
   "language": "python",
   "name": "python3"
  },
  "language_info": {
   "codemirror_mode": {
    "name": "ipython",
    "version": 3
   },
   "file_extension": ".py",
   "mimetype": "text/x-python",
   "name": "python",
   "nbconvert_exporter": "python",
   "pygments_lexer": "ipython3",
   "version": "3.10.16"
  }
 },
 "nbformat": 4,
 "nbformat_minor": 2
}
