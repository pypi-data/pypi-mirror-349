{
 "cells": [
  {
   "cell_type": "code",
   "execution_count": 1,
   "id": "f3082b83",
   "metadata": {},
   "outputs": [],
   "source": [
    "import os\n",
    "\n",
    "os.environ[\"CUDA_VISIBLE_DEVICES\"] = \"0\"\n",
    "os.environ[\"XLA_PYTHON_CLIENT_PREALLOCATE\"] = \"false\"\n",
    "os.environ[\"PYTORCH_CUDA_ALLOC_CONF\"] = \"expandable_segments:True\"\n",
    "\n",
    "import jax\n",
    "import jax.numpy as jnp"
   ]
  },
  {
   "cell_type": "code",
   "execution_count": 2,
   "id": "dcbd321d",
   "metadata": {},
   "outputs": [],
   "source": [
    "from camar import camar_v0\n",
    "from camar.maps import string_grid\n",
    "from camar.integrations import CamarWrapper, CamarEnv"
   ]
  },
  {
   "cell_type": "code",
   "execution_count": 3,
   "id": "13006101",
   "metadata": {},
   "outputs": [],
   "source": [
    "obs, state = camar_v0().reset(jax.random.key(0))"
   ]
  },
  {
   "cell_type": "code",
   "execution_count": 5,
   "id": "4d0d418a",
   "metadata": {},
   "outputs": [],
   "source": [
    "env = camar_v0(\"string_grid\", map_str=\"####\\n#..#\\n#..#\\n#..#\\n#..#\\n#..#\\n#..#\\n#..#\\n#..#\\n#..#\\n#..#\\n####\")"
   ]
  },
  {
   "cell_type": "code",
   "execution_count": 6,
   "id": "5462fa1f",
   "metadata": {},
   "outputs": [],
   "source": [
    "env_torchrl_wrapped = CamarWrapper(env=env, seed=0, device=\"cuda\", batch_size=20)"
   ]
  },
  {
   "cell_type": "code",
   "execution_count": 7,
   "id": "dc4df0af",
   "metadata": {},
   "outputs": [
    {
     "name": "stderr",
     "output_type": "stream",
     "text": [
      "/workspaces/CAMAR/.venv/lib/python3.10/site-packages/torchrl/envs/libs/jax_utils.py:65: DeprecationWarning: Calling from_dlpack with a DLPack tensor is deprecated. The argument to from_dlpack should be an array from another framework that implements the __dlpack__ protocol.\n",
      "  return jax_dlpack.from_dlpack(torch_dlpack.to_dlpack(value.contiguous()))\n"
     ]
    }
   ],
   "source": [
    "batch = env_torchrl_wrapped.rollout(13)"
   ]
  },
  {
   "cell_type": "code",
   "execution_count": 8,
   "id": "0b4ecdb3",
   "metadata": {},
   "outputs": [
    {
     "data": {
      "text/plain": [
       "torch.Size([20, 13, 10, 148])"
      ]
     },
     "execution_count": 8,
     "metadata": {},
     "output_type": "execute_result"
    }
   ],
   "source": [
    "batch[\"next\", \"agents\", \"observation\"].shape"
   ]
  },
  {
   "cell_type": "code",
   "execution_count": 10,
   "id": "7bf02b4e",
   "metadata": {},
   "outputs": [],
   "source": [
    "env_torchrl = CamarEnv(map_generator=\"string_grid\", num_envs=20, num_agents=7, seed=0, device=\"cuda\", map_str=\"####\\n#..#\\n#..#\\n#..#\\n#..#\\n#..#\\n#..#\\n#..#\\n#..#\\n#..#\\n#..#\\n####\")"
   ]
  },
  {
   "cell_type": "code",
   "execution_count": 11,
   "id": "ff2d2ffd",
   "metadata": {},
   "outputs": [
    {
     "data": {
      "text/plain": [
       "Composite(\n",
       "    agents: Composite(\n",
       "        action: BoundedContinuous(\n",
       "            shape=torch.Size([7, 2]),\n",
       "            space=ContinuousBox(\n",
       "                low=Tensor(shape=torch.Size([7, 2]), device=cuda:0, dtype=torch.float32, contiguous=True),\n",
       "                high=Tensor(shape=torch.Size([7, 2]), device=cuda:0, dtype=torch.float32, contiguous=True)),\n",
       "            device=cuda:0,\n",
       "            dtype=torch.float32,\n",
       "            domain=continuous),\n",
       "        device=cuda:0,\n",
       "        shape=torch.Size([7])),\n",
       "    device=cuda:0,\n",
       "    shape=torch.Size([]))"
      ]
     },
     "execution_count": 11,
     "metadata": {},
     "output_type": "execute_result"
    }
   ],
   "source": [
    "env_torchrl.full_action_spec_unbatched"
   ]
  },
  {
   "cell_type": "code",
   "execution_count": 12,
   "id": "1a42e272",
   "metadata": {},
   "outputs": [],
   "source": [
    "batch = env_torchrl.rollout(13)"
   ]
  },
  {
   "cell_type": "code",
   "execution_count": 13,
   "id": "727bf623",
   "metadata": {},
   "outputs": [
    {
     "data": {
      "text/plain": [
       "torch.Size([20, 13, 7, 142])"
      ]
     },
     "execution_count": 13,
     "metadata": {},
     "output_type": "execute_result"
    }
   ],
   "source": [
    "batch[\"next\", \"agents\", \"observation\"].shape"
   ]
  },
  {
   "cell_type": "code",
   "execution_count": null,
   "id": "925686c9",
   "metadata": {},
   "outputs": [],
   "source": []
  }
 ],
 "metadata": {
  "kernelspec": {
   "display_name": ".venv",
   "language": "python",
   "name": "python3"
  },
  "language_info": {
   "codemirror_mode": {
    "name": "ipython",
    "version": 3
   },
   "file_extension": ".py",
   "mimetype": "text/x-python",
   "name": "python",
   "nbconvert_exporter": "python",
   "pygments_lexer": "ipython3",
   "version": "3.10.17"
  }
 },
 "nbformat": 4,
 "nbformat_minor": 5
}
