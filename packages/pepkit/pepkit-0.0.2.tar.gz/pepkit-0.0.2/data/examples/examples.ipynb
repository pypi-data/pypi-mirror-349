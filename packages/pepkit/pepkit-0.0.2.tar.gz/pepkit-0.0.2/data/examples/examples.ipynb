{
 "cells": [
  {
   "cell_type": "markdown",
   "metadata": {},
   "source": [
    "# 1. Chem"
   ]
  },
  {
   "cell_type": "code",
   "execution_count": null,
   "metadata": {},
   "outputs": [],
   "source": [
    "import sys\n",
    "sys.path.append('../../')"
   ]
  },
  {
   "cell_type": "code",
   "execution_count": null,
   "metadata": {},
   "outputs": [],
   "source": [
    "from pepkit.io import setup_logging, read_csv\n",
    "logger = setup_logging()\n",
    "df = read_csv('../data.csv')"
   ]
  },
  {
   "cell_type": "code",
   "execution_count": null,
   "metadata": {},
   "outputs": [],
   "source": [
    "# or load from example\n",
    "from pepkit.examples import data\n",
    "df = data.example_df"
   ]
  },
  {
   "cell_type": "code",
   "execution_count": null,
   "metadata": {},
   "outputs": [],
   "source": [
    "from pepkit.chem import Standardizer\n",
    "\n",
    "std = Standardizer(remove_non_canonical=True, charge_by_pH=True, pH=7.4)\n",
    "result = std.data_process(df, fasta_key='peptide_sequence', n_jobs=4)"
   ]
  },
  {
   "cell_type": "code",
   "execution_count": null,
   "metadata": {},
   "outputs": [],
   "source": [
    "from pepkit.chem import Descriptor\n",
    "\n",
    "des = Descriptor(engine='rdkit', fasta_key='peptide_sequence', id_key='id', smiles_key='smiles')\n",
    "des_result = des.calculate(result, n_jobs=4,  verbose=2)"
   ]
  },
  {
   "cell_type": "markdown",
   "metadata": {},
   "source": [
    "# 2. Metrics"
   ]
  },
  {
   "cell_type": "code",
   "execution_count": null,
   "metadata": {},
   "outputs": [],
   "source": [
    "import pandas as pd\n",
    "import numpy as np\n",
    "\n",
    "y_true = np.array([\n",
    "    5.498509397602542,\n",
    "    5.4129302889144695,\n",
    "    5.249349691952619,\n",
    "    4.78976015801953,\n",
    "    4.20173265562076,\n",
    "])\n",
    "y_hat = np.array([7.467, 7.303, 7.369, 7.633, 7.52])\n",
    "\n",
    "df = pd.DataFrame({\n",
    "    \"y_true\": y_true,\n",
    "    \"y_pred\": y_hat\n",
    "})\n",
    "\n"
   ]
  },
  {
   "cell_type": "code",
   "execution_count": null,
   "metadata": {},
   "outputs": [],
   "source": [
    "from pepkit.metrics import compute_regression_metrics\n",
    "compute_regression_metrics(y_true, y_hat)"
   ]
  },
  {
   "cell_type": "code",
   "execution_count": null,
   "metadata": {},
   "outputs": [],
   "source": [
    "from pepkit.metrics import compute_metrics_from_dataframe\n",
    "compute_metrics_from_dataframe(df, ground_truth_key='y_true', \n",
    "                               pred_key='y_pred', \n",
    "                               task='regression', \n",
    "                               normalize=True)"
   ]
  },
  {
   "cell_type": "markdown",
   "metadata": {},
   "source": [
    "# Dock"
   ]
  },
  {
   "cell_type": "code",
   "execution_count": null,
   "metadata": {},
   "outputs": [],
   "source": [
    "from pepkit.dock.rosetta.refinement_dock import refinement_multiple_dock\n",
    "from pepkit.examples import rosetta_data\n",
    "pdb_path = rosetta_data.get_rosetta_ex_path()\n",
    "\n",
    "refinement_multiple_dock(\n",
    "    path_to_main=\"/path/to/rosetta/main\",\n",
    "    path_to_db=\"/path/to/rosetta/main/database\",\n",
    "    pdb_dir=pdb_path,\n",
    "    prepack_out=\"data/rosetta_test/prepack\",\n",
    "    refinement_out=\"data/rosetta_test/refinement\",\n",
    "    nstruct=1,\n",
    ")"
   ]
  },
  {
   "cell_type": "code",
   "execution_count": null,
   "metadata": {},
   "outputs": [],
   "source": [
    "from pepkit.dock.rosetta.score import extract_score, get_optimal_clx\n",
    "from pepkit.examples import rosetta_data\n",
    "refine_path = rosetta_data.get_refinement_path()\n",
    "\n",
    "score = extract_score(dirpath=refine_path)\n",
    "display(score)\n",
    "print(get_optimal_clx(score))"
   ]
  },
  {
   "cell_type": "code",
   "execution_count": null,
   "metadata": {},
   "outputs": [],
   "source": []
  }
 ],
 "metadata": {
  "kernelspec": {
   "display_name": "peputil",
   "language": "python",
   "name": "python3"
  },
  "language_info": {
   "codemirror_mode": {
    "name": "ipython",
    "version": 3
   },
   "file_extension": ".py",
   "mimetype": "text/x-python",
   "name": "python",
   "nbconvert_exporter": "python",
   "pygments_lexer": "ipython3",
   "version": "3.11.0"
  }
 },
 "nbformat": 4,
 "nbformat_minor": 2
}
