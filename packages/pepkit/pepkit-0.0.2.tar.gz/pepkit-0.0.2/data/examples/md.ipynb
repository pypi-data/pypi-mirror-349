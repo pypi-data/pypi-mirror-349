{
 "cells": [
  {
   "cell_type": "code",
   "execution_count": null,
   "metadata": {},
   "outputs": [],
   "source": [
    "import sys\n",
    "sys.path.append('../../')"
   ]
  },
  {
   "cell_type": "markdown",
   "metadata": {},
   "source": [
    "# Interaction"
   ]
  },
  {
   "cell_type": "code",
   "execution_count": null,
   "metadata": {},
   "outputs": [],
   "source": [
    "from pepkit.md.interaction import compute_interaction_fingerprint, protein_interaction_frequency, plot_interaction_fingerprint"
   ]
  },
  {
   "cell_type": "code",
   "execution_count": null,
   "metadata": {},
   "outputs": [],
   "source": [
    "df_filt = compute_interaction_fingerprint(gro_path='../md_data/md_0_100.gro',traj_path='../md_data/md_0_100.xtc',query_sel=\"resid 157:170\",reference_sel=\"resid 1:156\", max_frames=100, threshold=0.00, n_jobs=4)"
   ]
  },
  {
   "cell_type": "code",
   "execution_count": null,
   "metadata": {},
   "outputs": [],
   "source": [
    "protein_interaction_frequency(df_filt)"
   ]
  },
  {
   "cell_type": "code",
   "execution_count": null,
   "metadata": {},
   "outputs": [],
   "source": [
    "plot_interaction_fingerprint(df_filt, save_path=None)"
   ]
  },
  {
   "cell_type": "markdown",
   "metadata": {},
   "source": [
    "# RMSD"
   ]
  },
  {
   "cell_type": "code",
   "execution_count": null,
   "metadata": {},
   "outputs": [],
   "source": [
    "from pepkit.md.stable import compute_rmsf, plot_rmsf, compute_rmsd, plot_rmsd"
   ]
  },
  {
   "cell_type": "code",
   "execution_count": null,
   "metadata": {},
   "outputs": [],
   "source": [
    "rmsf = compute_rmsf(gro='../md_data/md_0_100.gro',\n",
    "                      traj='../md_data/md_0_100.xtc',\n",
    "                      res_sel=\"resid 157:170\", ref_frame=0, max_frames=10000, verbose=0, n_jobs=4, do_align=False)\n",
    "plot_rmsf(rmsf)"
   ]
  },
  {
   "cell_type": "code",
   "execution_count": null,
   "metadata": {},
   "outputs": [],
   "source": [
    "rmsd = compute_rmsd(gro='../md_data/md_0_100.gro',\n",
    "                      traj='../md_data/md_0_100.xtc',\n",
    "                      atom_sel=\"resid 157:170\", ref_frame=2000, time_divisor=1000)\n",
    "plot_rmsd(rmsd)"
   ]
  },
  {
   "cell_type": "code",
   "execution_count": null,
   "metadata": {},
   "outputs": [],
   "source": []
  }
 ],
 "metadata": {
  "kernelspec": {
   "display_name": "peputil",
   "language": "python",
   "name": "python3"
  },
  "language_info": {
   "codemirror_mode": {
    "name": "ipython",
    "version": 3
   },
   "file_extension": ".py",
   "mimetype": "text/x-python",
   "name": "python",
   "nbconvert_exporter": "python",
   "pygments_lexer": "ipython3",
   "version": "3.11.0"
  }
 },
 "nbformat": 4,
 "nbformat_minor": 2
}
