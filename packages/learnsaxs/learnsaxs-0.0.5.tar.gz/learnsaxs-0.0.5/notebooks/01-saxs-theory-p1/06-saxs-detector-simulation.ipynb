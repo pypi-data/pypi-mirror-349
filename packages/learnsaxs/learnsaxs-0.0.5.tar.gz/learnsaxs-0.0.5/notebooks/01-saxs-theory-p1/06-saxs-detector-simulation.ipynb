{
 "cells": [
  {
   "cell_type": "markdown",
   "metadata": {},
   "source": [
    "# 6. SAXS Detector Simulation\n",
    "* Putting difficult parts aside, we will be looking at the whole picture first.\n",
    "* By averaging spharically squared absolute values in the reciprocal space, we can obtain the detedtor images.\n",
    "* Such a simplified simulation will be shown below.\n",
    "* The core details are implemented in two functions get_detector_info() and draw_detector_image() in the learnsaxs package, and will be discussed in later notebooks."
   ]
  },
  {
   "cell_type": "code",
   "execution_count": 1,
   "metadata": {},
   "outputs": [],
   "source": [
    "import numpy as np\n",
    "import matplotlib.pyplot as plt\n",
    "from mpl_toolkits.mplot3d import Axes3D\n",
    "%matplotlib widget"
   ]
  },
  {
   "cell_type": "code",
   "execution_count": 2,
   "metadata": {},
   "outputs": [],
   "source": [
    "N = 32\n",
    "x = y = z = np.arange(N)\n",
    "xx, yy, zz = np.meshgrid(x, y, z)"
   ]
  },
  {
   "cell_type": "markdown",
   "metadata": {},
   "source": [
    "## 6.1 Drawing Ellipsopids"
   ]
  },
  {
   "cell_type": "markdown",
   "metadata": {},
   "source": [
    "* Ellipsoids are convenient to simply cover various shapes approximately.\n",
    "* See [Ellipsoid - Wikipedia](https://en.wikipedia.org/wiki/Ellipsoid) for their definition.\n",
    "\n",
    "$ \\frac{(x - cx)^2}{a^2} + \\frac{(y - cy)^2}{b^2}  + \\frac{(z - cz)^2}{c^2} < 1 $"
   ]
  },
  {
   "cell_type": "code",
   "execution_count": 3,
   "metadata": {},
   "outputs": [],
   "source": [
    "def plot_an_ellipsoid_with_ft(center, a, b, c):\n",
    "    import matplotlib.cm as cm\n",
    "    from learnsaxs import draw_voxles_as_dots\n",
    "    cx, cy, cz = center\n",
    "    shape = (xx - cx)**2/a**2 + (yy - cy)**2/b**2 + (zz - cz)**2/c**2 < 1\n",
    "    canvas = np.zeros((N,N,N))\n",
    "    canvas[shape] = 1\n",
    "    fig, (ax1, ax2) = plt.subplots(ncols=2, figsize=(8,4), subplot_kw={\"projection\":\"3d\"})\n",
    "    ax1.set_title(\"Real Space Image\")\n",
    "    ax2.set_title(\"Resiprocal Space Image abs(F)\")\n",
    "    draw_voxles_as_dots(ax1, canvas)\n",
    "    ft_image = np.abs(np.fft.fftn(canvas))\n",
    "    draw_voxles_as_dots(ax2, ft_image)   # this is faster\n",
    "    ax1.set_xlim(ax2.get_xlim())\n",
    "    ax1.set_ylim(ax2.get_ylim())\n",
    "    ax1.set_zlim(ax2.get_zlim())"
   ]
  },
  {
   "cell_type": "code",
   "execution_count": 4,
   "metadata": {},
   "outputs": [
    {
     "data": {
      "application/vnd.jupyter.widget-view+json": {
       "model_id": "722d9b81eb12496b9556bfc1fc02a885",
       "version_major": 2,
       "version_minor": 0
      },
      "text/plain": [
       "Canvas(toolbar=Toolbar(toolitems=[('Home', 'Reset original view', 'home', 'home'), ('Back', 'Back to previous …"
      ]
     },
     "metadata": {},
     "output_type": "display_data"
    }
   ],
   "source": [
    "plot_an_ellipsoid_with_ft((16,16,16), 5, 4, 2)"
   ]
  },
  {
   "cell_type": "markdown",
   "metadata": {},
   "source": [
    "## 6.2 Detector Image and Scattering Curve\n",
    "* Using learnsaxs, saxs detector simulation can be concisely implemented as follows."
   ]
  },
  {
   "cell_type": "code",
   "execution_count": 5,
   "metadata": {},
   "outputs": [],
   "source": [
    "def plot_an_ellipsoid_with_ft_squared_and_detector_image(center, a, b, c):\n",
    "    import matplotlib.cm as cm\n",
    "    from learnsaxs import draw_voxles_as_dots, get_detector_info, draw_detector_image\n",
    "    cx, cy, cz = center\n",
    "    shape = (xx - cx)**2/a**2 + (yy - cy)**2/b**2 + (zz - cz)**2/c**2 < 1\n",
    "    canvas = np.zeros((N,N,N))\n",
    "    canvas[shape] = 1\n",
    "    fig = plt.figure(figsize=(12,3))\n",
    "    ax1 = fig.add_subplot(141, projection=\"3d\")\n",
    "    ax2 = fig.add_subplot(142, projection=\"3d\")\n",
    "    ax3 = fig.add_subplot(143)\n",
    "    ax4 = fig.add_subplot(144)\n",
    "    ax4.set_yscale(\"log\")\n",
    "    ax1.set_title(\"Real Space Image\")\n",
    "    ax2.set_title(\"Resiprocal Space Image $abs(F)^2$\")\n",
    "    ax3.set_title(\"Detector Image\")\n",
    "    ax4.set_title(\"Scattering Curve\")\n",
    "    draw_voxles_as_dots(ax1, canvas)\n",
    "    F = np.fft.fftn(canvas)\n",
    "    ft_image = np.abs(F)\n",
    "    draw_voxles_as_dots(ax2, ft_image**2)\n",
    "    q = np.linspace(0.005, 0.5, 100)\n",
    "    info = get_detector_info(q, F)\n",
    "    draw_detector_image(ax3, q, info.y)\n",
    "    ax4.set_xlabel(\"q\")\n",
    "    ax4.set_ylabel(\"I(q)\")\n",
    "    ax4.plot(q, info.y)\n",
    "    ax1.set_xlim(ax2.get_xlim())\n",
    "    ax1.set_ylim(ax2.get_ylim())\n",
    "    ax1.set_zlim(ax2.get_zlim())\n",
    "    fig.tight_layout()"
   ]
  },
  {
   "cell_type": "code",
   "execution_count": 6,
   "metadata": {},
   "outputs": [
    {
     "data": {
      "application/vnd.jupyter.widget-view+json": {
       "model_id": "f8c79e8ac0114498ab4a59ddabe29078",
       "version_major": 2,
       "version_minor": 0
      },
      "text/plain": [
       "Canvas(toolbar=Toolbar(toolitems=[('Home', 'Reset original view', 'home', 'home'), ('Back', 'Back to previous …"
      ]
     },
     "metadata": {},
     "output_type": "display_data"
    },
    {
     "name": "stderr",
     "output_type": "stream",
     "text": [
      "c:\\program files\\python39\\lib\\site-packages\\learnsaxs\\__init__.py:107: UserWarning: The input coordinates to pcolormesh are interpreted as cell centers, but are not monotonically increasing or decreasing. This may lead to incorrectly calculated cell edges, in which case, please supply explicit cell edges to pcolormesh.\n",
      "  im = ax.pcolormesh(X, Y, Z, cmap=cm.plasma, shading=\"auto\")\n"
     ]
    }
   ],
   "source": [
    "plot_an_ellipsoid_with_ft_squared_and_detector_image((16,16,16), 5, 4, 3)"
   ]
  },
  {
   "cell_type": "code",
   "execution_count": null,
   "metadata": {},
   "outputs": [],
   "source": []
  }
 ],
 "metadata": {
  "kernelspec": {
   "display_name": "Python 3",
   "language": "python",
   "name": "python3"
  },
  "language_info": {
   "codemirror_mode": {
    "name": "ipython",
    "version": 3
   },
   "file_extension": ".py",
   "mimetype": "text/x-python",
   "name": "python",
   "nbconvert_exporter": "python",
   "pygments_lexer": "ipython3",
   "version": "3.9.7"
  }
 },
 "nbformat": 4,
 "nbformat_minor": 4
}
