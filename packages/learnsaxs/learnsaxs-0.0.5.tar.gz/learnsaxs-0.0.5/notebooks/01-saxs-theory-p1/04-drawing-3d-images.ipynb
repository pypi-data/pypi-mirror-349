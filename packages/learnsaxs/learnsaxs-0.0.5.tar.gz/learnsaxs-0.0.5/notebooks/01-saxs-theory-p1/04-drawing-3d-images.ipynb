{
 "cells": [
  {
   "cell_type": "markdown",
   "metadata": {},
   "source": [
    "# 4. Drawing Sphere as 3D Image\n",
    "## 4.1 using matplotlib only\n",
    "* You can draw 3D images with ax.voxels() method.\n",
    "* However, using ax.voxels() can be problematic because it is slow.\n",
    "* One solution to this problem will be given in the next section below."
   ]
  },
  {
   "cell_type": "code",
   "execution_count": 1,
   "metadata": {},
   "outputs": [],
   "source": [
    "import numpy as np\n",
    "import matplotlib.pyplot as plt\n",
    "from mpl_toolkits.mplot3d import Axes3D\n",
    "%matplotlib widget"
   ]
  },
  {
   "cell_type": "markdown",
   "metadata": {},
   "source": [
    "* Note that we have chosen a smaller number of grids, i.e. N = 32, to reduce the total 3D data volume. "
   ]
  },
  {
   "cell_type": "code",
   "execution_count": 2,
   "metadata": {},
   "outputs": [
    {
     "data": {
      "text/plain": [
       "(10000, 32768)"
      ]
     },
     "execution_count": 2,
     "metadata": {},
     "output_type": "execute_result"
    }
   ],
   "source": [
    "N = 32\n",
    "100**2, N**3"
   ]
  },
  {
   "cell_type": "markdown",
   "metadata": {},
   "source": [
    "* Note that we are using %%timeit to \n",
    "* Be careful that %%timeit restricts the scope of the variables defined in the cell to the inside of the cell.\n",
    "* That is, variables newly defined in the cell cannot be used in later cells, without redefining."
   ]
  },
  {
   "cell_type": "code",
   "execution_count": 3,
   "metadata": {},
   "outputs": [
    {
     "data": {
      "application/vnd.jupyter.widget-view+json": {
       "model_id": "1c2dff4f20e54eed88ec4f679fffcfd6",
       "version_major": 2,
       "version_minor": 0
      },
      "text/plain": [
       "Canvas(toolbar=Toolbar(toolitems=[('Home', 'Reset original view', 'home', 'home'), ('Back', 'Back to previous …"
      ]
     },
     "metadata": {},
     "output_type": "display_data"
    },
    {
     "name": "stdout",
     "output_type": "stream",
     "text": [
      "4.75 s ± 0 ns per loop (mean ± std. dev. of 1 run, 1 loop each)\n"
     ]
    }
   ],
   "source": [
    "%%timeit -n 1 -r 1\n",
    "canvas = np.ones((N,N,N))\n",
    "fig, ax = plt.subplots(figsize=(4,4), subplot_kw={\"projection\":\"3d\"})\n",
    "ax.voxels(canvas);"
   ]
  },
  {
   "cell_type": "code",
   "execution_count": 4,
   "metadata": {},
   "outputs": [],
   "source": [
    "def plot_a_shape(shape):\n",
    "    canvas = np.zeros((N,N,N))\n",
    "    canvas[shape] = 1\n",
    "    fig, ax = plt.subplots(figsize=(4,4), subplot_kw={\"projection\":\"3d\"})\n",
    "    ax.voxels(canvas)"
   ]
  },
  {
   "cell_type": "code",
   "execution_count": 5,
   "metadata": {},
   "outputs": [],
   "source": [
    "x = y = z = np.arange(N)\n",
    "xx, yy, zz = np.meshgrid(x, y, z)"
   ]
  },
  {
   "cell_type": "code",
   "execution_count": 6,
   "metadata": {},
   "outputs": [
    {
     "data": {
      "application/vnd.jupyter.widget-view+json": {
       "model_id": "23cc5731ef7d426f81ebc1a067349275",
       "version_major": 2,
       "version_minor": 0
      },
      "text/plain": [
       "Canvas(toolbar=Toolbar(toolitems=[('Home', 'Reset original view', 'home', 'home'), ('Back', 'Back to previous …"
      ]
     },
     "metadata": {},
     "output_type": "display_data"
    },
    {
     "name": "stdout",
     "output_type": "stream",
     "text": [
      "698 ms ± 0 ns per loop (mean ± std. dev. of 1 run, 1 loop each)\n"
     ]
    }
   ],
   "source": [
    "%%timeit -n 1 -r 1\n",
    "plot_a_shape((xx - 16)**2 + (yy - 16)**2 + (zz - 16)**2 < 4**2)"
   ]
  },
  {
   "cell_type": "markdown",
   "metadata": {},
   "source": [
    "## 4.2 How to draw faster\n",
    "* To draw faster, use draw_voxles_as_dots() function from \"learnsaxs\" package instead.\n",
    "* As its name suggests, draw_voxles_as_dots() draws data as dots with ax.scatter() method, which results in faster rendering.\n",
    "* Of course the resulting image is less accurate, but it suffices for our purposes. We are taking advantage of the drawing speed."
   ]
  },
  {
   "cell_type": "code",
   "execution_count": 7,
   "metadata": {},
   "outputs": [],
   "source": [
    "def plot_a_shape_as_dots(shape):\n",
    "    from learnsaxs import draw_voxles_as_dots\n",
    "    canvas = np.zeros((N,N,N))\n",
    "    canvas[shape] = 1\n",
    "    fig, ax = plt.subplots(figsize=(4,4), subplot_kw={\"projection\":\"3d\"})\n",
    "    draw_voxles_as_dots(ax, canvas)    # faster than ax.voxels(...)\n",
    "    ax.set_xlim(0, N)\n",
    "    ax.set_ylim(0, N)\n",
    "    ax.set_zlim(0, N)"
   ]
  },
  {
   "cell_type": "code",
   "execution_count": 8,
   "metadata": {},
   "outputs": [
    {
     "data": {
      "application/vnd.jupyter.widget-view+json": {
       "model_id": "02298b2941734c65a57bb0b3ae468c5d",
       "version_major": 2,
       "version_minor": 0
      },
      "text/plain": [
       "Canvas(toolbar=Toolbar(toolitems=[('Home', 'Reset original view', 'home', 'home'), ('Back', 'Back to previous …"
      ]
     },
     "metadata": {},
     "output_type": "display_data"
    },
    {
     "name": "stdout",
     "output_type": "stream",
     "text": [
      "130 ms ± 0 ns per loop (mean ± std. dev. of 1 run, 1 loop each)\n"
     ]
    }
   ],
   "source": [
    "%%timeit -n 1 -r 1\n",
    "plot_a_shape_as_dots((xx - 16)**2 + (yy - 16)**2 + (zz - 16)**2 < 4**2)"
   ]
  },
  {
   "cell_type": "markdown",
   "metadata": {},
   "source": [
    "## 4.3 References\n",
    "* If you don't care the speed, more intensive use of ax.voxels can be found in [Displaying 3D images in Python](https://terbium.io/2017/12/matplotlib-3d/)"
   ]
  },
  {
   "cell_type": "code",
   "execution_count": null,
   "metadata": {},
   "outputs": [],
   "source": []
  }
 ],
 "metadata": {
  "kernelspec": {
   "display_name": "Python 3",
   "language": "python",
   "name": "python3"
  },
  "language_info": {
   "codemirror_mode": {
    "name": "ipython",
    "version": 3
   },
   "file_extension": ".py",
   "mimetype": "text/x-python",
   "name": "python",
   "nbconvert_exporter": "python",
   "pygments_lexer": "ipython3",
   "version": "3.9.7"
  }
 },
 "nbformat": 4,
 "nbformat_minor": 4
}
