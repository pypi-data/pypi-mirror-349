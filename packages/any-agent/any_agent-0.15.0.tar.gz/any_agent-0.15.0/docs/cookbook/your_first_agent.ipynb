{
 "cells": [
  {
   "cell_type": "markdown",
   "metadata": {},
   "source": [
    "# Creating your first agent\n",
    "\n",
    "[![Your first agent](https://colab.research.google.com/assets/colab-badge.svg)](https://colab.research.google.com/github/mozilla-ai/any-agent/blob/main/docs/cookbook/your_first_agent.ipynb) \n",
    "\n",
    "If you're looking to build your first agent using a few simple tools, this is a great place to start. In this cookbook example, we will create and run a simple agent that has access to a few web tools. This can be easily expanded to add more advanced tools and features. 🚀"
   ]
  },
  {
   "cell_type": "markdown",
   "metadata": {},
   "source": [
    "## Install Dependencies\n",
    "\n",
    "any-agent uses the python asyncio module to support async functionality. When running in Jupyter notebooks, this means we need to enable the use of nested event loops. We'll install any-agent and enable this below using nest_asyncio."
   ]
  },
  {
   "cell_type": "code",
   "execution_count": null,
   "metadata": {},
   "outputs": [],
   "source": [
    "%pip install 'any-agent[all]'\n",
    "\n",
    "import nest_asyncio\n",
    "\n",
    "nest_asyncio.apply()"
   ]
  },
  {
   "cell_type": "markdown",
   "metadata": {},
   "source": [
    "## Configure the Agent\n",
    "\n",
    "Now it's time to configure the agent! At this stage you have a few choices:\n",
    "\n",
    "### Pick the framework\n",
    "\n",
    "We support a variety of underlying agent frameworks (OpenAI, Smolagents, Langchain, etc), which all have their own particular agentic AI implementations. For this tutorial's simple use case, any of the frameworks should work just fine, but any-agent makes it easy to try out a different framework later, if we so choose. For this example, we will use the \"openai\" agent framework.\n",
    "\n",
    "### Pick an LLM\n",
    "\n",
    "Regardless of which agent framework you choose, each framework supports LiteLLM, which is a proxy that allows us to use whichever LLM inside the framework, hosted on by any provider. For example, we could use a local model via llama.cpp or llamafile, a google hosted gemini model, or a AWS bedrock hosted Llama model. For this example, let's use OpenAI's gpt-4.1-nano.\n",
    "\n",
    "### Pick which tools to use\n",
    "\n",
    " In this tutorial, we will provide the agent with access to web searches and web page visits. In later examples we will show more advanced tool usage like Model Context Protocol (MCP) tool use or inter-agent communication using Agent-2-Agent (A2A)."
   ]
  },
  {
   "cell_type": "code",
   "execution_count": 8,
   "metadata": {},
   "outputs": [
    {
     "name": "stdout",
     "output_type": "stream",
     "text": [
      "OPENAI_API_KEY found in environment.\n"
     ]
    }
   ],
   "source": [
    "import os\n",
    "from getpass import getpass\n",
    "\n",
    "if \"OPENAI_API_KEY\" not in os.environ:\n",
    "    print(\"OPENAI_API_KEY not found in environment!\")\n",
    "    api_key = getpass(\"Please enter your OPENAI_API_KEY: \")\n",
    "    os.environ[\"OPENAI_API_KEY\"] = api_key\n",
    "    print(\"OPENAI_API_KEY set for this session!\")\n",
    "else:\n",
    "    print(\"OPENAI_API_KEY found in environment.\")"
   ]
  },
  {
   "cell_type": "code",
   "execution_count": null,
   "metadata": {},
   "outputs": [],
   "source": [
    "from any_agent import AgentConfig, AnyAgent\n",
    "from any_agent.tools import search_web, visit_webpage\n",
    "\n",
    "agent = AnyAgent.create(\n",
    "    \"openai\",  # See all options in https://mozilla-ai.github.io/any-agent/\n",
    "    AgentConfig(model_id=\"gpt-4.1-nano\", tools=[search_web, visit_webpage]),\n",
    ")"
   ]
  },
  {
   "cell_type": "markdown",
   "metadata": {},
   "source": [
    "## Run the Agent\n",
    "\n",
    "Now we've configured our agent, so it's time to run it! Let's give it a simple task: find 5 trending new TV shows that were released recently.\n"
   ]
  },
  {
   "cell_type": "code",
   "execution_count": 3,
   "metadata": {},
   "outputs": [
    {
     "data": {
      "text/html": [
       "<pre style=\"white-space:pre;overflow-x:auto;line-height:normal;font-family:Menlo,'DejaVu Sans Mono',consolas,'Courier New',monospace\"><span style=\"color: #000080; text-decoration-color: #000080\">────────────────────────────────────────────────────── </span>TOOL<span style=\"color: #000080; text-decoration-color: #000080\"> ───────────────────────────────────────────────────────</span>\n",
       "</pre>\n"
      ],
      "text/plain": [
       "\u001b[34m────────────────────────────────────────────────────── \u001b[0mTOOL\u001b[34m ───────────────────────────────────────────────────────\u001b[0m\n"
      ]
     },
     "metadata": {},
     "output_type": "display_data"
    },
    {
     "data": {
      "text/html": [
       "<pre style=\"white-space:pre;overflow-x:auto;line-height:normal;font-family:Menlo,'DejaVu Sans Mono',consolas,'Courier New',monospace\">tool_name: search_web\n",
       "</pre>\n"
      ],
      "text/plain": [
       "tool_name: search_web\n"
      ]
     },
     "metadata": {},
     "output_type": "display_data"
    },
    {
     "data": {
      "text/html": [
       "<pre style=\"white-space:pre;overflow-x:auto;line-height:normal;font-family:Menlo,'DejaVu Sans Mono',consolas,'Courier New',monospace\">input: <span style=\"font-weight: bold\">{</span><span style=\"color: #008000; text-decoration-color: #008000\">'query'</span>: <span style=\"color: #008000; text-decoration-color: #008000\">'Trending TV shows in 2025'</span><span style=\"font-weight: bold\">}</span>\n",
       "</pre>\n"
      ],
      "text/plain": [
       "input: \u001b[1m{\u001b[0m\u001b[32m'query'\u001b[0m: \u001b[32m'Trending TV shows in 2025'\u001b[0m\u001b[1m}\u001b[0m\n"
      ]
     },
     "metadata": {},
     "output_type": "display_data"
    },
    {
     "data": {
      "text/html": [
       "<pre style=\"white-space:pre;overflow-x:auto;line-height:normal;font-family:Menlo,'DejaVu Sans Mono',consolas,'Courier New',monospace\">╭──────────────────────────────────────────────────── Output ─────────────────────────────────────────────────────╮\n",
       "│ <a href=\"https://editorial.rottentomatoes.com/guide/best-new-tv-series-shows/\" target=\"_blank\"><span style=\"color: #000080; text-decoration-color: #000080; text-decoration: underline\">Best TV Shows of 2025: New Series to Watch Now - Rotten Tomatoes</span></a> The latest: May kicks off with Poker Face:     │\n",
       "│ Season 2, #1 Happy Family USA: Season 1, North of North: Season 1, The Four Seasons: Season 1, and Doctor Who:  │\n",
       "│ Season 2. You: Season 5, Étoile: Season 1, and The Narrow Road to the Deep North close out the month. Andor     │\n",
       "│ sticks the landing with a Certified Fresh Season 2. The Wheel of Time continues to grow in stature, now with    │\n",
       "│ Season 3 the series ... <a href=\"https://deadline.com/lists/2025-tv-shows/\" target=\"_blank\"><span style=\"color: #000080; text-decoration-color: #000080; text-decoration: underline\">2025 TV Shows: Release Dates For Most Anticipated Series - Deadline</span></a> 36 Of The Most      │\n",
       "│ Anticipated New &amp; Returning TV Shows Of 2025. By Dessi Gomez. Dessi Gomez. ... some long-anticipated returning  │\n",
       "│ shows have new seasons arriving in 2025, ... Trending on Deadline <a href=\"https://www.timeout.com/film/must-see-tv-shows-for-2025-you-cant-miss\" target=\"_blank\"><span style=\"color: #000080; text-decoration-color: #000080; text-decoration: underline\">23 Best Streaming and TV Shows to See in 2025</span></a> │\n",
       "│ <a href=\"https://www.timeout.com/film/must-see-tv-shows-for-2025-you-cant-miss\" target=\"_blank\"><span style=\"color: #000080; text-decoration-color: #000080; text-decoration: underline\">- Time Out</span></a> These are the 23 must-see TV shows for 2025 you can't miss. A new 'White Lotus', the end of          │\n",
       "│ 'Stranger Things', and a knockout boxing drama. Monday 6 January 2025. Share. Copy Link. <a href=\"https://www.empireonline.com/tv/features/best-tv-shows-2025/\" target=\"_blank\"><span style=\"color: #000080; text-decoration-color: #000080; text-decoration: underline\">87 TV Series You Must </span></a> │\n",
       "│ <a href=\"https://www.empireonline.com/tv/features/best-tv-shows-2025/\" target=\"_blank\"><span style=\"color: #000080; text-decoration-color: #000080; text-decoration: underline\">See In 2025 (And Where To Stream Them)</span></a> From Andor to Zero Day, and The Last Of Us to Stranger Things, Empire    │\n",
       "│ presents your guide to the biggest shows streaming in 2025. Read the full list. <a href=\"https://variety.com/lists/most-anticipated-tv-shows-2025/\" target=\"_blank\"><span style=\"color: #000080; text-decoration-color: #000080; text-decoration: underline\">The 41 Most Anticipated New and</span></a> │\n",
       "│ <a href=\"https://variety.com/lists/most-anticipated-tv-shows-2025/\" target=\"_blank\"><span style=\"color: #000080; text-decoration-color: #000080; text-decoration: underline\">Returning TV Shows Coming in 2025 - Variety</span></a> The show was also revived for one season at HGTV in 2020 with host  │\n",
       "│ Jesse Tyler Ferguson. The new series, produced by Endemol Shine North America and Hello Sunshine, will feature  │\n",
       "│ the hosts meeting ... <a href=\"https://www.hollywoodreporter.com/lists/most-anticipated-tv-shows-2025/\" target=\"_blank\"><span style=\"color: #000080; text-decoration-color: #000080; text-decoration: underline\">The 31 Most Anticipated Scripted TV Shows of 2025 - The Hollywood Reporter</span></a> The            │\n",
       "│ after-effects of media conglomerate cost-cutting and 2023's labor strikes showed up in noticeable ways for TV   │\n",
       "│ viewers last year. Networks and streamers made fewer shows — the Peak TV era ... <a href=\"https://www.polygon.com/tv/493214/best-new-tv-2025-release-calendar-schedule-shows-series\" target=\"_blank\"><span style=\"color: #000080; text-decoration-color: #000080; text-decoration: underline\">The 50 big new TV shows to </span></a>    │\n",
       "│ <a href=\"https://www.polygon.com/tv/493214/best-new-tv-2025-release-calendar-schedule-shows-series\" target=\"_blank\"><span style=\"color: #000080; text-decoration-color: #000080; text-decoration: underline\">watch in 2025 | Polygon</span></a> The 50 most exciting TV shows for your 2025 watch list. The year is full of             │\n",
       "│ long-awaited returns and exciting new premieres. by Austen Goslin and Polygon Staff. Jan 1, 2025, 2:00 PM UTC   │\n",
       "│ <a href=\"https://tvline.com/features/2025-tv-shows-1235385965/\" target=\"_blank\"><span style=\"color: #000080; text-decoration-color: #000080; text-decoration: underline\">All the New TV Shows to Look Forward to in 2025, List of ... - TVLine</span></a> TVLine presents a comprehensive list of   │\n",
       "│ every new TV show premiering across broadcast, cable and streaming in 2025. ... Trending Shows. 9-1-1; 1923;    │\n",
       "│ ... And that's only the first two months of ... <a href=\"https://www.imdb.com/list/ls593164948\" target=\"_blank\"><span style=\"color: #000080; text-decoration-color: #000080; text-decoration: underline\">new shows/series to watch - 2025 - IMDb</span></a> With an exciting lineup │\n",
       "│ of fresh stories, compelling characters, and intriguing concepts, this list is dedicated to the latest          │\n",
       "│ must-watch series of 2025. Covering a mix of gripping crime dramas, heartfelt family narratives, thrilling      │\n",
       "│ procedural spin offs, and nostalgic revivals, these new releases bring something for every type of viewer.      │\n",
       "│ Whether it's a fast paced action series, an emotionally ... <a href=\"https://www.rd.com/article/most-anticipated-tv-shows-2025/\" target=\"_blank\"><span style=\"color: #000080; text-decoration-color: #000080; text-decoration: underline\">The 10 Best TV Shows of 2025 to Put on Your </span></a>        │\n",
       "│ <a href=\"https://www.rd.com/article/most-anticipated-tv-shows-2025/\" target=\"_blank\"><span style=\"color: #000080; text-decoration-color: #000080; text-decoration: underline\">Must-Watch List</span></a> Get Reader's Digest's Read Up newsletter for more TV shows, movies, humor, travel, tech and fun │\n",
       "│ facts all week long. Via Tv.apple.com. Severance . Premiere date: Jan. 17. Where to watch: Apple TV+            │\n",
       "╰─────────────────────────────────────────────────────────────────────────────────────────────────────────────────╯\n",
       "</pre>\n"
      ],
      "text/plain": [
       "╭──────────────────────────────────────────────────── Output ─────────────────────────────────────────────────────╮\n",
       "│ \u001b]8;id=530931;https://editorial.rottentomatoes.com/guide/best-new-tv-series-shows/\u001b\\\u001b[4;34mBest TV Shows of 2025: New Series to Watch Now - Rotten Tomatoes\u001b[0m\u001b]8;;\u001b\\ The latest: May kicks off with Poker Face:     │\n",
       "│ Season 2, #1 Happy Family USA: Season 1, North of North: Season 1, The Four Seasons: Season 1, and Doctor Who:  │\n",
       "│ Season 2. You: Season 5, Étoile: Season 1, and The Narrow Road to the Deep North close out the month. Andor     │\n",
       "│ sticks the landing with a Certified Fresh Season 2. The Wheel of Time continues to grow in stature, now with    │\n",
       "│ Season 3 the series ... \u001b]8;id=697958;https://deadline.com/lists/2025-tv-shows/\u001b\\\u001b[4;34m2025 TV Shows: Release Dates For Most Anticipated Series - Deadline\u001b[0m\u001b]8;;\u001b\\ 36 Of The Most      │\n",
       "│ Anticipated New & Returning TV Shows Of 2025. By Dessi Gomez. Dessi Gomez. ... some long-anticipated returning  │\n",
       "│ shows have new seasons arriving in 2025, ... Trending on Deadline \u001b]8;id=541647;https://www.timeout.com/film/must-see-tv-shows-for-2025-you-cant-miss\u001b\\\u001b[4;34m23 Best Streaming and TV Shows to See in 2025\u001b[0m\u001b]8;;\u001b\\ │\n",
       "│ \u001b]8;id=541647;https://www.timeout.com/film/must-see-tv-shows-for-2025-you-cant-miss\u001b\\\u001b[4;34m- Time Out\u001b[0m\u001b]8;;\u001b\\ These are the 23 must-see TV shows for 2025 you can't miss. A new 'White Lotus', the end of          │\n",
       "│ 'Stranger Things', and a knockout boxing drama. Monday 6 January 2025. Share. Copy Link. \u001b]8;id=256015;https://www.empireonline.com/tv/features/best-tv-shows-2025/\u001b\\\u001b[4;34m87 TV Series You Must \u001b[0m\u001b]8;;\u001b\\ │\n",
       "│ \u001b]8;id=256015;https://www.empireonline.com/tv/features/best-tv-shows-2025/\u001b\\\u001b[4;34mSee In 2025 (And Where To Stream Them)\u001b[0m\u001b]8;;\u001b\\ From Andor to Zero Day, and The Last Of Us to Stranger Things, Empire    │\n",
       "│ presents your guide to the biggest shows streaming in 2025. Read the full list. \u001b]8;id=282886;https://variety.com/lists/most-anticipated-tv-shows-2025/\u001b\\\u001b[4;34mThe 41 Most Anticipated New and\u001b[0m\u001b]8;;\u001b\\ │\n",
       "│ \u001b]8;id=282886;https://variety.com/lists/most-anticipated-tv-shows-2025/\u001b\\\u001b[4;34mReturning TV Shows Coming in 2025 - Variety\u001b[0m\u001b]8;;\u001b\\ The show was also revived for one season at HGTV in 2020 with host  │\n",
       "│ Jesse Tyler Ferguson. The new series, produced by Endemol Shine North America and Hello Sunshine, will feature  │\n",
       "│ the hosts meeting ... \u001b]8;id=505648;https://www.hollywoodreporter.com/lists/most-anticipated-tv-shows-2025/\u001b\\\u001b[4;34mThe 31 Most Anticipated Scripted TV Shows of 2025 - The Hollywood Reporter\u001b[0m\u001b]8;;\u001b\\ The            │\n",
       "│ after-effects of media conglomerate cost-cutting and 2023's labor strikes showed up in noticeable ways for TV   │\n",
       "│ viewers last year. Networks and streamers made fewer shows — the Peak TV era ... \u001b]8;id=631865;https://www.polygon.com/tv/493214/best-new-tv-2025-release-calendar-schedule-shows-series\u001b\\\u001b[4;34mThe 50 big new TV shows to \u001b[0m\u001b]8;;\u001b\\    │\n",
       "│ \u001b]8;id=631865;https://www.polygon.com/tv/493214/best-new-tv-2025-release-calendar-schedule-shows-series\u001b\\\u001b[4;34mwatch in 2025 | Polygon\u001b[0m\u001b]8;;\u001b\\ The 50 most exciting TV shows for your 2025 watch list. The year is full of             │\n",
       "│ long-awaited returns and exciting new premieres. by Austen Goslin and Polygon Staff. Jan 1, 2025, 2:00 PM UTC   │\n",
       "│ \u001b]8;id=882986;https://tvline.com/features/2025-tv-shows-1235385965/\u001b\\\u001b[4;34mAll the New TV Shows to Look Forward to in 2025, List of ... - TVLine\u001b[0m\u001b]8;;\u001b\\ TVLine presents a comprehensive list of   │\n",
       "│ every new TV show premiering across broadcast, cable and streaming in 2025. ... Trending Shows. 9-1-1; 1923;    │\n",
       "│ ... And that's only the first two months of ... \u001b]8;id=427516;https://www.imdb.com/list/ls593164948\u001b\\\u001b[4;34mnew shows/series to watch - 2025 - IMDb\u001b[0m\u001b]8;;\u001b\\ With an exciting lineup │\n",
       "│ of fresh stories, compelling characters, and intriguing concepts, this list is dedicated to the latest          │\n",
       "│ must-watch series of 2025. Covering a mix of gripping crime dramas, heartfelt family narratives, thrilling      │\n",
       "│ procedural spin offs, and nostalgic revivals, these new releases bring something for every type of viewer.      │\n",
       "│ Whether it's a fast paced action series, an emotionally ... \u001b]8;id=75414;https://www.rd.com/article/most-anticipated-tv-shows-2025/\u001b\\\u001b[4;34mThe 10 Best TV Shows of 2025 to Put on Your \u001b[0m\u001b]8;;\u001b\\        │\n",
       "│ \u001b]8;id=75414;https://www.rd.com/article/most-anticipated-tv-shows-2025/\u001b\\\u001b[4;34mMust-Watch List\u001b[0m\u001b]8;;\u001b\\ Get Reader's Digest's Read Up newsletter for more TV shows, movies, humor, travel, tech and fun │\n",
       "│ facts all week long. Via Tv.apple.com. Severance . Premiere date: Jan. 17. Where to watch: Apple TV+            │\n",
       "╰─────────────────────────────────────────────────────────────────────────────────────────────────────────────────╯\n"
      ]
     },
     "metadata": {},
     "output_type": "display_data"
    },
    {
     "data": {
      "text/html": [
       "<pre style=\"white-space:pre;overflow-x:auto;line-height:normal;font-family:Menlo,'DejaVu Sans Mono',consolas,'Courier New',monospace\"><span style=\"color: #000080; text-decoration-color: #000080\">───────────────────────────────────────────────────────────────────────────────────────────────────────────────────</span>\n",
       "</pre>\n"
      ],
      "text/plain": [
       "\u001b[34m───────────────────────────────────────────────────────────────────────────────────────────────────────────────────\u001b[0m\n"
      ]
     },
     "metadata": {},
     "output_type": "display_data"
    },
    {
     "data": {
      "text/html": [
       "<pre style=\"white-space:pre;overflow-x:auto;line-height:normal;font-family:Menlo,'DejaVu Sans Mono',consolas,'Courier New',monospace\"><span style=\"color: #000080; text-decoration-color: #000080\">────────────────────────────────────────────────────── </span>TOOL<span style=\"color: #000080; text-decoration-color: #000080\"> ───────────────────────────────────────────────────────</span>\n",
       "</pre>\n"
      ],
      "text/plain": [
       "\u001b[34m────────────────────────────────────────────────────── \u001b[0mTOOL\u001b[34m ───────────────────────────────────────────────────────\u001b[0m\n"
      ]
     },
     "metadata": {},
     "output_type": "display_data"
    },
    {
     "data": {
      "text/html": [
       "<pre style=\"white-space:pre;overflow-x:auto;line-height:normal;font-family:Menlo,'DejaVu Sans Mono',consolas,'Courier New',monospace\">tool_name: search_web\n",
       "</pre>\n"
      ],
      "text/plain": [
       "tool_name: search_web\n"
      ]
     },
     "metadata": {},
     "output_type": "display_data"
    },
    {
     "data": {
      "text/html": [
       "<pre style=\"white-space:pre;overflow-x:auto;line-height:normal;font-family:Menlo,'DejaVu Sans Mono',consolas,'Courier New',monospace\">input: <span style=\"font-weight: bold\">{</span><span style=\"color: #008000; text-decoration-color: #008000\">'query'</span>: <span style=\"color: #008000; text-decoration-color: #008000\">'Top TV shows of 2025'</span><span style=\"font-weight: bold\">}</span>\n",
       "</pre>\n"
      ],
      "text/plain": [
       "input: \u001b[1m{\u001b[0m\u001b[32m'query'\u001b[0m: \u001b[32m'Top TV shows of 2025'\u001b[0m\u001b[1m}\u001b[0m\n"
      ]
     },
     "metadata": {},
     "output_type": "display_data"
    },
    {
     "data": {
      "text/html": [
       "<pre style=\"white-space:pre;overflow-x:auto;line-height:normal;font-family:Menlo,'DejaVu Sans Mono',consolas,'Courier New',monospace\">╭──────────────────────────────────────────────────── Output ─────────────────────────────────────────────────────╮\n",
       "│ <a href=\"https://editorial.rottentomatoes.com/guide/best-new-tv-series-shows/\" target=\"_blank\"><span style=\"color: #000080; text-decoration-color: #000080; text-decoration: underline\">Best TV Shows of 2025: New Series to Watch Now - Rotten Tomatoes</span></a> The latest: May kicks off with Poker Face:     │\n",
       "│ Season 2, #1 Happy Family USA: Season 1, North of North: Season 1, The Four Seasons: Season 1, and Doctor Who:  │\n",
       "│ Season 2. You: Season 5, Étoile: Season 1, and The Narrow Road to the Deep North close out the month. Andor     │\n",
       "│ sticks the landing with a Certified Fresh Season 2. The Wheel of Time continues to grow in stature, now with    │\n",
       "│ Season 3 the series ... <a href=\"https://www.timeout.com/film/must-see-tv-shows-for-2025-you-cant-miss\" target=\"_blank\"><span style=\"color: #000080; text-decoration-color: #000080; text-decoration: underline\">23 Best Streaming and TV Shows to See in 2025 - Time Out</span></a> Netflix blew the cobwebs off   │\n",
       "│ The Addams Family property in 2022, turning it into a gothy YA mystery series focused on the franchise's best   │\n",
       "│ character, and scored a massive hit. Season 2 won't ... <a href=\"https://time.com/7285497/most-anticipated-tv-shows-summer-2025/\" target=\"_blank\"><span style=\"color: #000080; text-decoration-color: #000080; text-decoration: underline\">The 36 Most Anticipated TV Shows of Summer 2025 | TIME</span></a>  │\n",
       "│ Alexander Skarsgård stars as the content-loving humanoid, and is supported by a cast of dramedy heavy-hitters   │\n",
       "│ like David Dastmalchian, Noma Dumezweni, Sabrina Wu, John Cho and Jack McBrayer ... <a href=\"https://www.rd.com/article/most-anticipated-tv-shows-2025/\" target=\"_blank\"><span style=\"color: #000080; text-decoration-color: #000080; text-decoration: underline\">The 10 Best TV Shows of </span></a>    │\n",
       "│ <a href=\"https://www.rd.com/article/most-anticipated-tv-shows-2025/\" target=\"_blank\"><span style=\"color: #000080; text-decoration-color: #000080; text-decoration: underline\">2025 to Put on Your Must-Watch List</span></a> Find out the buzziest TV shows of 2025, from Severance to Yellowjackets,    │\n",
       "│ and when and where to watch them. Reader's Digest rounds up the year's must-see TV shows, along with spoilers,  │\n",
       "│ cast and trailers. <a href=\"https://www.empireonline.com/tv/features/best-tv-shows-2025/\" target=\"_blank\"><span style=\"color: #000080; text-decoration-color: #000080; text-decoration: underline\">87 TV Series You Must See In 2025 (And Where To Stream Them)</span></a> A comprehensive list of the     │\n",
       "│ best TV shows coming out in 2025, from Severance to Stranger Things, with streaming platforms and release       │\n",
       "│ dates. Find out what to watch in the next 11 months of TV, from returning favourites to new originals. <a href=\"https://www.vanityfair.com/hollywood/story/best-tv-shows-2025\" target=\"_blank\"><span style=\"color: #000080; text-decoration-color: #000080; text-decoration: underline\">The Best</span></a> │\n",
       "│ <a href=\"https://www.vanityfair.com/hollywood/story/best-tv-shows-2025\" target=\"_blank\"><span style=\"color: #000080; text-decoration-color: #000080; text-decoration: underline\">TV Shows of 2025, So Far - Vanity Fair</span></a> We're only three months into 2025, but this young year is already        │\n",
       "│ chock-full of incredible television. The best TV shows of 2025 (so far) can be found on streaming, premium      │\n",
       "│ cable, and even (even ... <a href=\"https://www.imdb.com/list/ls543358543/\" target=\"_blank\"><span style=\"color: #000080; text-decoration-color: #000080; text-decoration: underline\">The Most Anticipated TV Shows of 2025 (/2026) - IMDb</span></a> List your movie, TV &amp; celebrity  │\n",
       "│ picks. An architect works to build up the 1893 World's Fair, while the serial killer H. H. Holmes uses the fair │\n",
       "│ to attract and kill women ... <a href=\"https://www.vulture.com/article/best-tv-shows-new-series-2025.html\" target=\"_blank\"><span style=\"color: #000080; text-decoration-color: #000080; text-decoration: underline\">The Best TV Shows and New Series of 2025 (So Far) - Vulture</span></a> From ballet comedy to │\n",
       "│ Star Wars prequel, from social experiment to war drama, Vulture reviews the standout series of 2025. See the    │\n",
       "│ list of six shows and their premises, critics' opinions, and links to more coverage. <a href=\"https://www.hollywoodreporter.com/lists/most-anticipated-tv-shows-2025/\" target=\"_blank\"><span style=\"color: #000080; text-decoration-color: #000080; text-decoration: underline\">The 31 Most Anticipated </span></a>   │\n",
       "│ <a href=\"https://www.hollywoodreporter.com/lists/most-anticipated-tv-shows-2025/\" target=\"_blank\"><span style=\"color: #000080; text-decoration-color: #000080; text-decoration: underline\">Scripted TV Shows of 2025 - The Hollywood Reporter</span></a> The 31 Most Anticipated Scripted TV Shows of 2025            │\n",
       "│ Long-delayed returning favorites and several intriguing new titles are on tap for the coming year. By Rick      │\n",
       "│ Porter , Nicole Fell , James Hibberd ... <a href=\"https://www.esquire.com/uk/culture/tv/a63332100/best-tv-shows-2025/\" target=\"_blank\"><span style=\"color: #000080; text-decoration-color: #000080; text-decoration: underline\">The Best TV Shows of 2025: Release Dates and Trailers - Esquire</span></a> You    │\n",
       "│ have less time to wait than you think. These are the best TV shows of 2025. The Traitors. The first season of   │\n",
       "│ Claudia Winkleman's ultra-camp pressure cooker of suspicion, alliance building ...                              │\n",
       "╰─────────────────────────────────────────────────────────────────────────────────────────────────────────────────╯\n",
       "</pre>\n"
      ],
      "text/plain": [
       "╭──────────────────────────────────────────────────── Output ─────────────────────────────────────────────────────╮\n",
       "│ \u001b]8;id=974272;https://editorial.rottentomatoes.com/guide/best-new-tv-series-shows/\u001b\\\u001b[4;34mBest TV Shows of 2025: New Series to Watch Now - Rotten Tomatoes\u001b[0m\u001b]8;;\u001b\\ The latest: May kicks off with Poker Face:     │\n",
       "│ Season 2, #1 Happy Family USA: Season 1, North of North: Season 1, The Four Seasons: Season 1, and Doctor Who:  │\n",
       "│ Season 2. You: Season 5, Étoile: Season 1, and The Narrow Road to the Deep North close out the month. Andor     │\n",
       "│ sticks the landing with a Certified Fresh Season 2. The Wheel of Time continues to grow in stature, now with    │\n",
       "│ Season 3 the series ... \u001b]8;id=533919;https://www.timeout.com/film/must-see-tv-shows-for-2025-you-cant-miss\u001b\\\u001b[4;34m23 Best Streaming and TV Shows to See in 2025 - Time Out\u001b[0m\u001b]8;;\u001b\\ Netflix blew the cobwebs off   │\n",
       "│ The Addams Family property in 2022, turning it into a gothy YA mystery series focused on the franchise's best   │\n",
       "│ character, and scored a massive hit. Season 2 won't ... \u001b]8;id=455147;https://time.com/7285497/most-anticipated-tv-shows-summer-2025/\u001b\\\u001b[4;34mThe 36 Most Anticipated TV Shows of Summer 2025 | TIME\u001b[0m\u001b]8;;\u001b\\  │\n",
       "│ Alexander Skarsgård stars as the content-loving humanoid, and is supported by a cast of dramedy heavy-hitters   │\n",
       "│ like David Dastmalchian, Noma Dumezweni, Sabrina Wu, John Cho and Jack McBrayer ... \u001b]8;id=944680;https://www.rd.com/article/most-anticipated-tv-shows-2025/\u001b\\\u001b[4;34mThe 10 Best TV Shows of \u001b[0m\u001b]8;;\u001b\\    │\n",
       "│ \u001b]8;id=944680;https://www.rd.com/article/most-anticipated-tv-shows-2025/\u001b\\\u001b[4;34m2025 to Put on Your Must-Watch List\u001b[0m\u001b]8;;\u001b\\ Find out the buzziest TV shows of 2025, from Severance to Yellowjackets,    │\n",
       "│ and when and where to watch them. Reader's Digest rounds up the year's must-see TV shows, along with spoilers,  │\n",
       "│ cast and trailers. \u001b]8;id=686913;https://www.empireonline.com/tv/features/best-tv-shows-2025/\u001b\\\u001b[4;34m87 TV Series You Must See In 2025 (And Where To Stream Them)\u001b[0m\u001b]8;;\u001b\\ A comprehensive list of the     │\n",
       "│ best TV shows coming out in 2025, from Severance to Stranger Things, with streaming platforms and release       │\n",
       "│ dates. Find out what to watch in the next 11 months of TV, from returning favourites to new originals. \u001b]8;id=882750;https://www.vanityfair.com/hollywood/story/best-tv-shows-2025\u001b\\\u001b[4;34mThe Best\u001b[0m\u001b]8;;\u001b\\ │\n",
       "│ \u001b]8;id=882750;https://www.vanityfair.com/hollywood/story/best-tv-shows-2025\u001b\\\u001b[4;34mTV Shows of 2025, So Far - Vanity Fair\u001b[0m\u001b]8;;\u001b\\ We're only three months into 2025, but this young year is already        │\n",
       "│ chock-full of incredible television. The best TV shows of 2025 (so far) can be found on streaming, premium      │\n",
       "│ cable, and even (even ... \u001b]8;id=838433;https://www.imdb.com/list/ls543358543/\u001b\\\u001b[4;34mThe Most Anticipated TV Shows of 2025 (/2026) - IMDb\u001b[0m\u001b]8;;\u001b\\ List your movie, TV & celebrity  │\n",
       "│ picks. An architect works to build up the 1893 World's Fair, while the serial killer H. H. Holmes uses the fair │\n",
       "│ to attract and kill women ... \u001b]8;id=637326;https://www.vulture.com/article/best-tv-shows-new-series-2025.html\u001b\\\u001b[4;34mThe Best TV Shows and New Series of 2025 (So Far) - Vulture\u001b[0m\u001b]8;;\u001b\\ From ballet comedy to │\n",
       "│ Star Wars prequel, from social experiment to war drama, Vulture reviews the standout series of 2025. See the    │\n",
       "│ list of six shows and their premises, critics' opinions, and links to more coverage. \u001b]8;id=675812;https://www.hollywoodreporter.com/lists/most-anticipated-tv-shows-2025/\u001b\\\u001b[4;34mThe 31 Most Anticipated \u001b[0m\u001b]8;;\u001b\\   │\n",
       "│ \u001b]8;id=675812;https://www.hollywoodreporter.com/lists/most-anticipated-tv-shows-2025/\u001b\\\u001b[4;34mScripted TV Shows of 2025 - The Hollywood Reporter\u001b[0m\u001b]8;;\u001b\\ The 31 Most Anticipated Scripted TV Shows of 2025            │\n",
       "│ Long-delayed returning favorites and several intriguing new titles are on tap for the coming year. By Rick      │\n",
       "│ Porter , Nicole Fell , James Hibberd ... \u001b]8;id=564637;https://www.esquire.com/uk/culture/tv/a63332100/best-tv-shows-2025/\u001b\\\u001b[4;34mThe Best TV Shows of 2025: Release Dates and Trailers - Esquire\u001b[0m\u001b]8;;\u001b\\ You    │\n",
       "│ have less time to wait than you think. These are the best TV shows of 2025. The Traitors. The first season of   │\n",
       "│ Claudia Winkleman's ultra-camp pressure cooker of suspicion, alliance building ...                              │\n",
       "╰─────────────────────────────────────────────────────────────────────────────────────────────────────────────────╯\n"
      ]
     },
     "metadata": {},
     "output_type": "display_data"
    },
    {
     "data": {
      "text/html": [
       "<pre style=\"white-space:pre;overflow-x:auto;line-height:normal;font-family:Menlo,'DejaVu Sans Mono',consolas,'Courier New',monospace\"><span style=\"color: #000080; text-decoration-color: #000080\">───────────────────────────────────────────────────────────────────────────────────────────────────────────────────</span>\n",
       "</pre>\n"
      ],
      "text/plain": [
       "\u001b[34m───────────────────────────────────────────────────────────────────────────────────────────────────────────────────\u001b[0m\n"
      ]
     },
     "metadata": {},
     "output_type": "display_data"
    },
    {
     "data": {
      "text/html": [
       "<pre style=\"white-space:pre;overflow-x:auto;line-height:normal;font-family:Menlo,'DejaVu Sans Mono',consolas,'Courier New',monospace\"><span style=\"color: #808000; text-decoration-color: #808000\">─────────────────────────────────────────────────────── </span>LLM<span style=\"color: #808000; text-decoration-color: #808000\"> ───────────────────────────────────────────────────────</span>\n",
       "</pre>\n"
      ],
      "text/plain": [
       "\u001b[33m─────────────────────────────────────────────────────── \u001b[0mLLM\u001b[33m ───────────────────────────────────────────────────────\u001b[0m\n"
      ]
     },
     "metadata": {},
     "output_type": "display_data"
    },
    {
     "data": {
      "text/html": [
       "<pre style=\"white-space:pre;overflow-x:auto;line-height:normal;font-family:Menlo,'DejaVu Sans Mono',consolas,'Courier New',monospace\">╭──────────────────────────────────────────────────── Output ─────────────────────────────────────────────────────╮\n",
       "│ Here are 5 trending TV shows in 2025:                                                                           │\n",
       "│                                                                                                                 │\n",
       "│ <span style=\"color: #808000; text-decoration-color: #808000; font-weight: bold\"> 1 </span><span style=\"font-weight: bold\">Poker Face: Season 2</span> - A new season of the popular mystery series.                                           │\n",
       "│ <span style=\"color: #808000; text-decoration-color: #808000; font-weight: bold\"> 2 </span><span style=\"font-weight: bold\">Happy Family USA: Season 1</span> - A family-centered comedy-drama.                                                 │\n",
       "│ <span style=\"color: #808000; text-decoration-color: #808000; font-weight: bold\"> 3 </span><span style=\"font-weight: bold\">North of North: Season 1</span> - An intriguing new series with a focus on northern territories.                    │\n",
       "│ <span style=\"color: #808000; text-decoration-color: #808000; font-weight: bold\"> 4 </span><span style=\"font-weight: bold\">The Four Seasons: Season 1</span> - A show exploring stories across different seasons.                              │\n",
       "│ <span style=\"color: #808000; text-decoration-color: #808000; font-weight: bold\"> 5 </span><span style=\"font-weight: bold\">Doctor Who: Season 2</span> - The latest season of the iconic sci-fi series.                                        │\n",
       "│                                                                                                                 │\n",
       "│ Would you like more details about any of these shows?                                                           │\n",
       "╰─────────────────────────────────────────────────────────────────────────────────────────────────────────────────╯\n",
       "</pre>\n"
      ],
      "text/plain": [
       "╭──────────────────────────────────────────────────── Output ─────────────────────────────────────────────────────╮\n",
       "│ Here are 5 trending TV shows in 2025:                                                                           │\n",
       "│                                                                                                                 │\n",
       "│ \u001b[1;33m 1 \u001b[0m\u001b[1mPoker Face: Season 2\u001b[0m - A new season of the popular mystery series.                                           │\n",
       "│ \u001b[1;33m 2 \u001b[0m\u001b[1mHappy Family USA: Season 1\u001b[0m - A family-centered comedy-drama.                                                 │\n",
       "│ \u001b[1;33m 3 \u001b[0m\u001b[1mNorth of North: Season 1\u001b[0m - An intriguing new series with a focus on northern territories.                    │\n",
       "│ \u001b[1;33m 4 \u001b[0m\u001b[1mThe Four Seasons: Season 1\u001b[0m - A show exploring stories across different seasons.                              │\n",
       "│ \u001b[1;33m 5 \u001b[0m\u001b[1mDoctor Who: Season 2\u001b[0m - The latest season of the iconic sci-fi series.                                        │\n",
       "│                                                                                                                 │\n",
       "│ Would you like more details about any of these shows?                                                           │\n",
       "╰─────────────────────────────────────────────────────────────────────────────────────────────────────────────────╯\n"
      ]
     },
     "metadata": {},
     "output_type": "display_data"
    },
    {
     "data": {
      "text/html": [
       "<pre style=\"white-space:pre;overflow-x:auto;line-height:normal;font-family:Menlo,'DejaVu Sans Mono',consolas,'Courier New',monospace\"><span style=\"color: #808000; text-decoration-color: #808000\">───────────────────────────────────────────────────────────────────────────────────────────────────────────────────</span>\n",
       "</pre>\n"
      ],
      "text/plain": [
       "\u001b[33m───────────────────────────────────────────────────────────────────────────────────────────────────────────────────\u001b[0m\n"
      ]
     },
     "metadata": {},
     "output_type": "display_data"
    }
   ],
   "source": [
    "agent_trace = agent.run(\"What are 5 tv shows that are trending in 2025?\")"
   ]
  },
  {
   "cell_type": "markdown",
   "metadata": {},
   "source": [
    "## View the results "
   ]
  },
  {
   "cell_type": "markdown",
   "metadata": {},
   "source": [
    "The `agent.run` method returns an AgentTrace object, which has a few convenient attributes for displaying some interesting information about the run."
   ]
  },
  {
   "cell_type": "code",
   "execution_count": 7,
   "metadata": {},
   "outputs": [
    {
     "name": "stdout",
     "output_type": "stream",
     "text": [
      "Here are 5 trending TV shows in 2025:\n",
      "\n",
      "1. **Poker Face: Season 2** - A new season of the popular mystery series.\n",
      "2. **Happy Family USA: Season 1** - A family-centered comedy-drama.\n",
      "3. **North of North: Season 1** - An intriguing new series with a focus on northern territories.\n",
      "4. **The Four Seasons: Season 1** - A show exploring stories across different seasons.\n",
      "5. **Doctor Who: Season 2** - The latest season of the iconic sci-fi series.\n",
      "\n",
      "Would you like more details about any of these shows?\n",
      "Duration: 5.87 seconds\n",
      "Usage: total_token_count_prompt=2267 total_token_count_completion=183 total_tokens=2450\n",
      "Cost (USD): 0.000227\n"
     ]
    }
   ],
   "source": [
    "print(agent_trace.final_output)  # Final answer\n",
    "print(f\"Duration: {agent_trace.duration.total_seconds():.2f} seconds\")\n",
    "print(f\"Usage: {agent_trace.usage}\")\n",
    "print(f\"Cost (USD): {agent_trace.cost.total_cost:.6f}\")"
   ]
  }
 ],
 "metadata": {
  "kernelspec": {
   "display_name": ".venv",
   "language": "python",
   "name": "python3"
  },
  "language_info": {
   "codemirror_mode": {
    "name": "ipython",
    "version": 3
   },
   "file_extension": ".py",
   "mimetype": "text/x-python",
   "name": "python",
   "nbconvert_exporter": "python",
   "pygments_lexer": "ipython3",
   "version": "3.13.2"
  }
 },
 "nbformat": 4,
 "nbformat_minor": 2
}
