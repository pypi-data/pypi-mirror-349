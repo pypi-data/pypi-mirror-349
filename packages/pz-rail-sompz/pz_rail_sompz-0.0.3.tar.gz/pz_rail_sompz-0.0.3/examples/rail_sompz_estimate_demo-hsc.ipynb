{
 "cells": [
  {
   "cell_type": "code",
   "execution_count": null,
   "id": "4e6e4d89-dc13-486c-9a4a-16f7a74fab44",
   "metadata": {
    "tags": []
   },
   "outputs": [],
   "source": [
    "# %load_ext autoreload\n",
    "# %autoreload 2"
   ]
  },
  {
   "cell_type": "code",
   "execution_count": null,
   "id": "30af1c10-6fce-4276-b86f-6fe57cf80ce0",
   "metadata": {
    "tags": []
   },
   "outputs": [],
   "source": [
    "# usual imports\n",
    "import os\n",
    "import sys\n",
    "import numpy as np\n",
    "from rail.core.utils import RAILDIR\n",
    "#from rail.estimation.algos.sompz_version.utils import RAIL_SOMPZ_DIR\n",
    "#from rail.pipelines.estimation.inform_all import InformPipeline\n",
    "from rail.core import common_params\n",
    "import matplotlib.pyplot as plt\n",
    "\n",
    "import pandas as pd\n",
    "import astropy.io.fits as fits"
   ]
  },
  {
   "cell_type": "code",
   "execution_count": null,
   "id": "7296324b-29a4-4227-9532-b290e4a94cfc",
   "metadata": {
    "tags": []
   },
   "outputs": [],
   "source": [
    "# use local repo with local edits\n",
    "# rail_sompz_repo_develop_list = [\"/Users/jmyles/repositories/rail_sompz\",\n",
    "#                                 \"/Users/jmyles/repositories/rail_sompz/lib\",\n",
    "#                                 \"/Users/jmyles/repositories/rail_sompz/lib/python3.10\",\n",
    "#                                 \"/Users/jmyles/repositories/rail_sompz/lib/python3.10/site-packages\"]\n",
    "# for rail_sompz_repo_develop in rail_sompz_repo_develop_list:\n",
    "#     sys.path.insert(0, rail_sompz_repo_develop)\n",
    "from rail.estimation.algos.sompz import SOMPZInformer\n",
    "from rail.estimation.algos.sompz import SOMPZEstimator"
   ]
  },
  {
   "cell_type": "code",
   "execution_count": null,
   "id": "8231a13e-260f-4271-93ec-a893fb876268",
   "metadata": {
    "tags": []
   },
   "outputs": [],
   "source": [
    "from rail.core.data import TableHandle\n",
    "from rail.core.stage import RailStage"
   ]
  },
  {
   "cell_type": "code",
   "execution_count": null,
   "id": "8cf95e06-d6a6-4ac9-9260-c5271ed6f40c",
   "metadata": {
    "tags": []
   },
   "outputs": [],
   "source": [
    "DS = RailStage.data_store\n",
    "DS.__class__.allow_overwrite = True"
   ]
  },
  {
   "cell_type": "code",
   "execution_count": null,
   "id": "1446ecf8-2fe8-4216-8cab-8ef779e3e188",
   "metadata": {
    "tags": []
   },
   "outputs": [],
   "source": [
    "from rail.core.utils import find_rail_file\n",
    "#trainFile = find_rail_file('examples_data/testdata/test_dc2_training_9816.hdf5')\n",
    "testFile = find_rail_file('examples_data/testdata/test_dc2_validation_9816.hdf5')\n",
    "#deep_data = DS.read_file(\"training_data\", TableHandle, trainFile)\n",
    "#wide_data = DS.read_file(\"input_wide_data\", TableHandle, testFile)"
   ]
  },
  {
   "cell_type": "code",
   "execution_count": null,
   "id": "1d4dc6fe-719e-40e6-990a-9b0e832c8c05",
   "metadata": {},
   "outputs": [],
   "source": [
    "#datadir = '/global/cfs/projectdirs/desc-pz/users/jmyles/sompz_desc/' \n",
    "datadir = '/Users/jmyles/data/sompz_desc'\n",
    "hsc_file = os.path.join(datadir, \"hsc_deep_incl_nir_incl_specz_TEST_ONLY_NO_SCIENCE_2023-10-27_small.fits\")\n",
    "if not os.path.exists(hsc_file):\n",
    "    data = fits.open(hsc_file.replace('_small',''))[1].data\n",
    "    fits.writeto(hsc_file, data[:5000])"
   ]
  },
  {
   "cell_type": "code",
   "execution_count": null,
   "id": "7582c84a-eb2c-43df-bfcd-a92992d745b9",
   "metadata": {
    "tags": []
   },
   "outputs": [],
   "source": [
    "spec_data = DS.read_file(\"training_data\", TableHandle, hsc_file)\n",
    "balrog_data = DS.read_file(\"training_data\", TableHandle, hsc_file)\n",
    "wide_data = DS.read_file(\"training_data\", TableHandle, hsc_file)"
   ]
  },
  {
   "cell_type": "code",
   "execution_count": null,
   "id": "b6fce31d-31b9-46d5-adff-e7c1056ec822",
   "metadata": {
    "tags": []
   },
   "outputs": [],
   "source": [
    "bands = ['u','g','r','i','z','y','J','H', 'K']\n",
    "\n",
    "deepbands = []\n",
    "deeperrs = []\n",
    "zeropts = []\n",
    "for band in bands:\n",
    "    deepbands.append(f'flux_DEEP_{band}')\n",
    "    deeperrs.append(f'flux_err_DEEP_{band}')\n",
    "    zeropts.append(30.)\n",
    "\n",
    "widebands = []\n",
    "wideerrs = []  \n",
    "for band in bands[1:5]:\n",
    "    widebands.append(f'{band}_cmodel_flux')\n",
    "    wideerrs.append(f'{band}_cmodel_fluxerr')\n",
    "    \n",
    "refband_deep=deepbands[3]\n",
    "refband_wide=widebands[2]"
   ]
  },
  {
   "cell_type": "code",
   "execution_count": null,
   "id": "909db34c-8219-4cb2-9dd0-468a67df2a12",
   "metadata": {
    "tags": []
   },
   "outputs": [],
   "source": [
    "som_params = dict(inputs_deep=deepbands, input_errs_deep=deeperrs, \n",
    "                  zero_points_deep=zeropts, \n",
    "                  convert_to_flux_deep=False, convert_to_flux_wide=False, \n",
    "                  set_threshold_deep=True, thresh_val_deep=1.e-5, \n",
    "                  som_shape_wide=(25, 25), som_minerror_wide=0.005,\n",
    "                  som_take_log_wide=False, som_wrap_wide=False)"
   ]
  },
  {
   "cell_type": "code",
   "execution_count": null,
   "id": "6a4bd7b9-b23e-4f30-bc6c-d553c63e5bac",
   "metadata": {
    "tags": []
   },
   "outputs": [],
   "source": [
    "som_estimate = SOMPZEstimator.make_stage(name=\"som_estimator\", \n",
    "                                         data_path=testFile,\n",
    "                                         deep_bands=deepbands,\n",
    "                                         err_deep_bands=deeperrs,  \n",
    "                                         ref_band_deep=refband_deep,\n",
    "                                         wide_bands=widebands,\n",
    "                                         err_wide_bands=wideerrs,    \n",
    "                                         ref_band_wide=refband_wide,\n",
    "                                         deep_groupname='', \n",
    "                                         hdf5_groupname='',\n",
    "                                         model=\"TEST_HSC_model_2023-10-27b.pkl\", \n",
    "                                         **som_params)"
   ]
  },
  {
   "cell_type": "code",
   "execution_count": null,
   "id": "5f21520f-ed97-41d5-a32b-1ce7be1759f9",
   "metadata": {
    "tags": []
   },
   "outputs": [],
   "source": [
    "som_estimate.estimate(spec_data,\n",
    "                      balrog_data,\n",
    "                      wide_data)"
   ]
  },
  {
   "cell_type": "code",
   "execution_count": null,
   "id": "9f82cc73-7a21-44bd-974f-1cb6b28b63be",
   "metadata": {
    "tags": []
   },
   "outputs": [],
   "source": [
    "som_estimate"
   ]
  },
  {
   "cell_type": "code",
   "execution_count": null,
   "id": "bcae2cae-6c44-4fc2-8083-eb93440add24",
   "metadata": {},
   "outputs": [],
   "source": []
  }
 ],
 "metadata": {
  "kernelspec": {
   "display_name": "rail_sompz_jtmyles",
   "language": "python",
   "name": "rail_sompz_jtmyles"
  },
  "language_info": {
   "codemirror_mode": {
    "name": "ipython",
    "version": 3
   },
   "file_extension": ".py",
   "mimetype": "text/x-python",
   "name": "python",
   "nbconvert_exporter": "python",
   "pygments_lexer": "ipython3",
   "version": "3.10.13"
  }
 },
 "nbformat": 4,
 "nbformat_minor": 5
}
