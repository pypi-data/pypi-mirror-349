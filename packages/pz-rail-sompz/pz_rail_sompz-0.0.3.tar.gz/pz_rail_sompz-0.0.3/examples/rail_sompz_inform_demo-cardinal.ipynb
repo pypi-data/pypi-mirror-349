{
 "cells": [
  {
   "cell_type": "markdown",
   "id": "7959e629-7461-41e7-b0ec-b158f5c5b30b",
   "metadata": {},
   "source": [
    "# RAIL SOMPZ Informer\n",
    "\n",
    "**Author:** Sam Schmidt, Justin Myles\n",
    "\n",
    "**Last Successfully Run:** April 30, 2024\n",
    "\n",
    "This notebook will demonstrate the training of the \"deep\" and \"wide\" Self-Organized Maps (SOMs) used by `rail_sompz`.  `rail_sompz` is a ported version of the Dark Energy Survey (DES) SOM-based tomographic redshift bin software.\n",
    "\n",
    "Like other RAIL estimators and summarizers, `rail_sompz` consists of an informer stage and an estimator stage, in this case `SOMPZInformer` and `SOMPZEstimator`.  `SOMPZInformer` takes in both the \"deep\" data (usually taken over a smaller area than our \"wide\" data, and usually including additional photometric bands) and \"wide\" data and trains a pair of SOMs that will be used by the estimator stage.  \n",
    "\n",
    "There are a number of **configuration parameters** that the stage uses to control aspects of the SOM training:\n",
    "- redshift_col: the name of the redshift column\n",
    "- deep_groupname: the hdf5_groupname for deep data\n",
    "- wide_groupname: the hdf5_groupname for wide data\n",
    "- inputs_deep: the list of the names of columns to be used as inputs for deep data\n",
    "- input_errs_deep: the list of the names of columns containing errors on inputs for deep data\n",
    "- inputs_wide: the list of the names of columns to be used as inputs for wide data\n",
    "- input_errs_wide: the list of the names of columns containing errors on inputs for wide data\n",
    "- zero_points_deep: the list of zero points for converting mags to fluxes for deep data, if needed\n",
    "- zero_points_wide: the list of zero points for converting mags to fluxes for wide data, if needed\n",
    "- som_shape_deep: a tuple defining the shape for the deep som, must be a 2-element tuple, e.g. `(32, 32)`\n",
    "- som_shape_wide: a tuple defining the shape for the wide som, must be a 2-element tuple, e.g. `(25, 25)`\n",
    "- som_minerror_deep: the floor value placed on observational error on each feature in deep som\n",
    "- som_minerror_wide: the floor value placed on observational error on each feature in wide som\n",
    "- som_wrap_deep: boolean flag to set whether the deep SOM has periodic boundary conditions\n",
    "- som_wrap_wide: boolean flag to set whether the wide SOM has periodic boundary conditions\n",
    "- som_take_log_deep: boolean flag to set whether to take log of inputs (i.e. for fluxes) for deep som\n",
    "- som_take_log_wide: boolean flag to set whether to take log of inputs (i.e. for fluxes) for wide som\n",
    "- convert_to_flux_deep: boolean flag for whether to convert input columns to fluxes for deep data, set to true if inputs are mags and to False if inputs are already fluxes\n",
    "- convert_to_flux_wide: boolean flag for whether to convert input columns to fluxes for wide data\n",
    "- set_threshold_deep: boolean flag for whether to replace values below a threshold with a set number\n",
    "- thresh_val_deep: threshold value for set_threshold for deep data\n",
    "- set_threshold_wide: boolean flag for whether to replace values below a threshold with a set number\n",
    "- thresh_val_wide: threshold value for set_threshold for wide data\n",
    "\n",
    "We will set several of these values in our example, any values not explicitly set will revert to their defaults.  \n",
    "\n",
    "Let's start by importing a few packages, including `SOMPZInformer` and setting up the RAIL DataStore:\n",
    "\n",
    "References\n",
    "\n",
    "A. Campos et al. (DES Collaboration) - Enhancing weak lensing redshift distribution characterization by optimizing the Dark Energy Survey Self-Organizing Map Photo-z method (in preparation)\n",
    "\n",
    "C. Sánchez, M. Raveri, A. Alarcon, G. Bernstein - Propagating sample variance uncertainties in redshift calibration: simulations, theory, and application to the COSMOS2015 data\n",
    "\n",
    "R. Buchs, et al. - Phenotypic redshifts with self-organizing maps: A novel method to characterize redshift distributions of source galaxies for weak lensing\n",
    "\n",
    "J. Myles, A. Alarcon, et al. (DES Collaboration) - Dark Energy Survey Year 3 results: redshift calibration of the weak lensing source galaxies"
   ]
  },
  {
   "cell_type": "code",
   "execution_count": null,
   "id": "f9463120",
   "metadata": {
    "tags": []
   },
   "outputs": [],
   "source": [
    "# usual imports\n",
    "import datetime\n",
    "import os\n",
    "import numpy as np\n",
    "#from rail.core.utils import RAILDIR\n",
    "import matplotlib.pyplot as plt"
   ]
  },
  {
   "cell_type": "code",
   "execution_count": null,
   "id": "a532fe7c-845f-4397-8bee-5b7332fe37f8",
   "metadata": {
    "tags": []
   },
   "outputs": [],
   "source": [
    "import h5py"
   ]
  },
  {
   "cell_type": "code",
   "execution_count": null,
   "id": "a66546d0-0913-4df2-b2ad-5afef9f8ef5d",
   "metadata": {
    "tags": []
   },
   "outputs": [],
   "source": [
    "import tables_io\n",
    "import rail"
   ]
  },
  {
   "cell_type": "code",
   "execution_count": null,
   "id": "97260da2-f1ee-49f6-9ad6-ff4ad551bae1",
   "metadata": {
    "tags": []
   },
   "outputs": [],
   "source": [
    "rail.__path__"
   ]
  },
  {
   "cell_type": "code",
   "execution_count": null,
   "id": "175e5a23-c2cf-40df-ab43-ca26a4fd78ea",
   "metadata": {
    "tags": []
   },
   "outputs": [],
   "source": [
    "from rail.estimation.algos.sompz import SOMPZInformer"
   ]
  },
  {
   "cell_type": "code",
   "execution_count": null,
   "id": "f01ba7eb-9b07-4284-8885-9ca0aa6b0585",
   "metadata": {
    "tags": []
   },
   "outputs": [],
   "source": [
    "from rail.core.data import TableHandle\n",
    "from rail.core.stage import RailStage"
   ]
  },
  {
   "cell_type": "code",
   "execution_count": null,
   "id": "4e01f0ea-3687-4725-bc26-9d65d3100482",
   "metadata": {
    "tags": []
   },
   "outputs": [],
   "source": [
    "DS = RailStage.data_store\n",
    "DS.__class__.allow_overwrite = True"
   ]
  },
  {
   "cell_type": "markdown",
   "id": "249fa375-a847-4482-9a68-763f3cf4849d",
   "metadata": {},
   "source": [
    "DS.read_fileout of date: Next, let's read in some test data. We'll use some small datasets drawn from the [Cardinal simulations](https://chunhaoto.com/cardinalsim/), and where we have incorporated expected 10-year depth photometric uncertainties into the data via the photerr-based error models in RAIL.\n",
    "\n",
    "For the \"deep\" SOM, the data file is named `balrog_data_subcatalog.hdf5` and includes the LSST `ugrizy` bands as well as the VISTA `YJHK` bands, for **nine** total bands.  The extra near-infrared information in the `YJHK` bands will be crucial in mapping out the color to redshift relation for our deep sample.   There are TODO galaxies in this file, cut to include only galaxies with TODO.\n",
    "\n",
    "\n",
    "For the \"wide\" som, the data file is named `wide_data_subsample.hdf5` and we will only use the `griz` bands in the analysis.  There are TODO galaxies in this file.\n",
    "\n",
    "The data is included in a subdirectory of this directory, `examples/datafiles/` (TODO), and we can read them directly into the Data Store:"
   ]
  },
  {
   "cell_type": "code",
   "execution_count": null,
   "id": "cd005a00-f64b-4cb8-b979-3d943d26c5a9",
   "metadata": {
    "tags": []
   },
   "outputs": [],
   "source": [
    "#from rail.core.utils import find_rail_file\n",
    "#datadir = '/global/cfs/projectdirs/des/jmyles/sompz_desc/'\n",
    "datestr = '2024-06-24'\n",
    "datadir = f'/pscratch/sd/j/jmyles/sompz_buzzard/{datestr}/'\n",
    "outdir = os.path.join(datadir, 'run-2024-06-28')\n",
    "os.system(f'mkdir -p {outdir}')\n",
    "trainFileDeep = os.path.join(datadir, 'balrog_data_subcatalog.h5') #'./datafiles/romandesc_deep_data_3700.hdf5'\n",
    "trainFileWide = os.path.join(datadir, 'wide_data_subsample.hdf5') # wide_data.h5 #'./datafiles/romandesc_wide_data_5000.hdf5'\n",
    "model_file = os.path.join(outdir, f\"DEMO_CARDINAL_model_{datestr}.pkl\") # model storing SOMs, to be created further down in the notebook"
   ]
  },
  {
   "cell_type": "code",
   "execution_count": null,
   "id": "91f1b4f2-105f-422a-b369-4bca1f213ddb",
   "metadata": {
    "tags": []
   },
   "outputs": [],
   "source": [
    "deep_data = DS.read_file(\"input_deep_data\", TableHandle, trainFileDeep)\n",
    "wide_data = DS.read_file(\"input_wide_data\", TableHandle, trainFileWide)\n",
    "#wide_data = TableHandle(\"input_wide_data\", path=trainFileWide)\n",
    "#wide_data_chunk = next(wide_data_handle.iterator(groupname='catalog', chunk_size=10_000_000))"
   ]
  },
  {
   "cell_type": "markdown",
   "id": "920ad14f-0d8d-47f9-bb74-14a913829a62",
   "metadata": {},
   "source": [
    "Let's take a look at what the names of the columns are in the deep file:"
   ]
  },
  {
   "cell_type": "code",
   "execution_count": null,
   "id": "22eda622-abe1-4e56-9e54-238840cb91ca",
   "metadata": {},
   "outputs": [],
   "source": [
    "#print('\\n'.join(sorted(deep_data()['key'].keys())))\n",
    "deep_data.data['key'].head()"
   ]
  },
  {
   "cell_type": "markdown",
   "id": "61b3d490-115c-4ba3-94e2-c4d37e0b9e37",
   "metadata": {},
   "source": [
    "We have the Rubin `ugrizy` bands and their errors with names like `TRUEMAG_lsst_u` and `TRUEMAG_ERR_lsst_u`, the VISTA NIR bands `YJHF` and their errors.  We will use just the magnitude (or flux) quantities and not the colors when constructing our example SOM.  For our \"deep\" SOM we will use all of `ugrizyJHK`, while for the \"wide\" SOM we will use only `griz`.  Let's set up some lists with our magnitudes that will be used in our configs.  The SOM also requires a zero point if we are going to convert to flux (which we are), so we will supply default zero points of 30.0 for all bands in this demo:"
   ]
  },
  {
   "cell_type": "code",
   "execution_count": null,
   "id": "930bd934-ed4b-4c83-9b63-85d07bea735e",
   "metadata": {
    "tags": []
   },
   "outputs": [],
   "source": [
    "bands_deep = ['lsst_u', 'lsst_g', 'lsst_r', 'lsst_i', 'lsst_z', \n",
    "              'VISTA_Filters_at80K_forETC_Y', 'VISTA_Filters_at80K_forETC_J', 'VISTA_Filters_at80K_forETC_H', 'VISTA_Filters_at80K_forETC_Ks',]\n",
    "bands_wide = ['G','R','I','Z',] # 'U', 'Y','J','H','K'\n",
    "\n",
    "deepbands = []\n",
    "deeperrs = []\n",
    "zeropts = []\n",
    "for band in bands_deep:\n",
    "    deepbands.append(f'TRUEMAG_{band}')\n",
    "    deeperrs.append(f'TRUEMAG_ERR_{band}')\n",
    "    zeropts.append(30.)\n",
    "\n",
    "widebands = []\n",
    "wideerrs = []  \n",
    "for band in bands_wide: #[:6]:\n",
    "    widebands.append(f'FLUX_{band}')\n",
    "    wideerrs.append(f'FLUX_ERR_{band}')\n",
    "    \n",
    "refband_deep=deepbands[3]\n",
    "refband_wide=widebands[2]"
   ]
  },
  {
   "cell_type": "code",
   "execution_count": null,
   "id": "4591505b-e76b-4e96-82cb-78cdc54249f4",
   "metadata": {},
   "outputs": [],
   "source": [
    "print(deepbands)"
   ]
  },
  {
   "cell_type": "code",
   "execution_count": null,
   "id": "5cdfde11-f43d-4c0b-a4c7-8c88e1cd82b5",
   "metadata": {},
   "outputs": [],
   "source": [
    "print(widebands)"
   ]
  },
  {
   "cell_type": "markdown",
   "id": "2796070e-548f-42f0-a1ab-719fa13e4733",
   "metadata": {},
   "source": [
    "Next, let's make a dictionary of the parameters that we'll feed into the informer for the deep SOM and wide SOM, including the non-default names of the input columns (`inputs_deep`) and the errors (`input_errs_deep`) and their wide counterparts.  We'll feed in a list for the zero points (`zero_points`) as well.  We want to convert to flux so we set `convert_to_flux_deep` to `True` (`convert_to_flux_wide` is `False` since flux information is already stored in the wide-field catalog).  We will also apply a threshold cut to the deep SOM by setting `set_threshold_deep` to `True` and set the threshold value with `thresh_val_deep` = 1.e-5.  We can set the shape of the SOMs or let them take their default values.  Let's leave the \"deep\" SOM with its default size of `(32, 32)` by not supplying a value, and set the \"wide\" SOM size with `som_shape_wide=(32,32)`.  If your input data is flux-like (which ours is only for the wide-field flux information) and want it to look more magnitude-like, you can set  `som_take_log_wide` to `True` if you want to take the log of the data before creating the SOM.  We will set this to `False`, as we want to work in converted flux space.  And, finally `som_wrap_wide` sets whether or not to use periodic boundaries in the SOM, we will set this to `False` for the wide SOM."
   ]
  },
  {
   "cell_type": "code",
   "execution_count": null,
   "id": "0a722208-6dbf-469c-921d-969ed78aa5b4",
   "metadata": {
    "tags": []
   },
   "outputs": [],
   "source": [
    "som_params = dict(inputs_deep=deepbands, input_errs_deep=deeperrs,\n",
    "                  zero_points_deep=zeropts, \n",
    "                  inputs_wide=widebands, input_errs_wide=wideerrs,\n",
    "                  convert_to_flux_deep=True, convert_to_flux_wide=False, \n",
    "                  set_threshold_deep=True, thresh_val_deep=1.e-5, \n",
    "                  som_shape_wide=(32,32), som_minerror_wide=0.005,\n",
    "                  som_take_log_wide=False, som_wrap_wide=False)"
   ]
  },
  {
   "cell_type": "markdown",
   "id": "28c0560e-2891-47b7-a24b-a6311dc08056",
   "metadata": {},
   "source": [
    "If you have used other RAIL packages you may have seen `hdf5_groupname` as a parameter where you may specify an HDF5 group where your input data may live.  SOMPZ has eqivalent `deep_groupname` and `wide_groupname` config parameters.  Four our example data we will set `deep_groupname` to `key` and `wide_groupname` to `\"\"` to reflect the HDF structure of these catalogs.\n",
    "\n",
    "We will also supply the `model` config parameter, which will set the name for the pickle file that will hold our output model consisting of the two SOMs and a set of configuration parameters.  This model will be used by the Estimation stage later in the demo:"
   ]
  },
  {
   "cell_type": "markdown",
   "id": "d22a7222-68e2-422a-b71a-f7fdfbb13a27",
   "metadata": {},
   "source": [
    "Now, run the informer:"
   ]
  },
  {
   "cell_type": "code",
   "execution_count": null,
   "id": "3d66a921-8557-4ccf-86c2-23e6bad142c3",
   "metadata": {},
   "outputs": [],
   "source": [
    "som_inform = SOMPZInformer.make_stage(name=\"cardinal_som_informer\", \n",
    "                                      deep_groupname=\"key\", \n",
    "                                      wide_groupname=\"\",#, False, #\"catalog\",\n",
    "                                      model=model_file, \n",
    "                                      **som_params)"
   ]
  },
  {
   "cell_type": "code",
   "execution_count": null,
   "id": "4c18fbfe-a72d-4c1c-86bd-1e2462686cbc",
   "metadata": {
    "tags": []
   },
   "outputs": [],
   "source": [
    "#%%time\n",
    "print(f'{datetime.datetime.now()} begin informing')\n",
    "som_inform.inform(deep_data, wide_data)\n",
    "print(f'{datetime.datetime.now()} done informing')"
   ]
  },
  {
   "cell_type": "markdown",
   "id": "6d22853e-ae95-4977-b1a9-08b86c50382c",
   "metadata": {},
   "source": [
    "For large samples, this can take a while to train, and should create a file `DEMO_CARDINAL_model*.pkl`.  Let's look at the results by reading the model we just wrote out, and see what it contains.  It should be a dictionary that contains two soms: `deep_som` and `wide_som`, along with the `deep_columns`, `wide_columns`, `deep_err_columns`, and `wide_err_columns` lists.  We store these column names as they basically define the ordering of the columns and errors, and we'll want that the same for data that we pass in for the estimation stage."
   ]
  },
  {
   "cell_type": "code",
   "execution_count": null,
   "id": "f75a40ca-50d4-4045-93a4-e28564e75817",
   "metadata": {
    "tags": []
   },
   "outputs": [],
   "source": [
    "import pickle"
   ]
  },
  {
   "cell_type": "code",
   "execution_count": null,
   "id": "526df18a-a12e-4d75-b832-4ad270909b0d",
   "metadata": {
    "tags": []
   },
   "outputs": [],
   "source": [
    "with open(model_file, \"rb\") as f:\n",
    "    model = pickle.load(f)"
   ]
  },
  {
   "cell_type": "code",
   "execution_count": null,
   "id": "de6ad484-9c9d-4d40-8f20-29f2ee3a101c",
   "metadata": {
    "tags": []
   },
   "outputs": [],
   "source": [
    "model"
   ]
  },
  {
   "cell_type": "markdown",
   "id": "89a02500-a1f2-4799-9305-df91e467707f",
   "metadata": {},
   "source": [
    "There are some handy plotting functions available in the `rail.estimation.algos.som.py` file that enable us to visualize our SOM for some basic visual checks.  Let's first plot the occupation of cells broken up by colors, i.e. the mean values of g-i, i-y, u-g, and the i-band magnitude for each cell.  First, the deep SOM (using the `somDomainColorsnok` to plot quantities using only have ugrizy):"
   ]
  },
  {
   "cell_type": "code",
   "execution_count": null,
   "id": "7357e9a4-ffc8-4ad5-98e9-1f03d5de4064",
   "metadata": {
    "tags": []
   },
   "outputs": [],
   "source": [
    "import rail.estimation.algos.som as SOMFUNCS"
   ]
  },
  {
   "cell_type": "code",
   "execution_count": null,
   "id": "63a64836-a4a9-4e8e-8c37-d80f681eb699",
   "metadata": {
    "tags": []
   },
   "outputs": [],
   "source": [
    "outfile = os.path.join(outdir, 'som_colors.png')\n",
    "SOMFUNCS.somDomainColorsnok(model['deep_som'])\n",
    "fig = plt.gcf()\n",
    "fig.savefig(outfile,)"
   ]
  },
  {
   "cell_type": "markdown",
   "id": "2dc24ced-1680-4b6a-9842-e397ae6d6853",
   "metadata": {},
   "source": [
    "And now, for the deep SOM using `somDomainColors` which shows i-K in the upper right(in actuality i-F, the names are currently hardcoded):"
   ]
  },
  {
   "cell_type": "code",
   "execution_count": null,
   "id": "295e1ae8-19cc-42c4-b400-6bac5ab444b7",
   "metadata": {
    "tags": []
   },
   "outputs": [],
   "source": [
    "outfile = os.path.join(outdir, 'som_colors_2.png')\n",
    "SOMFUNCS.somDomainColors(model['deep_som'])\n",
    "fig = plt.gcf()\n",
    "fig.savefig(outfile,)"
   ]
  },
  {
   "cell_type": "markdown",
   "id": "537bc500-1dbb-4a74-9e5b-07d7434a92e8",
   "metadata": {},
   "source": [
    "For comparison, here is the `somDomainColorsnok` plots for the wide SOM:"
   ]
  },
  {
   "cell_type": "code",
   "execution_count": null,
   "id": "3fad36ec-85e9-44b7-a4b2-fef371f63130",
   "metadata": {
    "tags": []
   },
   "outputs": [],
   "source": [
    "#SOMFUNCS.somDomainColorsnok(model['wide_som'])"
   ]
  },
  {
   "cell_type": "markdown",
   "id": "5335e3a7-eab5-45f7-ba0d-b4a357c9f585",
   "metadata": {},
   "source": [
    "And, as a final visualization, here are the locations of the mean colors of each SOM cell in i-K vs g-i color space, color-coded by the mean i-band magnitude of the SOM cell:"
   ]
  },
  {
   "cell_type": "code",
   "execution_count": null,
   "id": "c4920cf5-6d83-40a5-bad6-26f2a9b2d24e",
   "metadata": {
    "tags": []
   },
   "outputs": [],
   "source": [
    "outfile = os.path.join(outdir, 'deep_som_color_color.png')\n",
    "SOMFUNCS.somPlot2d(model['deep_som'])\n",
    "fig = plt.gcf()\n",
    "fig.savefig(outfile,)"
   ]
  },
  {
   "cell_type": "markdown",
   "id": "9b342745-5c4c-425a-846c-a9b5cce417ec",
   "metadata": {},
   "source": [
    "This looks promising, our SOMs both show coherent patterns in color and magnitude, as they should, and will enable us to map color-space to redshift via the occupation of training galaxies in the SOMs.  In a separate notebook, `rail_sompz_estimation_demo.ipynb`, we will run the estimator stage and produce tomographic bin estimates for a test set of objects."
   ]
  },
  {
   "cell_type": "code",
   "execution_count": null,
   "id": "d644d7d8-1f47-4885-9db4-2e49f61bb718",
   "metadata": {},
   "outputs": [],
   "source": []
  }
 ],
 "metadata": {
  "kernelspec": {
   "display_name": "RAIL",
   "language": "python",
   "name": "rail"
  },
  "language_info": {
   "codemirror_mode": {
    "name": "ipython",
    "version": 3
   },
   "file_extension": ".py",
   "mimetype": "text/x-python",
   "name": "python",
   "nbconvert_exporter": "python",
   "pygments_lexer": "ipython3",
   "version": "3.10.14"
  }
 },
 "nbformat": 4,
 "nbformat_minor": 5
}
