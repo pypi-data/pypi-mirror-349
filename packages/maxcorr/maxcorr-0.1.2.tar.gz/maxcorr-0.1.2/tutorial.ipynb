{
 "cells": [
  {
   "cell_type": "markdown",
   "source": [
    "## **1. Overview**\n",
    "\n",
    "*MaxCorr* is a python package for the estimation of Maximal (Non-Linear) Correlations in sets of bivariate and multivariate data.\n",
    "\n",
    "The package includes:\n",
    "* **3** indicator semantics (`'hgr'`, `'gedi'`, and `'nlc'`);\n",
    "* **6** estimation algorithms (`'dk'`, `'sk'`, `'nn'`, `'lat'`, `'kde'`, `'rdc'`);\n",
    "* **3** backends for numerical operations (`'numpy'`, `'torch'`, `'tensorflow'`).\n",
    "\n",
    "Indicators can be built using the main function `maxcorr.indicator`, specifying these three options.\n",
    "Eventually, the correlation can be computed using the method `compute(a, b)` method, passing the inputs vectors/matrices as parameters."
   ],
   "metadata": {
    "collapsed": false
   },
   "id": "408e69110871d473"
  },
  {
   "metadata": {
    "ExecuteTime": {
     "end_time": "2024-12-30T13:39:15.303272Z",
     "start_time": "2024-12-30T13:39:14.883463Z"
    }
   },
   "cell_type": "code",
   "source": [
    "import numpy as np\n",
    "from maxcorr import indicator\n",
    "\n",
    "rng = np.random.default_rng(0)\n",
    "a = rng.normal(loc=3.0, scale=2.0, size=100)\n",
    "b = rng.normal(loc=2.0, scale=5.0, size=100)\n",
    "\n",
    "ind = indicator(semantics='hgr', algorithm='dk', backend='numpy')\n",
    "ind.compute(a, b)"
   ],
   "id": "c4269f5ce9eddb9c",
   "outputs": [
    {
     "data": {
      "text/plain": [
       "0.27853871103466216"
      ]
     },
     "execution_count": 1,
     "metadata": {},
     "output_type": "execute_result"
    }
   ],
   "execution_count": 1
  },
  {
   "metadata": {},
   "cell_type": "markdown",
   "source": [
    "## **2. Semantics**\n",
    "\n",
    "The default semantics is HGR, which stands for ***Hirschfield-Gebelin-Rényi*** correlation coefficient.\n",
    "\n",
    "When no parameter is passed to the `indicator` function, the returned indicator automatically assumes the HGR semantics."
   ],
   "id": "60b91a791442aaad"
  },
  {
   "cell_type": "code",
   "id": "initial_id",
   "metadata": {
    "collapsed": true,
    "ExecuteTime": {
     "end_time": "2024-12-30T13:39:15.306670Z",
     "start_time": "2024-12-30T13:39:15.304462Z"
    }
   },
   "source": [
    "ind = indicator()\n",
    "print(f\"Default Semantics: '{ind.semantics}'\")"
   ],
   "outputs": [
    {
     "name": "stdout",
     "output_type": "stream",
     "text": [
      "Default Semantics: 'hgr'\n"
     ]
    }
   ],
   "execution_count": 2
  },
  {
   "cell_type": "markdown",
   "source": [
    "More specifically, the Hirschfield-Gebelin-Rényi coefficient ([Rényi, 1959](https://static.Rényi.hu/Rényi_cikkek/1959_on_measures_of_dependence.pdf)) is a non-linear correlation coefficient based on Pearson's correlation.\n",
    "It is defined as the maximal correlation that can be achieved by transforming two random variables ($A, B$) into non-linear domains through two copula transformations, i.e.:\n",
    "\n",
    "$$\\text{HGR}(A, B) = \\sup_{f \\in \\mathcal{F}, g \\in \\mathcal{F}} \\frac{\\text{cov}(f_A, g_B)}{\\sigma(f_A) \\cdot \\sigma(f_B)}$$\n",
    "\n",
    "where $f_A = f(A)$ and $g_B = g(B)$ are the two copula transformations belong to the Hilbert $\\mathcal{F}$ space of all possible mapping functions.\n",
    "Although HGR is proved to be uncomputable, many different estimation algorithms have been proposed in the literature, some of which are implemented in this package."
   ],
   "metadata": {
    "collapsed": false
   },
   "id": "4ff610e9fe1266c7"
  },
  {
   "metadata": {
    "ExecuteTime": {
     "end_time": "2024-12-30T13:39:15.468984Z",
     "start_time": "2024-12-30T13:39:15.307500Z"
    }
   },
   "cell_type": "code",
   "source": [
    "hgr = indicator(semantics='hgr')\n",
    "print('HGR:', hgr.compute(a, b))"
   ],
   "id": "a5781aea8866f78d",
   "outputs": [
    {
     "name": "stdout",
     "output_type": "stream",
     "text": [
      "HGR: 0.27853871103466216\n"
     ]
    }
   ],
   "execution_count": 3
  },
  {
   "metadata": {},
   "cell_type": "markdown",
   "source": [
    "Another available semantics is the Generalized Disparate Impact, or ***GeDI*** ([Giuliani et al., 2023](https://proceedings.mlr.press/v202/giuliani23a/giuliani23a.pdf)). It is a non-linear correlation coefficient which extends the concept of Disparate Impact ([Aghaei et al., 2019](https://dl.acm.org/doi/pdf/10.1609/aaai.v33i01.33011418)) defined in the field of algorithmic fairness and whose value is computed as the ratio between the covariance of the two variables $A$ and $B$ and the variance of $A$ – also known as $\\beta$ coefficient in statistics and finance.\n",
    "Although the original definition of the indicator from _Giuliani et al._ is specific to their proposed estimation approach, here we use a slight variation in order to link it to HGR and make it computable by all our implemented algorithms.\n",
    "Formally, we define GeDI as:\n",
    "\n",
    "$$\\text{GeDI}(A, B) = \\sup_{f \\in \\mathcal{F}, g \\in \\mathcal{F}} \\frac{\\text{cov}(f_A, g_B)}{\\sigma(f_A)^2} \\quad \\text{s.t.} \\quad \\sigma(f_A) = \\sigma(A), \\quad \\sigma(g_B) = \\sigma(B)$$\n",
    "\n",
    "namely we bound the two copula transformation to maintain the same standard deviation of the original random variables in order to avoid the explosion of the indicator by means of a simple rescaling of the mapping functions.\n",
    "Since HGR is based on Pearson's correlation, hence it is scale invariant, this aspect was not problematic in its definition; however, this also allows us to redefine HGR by imposing the same constraints used in GeDI without loss of generality, i.e.:\n",
    "\n",
    "$$\\text{HGR}(A, B) = \\sup_{f \\in \\mathcal{F}, g \\in \\mathcal{F}} \\frac{\\text{cov}(f_A, g_B)}{\\sigma(f_A) \\cdot \\sigma(g_B)} \\quad \\text{s.t.} \\quad \\sigma(f_A) = \\sigma(A), \\quad \\sigma(g_B) = \\sigma(B)$$\n",
    "\n",
    "making GeDI equivalent to HGR up to a scaling factor which depends on the standard deviation of the original random variables, i.e.:\n",
    "\n",
    "$$\\text{GeDI}(A, B) = \\text{HGR}(A, B) \\cdot \\frac{\\sigma(B)}{\\sigma(A)}$$"
   ],
   "id": "8a1342ed0c059700"
  },
  {
   "metadata": {
    "ExecuteTime": {
     "end_time": "2024-12-30T13:39:15.771039Z",
     "start_time": "2024-12-30T13:39:15.470692Z"
    }
   },
   "cell_type": "code",
   "source": [
    "gedi = indicator(semantics='gedi')\n",
    "print('GeDI:', gedi.compute(a, b), '≈', hgr.compute(a, b).round(2), '*', b.std(ddof=0).round(2) , '/', a.std(ddof=0).round(2))"
   ],
   "id": "d356d603d0f0a038",
   "outputs": [
    {
     "name": "stdout",
     "output_type": "stream",
     "text": [
      "GeDI: 0.6916942160379445 ≈ 0.28 * 4.78 / 1.92\n"
     ]
    }
   ],
   "execution_count": 4
  },
  {
   "metadata": {},
   "cell_type": "markdown",
   "source": [
    "Finally, the third indicator is the Non-Linear Covariance (***NLC***).\n",
    "It a non-linear extension of the covariance measure that comes naturally after the definition of the first two semantics which, by leveraging the same constraints used in GeDI, is defined as:\n",
    "\n",
    "$$\\text{NLC}(A, B) = \\sup_{f \\in \\mathcal{F}, g \\in \\mathcal{F}} \\text{cov}(f_A, g_B) \\quad \\text{s.t.} \\quad \\sigma(f_A) = \\sigma(A), \\quad \\sigma(g_B) = \\sigma(B)$$\n",
    "\n",
    "Therefore, by adopting the same strategy used before, we have that NLC is also equivalent to HGR up to a scaling factor, i.e.:\n",
    "\n",
    "$$\\text{NLC}(A, B) = \\text{HGR}(A, B) \\cdot \\sigma(A) \\cdot \\sigma(B)$$"
   ],
   "id": "f56341e0c77598f0"
  },
  {
   "metadata": {
    "ExecuteTime": {
     "end_time": "2024-12-30T13:39:16.057920Z",
     "start_time": "2024-12-30T13:39:15.771812Z"
    }
   },
   "cell_type": "code",
   "source": [
    "nlc = indicator(semantics='nlc')\n",
    "print('NLC:', nlc.compute(a, b), '≈', hgr.compute(a, b).round(2), '*', b.std(ddof=0).round(2) , '*', a.std(ddof=0).round(2))"
   ],
   "id": "e8a9859b1345c2a2",
   "outputs": [
    {
     "name": "stdout",
     "output_type": "stream",
     "text": [
      "NLC: 2.561191576285819 ≈ 0.28 * 4.78 * 1.92\n"
     ]
    }
   ],
   "execution_count": 5
  },
  {
   "metadata": {},
   "cell_type": "markdown",
   "source": [
    "## **3. Algorithms**\n",
    "\n",
    "The default choice when calling the `indicator` function is Double Kernel (`'dk'`)."
   ],
   "id": "537175d8ee17b307"
  },
  {
   "metadata": {
    "ExecuteTime": {
     "end_time": "2024-12-30T13:39:16.060748Z",
     "start_time": "2024-12-30T13:39:16.058677Z"
    }
   },
   "cell_type": "code",
   "source": [
    "ind = indicator()\n",
    "print(f\"Default Algorithm: '{ind.algorithm}'\")"
   ],
   "id": "7adbe4251d67897c",
   "outputs": [
    {
     "name": "stdout",
     "output_type": "stream",
     "text": [
      "Default Algorithm: 'dk'\n"
     ]
    }
   ],
   "execution_count": 6
  },
  {
   "metadata": {},
   "cell_type": "markdown",
   "source": [
    "However, there are in total six estimation techniques, which can be invoked with their respective keywords (`'dk'`, `'sk'`, `'nn'`, `'lat'`, `'kde'`, `'rdc'`) and work as follows:\n",
    "\n",
    "[**Double Kernel**]\n",
    "This algorithm is inspired by the one proposed by [Giuliani et al. (2023)](https://proceedings.mlr.press/v202/giuliani23a/giuliani23a.pdf) for the computation of the Generalized Disparate Impact, and extended to account for HGR computation as well.\n",
    "Given two vectors $a$ and $b$, the core idea is to build two kernel matrices $F_a = [f_1(a), ..., f_h(a)]$ and $G_b = [g_1(b), ... g_k(b)]$ based on a set of user-defined functions.\n",
    "The copula transformations $f$ and $g$ are then represented as the matrix product $F_a \\cdot \\alpha$ and $G_b \\cdot \\beta$, respectively, where $\\alpha$ and $\\beta$ are two vectors of mixing coefficients.\n",
    "Eventually, the algorithm then uses global optimization techniques to find the optimal coefficient vectors resulting in the maximal correlation.\n",
    "\n",
    "[**Single Kernel**]\n",
    "This is a variant of the previous algorithm which allows to account for functional dependencies only, although in either directions.\n",
    "Formally, given a set of functions $f_1, ..., f_d$, tests the correlation between $[f_1(a), ..., f_d(a)] \\cdot \\alpha$ and $b$, and between $a$ and $[f_1(b), ..., f_d(b)] \\cdot \\beta$, eventually taking the maximal value.\n",
    "Again, if no mapping functions are specified, the indicator uses polynomial kernel expansions.\n",
    "\n",
    "[**Neural**]\n",
    "This approach was proposed by [Grari et al. (2020)](https://www.ijcai.org/proceedings/2020/0313.pdf) and models the two copula transformation $f$ and $g$ as two neural networks.\n",
    "\n",
    "[**Lattice**]\n",
    "This is a custom variant of Grari et al.'s approach which uses Lattice Models to approximate the two copula transformation.\n",
    "\n",
    "[**Density**]\n",
    "This approach was proposed by [Mary et al. (2019)](https://proceedings.mlr.press/v97/mary19a/mary19a.pdf) and computes the maximal correlation using a theoretical upper-bound of HGR known as Witsenhausen's characterization ([Witsenhausen, 1975](https://www.jstor.org/stable/pdf/2100465.pdf)).\n",
    "\n",
    "[**Randomized**]\n",
    "This approach was proposed by [Lopez-Paz et al. (2013)](https://papers.nips.cc/paper_files/paper/2013/file/aab3238922bcc25a6f606eb525ffdc56-Paper.pdf) and computes the maximal correlation by mapping the input vectors $a$ and $b$ with a set of randomly-calibrated sinusoidal functions.\n",
    "Eventually, the pair of functions returning the highest correlation is selected using Canonical Correlation Analysis (CCA)."
   ],
   "id": "8624bf48730e6542"
  },
  {
   "metadata": {
    "ExecuteTime": {
     "end_time": "2024-12-30T13:39:18.585935Z",
     "start_time": "2024-12-30T13:39:16.061362Z"
    }
   },
   "cell_type": "code",
   "source": [
    "algorithms = ['dk', 'sk', 'nn', 'lat', 'kde', 'rdc']\n",
    "for i, algorithm in enumerate(algorithms):\n",
    "    ind = indicator(algorithm=algorithm)\n",
    "    print(f'{i + 1}. {ind.__class__.__name__}')"
   ],
   "id": "d47ef04c5605f344",
   "outputs": [
    {
     "name": "stdout",
     "output_type": "stream",
     "text": [
      "1. DoubleKernelIndicator\n",
      "2. SingleKernelIndicator\n",
      "3. NeuralIndicator\n",
      "4. LatticeIndicator\n",
      "5. DensityIndicator\n",
      "6. RandomizedIndicator\n"
     ]
    }
   ],
   "execution_count": 7
  },
  {
   "metadata": {},
   "cell_type": "markdown",
   "source": [
    "Algorithms might have specific parameters that can be passed as keyword arguments to the `indicator` function.\n",
    "For example:\n",
    "* the Double Kernel algorithm can take the specifics of the two kernels, which is either a callable function or an integer representing the degree of the polynomial expansion;\n",
    "* the Neural algorithm takes the number of hidden units in the neural transformations, or None for no transformation;\n",
    "* the Randomized algorithm takes the number of random projections to test."
   ],
   "id": "cd4ff3665df425d4"
  },
  {
   "metadata": {
    "ExecuteTime": {
     "end_time": "2024-12-30T13:39:18.589909Z",
     "start_time": "2024-12-30T13:39:18.586894Z"
    }
   },
   "cell_type": "code",
   "source": [
    "dk = indicator(algorithm='dk', kernel_a=5, kernel_b=1)\n",
    "nn = indicator(algorithm='nn', f_units=(8, 8, 8), g_units=None)\n",
    "rdc = indicator(algorithm='rdc', projections=10)"
   ],
   "id": "d1406beae034836a",
   "outputs": [],
   "execution_count": 8
  },
  {
   "metadata": {},
   "cell_type": "markdown",
   "source": [
    "Alternatively, it is possible to create a specific instance of each indicator by calling the constructor method of each respective class.\n",
    "The constructor methods explicitly asks for specific indicator parameters."
   ],
   "id": "90cfeffdfe76105a"
  },
  {
   "metadata": {
    "ExecuteTime": {
     "end_time": "2024-12-30T13:39:18.594479Z",
     "start_time": "2024-12-30T13:39:18.590847Z"
    }
   },
   "cell_type": "code",
   "source": [
    "from maxcorr.indicators import DoubleKernelIndicator, SingleKernelIndicator, NeuralIndicator, LatticeIndicator, DensityIndicator, RandomizedIndicator\n",
    "\n",
    "print('Indicator Constructors:')\n",
    "for cls in [DoubleKernelIndicator, SingleKernelIndicator, NeuralIndicator, LatticeIndicator, DensityIndicator, RandomizedIndicator]:\n",
    "    params = ', '.join(cls.__init__.__annotations__)\n",
    "    print(f'> {cls.__name__}({params})')\n",
    "    \n",
    "dk = DoubleKernelIndicator(kernel_a=5, kernel_b=1)\n",
    "nn = NeuralIndicator(f_units=(8, 8, 8), g_units=None)\n",
    "rdc = RandomizedIndicator(projections=10)"
   ],
   "id": "c54511c561f648a4",
   "outputs": [
    {
     "name": "stdout",
     "output_type": "stream",
     "text": [
      "Indicator Constructors:\n",
      "> DoubleKernelIndicator(kernel_a, kernel_b, backend, semantics, method, maxiter, eps, tol, use_lstsq, delta_independent)\n",
      "> SingleKernelIndicator(kernel, backend, semantics, method, maxiter, eps, tol, use_lstsq, delta_independent)\n",
      "> NeuralIndicator(f_units, g_units, backend, semantics, num_features, epochs_start, epochs_successive, learning_rate, eps)\n",
      "> LatticeIndicator(f_sizes, g_sizes, backend, semantics, epochs_start, epochs_successive, learning_rate, eps, f_kwargs, g_kwargs)\n",
      "> DensityIndicator(backend, semantics, chi_square, damping)\n",
      "> RandomizedIndicator(functions, backend, semantics, projections, scale, repetitions)\n"
     ]
    }
   ],
   "execution_count": 9
  },
  {
   "metadata": {},
   "cell_type": "markdown",
   "source": "Other than their parameters, algorithms differ in their estimation capabilities, required computational time, differentiability, and additional properties. Here, we perform a simple comparison of the computational times required to compute the correlation between $a$ and $b$.",
   "id": "799dd5752ddbe35c"
  },
  {
   "metadata": {
    "ExecuteTime": {
     "end_time": "2024-12-30T13:39:31.948062Z",
     "start_time": "2024-12-30T13:39:18.596987Z"
    }
   },
   "cell_type": "code",
   "source": [
    "import pandas as pd\n",
    "import seaborn as sns\n",
    "import time\n",
    "import tqdm\n",
    "\n",
    "results = []\n",
    "pbar = tqdm.tqdm(total=30 * len(algorithms))\n",
    "for repetition in range(30):\n",
    "    for algorithm in algorithms:\n",
    "        start = time.time()\n",
    "        indicator(algorithm=algorithm, semantics='hgr', backend='numpy').compute(a=a, b=b)\n",
    "        results.append({'Algorithm': algorithm, 'Repetition': repetition, 'Time (s)': time.time() - start})\n",
    "        pbar.update(1)\n",
    "pbar.close()\n",
    "\n",
    "results = pd.DataFrame(results)\n",
    "ax = sns.barplot(results, x='Algorithm', y='Time (s)')\n",
    "ax.set_yscale('log')"
   ],
   "id": "3e763cf4b6cbbfef",
   "outputs": [
    {
     "name": "stderr",
     "output_type": "stream",
     "text": [
      "100%|██████████| 180/180 [00:12<00:00, 13.89it/s]\n"
     ]
    },
    {
     "data": {
      "text/plain": [
       "<Figure size 640x480 with 1 Axes>"
      ],
      "image/png": "[encoded data removed]"
     },
     "metadata": {},
     "output_type": "display_data"
    }
   ],
   "execution_count": 10
  },
  {
   "metadata": {},
   "cell_type": "markdown",
   "source": [
    "## **4. Backend**\n",
    "\n",
    "The default choice when calling the `indicator` function is the `'numpy'` backend."
   ],
   "id": "8b0f300050ef057a"
  },
  {
   "metadata": {
    "ExecuteTime": {
     "end_time": "2024-12-30T13:39:31.951116Z",
     "start_time": "2024-12-30T13:39:31.948929Z"
    }
   },
   "cell_type": "code",
   "source": [
    "ind = indicator()\n",
    "print(f\"Default Backend: '{ind.backend.name}'\")"
   ],
   "id": "968d2e4d0cf8081",
   "outputs": [
    {
     "name": "stdout",
     "output_type": "stream",
     "text": [
      "Default Backend: 'numpy'\n"
     ]
    }
   ],
   "execution_count": 11
  },
  {
   "metadata": {},
   "cell_type": "markdown",
   "source": [
    "In addition to that, the other available backends are `'torch'` and `'tensorflow'`.\n",
    "\n",
    "Choosing one backend with respect to another mainly depends on the type of input data and available hardware, but most importantly on whether the result should contain ***gradient information*** or not.\n",
    "While numpy does not keep track of gradients, torch and tensorflow do, and this information can be exploited to enforce specific correlations during the training of neural networks using the indicator results as a loss regularizer."
   ],
   "id": "3e28b02c52d98a9c"
  },
  {
   "metadata": {
    "ExecuteTime": {
     "end_time": "2024-12-30T13:39:32.081890Z",
     "start_time": "2024-12-30T13:39:31.951910Z"
    }
   },
   "cell_type": "code",
   "source": [
    "import torch\n",
    "\n",
    "a_torch = torch.tensor(a, requires_grad=True)\n",
    "b_torch = torch.tensor(b, requires_grad=True)\n",
    "indicator(algorithm='dk', backend='torch').compute(a_torch, b_torch)"
   ],
   "id": "157fc3acadca390d",
   "outputs": [
    {
     "data": {
      "text/plain": [
       "tensor(0.2785, grad_fn=<MulBackward0>)"
      ]
     },
     "execution_count": 12,
     "metadata": {},
     "output_type": "execute_result"
    }
   ],
   "execution_count": 12
  },
  {
   "metadata": {},
   "cell_type": "markdown",
   "source": [
    "Notice that we had to cast the input vectors as torch vectors in order to keep track of the gradients.\n",
    "In fact, the `compute` method expects inputs to comply to the backend, otherwise it will not be able to keep track of the gradients."
   ],
   "id": "a837a7c6c387f3f3"
  },
  {
   "metadata": {
    "ExecuteTime": {
     "end_time": "2024-12-30T13:39:32.213103Z",
     "start_time": "2024-12-30T13:39:32.082776Z"
    }
   },
   "cell_type": "code",
   "source": "indicator(algorithm='dk', backend='torch').compute(a, b)",
   "id": "e093adb1be74c5fe",
   "outputs": [
    {
     "data": {
      "text/plain": [
       "tensor(0.2785)"
      ]
     },
     "execution_count": 13,
     "metadata": {},
     "output_type": "execute_result"
    }
   ],
   "execution_count": 13
  },
  {
   "metadata": {},
   "cell_type": "markdown",
   "source": [
    "Moreover, in order for a backend to work properly, packages must be installed in the local machine/virtual environment.\n",
    "This can be done by passing optional dependencies within square brackets when installing _MaxCorr_ via pip, e.g.:\n",
    "```\n",
    "pip install maxcorr[torch,tensorflow,lattice,full]\n",
    "```\n",
    "\n",
    "Take into consideration that, although each algorithm can work with each backend, this is somehow due to cast mechanisms going on under the hood, hence they might not be able to yield a gradient.\n",
    "In particular:\n",
    "* *Double Kernel* and *Single Kernel* algorithms can work natively with any backend and do not require additional dependencies unless that of the selected backend;\n",
    "* The *Neural* algorithm is compatible with both torch and tensorflow, but requires either of the two dependencies to perform the neural computation even in case the `'numpy'` backend is selected;\n",
    "* The *Lattice* algorithm is compatible with tensorflow only, and requires both `tensorflow` and `tensorflow-lattice` to be installed;\n",
    "* The *Density* algorithm is compatible with torch only, and it requires its dependency;\n",
    "* The *Randomized* algorithm does not yield any gradient by definition, but it does not need any additional dependency to work.\n",
    "\n",
    "For example, if we try to compute correlation using the lattice indicator with `'torch'` backend, the result will not have gradient information as it will be a constant vector obtained by casting the tensorflow result."
   ],
   "id": "81102a0fc6c15508"
  },
  {
   "metadata": {
    "ExecuteTime": {
     "end_time": "2024-12-30T13:39:32.457859Z",
     "start_time": "2024-12-30T13:39:32.214163Z"
    }
   },
   "cell_type": "code",
   "source": "indicator(algorithm='lat', backend='torch').compute(a_torch, b_torch)",
   "id": "5ca680ef6b2378d",
   "outputs": [
    {
     "data": {
      "text/plain": [
       "tensor(0.4004)"
      ]
     },
     "execution_count": 14,
     "metadata": {},
     "output_type": "execute_result"
    }
   ],
   "execution_count": 14
  },
  {
   "metadata": {},
   "cell_type": "markdown",
   "source": [
    "## **5. Additional Operations**\n",
    "\n",
    "In certain application scenarios, some additional operations might be useful other than the mere computation of correlation.\n",
    "Here, we will show three of them using a Double Kernel indicator as an example.\n"
   ],
   "id": "78abf2c6ad38f25e"
  },
  {
   "metadata": {
    "ExecuteTime": {
     "end_time": "2024-12-30T13:39:32.460631Z",
     "start_time": "2024-12-30T13:39:32.458617Z"
    }
   },
   "cell_type": "code",
   "source": "ind = DoubleKernelIndicator(kernel_a=3, kernel_b=2, semantics='hgr', backend='numpy')",
   "id": "b3434e8f5b0cb86b",
   "outputs": [],
   "execution_count": 15
  },
  {
   "metadata": {},
   "cell_type": "markdown",
   "source": [
    "#### ***5.1. Results Metadata***\n",
    "\n",
    "By invoking the `compute` method, the obtained result is simply the correlation value in the chosen backend.\n",
    "Nonetheless, additional information are stored into a `Result` object, which is returned by directly calling the indicator object itself.\n",
    "\n",
    "Each algorithm returns at least the following metadata:\n",
    "* `num_call`, an integer representing how many times that specific indicator instance has been called;\n",
    "* `indicator`, which contains a reference to the indicator instance that generated the result;\n",
    "* `value`, that is the actual correlation value;\n",
    "* `a`, i.e., a copy of the input vector $a$;\n",
    "* `b`, i.e., a copy of the input vector $b$.\n",
    "\n",
    "Moreover, specific algorithms may include additional specific information.\n",
    "For example, each `Result` object returned by a Double Kernel instance also returns the optimal coefficients $\\alpha$ and $\\beta$."
   ],
   "id": "146227dd1abe990d"
  },
  {
   "metadata": {
    "ExecuteTime": {
     "end_time": "2024-12-30T13:39:32.591401Z",
     "start_time": "2024-12-30T13:39:32.461423Z"
    }
   },
   "cell_type": "code",
   "source": [
    "result = ind(a, b)\n",
    "print('>        Call Number:', result.num_call)\n",
    "print('>  Calling Indicator:', result.indicator)\n",
    "print('>  Correlation Value:', result.value)\n",
    "print('>  Vector <a>, Shape:', result.a.shape)\n",
    "print('>  Vector <b>, Shape:', result.b.shape)\n",
    "print('>  Beta Coefficients:', result.beta)\n",
    "print('> Alpha Coefficients:', result.alpha)"
   ],
   "id": "2d6fcefaee6bbb75",
   "outputs": [
    {
     "name": "stdout",
     "output_type": "stream",
     "text": [
      ">        Call Number: 1\n",
      ">  Calling Indicator: Indicator(semantics='hgr', algorithm='dk', backend='numpy')\n",
      ">  Correlation Value: 0.2653533889633538\n",
      ">  Vector <a>, Shape: (100,)\n",
      ">  Vector <b>, Shape: (100,)\n",
      ">  Beta Coefficients: [0.6451657317178631, 0.35483426828213693]\n",
      "> Alpha Coefficients: [-0.22975995421273554, 0.6753083630949782, -0.09493168269228616]\n"
     ]
    }
   ],
   "execution_count": 16
  },
  {
   "metadata": {},
   "cell_type": "markdown",
   "source": [
    "The `Result` object can be also accessed from the indicator instance using the property `last_result`.\n",
    "In this case, even by calling the `compute` method, we can eventually access all the additional information."
   ],
   "id": "42c2845d66cbd7bb"
  },
  {
   "metadata": {
    "ExecuteTime": {
     "end_time": "2024-12-30T13:39:32.664146Z",
     "start_time": "2024-12-30T13:39:32.592264Z"
    }
   },
   "cell_type": "code",
   "source": [
    "ind.compute(a, b)\n",
    "print('>        Call Number:', ind.last_result.num_call)\n",
    "print('>  Calling Indicator:', ind.last_result.indicator)\n",
    "print('>  Correlation Value:', ind.last_result.value)\n",
    "print('>  Vector <a>, Shape:', ind.last_result.a.shape)\n",
    "print('>  Vector <b>, Shape:', ind.last_result.b.shape)\n",
    "print('>  Beta Coefficients:', ind.last_result.beta)\n",
    "print('> Alpha Coefficients:', ind.last_result.alpha)"
   ],
   "id": "b139b35a1b76d798",
   "outputs": [
    {
     "name": "stdout",
     "output_type": "stream",
     "text": [
      ">        Call Number: 2\n",
      ">  Calling Indicator: Indicator(semantics='hgr', algorithm='dk', backend='numpy')\n",
      ">  Correlation Value: 0.265353388963351\n",
      ">  Vector <a>, Shape: (100,)\n",
      ">  Vector <b>, Shape: (100,)\n",
      ">  Beta Coefficients: [0.6451660853295247, 0.35483391467047537]\n",
      "> Alpha Coefficients: [-0.2297604559463598, 0.6753079345612953, -0.09493160949234487]\n"
     ]
    }
   ],
   "execution_count": 17
  },
  {
   "metadata": {},
   "cell_type": "markdown",
   "source": [
    "Notice how, this time, the call number is different.\n",
    "In fact, by calling the `compute` method we run the optimization algorithm again, which generated a new `Result` object different from the previous one. \n",
    "\n",
    "Although the Double Kernel algorithm is deterministic, and we used the same input vectors, some of the remaining fields are also different.\n",
    "The reason is that **invoking the estimation algorithm twice using the same indicator instance is different from calling it twice using two different indicator instances**, because each instance can keep track of previous states in order to use warm starting techniques.\n",
    "\n",
    "For example, when called for the $n^{th}$ time, the Double Kernel indicator uses the coefficients $[\\alpha_{n-1}, \\beta_{n-1}]$ as initial guess for the optimization algorithm.\n",
    "Similarly, the Neural indicator uses a pre-training strategy where the neural networks are trained for $E$ epochs at the first call, while in the subsequent calls the pre-trained networks are fine-tuned for a number of epochs $e < E$.\n",
    "These aspects are particularly useful to speed up the computation when the correlation value is used as a loss regularizer in the context of constrained machine learning, where the same correlation indicator has to be computed many times for a number of slightly different input vectors.\n",
    "It is therefore important that, **when two different computations involve two different or unrelated sets of vectors, the correlations are computed using two different indicator instances rather than one called two times**.\n",
    "\n",
    "As an example, see how invoking the computation on an indicator which was previously used for completely different vectors results in a small underestimation of the correlation due to the use of wrong initialization coefficients in the second call."
   ],
   "id": "2a3a1362eb65fcf9"
  },
  {
   "metadata": {
    "ExecuteTime": {
     "end_time": "2024-12-30T13:39:34.314267Z",
     "start_time": "2024-12-30T13:39:32.664921Z"
    }
   },
   "cell_type": "code",
   "source": [
    "rng = np.random.default_rng(1)\n",
    "x = rng.beta(a=10, b=0.5, size=100)\n",
    "y = rng.beta(a=90, b=0.2, size=100)\n",
    "\n",
    "ind1 = DoubleKernelIndicator(kernel_a=7, kernel_b=7, semantics='hgr', backend='numpy')\n",
    "ind2 = DoubleKernelIndicator(kernel_a=7, kernel_b=7, semantics='hgr', backend='numpy')\n",
    "\n",
    "ind1.compute(a, b)\n",
    "print('> HGR(x, y) using Second Call of First Indicator:', ind1.compute(x, y))\n",
    "print('> HGR(x, y) using First Call of Second Indicator:', ind2.compute(x, y))"
   ],
   "id": "bbd9fad73256e6c",
   "outputs": [
    {
     "name": "stdout",
     "output_type": "stream",
     "text": [
      "> HGR(x, y) using Second Call of First Indicator: 0.28910443369702515\n",
      "> HGR(x, y) using First Call of Second Indicator: 0.29041150085375034\n"
     ]
    }
   ],
   "execution_count": 18
  },
  {
   "metadata": {},
   "cell_type": "markdown",
   "source": [
    "Finally, each indicator also keeps track of how many times the estimation algorithm is called.\n",
    "At the beginning, this number is zero, and trying to access the `last_result` property will return nothing."
   ],
   "id": "e7dc61a2dc1d53f8"
  },
  {
   "metadata": {
    "ExecuteTime": {
     "end_time": "2024-12-30T13:39:34.317591Z",
     "start_time": "2024-12-30T13:39:34.315195Z"
    }
   },
   "cell_type": "code",
   "source": [
    "new_ind = DoubleKernelIndicator(kernel_a=3, kernel_b=2, semantics='hgr', backend='numpy')\n",
    "print('New Indicator -->  Num Calls  =', new_ind.num_calls)\n",
    "print('New Indicator --> Last Result =', new_ind.last_result)"
   ],
   "id": "dbeafc0200b293ff",
   "outputs": [
    {
     "name": "stdout",
     "output_type": "stream",
     "text": [
      "New Indicator -->  Num Calls  = 0\n",
      "New Indicator --> Last Result = None\n"
     ]
    }
   ],
   "execution_count": 19
  },
  {
   "metadata": {},
   "cell_type": "markdown",
   "source": [
    "#### ***5.2. Inspection of Copula Transformations***\n",
    "\n",
    "Some algorithms provide access to the learned copula transformations, which can be later inspected both on the same and on different data.\n",
    "These are the Double and Single Kernel, the Neural, and the Lattice algorithms.\n",
    "\n",
    "The copula transformation can be accessed using the `f` and `g` methods, which take a vector as input.\n",
    "This feature allows to plot the learned functions and see the type of relationship that exists between the two input vectors."
   ],
   "id": "ebb74223cc4a3816"
  },
  {
   "metadata": {
    "ExecuteTime": {
     "end_time": "2024-12-30T13:39:34.782128Z",
     "start_time": "2024-12-30T13:39:34.318531Z"
    }
   },
   "cell_type": "code",
   "source": [
    "import matplotlib.pyplot as plt\n",
    "\n",
    "fa = ind.f(a)\n",
    "gb = ind.g(b)\n",
    "\n",
    "_, axes = plt.subplots(nrows=1, ncols=2, figsize=(12, 4), tight_layout=True)\n",
    "axes[0].plot(*zip(*sorted(zip(a, fa))))\n",
    "axes[0].set_xlabel('a')\n",
    "axes[0].set_ylabel('f(a)', rotation=0, labelpad=10)\n",
    "axes[0].set_title('Copula F')\n",
    "axes[1].plot(*zip(*sorted(zip(b, gb))))\n",
    "axes[1].set_xlabel('b')\n",
    "axes[1].set_ylabel('g(b)', rotation=0, labelpad=10)\n",
    "axes[1].set_title('Copula G');"
   ],
   "id": "f93a8198d20b917f",
   "outputs": [
    {
     "data": {
      "text/plain": [
       "<Figure size 1200x400 with 2 Axes>"
      ],
      "image/png": "[encoded data removed]"
     },
     "metadata": {},
     "output_type": "display_data"
    }
   ],
   "execution_count": 20
  },
  {
   "metadata": {},
   "cell_type": "markdown",
   "source": [
    "Copula transformations are also useful to validate the obtained results against the risk of overfitting.\n",
    "In fact, if a test dataset $(a_t, b_t)$ is available, we can compute the indicator using the projections $f_t = f(a_t)$ and $g_t = g(b_t)$ obtained using tha available transformations without any optimization involved.\n",
    "If we see that the resulting value is much lower than the one obtained during the optimization using the training data, then it is likely that the estimation algorithm is overfitting on that data.\n",
    "\n",
    "The computation of the indicator on test data can be either done manually by invoking the `f` and `g` methods to get the projections, or via the `value` method which computes the indicator value on two vectors without performing any optimization (differently from the `compute` method which calls the estimation algorithm)."
   ],
   "id": "48a31cee0a91f7c"
  },
  {
   "metadata": {
    "ExecuteTime": {
     "end_time": "2024-12-30T13:39:34.788210Z",
     "start_time": "2024-12-30T13:39:34.783292Z"
    }
   },
   "cell_type": "code",
   "source": [
    "rng = np.random.default_rng(2)\n",
    "a_test = rng.normal(loc=3.0, scale=2.0, size=100)\n",
    "b_test = rng.normal(loc=2.0, scale=5.0, size=100)\n",
    "\n",
    "cov = np.cov(fa, gb, ddof=0)\n",
    "value = cov[0, 1] / np.sqrt(cov[0, 0] * cov[1, 1])\n",
    "\n",
    "fa_test = ind.f(a_test)\n",
    "gb_test = ind.g(b_test)\n",
    "cov_test = np.cov(fa_test, gb_test, ddof=0)\n",
    "value_test = cov_test[0, 1] / np.sqrt(cov_test[0, 0] * cov_test[1, 1])\n",
    "\n",
    "print('> Train Correlation (from results):', ind.last_result.value)\n",
    "print('> Train Correlation (using copula):', value)\n",
    "print('> Train Correlation (using method):', ind.value(a, b))\n",
    "print()\n",
    "print('>  Test Correlation (using copula):', value_test)\n",
    "print('>  Test Correlation (using method):', ind.value(a_test, b_test))"
   ],
   "id": "d5142e97968f6c2c",
   "outputs": [
    {
     "name": "stdout",
     "output_type": "stream",
     "text": [
      "> Train Correlation (from results): 0.265353388963351\n",
      "> Train Correlation (using copula): 0.26535339098030736\n",
      "> Train Correlation (using method): 0.26535339091014826\n",
      "\n",
      ">  Test Correlation (using copula): 0.13337136810861897\n",
      ">  Test Correlation (using method): 0.13337136808148137\n"
     ]
    }
   ],
   "execution_count": 21
  },
  {
   "metadata": {},
   "cell_type": "markdown",
   "source": [
    "Here, for example, we see that the test correlation is halved with respect to the train one, suggesting some degree of overfitting in the estimation procedure. \n",
    "Also, notice that the `value` method does not change the last results, nor increases the number of calls of the indicator instance."
   ],
   "id": "356038882c7e77ce"
  },
  {
   "metadata": {
    "ExecuteTime": {
     "end_time": "2024-12-30T13:39:34.791047Z",
     "start_time": "2024-12-30T13:39:34.789186Z"
    }
   },
   "cell_type": "code",
   "source": [
    "print('Last Value:', ind.last_result.value)\n",
    "print(' Num Calls:', ind.num_calls)"
   ],
   "id": "5ac23bf2716b524",
   "outputs": [
    {
     "name": "stdout",
     "output_type": "stream",
     "text": [
      "Last Value: 0.265353388963351\n",
      " Num Calls: 2\n"
     ]
    }
   ],
   "execution_count": 22
  },
  {
   "metadata": {},
   "cell_type": "markdown",
   "source": [
    "#### ***5.3. Multivariate Correlations***\n",
    "\n",
    "Finally, we mention that the same algorithms that allow for the inspection of copula transformations can also handle multivariate data.\n",
    "This can be done by passing a matrix rather than a vector for either $a$ or $b$ (or both), and optionally specifying additional information in the indicator's constructor.\n",
    "\n",
    "Keeping the example of the Double Kernel indicator, it can automatically build a polynomial expansion kernel of more variables without the need to specify any additional parameter.\n",
    "For example, given the inputs $a = [a_1, a_2]$ and $b = [b_1, b_2, b_3]$, with respective degrees $h = 3$ and $k = 2$, the polynomial expansions will be:\n",
    "\n",
    "$$f(a) = [a_1, a_2, a_1^2, a_1 \\cdot a_2, a_2^2, a_1^3, a_1^2 \\cdot a_2, a_1 \\cdot a_2^2, a_2^3]$$\n",
    "$$g(b) = [b_1, b_2, b_3, b_1^2, b_1 \\cdot b_2, b_1 \\cdot b_3, b_2^2, b_2 \\cdot b_3, b_3^2]$$"
   ],
   "id": "ba6ad0ccf332c9ec"
  },
  {
   "metadata": {
    "ExecuteTime": {
     "end_time": "2024-12-30T13:39:34.902235Z",
     "start_time": "2024-12-30T13:39:34.791776Z"
    }
   },
   "cell_type": "code",
   "source": [
    "rng = np.random.default_rng(3)\n",
    "a_multi = rng.normal(loc=3.0, scale=2.0, size=(100, 2))\n",
    "b_multi = rng.normal(loc=2.0, scale=5.0, size=(100, 3))\n",
    "\n",
    "ind = DoubleKernelIndicator(kernel_a=3, kernel_b=2, semantics='hgr', backend='numpy')\n",
    "res = ind(a_multi, b_multi)\n",
    "print('> Correlation:', res.value)\n",
    "print('>       Alpha:', np.round(res.alpha, 2))\n",
    "print('>        Beta:', np.round(res.beta, 2))"
   ],
   "id": "d613c369e51f50d8",
   "outputs": [
    {
     "name": "stdout",
     "output_type": "stream",
     "text": [
      "> Correlation: 0.5244499726952101\n",
      ">       Alpha: [ 0.3  -0.42 -0.05 -0.02  0.16  0.    0.01 -0.02 -0.01]\n",
      ">        Beta: [ 0.25  0.4   0.23  0.   -0.03  0.03 -0.04 -0.01 -0.01]\n"
     ]
    }
   ],
   "execution_count": 23
  },
  {
   "metadata": {},
   "cell_type": "markdown",
   "source": "",
   "id": "cb216ee6901aff49"
  },
  {
   "metadata": {},
   "cell_type": "markdown",
   "source": [
    "The same goes for the Single Kernel indicator, while the Neural and the Lattice ones require the input sizes to be specified in the indicator constructor.\n",
    "In particular:\n",
    "* the Neural indicator takes an input argument with default value `num_features = (1, 1)` which indicates the number of input features for the $a$ and $b$ vectors, respectively;\n",
    "* the Lattice indicator takes two input arguments with default value `f_sizes=(10,)` `g_sizes=(10,)` which indicates the number of keypoints used for each input feature."
   ],
   "id": "4b6e9db611b10c38"
  },
  {
   "metadata": {
    "ExecuteTime": {
     "end_time": "2024-12-30T13:39:35.246220Z",
     "start_time": "2024-12-30T13:39:34.903601Z"
    }
   },
   "cell_type": "code",
   "source": [
    "ind_nn = NeuralIndicator(num_features=(2, 3), f_units=(8, 8, 8), g_units=(8, 8, 8), semantics='hgr', backend='numpy')\n",
    "print('>  Neural Correlation:', ind_nn.compute(a_multi, b_multi))\n",
    "\n",
    "ind_lat = LatticeIndicator(f_sizes=(5, 5), g_sizes=(5, 5, 5), semantics='hgr', backend='numpy')\n",
    "print('> Lattice Correlation:', ind_lat.compute(a_multi, b_multi))"
   ],
   "id": "2b897dd0e4a4f129",
   "outputs": [
    {
     "name": "stdout",
     "output_type": "stream",
     "text": [
      ">  Neural Correlation: 0.4160856306552887\n",
      "> Lattice Correlation: 0.802560567855835\n"
     ]
    }
   ],
   "execution_count": 24
  }
 ],
 "metadata": {
  "kernelspec": {
   "display_name": "Python 3",
   "language": "python",
   "name": "python3"
  },
  "language_info": {
   "codemirror_mode": {
    "name": "ipython",
    "version": 2
   },
   "file_extension": ".py",
   "mimetype": "text/x-python",
   "name": "python",
   "nbconvert_exporter": "python",
   "pygments_lexer": "ipython2",
   "version": "2.7.6"
  }
 },
 "nbformat": 4,
 "nbformat_minor": 5
}
