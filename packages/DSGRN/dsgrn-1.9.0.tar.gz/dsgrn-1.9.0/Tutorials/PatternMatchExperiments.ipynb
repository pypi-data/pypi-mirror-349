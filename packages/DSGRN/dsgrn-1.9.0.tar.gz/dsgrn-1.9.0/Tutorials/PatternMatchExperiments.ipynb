{
 "cells": [
  {
   "cell_type": "markdown",
   "metadata": {
    "collapsed": true,
    "jupyter": {
     "outputs_hidden": true
    }
   },
   "source": [
    "# Pattern Matching Experiments"
   ]
  },
  {
   "cell_type": "code",
   "execution_count": 1,
   "metadata": {},
   "outputs": [],
   "source": [
    "from DSGRN import *"
   ]
  },
  {
   "cell_type": "markdown",
   "metadata": {},
   "source": [
    "# Networks\n",
    "\n",
    "We give two sets of networks. One of them allows for all parameters. The other is identical except it only uses essential parameters."
   ]
  },
  {
   "cell_type": "code",
   "execution_count": 2,
   "metadata": {},
   "outputs": [],
   "source": [
    "network_strings = [ \n",
    "[\"SWI4 : (NDD1)(~YOX1)\", \"HCM1 : SWI4\", \"NDD1 : HCM1\", \"YOX1 : SWI4\"],\n",
    "[\"SWI4 : (NDD1)(~YOX1)\", \"HCM1 : SWI4\", \"NDD1 : HCM1\", \"YOX1 : (SWI4)(HCM1)\"],\n",
    "[\"SWI4 : (NDD1)(~YOX1)\", \"HCM1 : SWI4\", \"NDD1 : HCM1\", \"YOX1 : (SWI4)(~HCM1)\"],\n",
    "[\"SWI4 : (NDD1)(~YOX1)\", \"HCM1 : SWI4\", \"NDD1 : HCM1\", \"YOX1 : (SWI4)(NDD1)\"],\n",
    "[\"SWI4 : (NDD1)(~YOX1)\", \"HCM1 : SWI4\", \"NDD1 : HCM1\", \"YOX1 : (SWI4)(~NDD1)\"],\n",
    "[\"SWI4 : (NDD1)(~YOX1)\", \"HCM1 : (SWI4)(YOX1)\", \"NDD1 : HCM1\", \"YOX1 : SWI4\"],\n",
    "[\"SWI4 : (NDD1)(~YOX1)\", \"HCM1 : (SWI4)(~YOX1)\", \"NDD1 : HCM1\", \"YOX1 : SWI4\"],\n",
    "[\"SWI4 : (NDD1)(~YOX1)\", \"HCM1 : SWI4\", \"NDD1 : (HCM1)(YOX1)\", \"YOX1 : SWI4\"],\n",
    "[\"SWI4 : (NDD1)(~YOX1)\", \"HCM1 : SWI4\", \"NDD1 : (HCM1)(~YOX1)\", \"YOX1 : SWI4\"] ]"
   ]
  },
  {
   "cell_type": "markdown",
   "metadata": {},
   "source": [
    "## Full Networks"
   ]
  },
  {
   "cell_type": "code",
   "execution_count": 3,
   "metadata": {},
   "outputs": [],
   "source": [
    "networks = [Network() for i in range(0,9)]\n",
    "for i,network in enumerate(networks):\n",
    "    network.assign('\\n'.join(network_strings[i]))"
   ]
  },
  {
   "cell_type": "markdown",
   "metadata": {},
   "source": [
    "## Essential Networks"
   ]
  },
  {
   "cell_type": "code",
   "execution_count": 4,
   "metadata": {},
   "outputs": [],
   "source": [
    "essential_network_strings = [ [ line + \" : E\" for line in network_string ] for network_string in network_strings]\n",
    "essential_networks = [Network() for i in range(0,9)]\n",
    "for i,network in enumerate(essential_networks):\n",
    "    network.assign('\\n'.join(essential_network_strings[i]))"
   ]
  },
  {
   "cell_type": "markdown",
   "metadata": {},
   "source": [
    "# Path match analysis\n",
    "\n",
    "We give two functions for path match analysis. One looks at the entire domain graph. The other only checks for path matches in stable Morse sets."
   ]
  },
  {
   "cell_type": "markdown",
   "metadata": {},
   "source": [
    "## Analysis on entire domain graph"
   ]
  },
  {
   "cell_type": "code",
   "execution_count": 5,
   "metadata": {},
   "outputs": [],
   "source": [
    "def Analyze(network, events, event_ordering):\n",
    "    poe = PosetOfExtrema(network, events, event_ordering )\n",
    "    pattern_graph = PatternGraph(poe)\n",
    "    parameter_graph = ParameterGraph(network)\n",
    "    result = []\n",
    "    for parameter_index in range(0, parameter_graph.size()):\n",
    "        parameter = parameter_graph.parameter(parameter_index)\n",
    "        search_graph = SearchGraph(DomainGraph(parameter))\n",
    "        matching_graph = MatchingGraph(search_graph, pattern_graph);\n",
    "        if PathMatch(matching_graph):\n",
    "            result.append(parameter_index)\n",
    "    return [result,  parameter_graph.size()]"
   ]
  },
  {
   "cell_type": "markdown",
   "metadata": {},
   "source": [
    "## Analysis on stable Morse set only"
   ]
  },
  {
   "cell_type": "code",
   "execution_count": 6,
   "metadata": {},
   "outputs": [],
   "source": [
    "def AnalyzeOnStable(network, events, event_ordering):\n",
    "    poe = PosetOfExtrema(network, events, event_ordering )\n",
    "    pattern_graph = PatternGraph(poe)\n",
    "    parameter_graph = ParameterGraph(network)\n",
    "    results = []\n",
    "    for parameter_index in range(0, parameter_graph.size()):\n",
    "        parameter = parameter_graph.parameter(parameter_index)\n",
    "        domain_graph = DomainGraph(parameter)\n",
    "        morse_decomposition = MorseDecomposition(domain_graph.digraph())\n",
    "        morse_graph = MorseGraph()\n",
    "        morse_graph.assign(domain_graph, morse_decomposition)\n",
    "        MorseNodes = range(0, morse_graph.poset().size())\n",
    "        isStable = lambda node : len(morse_graph.poset().children(node)) == 0\n",
    "        isStableFC = lambda node : morse_graph.annotation(node)[0] == 'FC' and isStable(node)\n",
    "        hasStableFC = any( isStableFC(node) for node in MorseNodes)\n",
    "        StableNodes = [ node for node in MorseNodes if isStable(node) ]\n",
    "        subresult = []\n",
    "        for node in StableNodes:\n",
    "            search_graph = SearchGraph(domain_graph, node)\n",
    "            matching_graph = MatchingGraph(search_graph, pattern_graph)\n",
    "            path_match = PathMatch(matching_graph)\n",
    "            if path_match:\n",
    "                subresult.append([parameter_index, node])\n",
    "        results.append([subresult, 1 if hasStableFC else 0])\n",
    "    return [results, parameter_graph.size()]"
   ]
  },
  {
   "cell_type": "markdown",
   "metadata": {},
   "source": [
    "# Poset of Extrema\n",
    "\n",
    "We study two poset of extrema. The first poset comes from looking at times [10,60] and assuming SWI4 happens before the other minima at the beginning and thus can be excluded. The other comes from including all extrema."
   ]
  },
  {
   "cell_type": "markdown",
   "metadata": {},
   "source": [
    "## Original Poset of Extrema"
   ]
  },
  {
   "cell_type": "code",
   "execution_count": 7,
   "metadata": {},
   "outputs": [],
   "source": [
    "original_events = [(\"HCM1\", \"min\"), (\"NDD1\", \"min\"), (\"YOX1\", \"min\"), \n",
    "          (\"SWI4\", \"max\"), (\"HCM1\", \"max\"), (\"YOX1\", \"max\"), \n",
    "          (\"NDD1\", \"max\"),\n",
    "          (\"SWI4\",\"min\")]\n",
    "original_event_ordering = [ (i,j) for i in [0,1,2] for j in [3,4,5] ] + \\\n",
    "                 [ (i,j) for i in [3,4,5] for j in [6] ] + \\\n",
    "                 [ (i,j) for i in [6] for j in [7] ]"
   ]
  },
  {
   "cell_type": "code",
   "execution_count": 8,
   "metadata": {},
   "outputs": [
    {
     "data": {
      "image/svg+xml": [
       "<?xml version=\"1.0\" encoding=\"UTF-8\" standalone=\"no\"?>\n",
       "<!DOCTYPE svg PUBLIC \"-//W3C//DTD SVG 1.1//EN\"\n",
       " \"http://www.w3.org/Graphics/SVG/1.1/DTD/svg11.dtd\">\n",
       "<!-- Generated by graphviz version 2.50.0 (0)\n",
       " -->\n",
       "<!-- Pages: 1 -->\n",
       "<svg width=\"357pt\" height=\"260pt\"\n",
       " viewBox=\"0.00 0.00 356.99 260.00\" xmlns=\"http://www.w3.org/2000/svg\" xmlns:xlink=\"http://www.w3.org/1999/xlink\">\n",
       "<g id=\"graph0\" class=\"graph\" transform=\"scale(1 1) rotate(0) translate(4 256)\">\n",
       "<polygon fill=\"white\" stroke=\"transparent\" points=\"-4,4 -4,-256 352.99,-256 352.99,4 -4,4\"/>\n",
       "<!-- 0 -->\n",
       "<g id=\"node1\" class=\"node\">\n",
       "<title>0</title>\n",
       "<ellipse fill=\"none\" stroke=\"black\" cx=\"52\" cy=\"-234\" rx=\"51.99\" ry=\"18\"/>\n",
       "<text text-anchor=\"middle\" x=\"52\" y=\"-230.3\" font-family=\"Times,serif\" font-size=\"14.00\">HCM1 min</text>\n",
       "</g>\n",
       "<!-- 3 -->\n",
       "<g id=\"node4\" class=\"node\">\n",
       "<title>3</title>\n",
       "<ellipse fill=\"none\" stroke=\"black\" cx=\"51\" cy=\"-162\" rx=\"50.09\" ry=\"18\"/>\n",
       "<text text-anchor=\"middle\" x=\"51\" y=\"-158.3\" font-family=\"Times,serif\" font-size=\"14.00\">SWI4 max</text>\n",
       "</g>\n",
       "<!-- 0&#45;&gt;3 -->\n",
       "<g id=\"edge1\" class=\"edge\">\n",
       "<title>0&#45;&gt;3</title>\n",
       "<path fill=\"none\" stroke=\"black\" d=\"M51.75,-215.7C51.64,-207.98 51.51,-198.71 51.38,-190.11\"/>\n",
       "<polygon fill=\"black\" stroke=\"black\" points=\"54.88,-190.05 51.24,-180.1 47.88,-190.15 54.88,-190.05\"/>\n",
       "</g>\n",
       "<!-- 4 -->\n",
       "<g id=\"node5\" class=\"node\">\n",
       "<title>4</title>\n",
       "<ellipse fill=\"none\" stroke=\"black\" cx=\"173\" cy=\"-162\" rx=\"53.89\" ry=\"18\"/>\n",
       "<text text-anchor=\"middle\" x=\"173\" y=\"-158.3\" font-family=\"Times,serif\" font-size=\"14.00\">HCM1 max</text>\n",
       "</g>\n",
       "<!-- 0&#45;&gt;4 -->\n",
       "<g id=\"edge2\" class=\"edge\">\n",
       "<title>0&#45;&gt;4</title>\n",
       "<path fill=\"none\" stroke=\"black\" d=\"M77.66,-218.15C95.26,-207.97 118.84,-194.33 138.15,-183.16\"/>\n",
       "<polygon fill=\"black\" stroke=\"black\" points=\"140.05,-186.1 146.95,-178.07 136.55,-180.04 140.05,-186.1\"/>\n",
       "</g>\n",
       "<!-- 5 -->\n",
       "<g id=\"node6\" class=\"node\">\n",
       "<title>5</title>\n",
       "<ellipse fill=\"none\" stroke=\"black\" cx=\"297\" cy=\"-162\" rx=\"51.99\" ry=\"18\"/>\n",
       "<text text-anchor=\"middle\" x=\"297\" y=\"-158.3\" font-family=\"Times,serif\" font-size=\"14.00\">YOX1 max</text>\n",
       "</g>\n",
       "<!-- 0&#45;&gt;5 -->\n",
       "<g id=\"edge3\" class=\"edge\">\n",
       "<title>0&#45;&gt;5</title>\n",
       "<path fill=\"none\" stroke=\"black\" d=\"M90.82,-221.91C133.43,-209.73 201.92,-190.16 248.15,-176.95\"/>\n",
       "<polygon fill=\"black\" stroke=\"black\" points=\"249.3,-180.27 257.95,-174.16 247.37,-173.54 249.3,-180.27\"/>\n",
       "</g>\n",
       "<!-- 1 -->\n",
       "<g id=\"node2\" class=\"node\">\n",
       "<title>1</title>\n",
       "<ellipse fill=\"none\" stroke=\"black\" cx=\"173\" cy=\"-234\" rx=\"50.89\" ry=\"18\"/>\n",
       "<text text-anchor=\"middle\" x=\"173\" y=\"-230.3\" font-family=\"Times,serif\" font-size=\"14.00\">NDD1 min</text>\n",
       "</g>\n",
       "<!-- 1&#45;&gt;3 -->\n",
       "<g id=\"edge4\" class=\"edge\">\n",
       "<title>1&#45;&gt;3</title>\n",
       "<path fill=\"none\" stroke=\"black\" d=\"M147.42,-218.33C129.36,-207.97 104.97,-193.97 85.24,-182.65\"/>\n",
       "<polygon fill=\"black\" stroke=\"black\" points=\"86.95,-179.6 76.54,-177.65 83.47,-185.67 86.95,-179.6\"/>\n",
       "</g>\n",
       "<!-- 1&#45;&gt;4 -->\n",
       "<g id=\"edge5\" class=\"edge\">\n",
       "<title>1&#45;&gt;4</title>\n",
       "<path fill=\"none\" stroke=\"black\" d=\"M173,-215.7C173,-207.98 173,-198.71 173,-190.11\"/>\n",
       "<polygon fill=\"black\" stroke=\"black\" points=\"176.5,-190.1 173,-180.1 169.5,-190.1 176.5,-190.1\"/>\n",
       "</g>\n",
       "<!-- 1&#45;&gt;5 -->\n",
       "<g id=\"edge6\" class=\"edge\">\n",
       "<title>1&#45;&gt;5</title>\n",
       "<path fill=\"none\" stroke=\"black\" d=\"M198.99,-218.33C217.34,-207.97 242.14,-193.97 262.19,-182.65\"/>\n",
       "<polygon fill=\"black\" stroke=\"black\" points=\"264.05,-185.62 271.04,-177.65 260.61,-179.52 264.05,-185.62\"/>\n",
       "</g>\n",
       "<!-- 2 -->\n",
       "<g id=\"node3\" class=\"node\">\n",
       "<title>2</title>\n",
       "<ellipse fill=\"none\" stroke=\"black\" cx=\"292\" cy=\"-234\" rx=\"50.89\" ry=\"18\"/>\n",
       "<text text-anchor=\"middle\" x=\"292\" y=\"-230.3\" font-family=\"Times,serif\" font-size=\"14.00\">YOX1 min</text>\n",
       "</g>\n",
       "<!-- 2&#45;&gt;3 -->\n",
       "<g id=\"edge7\" class=\"edge\">\n",
       "<title>2&#45;&gt;3</title>\n",
       "<path fill=\"none\" stroke=\"black\" d=\"M254.07,-221.99C211.96,-209.75 143.92,-189.99 98.35,-176.75\"/>\n",
       "<polygon fill=\"black\" stroke=\"black\" points=\"99.27,-173.38 88.7,-173.95 97.32,-180.1 99.27,-173.38\"/>\n",
       "</g>\n",
       "<!-- 2&#45;&gt;4 -->\n",
       "<g id=\"edge8\" class=\"edge\">\n",
       "<title>2&#45;&gt;4</title>\n",
       "<path fill=\"none\" stroke=\"black\" d=\"M267.05,-218.33C249.63,-208.08 226.17,-194.28 207.04,-183.03\"/>\n",
       "<polygon fill=\"black\" stroke=\"black\" points=\"208.71,-179.95 198.32,-177.9 205.16,-185.98 208.71,-179.95\"/>\n",
       "</g>\n",
       "<!-- 2&#45;&gt;5 -->\n",
       "<g id=\"edge9\" class=\"edge\">\n",
       "<title>2&#45;&gt;5</title>\n",
       "<path fill=\"none\" stroke=\"black\" d=\"M293.23,-215.7C293.78,-207.98 294.44,-198.71 295.06,-190.11\"/>\n",
       "<polygon fill=\"black\" stroke=\"black\" points=\"298.55,-190.33 295.77,-180.1 291.57,-189.83 298.55,-190.33\"/>\n",
       "</g>\n",
       "<!-- 6 -->\n",
       "<g id=\"node7\" class=\"node\">\n",
       "<title>6</title>\n",
       "<ellipse fill=\"none\" stroke=\"black\" cx=\"173\" cy=\"-90\" rx=\"51.99\" ry=\"18\"/>\n",
       "<text text-anchor=\"middle\" x=\"173\" y=\"-86.3\" font-family=\"Times,serif\" font-size=\"14.00\">NDD1 max</text>\n",
       "</g>\n",
       "<!-- 3&#45;&gt;6 -->\n",
       "<g id=\"edge10\" class=\"edge\">\n",
       "<title>3&#45;&gt;6</title>\n",
       "<path fill=\"none\" stroke=\"black\" d=\"M76.57,-146.33C94.51,-136.04 118.69,-122.16 138.36,-110.87\"/>\n",
       "<polygon fill=\"black\" stroke=\"black\" points=\"140.1,-113.91 147.03,-105.9 136.62,-107.84 140.1,-113.91\"/>\n",
       "</g>\n",
       "<!-- 4&#45;&gt;6 -->\n",
       "<g id=\"edge11\" class=\"edge\">\n",
       "<title>4&#45;&gt;6</title>\n",
       "<path fill=\"none\" stroke=\"black\" d=\"M173,-143.7C173,-135.98 173,-126.71 173,-118.11\"/>\n",
       "<polygon fill=\"black\" stroke=\"black\" points=\"176.5,-118.1 173,-108.1 169.5,-118.1 176.5,-118.1\"/>\n",
       "</g>\n",
       "<!-- 5&#45;&gt;6 -->\n",
       "<g id=\"edge12\" class=\"edge\">\n",
       "<title>5&#45;&gt;6</title>\n",
       "<path fill=\"none\" stroke=\"black\" d=\"M271,-146.33C252.65,-135.97 227.85,-121.97 207.8,-110.65\"/>\n",
       "<polygon fill=\"black\" stroke=\"black\" points=\"209.38,-107.52 198.96,-105.65 205.94,-113.62 209.38,-107.52\"/>\n",
       "</g>\n",
       "<!-- 7 -->\n",
       "<g id=\"node8\" class=\"node\">\n",
       "<title>7</title>\n",
       "<ellipse fill=\"none\" stroke=\"black\" cx=\"173\" cy=\"-18\" rx=\"48.19\" ry=\"18\"/>\n",
       "<text text-anchor=\"middle\" x=\"173\" y=\"-14.3\" font-family=\"Times,serif\" font-size=\"14.00\">SWI4 min</text>\n",
       "</g>\n",
       "<!-- 6&#45;&gt;7 -->\n",
       "<g id=\"edge13\" class=\"edge\">\n",
       "<title>6&#45;&gt;7</title>\n",
       "<path fill=\"none\" stroke=\"black\" d=\"M173,-71.7C173,-63.98 173,-54.71 173,-46.11\"/>\n",
       "<polygon fill=\"black\" stroke=\"black\" points=\"176.5,-46.1 173,-36.1 169.5,-46.1 176.5,-46.1\"/>\n",
       "</g>\n",
       "</g>\n",
       "</svg>\n"
      ],
      "text/plain": [
       "<graphviz.sources.Source at 0x10d684cb0>"
      ]
     },
     "execution_count": 8,
     "metadata": {},
     "output_type": "execute_result"
    }
   ],
   "source": [
    "DrawGraph(PosetOfExtrema(networks[0], original_events, original_event_ordering ))"
   ]
  },
  {
   "cell_type": "markdown",
   "metadata": {},
   "source": [
    "## Alternative Poset of Extrema"
   ]
  },
  {
   "cell_type": "code",
   "execution_count": 9,
   "metadata": {},
   "outputs": [],
   "source": [
    "all_events = [(\"SWI4\", \"min\"), (\"HCM1\", \"min\"), (\"NDD1\", \"min\"), (\"YOX1\", \"min\"), \n",
    "          (\"SWI4\", \"max\"), (\"HCM1\", \"max\"), (\"YOX1\", \"max\"), \n",
    "          (\"NDD1\", \"max\"),\n",
    "          (\"SWI4\",\"min\"),\n",
    "          (\"YOX1\", \"min\"), (\"HCM1\",\"min\"),\n",
    "          (\"NDD1\", \"min\"),\n",
    "          (\"SWI4\", \"max\"), (\"HCM1\", \"max\"), (\"YOX1\", \"max\"),\n",
    "          (\"NDD1\", \"max\")]\n",
    "all_event_ordering = [ (i,j) for i in [0,1,2,3] for j in [4,5,6] ] + \\\n",
    "                 [ (i,j) for i in [4,5,6] for j in [7] ] + \\\n",
    "                 [ (i,j) for i in [7] for j in [8] ] + \\\n",
    "                 [ (i,j) for i in [8] for j in [9,10] ] + \\\n",
    "                 [ (i,j) for i in [9,10] for j in [11,12,13,14] ] + \\\n",
    "                 [ (11,15) ]"
   ]
  },
  {
   "cell_type": "code",
   "execution_count": 10,
   "metadata": {},
   "outputs": [
    {
     "data": {
      "image/svg+xml": [
       "<?xml version=\"1.0\" encoding=\"UTF-8\" standalone=\"no\"?>\n",
       "<!DOCTYPE svg PUBLIC \"-//W3C//DTD SVG 1.1//EN\"\n",
       " \"http://www.w3.org/Graphics/SVG/1.1/DTD/svg11.dtd\">\n",
       "<!-- Generated by graphviz version 2.50.0 (0)\n",
       " -->\n",
       "<!-- Pages: 1 -->\n",
       "<svg width=\"476pt\" height=\"476pt\"\n",
       " viewBox=\"0.00 0.00 475.99 476.00\" xmlns=\"http://www.w3.org/2000/svg\" xmlns:xlink=\"http://www.w3.org/1999/xlink\">\n",
       "<g id=\"graph0\" class=\"graph\" transform=\"scale(1 1) rotate(0) translate(4 472)\">\n",
       "<polygon fill=\"white\" stroke=\"transparent\" points=\"-4,4 -4,-472 471.99,-472 471.99,4 -4,4\"/>\n",
       "<!-- 0 -->\n",
       "<g id=\"node1\" class=\"node\">\n",
       "<title>0</title>\n",
       "<ellipse fill=\"none\" stroke=\"black\" cx=\"297.95\" cy=\"-450\" rx=\"48.19\" ry=\"18\"/>\n",
       "<text text-anchor=\"middle\" x=\"297.95\" y=\"-446.3\" font-family=\"Times,serif\" font-size=\"14.00\">SWI4 min</text>\n",
       "</g>\n",
       "<!-- 4 -->\n",
       "<g id=\"node5\" class=\"node\">\n",
       "<title>4</title>\n",
       "<ellipse fill=\"none\" stroke=\"black\" cx=\"115.95\" cy=\"-378\" rx=\"50.09\" ry=\"18\"/>\n",
       "<text text-anchor=\"middle\" x=\"115.95\" y=\"-374.3\" font-family=\"Times,serif\" font-size=\"14.00\">SWI4 max</text>\n",
       "</g>\n",
       "<!-- 0&#45;&gt;4 -->\n",
       "<g id=\"edge1\" class=\"edge\">\n",
       "<title>0&#45;&gt;4</title>\n",
       "<path fill=\"none\" stroke=\"black\" d=\"M265.41,-436.49C235.57,-425.01 191.19,-407.94 158.54,-395.38\"/>\n",
       "<polygon fill=\"black\" stroke=\"black\" points=\"159.41,-391.97 148.82,-391.64 156.89,-398.5 159.41,-391.97\"/>\n",
       "</g>\n",
       "<!-- 5 -->\n",
       "<g id=\"node6\" class=\"node\">\n",
       "<title>5</title>\n",
       "<ellipse fill=\"none\" stroke=\"black\" cx=\"237.95\" cy=\"-378\" rx=\"53.89\" ry=\"18\"/>\n",
       "<text text-anchor=\"middle\" x=\"237.95\" y=\"-374.3\" font-family=\"Times,serif\" font-size=\"14.00\">HCM1 max</text>\n",
       "</g>\n",
       "<!-- 0&#45;&gt;5 -->\n",
       "<g id=\"edge2\" class=\"edge\">\n",
       "<title>0&#45;&gt;5</title>\n",
       "<path fill=\"none\" stroke=\"black\" d=\"M284.03,-432.76C276.56,-424.06 267.21,-413.15 258.89,-403.43\"/>\n",
       "<polygon fill=\"black\" stroke=\"black\" points=\"261.37,-400.95 252.2,-395.63 256.05,-405.5 261.37,-400.95\"/>\n",
       "</g>\n",
       "<!-- 6 -->\n",
       "<g id=\"node7\" class=\"node\">\n",
       "<title>6</title>\n",
       "<ellipse fill=\"none\" stroke=\"black\" cx=\"361.95\" cy=\"-378\" rx=\"51.99\" ry=\"18\"/>\n",
       "<text text-anchor=\"middle\" x=\"361.95\" y=\"-374.3\" font-family=\"Times,serif\" font-size=\"14.00\">YOX1 max</text>\n",
       "</g>\n",
       "<!-- 0&#45;&gt;6 -->\n",
       "<g id=\"edge3\" class=\"edge\">\n",
       "<title>0&#45;&gt;6</title>\n",
       "<path fill=\"none\" stroke=\"black\" d=\"M312.79,-432.76C320.83,-423.97 330.93,-412.93 339.87,-403.14\"/>\n",
       "<polygon fill=\"black\" stroke=\"black\" points=\"342.57,-405.38 346.74,-395.63 337.41,-400.65 342.57,-405.38\"/>\n",
       "</g>\n",
       "<!-- 1 -->\n",
       "<g id=\"node2\" class=\"node\">\n",
       "<title>1</title>\n",
       "<ellipse fill=\"none\" stroke=\"black\" cx=\"415.95\" cy=\"-450\" rx=\"51.99\" ry=\"18\"/>\n",
       "<text text-anchor=\"middle\" x=\"415.95\" y=\"-446.3\" font-family=\"Times,serif\" font-size=\"14.00\">HCM1 min</text>\n",
       "</g>\n",
       "<!-- 1&#45;&gt;4 -->\n",
       "<g id=\"edge4\" class=\"edge\">\n",
       "<title>1&#45;&gt;4</title>\n",
       "<path fill=\"none\" stroke=\"black\" d=\"M377.33,-437.77C369.93,-435.75 362.22,-433.74 354.95,-432 275.6,-413.04 254.21,-415.31 174.95,-396 170.93,-395.02 166.77,-393.95 162.61,-392.83\"/>\n",
       "<polygon fill=\"black\" stroke=\"black\" points=\"163.53,-389.45 152.96,-390.17 161.67,-396.2 163.53,-389.45\"/>\n",
       "</g>\n",
       "<!-- 1&#45;&gt;5 -->\n",
       "<g id=\"edge5\" class=\"edge\">\n",
       "<title>1&#45;&gt;5</title>\n",
       "<path fill=\"none\" stroke=\"black\" d=\"M382.88,-436C354.09,-424.67 312.16,-408.19 280.8,-395.85\"/>\n",
       "<polygon fill=\"black\" stroke=\"black\" points=\"282.02,-392.57 271.44,-392.17 279.46,-399.09 282.02,-392.57\"/>\n",
       "</g>\n",
       "<!-- 1&#45;&gt;6 -->\n",
       "<g id=\"edge6\" class=\"edge\">\n",
       "<title>1&#45;&gt;6</title>\n",
       "<path fill=\"none\" stroke=\"black\" d=\"M403.15,-432.41C396.49,-423.78 388.22,-413.06 380.84,-403.5\"/>\n",
       "<polygon fill=\"black\" stroke=\"black\" points=\"383.53,-401.25 374.65,-395.47 377.99,-405.53 383.53,-401.25\"/>\n",
       "</g>\n",
       "<!-- 2 -->\n",
       "<g id=\"node3\" class=\"node\">\n",
       "<title>2</title>\n",
       "<ellipse fill=\"none\" stroke=\"black\" cx=\"61.95\" cy=\"-450\" rx=\"50.89\" ry=\"18\"/>\n",
       "<text text-anchor=\"middle\" x=\"61.95\" y=\"-446.3\" font-family=\"Times,serif\" font-size=\"14.00\">NDD1 min</text>\n",
       "</g>\n",
       "<!-- 2&#45;&gt;4 -->\n",
       "<g id=\"edge7\" class=\"edge\">\n",
       "<title>2&#45;&gt;4</title>\n",
       "<path fill=\"none\" stroke=\"black\" d=\"M74.74,-432.41C81.4,-423.78 89.67,-413.06 97.05,-403.5\"/>\n",
       "<polygon fill=\"black\" stroke=\"black\" points=\"99.9,-405.53 103.24,-395.47 94.36,-401.25 99.9,-405.53\"/>\n",
       "</g>\n",
       "<!-- 2&#45;&gt;5 -->\n",
       "<g id=\"edge8\" class=\"edge\">\n",
       "<title>2&#45;&gt;5</title>\n",
       "<path fill=\"none\" stroke=\"black\" d=\"M94.64,-436C122.89,-424.76 163.94,-408.43 194.87,-396.13\"/>\n",
       "<polygon fill=\"black\" stroke=\"black\" points=\"196.53,-399.24 204.53,-392.29 193.95,-392.73 196.53,-399.24\"/>\n",
       "</g>\n",
       "<!-- 2&#45;&gt;6 -->\n",
       "<g id=\"edge9\" class=\"edge\">\n",
       "<title>2&#45;&gt;6</title>\n",
       "<path fill=\"none\" stroke=\"black\" d=\"M99.27,-437.74C106.44,-435.72 113.9,-433.72 120.95,-432 200.21,-412.69 221.6,-414.96 300.95,-396 305.04,-395.02 309.26,-393.96 313.5,-392.85\"/>\n",
       "<polygon fill=\"black\" stroke=\"black\" points=\"314.58,-396.19 323.33,-390.23 312.77,-389.43 314.58,-396.19\"/>\n",
       "</g>\n",
       "<!-- 3 -->\n",
       "<g id=\"node4\" class=\"node\">\n",
       "<title>3</title>\n",
       "<ellipse fill=\"none\" stroke=\"black\" cx=\"180.95\" cy=\"-450\" rx=\"50.89\" ry=\"18\"/>\n",
       "<text text-anchor=\"middle\" x=\"180.95\" y=\"-446.3\" font-family=\"Times,serif\" font-size=\"14.00\">YOX1 min</text>\n",
       "</g>\n",
       "<!-- 3&#45;&gt;4 -->\n",
       "<g id=\"edge10\" class=\"edge\">\n",
       "<title>3&#45;&gt;4</title>\n",
       "<path fill=\"none\" stroke=\"black\" d=\"M165.87,-432.76C157.7,-423.97 147.45,-412.93 138.36,-403.14\"/>\n",
       "<polygon fill=\"black\" stroke=\"black\" points=\"140.76,-400.58 131.39,-395.63 135.63,-405.34 140.76,-400.58\"/>\n",
       "</g>\n",
       "<!-- 3&#45;&gt;5 -->\n",
       "<g id=\"edge11\" class=\"edge\">\n",
       "<title>3&#45;&gt;5</title>\n",
       "<path fill=\"none\" stroke=\"black\" d=\"M194.45,-432.41C201.48,-423.78 210.21,-413.06 218,-403.5\"/>\n",
       "<polygon fill=\"black\" stroke=\"black\" points=\"220.93,-405.43 224.53,-395.47 215.51,-401.01 220.93,-405.43\"/>\n",
       "</g>\n",
       "<!-- 3&#45;&gt;6 -->\n",
       "<g id=\"edge12\" class=\"edge\">\n",
       "<title>3&#45;&gt;6</title>\n",
       "<path fill=\"none\" stroke=\"black\" d=\"M214.14,-436.16C243.65,-424.75 286.95,-408 319.07,-395.58\"/>\n",
       "<polygon fill=\"black\" stroke=\"black\" points=\"320.59,-398.75 328.65,-391.88 318.06,-392.22 320.59,-398.75\"/>\n",
       "</g>\n",
       "<!-- 7 -->\n",
       "<g id=\"node8\" class=\"node\">\n",
       "<title>7</title>\n",
       "<ellipse fill=\"none\" stroke=\"black\" cx=\"237.95\" cy=\"-306\" rx=\"51.99\" ry=\"18\"/>\n",
       "<text text-anchor=\"middle\" x=\"237.95\" y=\"-302.3\" font-family=\"Times,serif\" font-size=\"14.00\">NDD1 max</text>\n",
       "</g>\n",
       "<!-- 4&#45;&gt;7 -->\n",
       "<g id=\"edge13\" class=\"edge\">\n",
       "<title>4&#45;&gt;7</title>\n",
       "<path fill=\"none\" stroke=\"black\" d=\"M141.52,-362.33C159.46,-352.04 183.64,-338.16 203.31,-326.87\"/>\n",
       "<polygon fill=\"black\" stroke=\"black\" points=\"205.05,-329.91 211.98,-321.9 201.57,-323.84 205.05,-329.91\"/>\n",
       "</g>\n",
       "<!-- 5&#45;&gt;7 -->\n",
       "<g id=\"edge14\" class=\"edge\">\n",
       "<title>5&#45;&gt;7</title>\n",
       "<path fill=\"none\" stroke=\"black\" d=\"M237.95,-359.7C237.95,-351.98 237.95,-342.71 237.95,-334.11\"/>\n",
       "<polygon fill=\"black\" stroke=\"black\" points=\"241.45,-334.1 237.95,-324.1 234.45,-334.1 241.45,-334.1\"/>\n",
       "</g>\n",
       "<!-- 6&#45;&gt;7 -->\n",
       "<g id=\"edge15\" class=\"edge\">\n",
       "<title>6&#45;&gt;7</title>\n",
       "<path fill=\"none\" stroke=\"black\" d=\"M335.95,-362.33C317.6,-351.97 292.8,-337.97 272.75,-326.65\"/>\n",
       "<polygon fill=\"black\" stroke=\"black\" points=\"274.33,-323.52 263.91,-321.65 270.89,-329.62 274.33,-323.52\"/>\n",
       "</g>\n",
       "<!-- 8 -->\n",
       "<g id=\"node9\" class=\"node\">\n",
       "<title>8</title>\n",
       "<ellipse fill=\"none\" stroke=\"black\" cx=\"237.95\" cy=\"-234\" rx=\"48.19\" ry=\"18\"/>\n",
       "<text text-anchor=\"middle\" x=\"237.95\" y=\"-230.3\" font-family=\"Times,serif\" font-size=\"14.00\">SWI4 min</text>\n",
       "</g>\n",
       "<!-- 7&#45;&gt;8 -->\n",
       "<g id=\"edge16\" class=\"edge\">\n",
       "<title>7&#45;&gt;8</title>\n",
       "<path fill=\"none\" stroke=\"black\" d=\"M237.95,-287.7C237.95,-279.98 237.95,-270.71 237.95,-262.11\"/>\n",
       "<polygon fill=\"black\" stroke=\"black\" points=\"241.45,-262.1 237.95,-252.1 234.45,-262.1 241.45,-262.1\"/>\n",
       "</g>\n",
       "<!-- 9 -->\n",
       "<g id=\"node10\" class=\"node\">\n",
       "<title>9</title>\n",
       "<ellipse fill=\"none\" stroke=\"black\" cx=\"177.95\" cy=\"-162\" rx=\"50.89\" ry=\"18\"/>\n",
       "<text text-anchor=\"middle\" x=\"177.95\" y=\"-158.3\" font-family=\"Times,serif\" font-size=\"14.00\">YOX1 min</text>\n",
       "</g>\n",
       "<!-- 8&#45;&gt;9 -->\n",
       "<g id=\"edge17\" class=\"edge\">\n",
       "<title>8&#45;&gt;9</title>\n",
       "<path fill=\"none\" stroke=\"black\" d=\"M224.03,-216.76C216.56,-208.06 207.21,-197.15 198.89,-187.43\"/>\n",
       "<polygon fill=\"black\" stroke=\"black\" points=\"201.37,-184.95 192.2,-179.63 196.05,-189.5 201.37,-184.95\"/>\n",
       "</g>\n",
       "<!-- 10 -->\n",
       "<g id=\"node11\" class=\"node\">\n",
       "<title>10</title>\n",
       "<ellipse fill=\"none\" stroke=\"black\" cx=\"298.95\" cy=\"-162\" rx=\"51.99\" ry=\"18\"/>\n",
       "<text text-anchor=\"middle\" x=\"298.95\" y=\"-158.3\" font-family=\"Times,serif\" font-size=\"14.00\">HCM1 min</text>\n",
       "</g>\n",
       "<!-- 8&#45;&gt;10 -->\n",
       "<g id=\"edge18\" class=\"edge\">\n",
       "<title>8&#45;&gt;10</title>\n",
       "<path fill=\"none\" stroke=\"black\" d=\"M252.09,-216.76C259.68,-208.06 269.19,-197.15 277.65,-187.43\"/>\n",
       "<polygon fill=\"black\" stroke=\"black\" points=\"280.52,-189.47 284.45,-179.63 275.24,-184.87 280.52,-189.47\"/>\n",
       "</g>\n",
       "<!-- 11 -->\n",
       "<g id=\"node12\" class=\"node\">\n",
       "<title>11</title>\n",
       "<ellipse fill=\"none\" stroke=\"black\" cx=\"298.95\" cy=\"-90\" rx=\"50.89\" ry=\"18\"/>\n",
       "<text text-anchor=\"middle\" x=\"298.95\" y=\"-86.3\" font-family=\"Times,serif\" font-size=\"14.00\">NDD1 min</text>\n",
       "</g>\n",
       "<!-- 9&#45;&gt;11 -->\n",
       "<g id=\"edge19\" class=\"edge\">\n",
       "<title>9&#45;&gt;11</title>\n",
       "<path fill=\"none\" stroke=\"black\" d=\"M203.31,-146.33C221.14,-136.01 245.2,-122.1 264.72,-110.8\"/>\n",
       "<polygon fill=\"black\" stroke=\"black\" points=\"266.71,-113.69 273.61,-105.65 263.2,-107.63 266.71,-113.69\"/>\n",
       "</g>\n",
       "<!-- 12 -->\n",
       "<g id=\"node13\" class=\"node\">\n",
       "<title>12</title>\n",
       "<ellipse fill=\"none\" stroke=\"black\" cx=\"417.95\" cy=\"-90\" rx=\"50.09\" ry=\"18\"/>\n",
       "<text text-anchor=\"middle\" x=\"417.95\" y=\"-86.3\" font-family=\"Times,serif\" font-size=\"14.00\">SWI4 max</text>\n",
       "</g>\n",
       "<!-- 9&#45;&gt;12 -->\n",
       "<g id=\"edge20\" class=\"edge\">\n",
       "<title>9&#45;&gt;12</title>\n",
       "<path fill=\"none\" stroke=\"black\" d=\"M215.71,-149.99C257.65,-137.75 325.4,-117.99 370.79,-104.75\"/>\n",
       "<polygon fill=\"black\" stroke=\"black\" points=\"371.78,-108.11 380.4,-101.95 369.82,-101.39 371.78,-108.11\"/>\n",
       "</g>\n",
       "<!-- 13 -->\n",
       "<g id=\"node14\" class=\"node\">\n",
       "<title>13</title>\n",
       "<ellipse fill=\"none\" stroke=\"black\" cx=\"53.95\" cy=\"-90\" rx=\"53.89\" ry=\"18\"/>\n",
       "<text text-anchor=\"middle\" x=\"53.95\" y=\"-86.3\" font-family=\"Times,serif\" font-size=\"14.00\">HCM1 max</text>\n",
       "</g>\n",
       "<!-- 9&#45;&gt;13 -->\n",
       "<g id=\"edge21\" class=\"edge\">\n",
       "<title>9&#45;&gt;13</title>\n",
       "<path fill=\"none\" stroke=\"black\" d=\"M151.95,-146.33C133.72,-136.04 109.14,-122.16 89.15,-110.87\"/>\n",
       "<polygon fill=\"black\" stroke=\"black\" points=\"90.76,-107.76 80.33,-105.9 87.32,-113.86 90.76,-107.76\"/>\n",
       "</g>\n",
       "<!-- 14 -->\n",
       "<g id=\"node15\" class=\"node\">\n",
       "<title>14</title>\n",
       "<ellipse fill=\"none\" stroke=\"black\" cx=\"177.95\" cy=\"-90\" rx=\"51.99\" ry=\"18\"/>\n",
       "<text text-anchor=\"middle\" x=\"177.95\" y=\"-86.3\" font-family=\"Times,serif\" font-size=\"14.00\">YOX1 max</text>\n",
       "</g>\n",
       "<!-- 9&#45;&gt;14 -->\n",
       "<g id=\"edge22\" class=\"edge\">\n",
       "<title>9&#45;&gt;14</title>\n",
       "<path fill=\"none\" stroke=\"black\" d=\"M177.95,-143.7C177.95,-135.98 177.95,-126.71 177.95,-118.11\"/>\n",
       "<polygon fill=\"black\" stroke=\"black\" points=\"181.45,-118.1 177.95,-108.1 174.45,-118.1 181.45,-118.1\"/>\n",
       "</g>\n",
       "<!-- 10&#45;&gt;11 -->\n",
       "<g id=\"edge23\" class=\"edge\">\n",
       "<title>10&#45;&gt;11</title>\n",
       "<path fill=\"none\" stroke=\"black\" d=\"M298.95,-143.7C298.95,-135.98 298.95,-126.71 298.95,-118.11\"/>\n",
       "<polygon fill=\"black\" stroke=\"black\" points=\"302.45,-118.1 298.95,-108.1 295.45,-118.1 302.45,-118.1\"/>\n",
       "</g>\n",
       "<!-- 10&#45;&gt;12 -->\n",
       "<g id=\"edge24\" class=\"edge\">\n",
       "<title>10&#45;&gt;12</title>\n",
       "<path fill=\"none\" stroke=\"black\" d=\"M324.18,-146.15C341.62,-135.9 365,-122.14 384.06,-110.93\"/>\n",
       "<polygon fill=\"black\" stroke=\"black\" points=\"385.9,-113.91 392.74,-105.82 382.35,-107.88 385.9,-113.91\"/>\n",
       "</g>\n",
       "<!-- 10&#45;&gt;13 -->\n",
       "<g id=\"edge25\" class=\"edge\">\n",
       "<title>10&#45;&gt;13</title>\n",
       "<path fill=\"none\" stroke=\"black\" d=\"M260.12,-149.91C217.76,-137.8 149.82,-118.39 103.61,-105.19\"/>\n",
       "<polygon fill=\"black\" stroke=\"black\" points=\"104.38,-101.77 93.8,-102.39 102.46,-108.5 104.38,-101.77\"/>\n",
       "</g>\n",
       "<!-- 10&#45;&gt;14 -->\n",
       "<g id=\"edge26\" class=\"edge\">\n",
       "<title>10&#45;&gt;14</title>\n",
       "<path fill=\"none\" stroke=\"black\" d=\"M273.28,-146.15C255.56,-135.9 231.78,-122.14 212.4,-110.93\"/>\n",
       "<polygon fill=\"black\" stroke=\"black\" points=\"213.98,-107.8 203.57,-105.82 210.47,-113.86 213.98,-107.8\"/>\n",
       "</g>\n",
       "<!-- 15 -->\n",
       "<g id=\"node16\" class=\"node\">\n",
       "<title>15</title>\n",
       "<ellipse fill=\"none\" stroke=\"black\" cx=\"298.95\" cy=\"-18\" rx=\"51.99\" ry=\"18\"/>\n",
       "<text text-anchor=\"middle\" x=\"298.95\" y=\"-14.3\" font-family=\"Times,serif\" font-size=\"14.00\">NDD1 max</text>\n",
       "</g>\n",
       "<!-- 11&#45;&gt;15 -->\n",
       "<g id=\"edge27\" class=\"edge\">\n",
       "<title>11&#45;&gt;15</title>\n",
       "<path fill=\"none\" stroke=\"black\" d=\"M298.95,-71.7C298.95,-63.98 298.95,-54.71 298.95,-46.11\"/>\n",
       "<polygon fill=\"black\" stroke=\"black\" points=\"302.45,-46.1 298.95,-36.1 295.45,-46.1 302.45,-46.1\"/>\n",
       "</g>\n",
       "</g>\n",
       "</svg>\n"
      ],
      "text/plain": [
       "<graphviz.sources.Source at 0x10dacdc70>"
      ]
     },
     "execution_count": 10,
     "metadata": {},
     "output_type": "execute_result"
    }
   ],
   "source": [
    "DrawGraph(PosetOfExtrema(networks[0], all_events, all_event_ordering ))"
   ]
  },
  {
   "cell_type": "markdown",
   "metadata": {},
   "source": [
    "# Experiments\n",
    "\n",
    "There are 8 experiements corresponding to 3 binary choices:\n",
    "\n",
    "* Full networks vs Essential networks \n",
    "* Path matching in entire domain graph vs path matching in stable Morse sets\n",
    "* Original poset of extrema vs Alternative poset of extrema\n"
   ]
  },
  {
   "cell_type": "code",
   "execution_count": 11,
   "metadata": {},
   "outputs": [],
   "source": [
    "def DisplayExperiment(results, title):\n",
    "    markdown_string = \"# \" + title + \"\\n\\n\"\n",
    "    markdown_string += \"| network | # parameters | # parameters with path match |\\n\"\n",
    "    markdown_string += \"| ------- |------------ | ---------------------------- |\\n\"\n",
    "    for i, item in enumerate(results):\n",
    "        [parameters_with_path_match, pgsize] = item\n",
    "        markdown_string += (\"|\" + str(i) + \"|\" + str(pgsize) + \"|\" + str(len(parameters_with_path_match)) + \"|\\n\")\n",
    "    from IPython.display import display, Markdown, Latex\n",
    "    display(Markdown(markdown_string))\n",
    "def DisplayStableExperiment(results, title):\n",
    "    markdown_string = \"# \" + title + \"\\n\\n\"\n",
    "    markdown_string += \"| network | # parameters | # parameters with stable FC | # parameters with path match |\\n\"\n",
    "    markdown_string += \"| ------- |------------ | ---------------------------- | ---------------------------- |\\n\"\n",
    "    for i, item in enumerate(results):\n",
    "        [results, pgsize] = item\n",
    "        parameters_with_path_match = sum([ 1 if pair[0] else 0 for pair in results])\n",
    "        parameters_with_stable_fc = sum([ 1 if pair[1] else 0 for pair in results])\n",
    "        markdown_string += (\"|\" + str(i) + \"|\" + str(pgsize) + \"|\" +str(parameters_with_stable_fc) +\"|\"+str(parameters_with_path_match) + \"|\\n\")\n",
    "    from IPython.display import display, Markdown, Latex\n",
    "    display(Markdown(markdown_string))"
   ]
  },
  {
   "cell_type": "code",
   "execution_count": 12,
   "metadata": {},
   "outputs": [
    {
     "data": {
      "text/markdown": [
       "# Experiment 1: All parameters, original poset of extrema\n",
       "\n",
       "| network | # parameters | # parameters with path match |\n",
       "| ------- |------------ | ---------------------------- |\n",
       "|0|1080|22|\n",
       "|1|8640|316|\n",
       "|2|8640|180|\n",
       "|3|8640|226|\n",
       "|4|8640|280|\n",
       "|5|8640|176|\n",
       "|6|8640|270|\n",
       "|7|8640|176|\n",
       "|8|8640|176|\n"
      ],
      "text/plain": [
       "<IPython.core.display.Markdown object>"
      ]
     },
     "metadata": {},
     "output_type": "display_data"
    },
    {
     "name": "stdout",
     "output_type": "stream",
     "text": [
      "CPU times: user 15.1 s, sys: 46.5 ms, total: 15.1 s\n",
      "Wall time: 15.4 s\n"
     ]
    }
   ],
   "source": [
    "%%time\n",
    "experiment = lambda network : Analyze(network, original_events, original_event_ordering)\n",
    "experimental_results_1 = [ experiment(network) for network in networks ]\n",
    "DisplayExperiment(experimental_results_1, \"Experiment 1: All parameters, original poset of extrema\")"
   ]
  },
  {
   "cell_type": "code",
   "execution_count": 13,
   "metadata": {},
   "outputs": [
    {
     "data": {
      "text/markdown": [
       "# Experiment 2: Essential parameters, original poset of extrema\n",
       "\n",
       "| network | # parameters | # parameters with path match |\n",
       "| ------- |------------ | ---------------------------- |\n",
       "|0|14|8|\n",
       "|1|56|38|\n",
       "|2|56|18|\n",
       "|3|56|25|\n",
       "|4|56|28|\n",
       "|5|56|16|\n",
       "|6|56|30|\n",
       "|7|56|24|\n",
       "|8|56|24|\n"
      ],
      "text/plain": [
       "<IPython.core.display.Markdown object>"
      ]
     },
     "metadata": {},
     "output_type": "display_data"
    },
    {
     "name": "stdout",
     "output_type": "stream",
     "text": [
      "CPU times: user 108 ms, sys: 3.99 ms, total: 112 ms\n",
      "Wall time: 112 ms\n"
     ]
    }
   ],
   "source": [
    "%%time\n",
    "experiment = lambda network : Analyze(network, original_events, original_event_ordering)\n",
    "experimental_results_2 = [ experiment(network) for network in essential_networks ]\n",
    "DisplayExperiment(experimental_results_2, \"Experiment 2: Essential parameters, original poset of extrema\")"
   ]
  },
  {
   "cell_type": "code",
   "execution_count": 14,
   "metadata": {},
   "outputs": [
    {
     "data": {
      "text/markdown": [
       "# Experiment 3: All parameters, original poset, stable only\n",
       "\n",
       "| network | # parameters | # parameters with stable FC | # parameters with path match |\n",
       "| ------- |------------ | ---------------------------- | ---------------------------- |\n",
       "|0|1080|4|16|\n",
       "|1|8640|56|224|\n",
       "|2|8640|24|96|\n",
       "|3|8640|132|166|\n",
       "|4|8640|36|108|\n",
       "|5|8640|56|128|\n",
       "|6|8640|168|222|\n",
       "|7|8640|48|118|\n",
       "|8|8640|108|134|\n"
      ],
      "text/plain": [
       "<IPython.core.display.Markdown object>"
      ]
     },
     "metadata": {},
     "output_type": "display_data"
    },
    {
     "name": "stdout",
     "output_type": "stream",
     "text": [
      "CPU times: user 12.9 s, sys: 76.3 ms, total: 13 s\n",
      "Wall time: 13.2 s\n"
     ]
    }
   ],
   "source": [
    "%%time\n",
    "experiment = lambda network : AnalyzeOnStable(network, original_events, original_event_ordering)\n",
    "experimental_results_3 = [ experiment(network) for network in networks ]\n",
    "DisplayStableExperiment(experimental_results_3, \"Experiment 3: All parameters, original poset, stable only\")"
   ]
  },
  {
   "cell_type": "code",
   "execution_count": 15,
   "metadata": {},
   "outputs": [
    {
     "data": {
      "text/markdown": [
       "# Experiment 4: Essential parameters, original poset, stable only\n",
       "\n",
       "| network | # parameters | # parameters with stable FC | # parameters with path match |\n",
       "| ------- |------------ | ---------------------------- | ---------------------------- |\n",
       "|0|14|2|2|\n",
       "|1|56|8|8|\n",
       "|2|56|0|0|\n",
       "|3|56|8|7|\n",
       "|4|56|0|0|\n",
       "|5|56|8|4|\n",
       "|6|56|28|18|\n",
       "|7|56|8|8|\n",
       "|8|56|28|18|\n"
      ],
      "text/plain": [
       "<IPython.core.display.Markdown object>"
      ]
     },
     "metadata": {},
     "output_type": "display_data"
    },
    {
     "name": "stdout",
     "output_type": "stream",
     "text": [
      "CPU times: user 131 ms, sys: 5.35 ms, total: 136 ms\n",
      "Wall time: 136 ms\n"
     ]
    }
   ],
   "source": [
    "%%time\n",
    "experiment = lambda network : AnalyzeOnStable(network, original_events, original_event_ordering)\n",
    "experimental_results_4 = [ experiment(network) for network in essential_networks ]\n",
    "DisplayStableExperiment(experimental_results_4, \"Experiment 4: Essential parameters, original poset, stable only\")"
   ]
  },
  {
   "cell_type": "code",
   "execution_count": 16,
   "metadata": {},
   "outputs": [
    {
     "data": {
      "text/markdown": [
       "# Experiment 5: All parameters, alternative poset of extrema\n",
       "\n",
       "| network | # parameters | # parameters with path match |\n",
       "| ------- |------------ | ---------------------------- |\n",
       "|0|1080|22|\n",
       "|1|8640|264|\n",
       "|2|8640|176|\n",
       "|3|8640|224|\n",
       "|4|8640|278|\n",
       "|5|8640|176|\n",
       "|6|8640|268|\n",
       "|7|8640|176|\n",
       "|8|8640|176|\n"
      ],
      "text/plain": [
       "<IPython.core.display.Markdown object>"
      ]
     },
     "metadata": {},
     "output_type": "display_data"
    },
    {
     "name": "stdout",
     "output_type": "stream",
     "text": [
      "CPU times: user 15.5 s, sys: 81.9 ms, total: 15.6 s\n",
      "Wall time: 16.4 s\n"
     ]
    }
   ],
   "source": [
    "%%time\n",
    "experiment = lambda network : Analyze(network, all_events, all_event_ordering)\n",
    "experimental_results_5 = [ experiment(network) for network in networks ]\n",
    "DisplayExperiment(experimental_results_5, \"Experiment 5: All parameters, alternative poset of extrema\")"
   ]
  },
  {
   "cell_type": "code",
   "execution_count": 17,
   "metadata": {},
   "outputs": [
    {
     "data": {
      "text/markdown": [
       "# Experiment 6: Essential parameters, alternative poset of extrema\n",
       "\n",
       "| network | # parameters | # parameters with path match |\n",
       "| ------- |------------ | ---------------------------- |\n",
       "|0|14|8|\n",
       "|1|56|32|\n",
       "|2|56|16|\n",
       "|3|56|24|\n",
       "|4|56|28|\n",
       "|5|56|16|\n",
       "|6|56|28|\n",
       "|7|56|24|\n",
       "|8|56|24|\n"
      ],
      "text/plain": [
       "<IPython.core.display.Markdown object>"
      ]
     },
     "metadata": {},
     "output_type": "display_data"
    },
    {
     "name": "stdout",
     "output_type": "stream",
     "text": [
      "CPU times: user 117 ms, sys: 5.01 ms, total: 122 ms\n",
      "Wall time: 120 ms\n"
     ]
    }
   ],
   "source": [
    "%%time\n",
    "experiment = lambda network : Analyze(network, all_events, all_event_ordering)\n",
    "experimental_results_6 = [ experiment(network) for network in essential_networks ]\n",
    "DisplayExperiment(experimental_results_6, \"Experiment 6: Essential parameters, alternative poset of extrema\")"
   ]
  },
  {
   "cell_type": "code",
   "execution_count": 18,
   "metadata": {},
   "outputs": [
    {
     "data": {
      "text/markdown": [
       "# Experiment 7: All parameters, alternative poset of extrema, stable only\n",
       "\n",
       "| network | # parameters | # parameters with stable FC | # parameters with path match |\n",
       "| ------- |------------ | ---------------------------- | ---------------------------- |\n",
       "|0|1080|4|16|\n",
       "|1|8640|56|192|\n",
       "|2|8640|24|96|\n",
       "|3|8640|132|164|\n",
       "|4|8640|36|108|\n",
       "|5|8640|56|128|\n",
       "|6|8640|168|221|\n",
       "|7|8640|48|118|\n",
       "|8|8640|108|134|\n"
      ],
      "text/plain": [
       "<IPython.core.display.Markdown object>"
      ]
     },
     "metadata": {},
     "output_type": "display_data"
    },
    {
     "name": "stdout",
     "output_type": "stream",
     "text": [
      "CPU times: user 13.4 s, sys: 54.2 ms, total: 13.5 s\n",
      "Wall time: 13.6 s\n"
     ]
    }
   ],
   "source": [
    "%%time\n",
    "experiment = lambda network : AnalyzeOnStable(network, all_events, all_event_ordering)\n",
    "experimental_results_7 = [ experiment(network) for network in networks ]\n",
    "DisplayStableExperiment(experimental_results_7, \"Experiment 7: All parameters, alternative poset of extrema, stable only\")"
   ]
  },
  {
   "cell_type": "code",
   "execution_count": 19,
   "metadata": {},
   "outputs": [
    {
     "data": {
      "text/markdown": [
       "# Experiment 8: Essential parameters, alternative poset of extrema, stable only\n",
       "\n",
       "| network | # parameters | # parameters with stable FC | # parameters with path match |\n",
       "| ------- |------------ | ---------------------------- | ---------------------------- |\n",
       "|0|14|2|2|\n",
       "|1|56|8|8|\n",
       "|2|56|0|0|\n",
       "|3|56|8|6|\n",
       "|4|56|0|0|\n",
       "|5|56|8|4|\n",
       "|6|56|28|17|\n",
       "|7|56|8|8|\n",
       "|8|56|28|18|\n"
      ],
      "text/plain": [
       "<IPython.core.display.Markdown object>"
      ]
     },
     "metadata": {},
     "output_type": "display_data"
    },
    {
     "name": "stdout",
     "output_type": "stream",
     "text": [
      "CPU times: user 126 ms, sys: 5.15 ms, total: 131 ms\n",
      "Wall time: 130 ms\n"
     ]
    }
   ],
   "source": [
    "%%time\n",
    "experiment = lambda network : AnalyzeOnStable(network, all_events, all_event_ordering)\n",
    "experimental_results_8 = [ experiment(network) for network in essential_networks ]\n",
    "DisplayStableExperiment(experimental_results_8, \"Experiment 8: Essential parameters, alternative poset of extrema, stable only\")"
   ]
  },
  {
   "cell_type": "code",
   "execution_count": null,
   "metadata": {},
   "outputs": [],
   "source": []
  }
 ],
 "metadata": {
  "anaconda-cloud": {},
  "kernelspec": {
   "display_name": "Python 3 (ipykernel)",
   "language": "python",
   "name": "python3"
  },
  "language_info": {
   "codemirror_mode": {
    "name": "ipython",
    "version": 3
   },
   "file_extension": ".py",
   "mimetype": "text/x-python",
   "name": "python",
   "nbconvert_exporter": "python",
   "pygments_lexer": "ipython3",
   "version": "3.12.2"
  }
 },
 "nbformat": 4,
 "nbformat_minor": 4
}
