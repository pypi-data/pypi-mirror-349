{
 "cells": [
  {
   "cell_type": "markdown",
   "metadata": {},
   "source": [
    "# Welcome to the DSGRN server!\n",
    "\n",
    "There are several things you can do from here:\n",
    "\n",
    "1. Go to your home page: https://jupyter.dsgrn.com/user/username/tree/notebooks\n",
    "2. Work through the Jupyter notebook tutorials\n",
    "3. Open a terminal and use the UNIX command line\n",
    "4. Create your own Jupyter notebook\n",
    "5. View your website at http://www.dsgrn.com/~username\n",
    "\n",
    "To access the notebook tutorials, go to the Home page, open the Tutorials folder, and open a tutorial notebook.\n",
    "\n",
    "To open a terminal to get a UNIX command line, go to the Home page, click the drop-down menu button that says \"New\", and select \"Terminal\".\n",
    "\n",
    "To create your own Jupyter notebook, go to the Home page, click the drop-down menu button that says \"New\", and select \"Python 2\".\n",
    "\n",
    "Hints:\n",
    "\n",
    "* Once you go to your \"home page\" at https://jupyter.dsgrn.com/user/username/tree/notebook you can leave it open as a tab.\n",
    "* To evaluate a cell in a Jupyter notebook, press shift and enter at the same time.\n",
    "* To edit a cell in a Jupyter notebook, double click it. Try double clicking this one, for instance."
   ]
  }
 ],
 "metadata": {
  "kernelspec": {
   "display_name": "Python 2",
   "language": "python",
   "name": "python2"
  },
  "language_info": {
   "codemirror_mode": {
    "name": "ipython",
    "version": 2
   },
   "file_extension": ".py",
   "mimetype": "text/x-python",
   "name": "python",
   "nbconvert_exporter": "python",
   "pygments_lexer": "ipython2",
   "version": "2.7.6"
  }
 },
 "nbformat": 4,
 "nbformat_minor": 0
}
