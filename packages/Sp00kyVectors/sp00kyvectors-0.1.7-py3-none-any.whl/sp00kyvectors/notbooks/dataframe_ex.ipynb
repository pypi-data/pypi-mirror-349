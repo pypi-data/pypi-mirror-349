{
 "cells": [
  {
   "cell_type": "code",
   "execution_count": null,
   "id": "2b2750b3",
   "metadata": {},
   "outputs": [],
   "source": [
    "from sp00kyvectors.core import Vector \n",
    "from sp00kyvectors.dataframes import SpookyDF\n",
    "import pandas as pd \n",
    "import numpy as np \n",
    "import matplotlib.pyplot as plt"
   ]
  },
  {
   "cell_type": "code",
   "execution_count": null,
   "id": "c51eabaa",
   "metadata": {},
   "outputs": [],
   "source": [
    "ghostDF = SpookyDF(df=Vector.load_folder('/Users/lila/data_viz/data'))\n",
    "ghostDF.get_clean_df()\n",
    "ghostDF.df.head()"
   ]
  },
  {
   "cell_type": "code",
   "execution_count": null,
   "id": "f9669a9b",
   "metadata": {},
   "outputs": [],
   "source": [
    "#ghostDF.get_clean_df()\n",
    "vector_map = ghostDF.load_cols_into_vectors()\n",
    "vector_map"
   ]
  },
  {
   "cell_type": "code",
   "execution_count": null,
   "id": "eea89975",
   "metadata": {},
   "outputs": [],
   "source": []
  }
 ],
 "metadata": {
  "kernelspec": {
   "display_name": "sp00kyEnv",
   "language": "python",
   "name": "python3"
  },
  "language_info": {
   "codemirror_mode": {
    "name": "ipython",
    "version": 3
   },
   "file_extension": ".py",
   "mimetype": "text/x-python",
   "name": "python",
   "nbconvert_exporter": "python",
   "pygments_lexer": "ipython3",
   "version": "3.12.10"
  }
 },
 "nbformat": 4,
 "nbformat_minor": 5
}
