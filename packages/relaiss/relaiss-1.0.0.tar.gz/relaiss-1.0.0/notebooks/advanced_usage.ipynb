{
  "cells": [
    {
      "cell_type": "markdown",
      "metadata": {},
      "source": [
        "# Advanced Usage of reLAISS\n",
        "\n",
        "This notebook demonstrates advanced features of the reLAISS library for finding similar astronomical transients.\n",
        "\n",
        "## Topics Covered\n",
        "1. Using PCA for dimensionality reduction\n",
        "2. Creating theorized lightcurves\n",
        "3. Swapping host galaxies\n",
        "4. Setting maximum neighbor distances\n",
        "5. Tweaking ANNOY parameters\n",
        "6. Finding the optimal number of neighbors"
      ]
    },
    {
      "cell_type": "code",
      "execution_count": null,
      "metadata": {},
      "source": [
        "import os\n",
        "import pandas as pd\n",
        "import numpy as np\n",
        "import relaiss\n",
        "\n",
        "# Create output directories\n",
        "os.makedirs('./figures', exist_ok=True)\n",
        "os.makedirs('./sfddata-master', exist_ok=True)"
      ],
      "outputs": []
    },
    {
      "cell_type": "markdown",
      "metadata": {},
      "source": [
        "## 1. Using PCA for Dimensionality Reduction\n",
        "\n",
        "PCA can be used to reduce the dimensionality of the feature space while preserving most of the variance. This can improve search speed and potentially reduce noise in the feature space."
      ]
    },
    {
      "cell_type": "code",
      "execution_count": null,
      "metadata": {},
      "source": [
        "# Initialize client with PCA\n",
        "client = relaiss.ReLAISS()\n",
        "client.load_reference(\n",
        "    path_to_sfd_folder='./sfddata-master',\n",
        "    use_pca=True,  # Enable PCA\n",
        "    num_pca_components=20  # Keep 20 components\n",
        ")"
      ],
      "outputs": []
    },
    {
      "cell_type": "markdown",
      "metadata": {},
      "source": [
        "## 2. Creating Theorized Lightcurves\n",
        "\n",
        "You can create simulated lightcurves for theoretical models and find similar real transients. This is useful for testing theoretical predictions or exploring parameter space."
      ]
    },
    {
      "cell_type": "code",
      "execution_count": null,
      "metadata": {},
      "source": [
        "# Create a theorized lightcurve (example)\n",
        "theorized_lightcurve_df = pd.DataFrame({\n",
        "    'ant_mjd': np.linspace(0, 100, 50),\n",
        "    'ant_mag': np.random.normal(20, 1, 50),\n",
        "    'ant_magerr': np.random.uniform(0.1, 0.3, 50),\n",
        "    'ant_passband': ['R'] * 50\n",
        "})\n",
        "\n",
        "# Find neighbors using theorized lightcurve\n",
        "neighbors_df = client.find_neighbors(\n",
        "    ztf_object_id=None,  # No real transient\n",
        "    theorized_lightcurve_df=theorized_lightcurve_df,\n",
        "    n=5,\n",
        "    plot=True,\n",
        "    save_figures=True\n",
        ")"
      ],
      "outputs": []
    },
    {
      "cell_type": "markdown",
      "metadata": {},
      "source": [
        "## 3. Swapping Host Galaxies\n",
        "\n",
        "You can swap the host galaxy of a transient with another one to see how it affects the similarity search. This is useful for studying the impact of host galaxy properties on transient classification."
      ]
    },
    {
      "cell_type": "code",
      "execution_count": null,
      "metadata": {},
      "source": [
        "# Find neighbors with swapped host\n",
        "neighbors_df = client.find_neighbors(\n",
        "    ztf_object_id='ZTF21aaublej',\n",
        "    host_ztf_id='ZTF21aakqjqv',  # Different host galaxy\n",
        "    n=5,\n",
        "    plot=True,\n",
        "    save_figures=True\n",
        ")"
      ],
      "outputs": []
    },
    {
      "cell_type": "markdown",
      "metadata": {},
      "source": [
        "## 4. Setting Maximum Neighbor Distances\n",
        "\n",
        "You can set a maximum distance threshold to only return neighbors within a certain similarity range. This helps filter out less similar objects."
      ]
    },
    {
      "cell_type": "code",
      "execution_count": null,
      "metadata": {},
      "source": [
        "# Find neighbors within distance threshold\n",
        "neighbors_df = client.find_neighbors(\n",
        "    ztf_object_id='ZTF21aaublej',\n",
        "    n=10,  # Request more neighbors\n",
        "    max_neighbor_dist=5.0,  # Maximum allowed distance\n",
        "    plot=True,\n",
        "    save_figures=True\n",
        ")"
      ],
      "outputs": []
    },
    {
      "cell_type": "markdown",
      "metadata": {},
      "source": [
        "## 5. Tweaking ANNOY Parameters\n",
        "\n",
        "You can adjust the ANNOY index parameters to balance between search speed and accuracy. The `search_k` parameter controls how thorough the search is, while `weight_lc_feats_factor` lets you adjust the relative importance of lightcurve features."
      ]
    },
    {
      "cell_type": "code",
      "execution_count": null,
      "metadata": {},
      "source": [
        "# Find neighbors with custom ANNOY parameters\n",
        "neighbors_df = client.find_neighbors(\n",
        "    ztf_object_id='ZTF21aaublej',\n",
        "    n=5,\n",
        "    search_k=2000,  # More thorough search\n",
        "    weight_lc_feats_factor=1.5,  # Weight lightcurve features more heavily\n",
        "    plot=True,\n",
        "    save_figures=True\n",
        ")"
      ],
      "outputs": []
    },
    {
      "cell_type": "markdown",
      "metadata": {},
      "source": [
        "## 6. Finding the Optimal Number of Neighbors\n",
        "\n",
        "reLAISS can help you determine the optimal number of neighbors to use by analyzing the distance curve. This is useful when you're not sure how many neighbors would be most appropriate for your analysis."
      ]
    },
    {
      "cell_type": "code",
      "execution_count": null,
      "metadata": {},
      "source": [
        "# Find optimal number of neighbors\n",
        "neighbors_df = client.find_neighbors(\n",
        "    ztf_object_id='ZTF21aaublej',\n",
        "    n=20,  # Request more neighbors than needed\n",
        "    suggest_neighbor_num=True,  # Enable neighbor number suggestion\n",
        "    plot=True,  # Plot the distance curve\n",
        "    save_figures=True\n",
        ")\n",
        "\n",
        "# The function returns a DataFrame with the neighbors AND suggests the optimal number\n",
        "# The optimal number is printed to the console and shown in the plot\n",
        "print(\"\\nNearest Neighbors:\")\n",
        "print(neighbors_df)"
      ],
      "outputs": []
    }
  ],
  "metadata": {
    "kernelspec": {
      "display_name": "Python 3",
      "language": "python",
      "name": "python3"
    },
    "language_info": {
      "codemirror_mode": {
        "name": "ipython",
        "version": 3
      },
      "file_extension": ".py",
      "mimetype": "text/x-python",
      "name": "python",
      "nbconvert_exporter": "python",
      "pygments_lexer": "ipython3",
      "version": "3.8.0"
    }
  },
  "nbformat": 4,
  "nbformat_minor": 4
}
