{
  "cells": [
    {
      "cell_type": "markdown",
      "id": "8482b89b-648b-4efb-b00c-0081ef8ef0d3",
      "metadata": {},
      "source": [
        "# reLAISS Tutorial 01\n",
        "### written by Evan Reynolds and Alex Gagliano"
      ]
    },
    {
      "cell_type": "markdown",
      "id": "fa0dae4a-9b8c-4701-8755-b4107aac2356",
      "metadata": {},
      "source": [
        "reLAISS is the second version of LAISS (Lightcurve Anomaly Identification & Similarity Search); a tool to find similar supernovae & identify anomalous supernovae (and the galaxies that host them) using their photometric features. reLAISS introduces several new functionalites, some of which will be presented in this tutorial.\n",
        "\n",
        "The similarity search takes advantage of [Approximate Nearest Neighbors Oh Yeah (ANNOY)](https://github.com/spotify/annoy), the approximate nearest neighbors algorithm developed by Spotify that allows you to come up with a relevant song to listen to before your current one ends. The anomaly detection classifier is an isolation forest model trained on a dataset bank of (currently) 22,000 transients."
      ]
    },
    {
      "cell_type": "markdown",
      "id": "d7bd4b5b-364a-4272-9eee-b70a0fce1be8",
      "metadata": {},
      "source": [
        "Let's start by installing and loading the relevant packages:"
      ]
    },
    {
      "cell_type": "code",
      "execution_count": null,
      "id": "3c6928f2-097b-4f7e-bd8c-b721f1ef5621",
      "metadata": {},
      "outputs": [],
      "source": [
        "# TODO: Code to install necessary packages. Maybe Alex can help?"
      ]
    },
    {
      "cell_type": "code",
      "execution_count": null,
      "id": "b6d2320b",
      "metadata": {},
      "outputs": [],
      "source": [
        "import os\n",
        "import sys\n",
        "\n",
        "import warnings\n",
        "warnings.filterwarnings(\"ignore\")\n",
        "\n",
        "working_dir = os.path.abspath(\"\")\n",
        "os.chdir(working_dir)\n",
        "sys.path.append('../code/')\n",
        "\n",
        "import constants\n",
        "from helper_func import *\n",
        "from relaiss_func import *"
      ]
    },
    {
      "cell_type": "markdown",
      "id": "1971b75d-272f-4314-9275-3259e57c943a",
      "metadata": {},
      "source": [
        "Let's also download and unpack the data we need for this tutorial: "
      ]
    },
    {
      "cell_type": "code",
      "execution_count": null,
      "id": "b179b818-51d6-4ce1-9680-000eb74f03c4",
      "metadata": {},
      "outputs": [],
      "source": [
        "# TODO: Download sfd data, dataset bank (and theorized_lc data, if you want to show this)\n",
        "# Alex to help with this? Make sure data is in the right spot for the rest of the tutorial"
      ]
    },
    {
      "cell_type": "markdown",
      "id": "f962edb6-1cff-4439-83c9-32e2b9c4e93f",
      "metadata": {},
      "source": [
        "Now, we must choose the features of both the host galaxy and the supernova lightcurve to use in our matching algorithm & anomaly classifer. Open the constants.py file in the \"code\" directory and review the lightcurve and host features. Comment out any features you'd like to exclude. Then, restart the notebook kernel, reimport packages, and run the code below."
      ]
    },
    {
      "cell_type": "code",
      "execution_count": null,
      "id": "15d9c1b1",
      "metadata": {},
      "outputs": [],
      "source": [
        "lc_feature_names = constants.lc_features_const.copy()\n",
        "host_feature_names = constants.host_features_const.copy()"
      ]
    },
    {
      "cell_type": "markdown",
      "id": "1e87ae06",
      "metadata": {},
      "source": [
        "The rest is taken care of by our main function, `re_LAISS`. There are many inputs to the function, but here are the basic ones:\n",
        "* `path_to_dataset_bank`: The path from your working directory to the dataset bank downloaded earlier.\n",
        "* `transient_ztf_id`: The ZTF ID of the supernova used in the similarity search and anomaly detection. \n",
        "* `lc_feature_names`: The names of the lightcurve features to be used, which we defined earlier.\n",
        "* `host_feature_names`: The names of the host galaxy features to be used, which we defined earlier.\n",
        "* `path_to_sfd_data_folder`: The path from your working directory to the sfd data folder downloaded earlier.\n",
        "* `neighbors`: The number of \"nearest neighbors\" to return from the similarity search.\n",
        "* `num_mc_simulations`: reLAISS can resample the input feature set using Monte Carlo simulation with feature errors. This is the number of simulations it will use. Set to 0 to turn off this feature.\n",
        "* `weight_lc_feats_factor`: A factor that multiplicatively weights the effect of the lightcurve features.\n",
        "* `suggest_neighbor_num`: A boolean that, if true, will show a plot of neighbors and distances from the input supernova and suggest a number of neighbors to look at.\n",
        "* `run_AD`: A boolean indicating whether or not to run the anomaly detection model.\n",
        "* `run_NN`: A boolean indicating whether or not to run the similarity search.\n",
        "*  `save_figures`: A boolean indicating whether or not to save all figures created while reLAISS runs. If true, directories will be created and figured will automatically be organized.\n",
        "\n",
        "As for what it returns, note that reLAISS must have at least one of `run_NN`, `run_AD`, or `suggest_neighbor_num` equal to true for it to run. Otherwise, it does nothing. If `run_NN` or `suggest_neighbor_num` is true, reLAISS will return objects `neighbors_df`, `primer_dict`. If only `run_AD` is true, reLAISS will return nothing.\n",
        "* `neighbors_df` is a pandas dataframe of the nearest neighbors identified for the input supernova. This is only populated if `run_NN` is true. \n",
        "* `primer_dict` is a dictionary containing relevant information about the input supernova."
      ]
    },
    {
      "cell_type": "markdown",
      "id": "581aa450",
      "metadata": {},
      "source": [
        "Here's a basic workflow you might go through. Let's say you're interested in the supernova \"ZTF21aaublej\". First, let's run re_LAISS with only `suggest_neighbor_num=True` and a large number of neighbors, to get an idea of the distance curve. We'll leave other arguments to their default values."
      ]
    },
    {
      "cell_type": "code",
      "execution_count": null,
      "id": "fe500955",
      "metadata": {},
      "outputs": [],
      "source": [
        "neighbors_df, primer_dict = re_LAISS(\n",
        "    transient_ztf_id='ZTF21aaublej',\n",
        "    path_to_dataset_bank='../data/df_bank.csv',\n",
        "    path_to_sfd_data_folder='../data/sfddata-master',\n",
        "    host_feature_names=host_feature_names,\n",
        "    lc_feature_names=lc_feature_names,\n",
        "    neighbors=40,\n",
        "    suggest_neighbor_num=True,\n",
        "    run_NN=False,\n",
        "    run_AD=False,\n",
        "    save_figures=True,\n",
        ")"
      ]
    },
    {
      "cell_type": "markdown",
      "id": "5ac5f205",
      "metadata": {},
      "source": [
        "You'll see that some files were created for the similarity search. And, our neighbor distance plot is displayed. It looks like anywhere from 5 to 7 neighbors is a reasonable cutoff, so let's use 7 and run the full neighbor search by setting `suggest_neighbor_num=False` and `run_NN=True`."
      ]
    },
    {
      "cell_type": "code",
      "execution_count": null,
      "id": "ecc15826",
      "metadata": {},
      "outputs": [],
      "source": [
        "neighbors_df, primer_dict = re_LAISS(\n",
        "    transient_ztf_id='ZTF21aaublej',\n",
        "    path_to_dataset_bank='../data/df_bank.csv',\n",
        "    path_to_sfd_data_folder='../data/sfddata-master',\n",
        "    host_feature_names=host_feature_names,\n",
        "    lc_feature_names=lc_feature_names,\n",
        "    neighbors=7,\n",
        "    suggest_neighbor_num=False,\n",
        "    run_NN=True,\n",
        "    run_AD=False,\n",
        "    save_figures=False,\n",
        ")"
      ]
    },
    {
      "cell_type": "markdown",
      "id": "3dd1d7f2",
      "metadata": {},
      "source": [
        "Congratulations on your first similarity search! You can see a plot of the input suprnova lightcurve, as well as the neighbor lightcurves. They're not a great match right now. And, you see a plot of the input supernova host galaxy, as well as the neighbor hosts. These look decently similar. So, let's say you wanted a better lightcurve matches for your supernova. You could try using Monte Carlo simulation or lightcurve upweighting. Or, you could pass in an empty host features list; this would run a \"lighcurve-only\" reLAISS that picks neighbors based only on lightcurve properties.\n",
        "\n",
        "The code below uses 20 Monte Carlo simulations with upweighted lightcurve features. Run it and you should see that the matches look much better! Experimenting with parameters and feature sets is a key functionality of reLAISS that can help you find better matches."
      ]
    },
    {
      "cell_type": "code",
      "execution_count": null,
      "id": "c5c7b0f2",
      "metadata": {},
      "outputs": [],
      "source": [
        "neighbors_df, primer_dict = re_LAISS(\n",
        "    transient_ztf_id='ZTF21aaublej',\n",
        "    path_to_dataset_bank='../data/df_bank.csv',\n",
        "    path_to_sfd_data_folder='../data/sfddata-master',\n",
        "    host_feature_names=host_feature_names,\n",
        "    lc_feature_names=lc_feature_names,\n",
        "    neighbors=7,\n",
        "    suggest_neighbor_num=False,\n",
        "    run_NN=True,\n",
        "    run_AD=False,\n",
        "    save_figures=False,\n",
        "    num_mc_simulations=20,\n",
        "    weight_lc_feats_factor=3,\n",
        ")"
      ]
    },
    {
      "cell_type": "markdown",
      "id": "c8952f90",
      "metadata": {},
      "source": [
        "Lastly, we'll run anomaly detection on the supernova of interest. This will produce a pdf of the lightcurve of the input supernova, as well as a graph of the probability (in time) that the supernova is anomalous. If the probability is ever over 50%, the supernova is flagged as anomalous.\n",
        "\n",
        "As a reminder, if you're only running anomaly detection, reLAISS returns nothing."
      ]
    },
    {
      "cell_type": "code",
      "execution_count": null,
      "id": "59d0d1ef",
      "metadata": {},
      "outputs": [],
      "source": [
        "re_LAISS(\n",
        "    transient_ztf_id='ZTF21aaublej',\n",
        "    path_to_dataset_bank='../data/df_bank.csv',\n",
        "    path_to_sfd_data_folder='../data/sfddata-master',\n",
        "    host_feature_names=host_feature_names,\n",
        "    lc_feature_names=lc_feature_names,\n",
        "    suggest_neighbor_num=False,\n",
        "    run_NN=False,\n",
        "    run_AD=True,\n",
        "    save_figures=False,\n",
        ")"
      ]
    },
    {
      "cell_type": "markdown",
      "id": "ea24ebdb",
      "metadata": {},
      "source": [
        "That concludes the tutorial on the basics of reLAISS! Below is an example of how to run the similarity search and anomaly detection at once, while saving important figures. Try it out if you'd like.\n",
        "\n",
        "And, see notebook tutorial 02 for a walkthrough of some of the more advanced functionalities of reLAISS!"
      ]
    },
    {
      "cell_type": "code",
      "execution_count": null,
      "id": "a110d990",
      "metadata": {},
      "outputs": [],
      "source": [
        "neighbors_df, primer_dict = re_LAISS(\n",
        "    transient_ztf_id='ZTF21aaublej',\n",
        "    path_to_dataset_bank='../data/df_bank.csv',\n",
        "    path_to_sfd_data_folder='../data/sfddata-master',\n",
        "    host_feature_names=host_feature_names,\n",
        "    lc_feature_names=lc_feature_names,\n",
        "    neighbors=7,\n",
        "    suggest_neighbor_num=False,\n",
        "    run_NN=True,\n",
        "    run_AD=True,\n",
        "    save_figures=True,\n",
        "    num_mc_simulations=20,\n",
        "    weight_lc_feats_factor=3,\n",
        ")"
      ]
    }
  ],
  "metadata": {
    "kernelspec": {
      "display_name": "laiss_env",
      "language": "python",
      "name": "python3"
    },
    "language_info": {
      "codemirror_mode": {
        "name": "ipython",
        "version": 3
      },
      "file_extension": ".py",
      "mimetype": "text/x-python",
      "name": "python",
      "nbconvert_exporter": "python",
      "pygments_lexer": "ipython3",
      "version": "3.9.19"
    }
  },
  "nbformat": 4,
  "nbformat_minor": 5
}
