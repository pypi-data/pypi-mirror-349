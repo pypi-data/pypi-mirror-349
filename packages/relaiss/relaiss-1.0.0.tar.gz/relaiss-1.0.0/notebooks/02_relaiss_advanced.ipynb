{
  "cells": [
    {
      "cell_type": "markdown",
      "id": "8482b89b-648b-4efb-b00c-0081ef8ef0d3",
      "metadata": {},
      "source": [
        "# reLAISS Tutorial 02 [TODO]\n",
        "### written by Evan Reynolds and Alex Gagliano"
      ]
    },
    {
      "cell_type": "markdown",
      "id": "c8b83ae1",
      "metadata": {},
      "source": [
        "This tutorial will showcase the advanced features of reLAISS including the meaning of all arguments, using theorized lightcurves, swapping out host galaxies, using PCA, cutting off at a max neighbor distance, tweaking ANNOY and isolation forest parameters for new models, and making corner plots."
      ]
    }
  ],
  "metadata": {
    "kernelspec": {
      "display_name": "laiss",
      "language": "python",
      "name": "laiss"
    },
    "language_info": {
      "codemirror_mode": {
        "name": "ipython",
        "version": 3
      },
      "file_extension": ".py",
      "mimetype": "text/x-python",
      "name": "python",
      "nbconvert_exporter": "python",
      "pygments_lexer": "ipython3",
      "version": "3.10.0"
    }
  },
  "nbformat": 4,
  "nbformat_minor": 5
}
