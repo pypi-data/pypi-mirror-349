{
  "cells": [
    {
      "cell_type": "markdown",
      "metadata": {},
      "source": [
        "# Basic Usage of reLAISS\n",
        "\n",
        "This notebook demonstrates the basic features of the reLAISS library for finding similar astronomical transients.\n",
        "\n",
        "## Topics Covered\n",
        "1. Initializing the ReLAISS client\n",
        "2. Loading reference data\n",
        "3. Finding nearest neighbors\n",
        "4. Understanding the results\n",
        "5. Feature weighting and SFD dust maps"
      ]
    },
    {
      "cell_type": "code",
      "execution_count": null,
      "metadata": {},
      "source": [
        "import os\n",
        "import pandas as pd\n",
        "import relaiss\n",
        "\n",
        "# Create output directories\n",
        "os.makedirs('./figures', exist_ok=True)\n",
        "os.makedirs('./sfddata-master', exist_ok=True)"
      ],
      "outputs": []
    },
    {
      "cell_type": "markdown",
      "metadata": {},
      "source": [
        "## 1. Initialize the ReLAISS Client\n",
        "\n",
        "First, we create an instance of the ReLAISS client that we'll use to find similar transients."
      ]
    },
    {
      "cell_type": "code",
      "execution_count": null,
      "metadata": {},
      "source": [
        "# Create ReLAISS client\n",
        "client = relaiss.ReLAISS()"
      ],
      "outputs": []
    },
    {
      "cell_type": "markdown",
      "metadata": {},
      "source": [
        "## 2. Load Reference Data\n",
        "\n",
        "Next, we load the reference dataset bank. This contains the features of known transients that we'll use for comparison.\n",
        "\n",
        "The `load_reference` function will automatically download the SFD dust map files if they don't exist in the specified directory. These files are required for extinction corrections in the reLAISS pipeline."
      ]
    },
    {
      "cell_type": "code",
      "execution_count": null,
      "metadata": {},
      "source": [
        "# Load reference data\n",
        "client.load_reference(\n",
        "    path_to_sfd_folder='./sfddata-master',  # Directory for SFD dust maps\n",
        "    use_pca=False,  # Don't use PCA for this example\n",
        "    weight_lc_feats_factor=1.0  # Weight factor for lightcurve features\n",
        ")"
      ],
      "outputs": []
    },
    {
      "cell_type": "markdown",
      "metadata": {},
      "source": [
        "## 3. Find Nearest Neighbors\n",
        "\n",
        "Now we can find the most similar transients to a given ZTF object. Let's use ZTF21aaublej as an example.\n",
        "\n",
        "The `find_neighbors` function allows you to:\n",
        "- Specify the number of neighbors to return\n",
        "- Set a maximum distance threshold\n",
        "- Adjust the weight of lightcurve features relative to host features\n",
        "- Generate diagnostic plots"
      ]
    },
    {
      "cell_type": "code",
      "execution_count": null,
      "metadata": {},
      "source": [
        "# Find nearest neighbors\n",
        "neighbors_df = client.find_neighbors(\n",
        "    ztf_object_id='ZTF21aaublej',  # ZTF ID to find neighbors for\n",
        "    n=5,  # Number of neighbors to return\n",
        "    plot=True,  # Generate diagnostic plots\n",
        "    save_figures=True,  # Save plots to disk\n",
        "    weight_lc_feats_factor=1.0  # Weight factor for lightcurve features\n",
        ")\n",
        "\n",
        "# Display the results\n",
        "print(\"\\nNearest Neighbors:\")\n",
        "print(neighbors_df)"
      ],
      "outputs": []
    },
    {
      "cell_type": "markdown",
      "metadata": {},
      "source": [
        "## 4. Understanding the Results\n",
        "\n",
        "The returned DataFrame contains information about each neighbor:\n",
        "- `input_ztf_id`: The ZTF ID of the input transient\n",
        "- `neighbor_num`: Index of the neighbor (1 to n)\n",
        "- `ztf_link`: Link to view the neighbor in ALeRCE\n",
        "- `dist`: Distance to the neighbor (lower means more similar)\n",
        "- `iau_name`: IAU name of the neighbor\n",
        "- `spec_cls`: Spectral classification\n",
        "- `z`: Redshift\n",
        "\n",
        "The function also generates several plots:\n",
        "1. Lightcurve comparison plot in `figures/lightcurves/`\n",
        "2. Host galaxy thumbnail grid in `figures/host_grids/`"
      ]
    },
    {
      "cell_type": "markdown",
      "metadata": {},
      "source": [
        "## 5. Feature Weighting and SFD Dust Maps\n",
        "\n",
        "### Feature Weighting\n",
        "reLAISS allows you to adjust the relative importance of lightcurve features compared to host galaxy features using the `weight_lc_feats_factor` parameter. A value greater than 1.0 will make lightcurve features more important in the similarity search.\n",
        "\n",
        "### SFD Dust Maps\n",
        "reLAISS uses the Schlegel, Finkbeiner & Davis (SFD) dust maps for extinction corrections. These maps are automatically downloaded when you first run `load_reference`. The maps are stored in the specified `path_to_sfd_folder` directory and are used to correct for Galactic extinction in the lightcurve and host galaxy features."
      ]
    },
    {
      "cell_type": "markdown",
      "metadata": {},
      "source": [
        "## Next Steps\n",
        "\n",
        "To explore more advanced features, check out the `advanced_usage.ipynb` notebook which covers:\n",
        "- Using PCA for dimensionality reduction\n",
        "- Creating theorized lightcurves\n",
        "- Swapping host galaxies\n",
        "- Setting maximum neighbor distances\n",
        "- Tweaking ANNOY parameters\n",
        "- Finding the optimal number of neighbors"
      ]
    }
  ],
  "metadata": {
    "kernelspec": {
      "display_name": "Python 3",
      "language": "python",
      "name": "python3"
    },
    "language_info": {
      "codemirror_mode": {
        "name": "ipython",
        "version": 3
      },
      "file_extension": ".py",
      "mimetype": "text/x-python",
      "name": "python",
      "nbconvert_exporter": "python",
      "pygments_lexer": "ipython3",
      "version": "3.8.0"
    }
  },
  "nbformat": 4,
  "nbformat_minor": 4
}
