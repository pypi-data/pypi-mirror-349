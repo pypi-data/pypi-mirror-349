{
 "cells": [
  {
   "cell_type": "markdown",
   "id": "648c2b16",
   "metadata": {},
   "source": [
    "# Basic Usage of reLAISS\n",
    "### Authors: Evan Reynolds and Alex Gagliano\n",
    "\n",
    "## Introduction\n",
    "\n",
    "reLAISS is the second version of LAISS (Lightcurve Anomaly Identification & Similarity Search); a tool to find similar supernovae & identify anomalous supernovae (and the galaxies that host them) using their photometric features.\n",
    "\n",
    "The similarity search takes advantage of [Approximate Nearest Neighbors Oh Yeah (ANNOY)](https://github.com/spotify/annoy), the approximate nearest neighbors algorithm developed by Spotify that allows you to come up with a relevant song to listen to before your current one ends. The anomaly detection classifier is an isolation forest model trained on a dataset bank of over 22,000 transients.\n",
    "\n",
    "This notebook demonstrates the basic features of the reLAISS library for finding similar astronomical transients.\n",
    "\n",
    "## Topics Covered\n",
    "1. Initializing the ReLAISS client\n",
    "2. Loading reference data\n",
    "3. Finding optimal number of neighbors\n",
    "4. Basic nearest neighbor search\n",
    "5. Using Monte Carlo simulations and feature weighting\n",
    "6. Basic anomaly detection"
   ]
  },
  {
   "cell_type": "markdown",
   "id": "869e17e0",
   "metadata": {},
   "source": [
    "## Setup\n",
    "\n",
    "First, let's import the required packages and create the necessary output directories:"
   ]
  },
  {
   "cell_type": "code",
   "execution_count": null,
   "id": "1bf22151",
   "metadata": {},
   "outputs": [],
   "source": [
    "import os\n",
    "import pandas as pd\n",
    "import relaiss\n",
    "\n",
    "# Create output directories\n",
    "os.makedirs('./figures', exist_ok=True)\n",
    "os.makedirs('./sfddata-master', exist_ok=True)\n",
    "os.makedirs('./models', exist_ok=True)\n",
    "os.makedirs('./timeseries', exist_ok=True)"
   ]
  },
  {
   "cell_type": "markdown",
   "id": "0e82fe89",
   "metadata": {},
   "source": [
    "## 1. Initialize the ReLAISS Client\n",
    "\n",
    "First, we create an instance of the ReLAISS client that we'll use to find similar transients."
   ]
  },
  {
   "cell_type": "code",
   "execution_count": null,
   "id": "cc144944",
   "metadata": {},
   "outputs": [],
   "source": [
    "# Create ReLAISS client\n",
    "client = relaiss.ReLAISS()"
   ]
  },
  {
   "cell_type": "markdown",
   "id": "5483eb7b",
   "metadata": {},
   "source": [
    "## 2. Load Reference Data\n",
    "\n",
    "Next, we load the reference dataset bank. This contains the features of known transients that we'll use for comparison.\n",
    "\n",
    "The `load_reference` function will automatically download the SFD dust map files if they don't exist in the specified directory. These files are required for extinction corrections in the reLAISS pipeline."
   ]
  },
  {
   "cell_type": "code",
   "execution_count": null,
   "id": "808bf098",
   "metadata": {},
   "outputs": [],
   "source": [
    "# Load reference data\n",
    "client.load_reference(\n",
    "    path_to_sfd_folder='./sfddata-master',  # Directory for SFD dust maps\n",
    "    use_pca=False,  # Don't use PCA for this example\n",
    "    host_features=[]  # Empty list for this example\n",
    ")"
   ]
  },
  {
   "cell_type": "markdown",
   "id": "9ae5d46f",
   "metadata": {},
   "source": [
    "## 3. Finding the Optimal Number of Neighbors\n",
    "\n",
    "Before doing a full neighbor search, we can use reLAISS to suggest an optimal number of neighbors based on the distance distribution. This helps avoid arbitrary choices for the number of neighbors to return.\n",
    "\n",
    "First, let's run a search with a larger number of neighbors and set `suggest_neighbor_num=True`. This will show us a distance plot that helps identify a reasonable cutoff point for similar objects."
   ]
  },
  {
   "cell_type": "code",
   "execution_count": null,
   "id": "91904c57",
   "metadata": {},
   "outputs": [],
   "source": [
    "# Find optimal number of neighbors\n",
    "client.find_neighbors(\n",
    "    ztf_object_id='ZTF21aaublej',  # ZTF ID to find neighbors for\n",
    "    n=40,  # Search in a larger pool\n",
    "    suggest_neighbor_num=True,  # Only suggest optimal number, don't return neighbors\n",
    "    plot=True,  # Show the distance elbow plot\n",
    "    save_figures=True,  # Save plots to disk\n",
    "    path_to_figure_directory='./figures'\n",
    ")"
   ]
  },
  {
   "cell_type": "markdown",
   "id": "83324aa1",
   "metadata": {},
   "source": [
    "## 4. Basic Nearest Neighbor Search\n",
    "\n",
    "Now we can find the most similar transients to a given ZTF object. Let's use ZTF21aaublej as an example.\n",
    "\n",
    "The `find_neighbors` function allows you to:\n",
    "- Specify the number of neighbors to return\n",
    "- Set a maximum distance threshold\n",
    "- Adjust the weight of lightcurve features relative to host features\n",
    "- Generate diagnostic plots\n",
    "\n",
    "Based on the distance curve we saw earlier, we'll choose to return 5 neighbors."
   ]
  },
  {
   "cell_type": "code",
   "execution_count": null,
   "id": "550f1c6c",
   "metadata": {},
   "outputs": [],
   "source": [
    "# Find nearest neighbors\n",
    "neighbors_df = client.find_neighbors(\n",
    "    ztf_object_id='ZTF21aaublej',  # ZTF ID to find neighbors for\n",
    "    n=5,  # Number of neighbors to return\n",
    "    suggest_neighbor_num=False,  # Return actual neighbors\n",
    "    plot=True,  # Generate diagnostic plots\n",
    "    save_figures=True,  # Save plots to disk\n",
    "    path_to_figure_directory='./figures'\n",
    ")\n",
    "\n",
    "# Display the results\n",
    "print(\"\\nNearest Neighbors:\")\n",
    "print(neighbors_df)"
   ]
  },
  {
   "cell_type": "markdown",
   "id": "de3a82fb",
   "metadata": {},
   "source": [
    "## 5. Using Monte Carlo Simulations and Feature Weighting\n",
    "\n",
    "reLAISS allows you to adjust the relative importance of lightcurve features compared to host galaxy features using the `weight_lc_feats_factor` parameter. A value greater than 1.0 will make lightcurve features more important in the similarity search.\n",
    "\n",
    "The Monte Carlo simulation functionality (`num_sims` parameter) helps account for measurement uncertainties by running multiple simulations with perturbed feature values.\n",
    "\n",
    "If you find that your matches aren't quite what you're looking for, you can try:\n",
    "- Using Monte Carlo simulations to account for feature measurement uncertainties\n",
    "- Upweighting lightcurve features to focus more on the transient's photometric properties than its host\n",
    "- Removing host features entirely for a \"lightcurve-only\" search\n",
    "- Removing lightcurve features for a \"host-only\" search\n",
    "\n",
    "Let's try using Monte Carlo simulations with upweighted lightcurve features:"
   ]
  },
  {
   "cell_type": "code",
   "execution_count": null,
   "id": "ba5d5748",
   "metadata": {},
   "outputs": [],
   "source": [
    "# Using Monte Carlo simulations and feature weighting\n",
    "neighbors_df = client.find_neighbors(\n",
    "    ztf_object_id='ZTF21aaublej',  # Using the test transient\n",
    "    n=5,\n",
    "    num_sims=20,  # Number of Monte Carlo simulations\n",
    "    weight_lc_feats_factor=3.0,  # Up-weight lightcurve features\n",
    "    plot=True,\n",
    "    save_figures=True,\n",
    "    path_to_figure_directory='./figures'\n",
    ")\n",
    "\n",
    "print(\"\\nNearest neighbors with Monte Carlo simulations:\")\n",
    "print(neighbors_df)"
   ]
  },
  {
   "cell_type": "markdown",
   "id": "e4a78f7d",
   "metadata": {},
   "source": [
    "## 6. Basic Anomaly Detection\n",
    "\n",
    "reLAISS also includes tools for anomaly detection that can help identify unusual transients. The anomaly detection module uses an Isolation Forest algorithm to identify outliers in the feature space.\n",
    "\n",
    "The anomaly detection process will produce plots showing the lightcurve of the input transient and a graph of the probability (in time) that the transient is anomalous. If the probability exceeds 50% at any epoch, the transient is flagged as anomalous.\n",
    "\n",
    "### Training an Anomaly Detection Model\n",
    "\n",
    "First, let's train an anomaly detection model on our dataset bank:"
   ]
  },
  {
   "cell_type": "code",
   "execution_count": null,
   "id": "e19948ad",
   "metadata": {},
   "outputs": [],
   "source": [
    "from relaiss.anomaly import train_AD_model\n",
    "\n",
    "# Train the anomaly detection model\n",
    "model_path = train_AD_model(\n",
    "    lc_features=client.lc_features,\n",
    "    host_features=client.host_features,\n",
    "    path_to_dataset_bank=client.bank_csv,\n",
    "    path_to_sfd_folder='./sfddata-master',\n",
    "    path_to_models_directory=\"./models\",\n",
    "    n_estimators=100,  # Using a smaller value for faster execution\n",
    "    contamination=0.02,  # Expected proportion of anomalies\n",
    "    max_samples=256,  # Maximum samples used for each tree\n",
    "    force_retrain=False  # Only retrain if model doesn't exist\n",
    ")\n",
    "\n",
    "print(f\"Model saved to: {model_path}\")"
   ]
  },
  {
   "cell_type": "markdown",
   "id": "a104e058",
   "metadata": {},
   "source": [
    "### Running Anomaly Detection on a Transient\n",
    "\n",
    "Now we can run anomaly detection on a specific transient to see if it's considered anomalous:"
   ]
  },
  {
   "cell_type": "code",
   "execution_count": null,
   "id": "53cbc236",
   "metadata": {},
   "outputs": [],
   "source": [
    "from relaiss.anomaly import anomaly_detection\n",
    "\n",
    "# Run anomaly detection on a transient\n",
    "anomaly_detection(\n",
    "    transient_ztf_id=\"ZTF21aaublej\",  # Use the same transient for this example\n",
    "    lc_features=client.lc_features,\n",
    "    host_features=client.host_features,\n",
    "    path_to_timeseries_folder=\"./timeseries\",\n",
    "    path_to_sfd_folder='./sfddata-master',\n",
    "    path_to_dataset_bank=client.bank_csv,\n",
    "    path_to_models_directory=\"./models\",\n",
    "    path_to_figure_directory=\"./figures\",\n",
    "    save_figures=True,\n",
    "    n_estimators=100,\n",
    "    contamination=0.02,\n",
    "    max_samples=256,\n",
    "    force_retrain=False\n",
    ")\n",
    "\n",
    "print(\"Anomaly detection figures saved to ./figures/AD/\")"
   ]
  },
  {
   "cell_type": "markdown",
   "id": "c23a1b0a",
   "metadata": {},
   "source": [
    "## Next Steps\n",
    "\n",
    "To explore more advanced features, check out the `advanced_usage.ipynb` notebook which covers:\n",
    "- Using PCA for dimensionality reduction\n",
    "- Creating theorized lightcurves\n",
    "- Swapping host galaxies\n",
    "- Setting maximum neighbor distances\n",
    "- Tweaking ANNOY parameters\n",
    "- Making corner plots\n",
    "- Advanced anomaly detection techniques"
   ]
  }
 ],
 "metadata": {
  "language_info": {
   "name": "python"
  }
 },
 "nbformat": 4,
 "nbformat_minor": 5
}
