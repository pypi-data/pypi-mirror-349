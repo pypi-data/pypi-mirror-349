{
 "cells": [
  {
   "cell_type": "code",
   "execution_count": null,
   "metadata": {},
   "outputs": [],
   "source": [
    "!pip install llama-index-core # install the package for DfEmbedVectorStore - LlamaIndex's integration with DfEmbedder\n",
    "!pip install lancedb # install for usage with LanceDB\n",
    "!pip install pandas # for the lancedb usage\n",
    "!pip install llama-index-llms-ollama # for the LlamaIndex usage"
   ]
  },
  {
   "cell_type": "code",
   "execution_count": 2,
   "metadata": {},
   "outputs": [],
   "source": [
    "DATA_BASE_NAME = \"example_lancedb\"\n",
    "TABLE_NAME = \"films_table\"\n",
    "CSV_FILE = \"TMDB_movie_dataset_v11.csv\" # Using a sample CSV"
   ]
  },
  {
   "cell_type": "code",
   "execution_count": 3,
   "metadata": {},
   "outputs": [
    {
     "name": "stdout",
     "output_type": "stream",
     "text": [
      "Reading data from TMDB_movie_dataset_v11.csv\n"
     ]
    },
    {
     "data": {
      "text/html": [
       "<div><style>\n",
       ".dataframe > thead > tr,\n",
       ".dataframe > tbody > tr {\n",
       "  text-align: right;\n",
       "  white-space: pre-wrap;\n",
       "}\n",
       "</style>\n",
       "<small>shape: (5, 5)</small><table border=\"1\" class=\"dataframe\"><thead><tr><th>id</th><th>movie_title</th><th>movie_description</th><th>movie_genres</th><th>movie_vote_average</th></tr><tr><td>i64</td><td>str</td><td>str</td><td>str</td><td>f64</td></tr></thead><tbody><tr><td>27205</td><td>&quot;Inception&quot;</td><td>&quot;Cobb, a skilled thief who comm…</td><td>&quot;Action, Science Fiction, Adven…</td><td>8.364</td></tr><tr><td>157336</td><td>&quot;Interstellar&quot;</td><td>&quot;The adventures of a group of e…</td><td>&quot;Adventure, Drama, Science Fict…</td><td>8.417</td></tr><tr><td>155</td><td>&quot;The Dark Knight&quot;</td><td>&quot;Batman raises the stakes in hi…</td><td>&quot;Drama, Action, Crime, Thriller&quot;</td><td>8.512</td></tr><tr><td>19995</td><td>&quot;Avatar&quot;</td><td>&quot;In the 22nd century, a paraple…</td><td>&quot;Action, Adventure, Fantasy, Sc…</td><td>7.573</td></tr><tr><td>24428</td><td>&quot;The Avengers&quot;</td><td>&quot;When an unexpected enemy emerg…</td><td>&quot;Science Fiction, Action, Adven…</td><td>7.71</td></tr></tbody></table></div>"
      ],
      "text/plain": [
       "shape: (5, 5)\n",
       "┌────────┬─────────────────┬─────────────────────────┬────────────────────────┬────────────────────┐\n",
       "│ id     ┆ movie_title     ┆ movie_description       ┆ movie_genres           ┆ movie_vote_average │\n",
       "│ ---    ┆ ---             ┆ ---                     ┆ ---                    ┆ ---                │\n",
       "│ i64    ┆ str             ┆ str                     ┆ str                    ┆ f64                │\n",
       "╞════════╪═════════════════╪═════════════════════════╪════════════════════════╪════════════════════╡\n",
       "│ 27205  ┆ Inception       ┆ Cobb, a skilled thief   ┆ Action, Science        ┆ 8.364              │\n",
       "│        ┆                 ┆ who comm…               ┆ Fiction, Adven…        ┆                    │\n",
       "│ 157336 ┆ Interstellar    ┆ The adventures of a     ┆ Adventure, Drama,      ┆ 8.417              │\n",
       "│        ┆                 ┆ group of e…             ┆ Science Fict…          ┆                    │\n",
       "│ 155    ┆ The Dark Knight ┆ Batman raises the       ┆ Drama, Action, Crime,  ┆ 8.512              │\n",
       "│        ┆                 ┆ stakes in hi…           ┆ Thriller               ┆                    │\n",
       "│ 19995  ┆ Avatar          ┆ In the 22nd century, a  ┆ Action, Adventure,     ┆ 7.573              │\n",
       "│        ┆                 ┆ paraple…                ┆ Fantasy, Sc…           ┆                    │\n",
       "│ 24428  ┆ The Avengers    ┆ When an unexpected      ┆ Science Fiction,       ┆ 7.71               │\n",
       "│        ┆                 ┆ enemy emerg…            ┆ Action, Adven…         ┆                    │\n",
       "└────────┴─────────────────┴─────────────────────────┴────────────────────────┴────────────────────┘"
      ]
     },
     "execution_count": 3,
     "metadata": {},
     "output_type": "execute_result"
    }
   ],
   "source": [
    "# create the dataset we will work with with Polars\n",
    "import polars as pl\n",
    "# Load data and index it using DfEmbedder\n",
    "print(f\"Reading data from {CSV_FILE}\")\n",
    "df = pl.scan_csv(CSV_FILE)\n",
    "df = df.limit(200)\n",
    "df = df.select([\"id\", \"title\", \"overview\", \"genres\", \"vote_average\"])\n",
    "df = df.rename({\"title\": \"movie_title\", \"overview\": \"movie_description\", \"genres\": \"movie_genres\", \"vote_average\": \"movie_vote_average\"})\n",
    "df = df.collect()\n",
    "df.head()"
   ]
  },
  {
   "cell_type": "code",
   "execution_count": 4,
   "metadata": {},
   "outputs": [],
   "source": [
    "# getting the arrow table from the polars dataframe\n",
    "arrow_table = df.to_arrow() \n",
    "# with pandas that can be done by:\n",
    "# import pyarrow as pa\n",
    "# arrow_table = pa.Table.from_pandas(pandas_df)"
   ]
  },
  {
   "cell_type": "code",
   "execution_count": 5,
   "metadata": {},
   "outputs": [
    {
     "name": "stdout",
     "output_type": "stream",
     "text": [
      "\u001b[2m2025-04-16T10:38:26.302814Z\u001b[0m \u001b[32m INFO\u001b[0m \u001b[2mdfembed\u001b[0m\u001b[2m:\u001b[0m Initializing Embedder\n",
      "\u001b[2m2025-04-16T10:38:26.646403Z\u001b[0m \u001b[32m INFO\u001b[0m \u001b[2mdfembed\u001b[0m\u001b[2m:\u001b[0m Embedder initialized\n",
      "Analyzing PyArrow table...\n",
      "Found __arrow_c_stream__ method, using C Data Interface...\n",
      "Successfully converted using Arrow C Data Interface\n",
      "\u001b[2m2025-04-16T10:38:26.949419Z\u001b[0m \u001b[32m INFO\u001b[0m \u001b[2mdfembed::indexer\u001b[0m\u001b[2m:\u001b[0m Starting indexer with 16 workers and embedding chunk size 500 and write buffer size 2000\n",
      "\u001b[2m2025-04-16T10:38:25.870122Z\u001b[0m \u001b[32m INFO\u001b[0m \u001b[2mdfembed::indexer\u001b[0m\u001b[2m:\u001b[0m Created embedder for thread id ThreadId(28)\n",
      "\u001b[2m2025-04-16T10:38:25.862744Z\u001b[0m \u001b[32m INFO\u001b[0m \u001b[2mdfembed::indexer\u001b[0m\u001b[2m:\u001b[0m Created embedder for thread id ThreadId(27)\n",
      "\u001b[2m2025-04-16T10:38:25.870259Z\u001b[0m \u001b[32m INFO\u001b[0m \u001b[2mdfembed::indexer\u001b[0m\u001b[2m:\u001b[0m Embedding thread finished.. closing channel\n",
      "\u001b[2m2025-04-16T10:38:25.870271Z\u001b[0m \u001b[32m INFO\u001b[0m \u001b[2mdfembed::indexer\u001b[0m\u001b[2m:\u001b[0m Embedding thread id ThreadId(27) finished .. closing channel\n",
      "\u001b[2m2025-04-16T10:38:25.877780Z\u001b[0m \u001b[32m INFO\u001b[0m \u001b[2mdfembed::indexer\u001b[0m\u001b[2m:\u001b[0m Created embedder for thread id ThreadId(18)\n",
      "\u001b[2m2025-04-16T10:38:25.877812Z\u001b[0m \u001b[32m INFO\u001b[0m \u001b[2mdfembed::indexer\u001b[0m\u001b[2m:\u001b[0m Embedding thread finished.. closing channel\n",
      "\u001b[2m2025-04-16T10:38:25.877815Z\u001b[0m \u001b[32m INFO\u001b[0m \u001b[2mdfembed::indexer\u001b[0m\u001b[2m:\u001b[0m Embedding thread id ThreadId(18) finished .. closing channel\n",
      "\u001b[2m2025-04-16T10:38:25.915121Z\u001b[0m \u001b[32m INFO\u001b[0m \u001b[2mdfembed::indexer\u001b[0m\u001b[2m:\u001b[0m Created embedder for thread id ThreadId(29)\n",
      "\u001b[2m2025-04-16T10:38:25.915150Z\u001b[0m \u001b[32m INFO\u001b[0m \u001b[2mdfembed::indexer\u001b[0m\u001b[2m:\u001b[0m Embedding thread finished.. closing channel\n",
      "\u001b[2m2025-04-16T10:38:25.915153Z\u001b[0m \u001b[32m INFO\u001b[0m \u001b[2mdfembed::indexer\u001b[0m\u001b[2m:\u001b[0m Embedding thread id ThreadId(29) finished .. closing channel\n",
      "\u001b[2m2025-04-16T10:38:25.920275Z\u001b[0m \u001b[32m INFO\u001b[0m \u001b[2mdfembed::indexer\u001b[0m\u001b[2m:\u001b[0m Created embedder for thread id ThreadId(21)\n",
      "\u001b[2m2025-04-16T10:38:25.920295Z\u001b[0m \u001b[32m INFO\u001b[0m \u001b[2mdfembed::indexer\u001b[0m\u001b[2m:\u001b[0m Embedding thread finished.. closing channel\n",
      "\u001b[2m2025-04-16T10:38:25.920299Z\u001b[0m \u001b[32m INFO\u001b[0m \u001b[2mdfembed::indexer\u001b[0m\u001b[2m:\u001b[0m Embedding thread id ThreadId(21) finished .. closing channel\n",
      "\u001b[2m2025-04-16T10:38:25.943988Z\u001b[0m \u001b[32m INFO\u001b[0m \u001b[2mdfembed::indexer\u001b[0m\u001b[2m:\u001b[0m Created embedder for thread id ThreadId(26)\n",
      "\u001b[2m2025-04-16T10:38:25.944019Z\u001b[0m \u001b[32m INFO\u001b[0m \u001b[2mdfembed::indexer\u001b[0m\u001b[2m:\u001b[0m Embedding thread finished.. closing channel\n",
      "\u001b[2m2025-04-16T10:38:25.944024Z\u001b[0m \u001b[32m INFO\u001b[0m \u001b[2mdfembed::indexer\u001b[0m\u001b[2m:\u001b[0m Embedding thread id ThreadId(26) finished .. closing channel\n",
      "\u001b[2m2025-04-16T10:38:25.950471Z\u001b[0m \u001b[32m INFO\u001b[0m \u001b[2mdfembed::indexer\u001b[0m\u001b[2m:\u001b[0m Created embedder for thread id ThreadId(22)\n",
      "\u001b[2m2025-04-16T10:38:25.950496Z\u001b[0m \u001b[32m INFO\u001b[0m \u001b[2mdfembed::indexer\u001b[0m\u001b[2m:\u001b[0m Embedding thread finished.. closing channel\n",
      "\u001b[2m2025-04-16T10:38:25.950502Z\u001b[0m \u001b[32m INFO\u001b[0m \u001b[2mdfembed::indexer\u001b[0m\u001b[2m:\u001b[0m Embedding thread id ThreadId(22) finished .. closing channel\n",
      "\u001b[2m2025-04-16T10:38:25.975120Z\u001b[0m \u001b[32m INFO\u001b[0m \u001b[2mdfembed::indexer\u001b[0m\u001b[2m:\u001b[0m Created embedder for thread id ThreadId(23)\n",
      "\u001b[2m2025-04-16T10:38:25.975146Z\u001b[0m \u001b[32m INFO\u001b[0m \u001b[2mdfembed::indexer\u001b[0m\u001b[2m:\u001b[0m Embedding thread finished.. closing channel\n",
      "\u001b[2m2025-04-16T10:38:25.975149Z\u001b[0m \u001b[32m INFO\u001b[0m \u001b[2mdfembed::indexer\u001b[0m\u001b[2m:\u001b[0m Embedding thread id ThreadId(23) finished .. closing channel\n",
      "\u001b[2m2025-04-16T10:38:25.995347Z\u001b[0m \u001b[32m INFO\u001b[0m \u001b[2mdfembed::indexer\u001b[0m\u001b[2m:\u001b[0m Created embedder for thread id ThreadId(24)\n",
      "\u001b[2m2025-04-16T10:38:25.995375Z\u001b[0m \u001b[32m INFO\u001b[0m \u001b[2mdfembed::indexer\u001b[0m\u001b[2m:\u001b[0m Embedding thread finished.. closing channel\n",
      "\u001b[2m2025-04-16T10:38:25.995378Z\u001b[0m \u001b[32m INFO\u001b[0m \u001b[2mdfembed::indexer\u001b[0m\u001b[2m:\u001b[0m Embedding thread id ThreadId(24) finished .. closing channel\n",
      "\u001b[2m2025-04-16T10:38:26.002071Z\u001b[0m \u001b[32m INFO\u001b[0m \u001b[2mdfembed::indexer\u001b[0m\u001b[2m:\u001b[0m Created embedder for thread id ThreadId(19)\n",
      "\u001b[2m2025-04-16T10:38:26.002102Z\u001b[0m \u001b[32m INFO\u001b[0m \u001b[2mdfembed::indexer\u001b[0m\u001b[2m:\u001b[0m Embedding thread finished.. closing channel\n",
      "\u001b[2m2025-04-16T10:38:26.002105Z\u001b[0m \u001b[32m INFO\u001b[0m \u001b[2mdfembed::indexer\u001b[0m\u001b[2m:\u001b[0m Embedding thread id ThreadId(19) finished .. closing channel\n",
      "\u001b[2m2025-04-16T10:38:26.023318Z\u001b[0m \u001b[32m INFO\u001b[0m \u001b[2mdfembed::indexer\u001b[0m\u001b[2m:\u001b[0m Created embedder for thread id ThreadId(32)\n",
      "\u001b[2m2025-04-16T10:38:26.023354Z\u001b[0m \u001b[32m INFO\u001b[0m \u001b[2mdfembed::indexer\u001b[0m\u001b[2m:\u001b[0m Embedding thread finished.. closing channel\n",
      "\u001b[2m2025-04-16T10:38:26.023358Z\u001b[0m \u001b[32m INFO\u001b[0m \u001b[2mdfembed::indexer\u001b[0m\u001b[2m:\u001b[0m Embedding thread id ThreadId(32) finished .. closing channel\n",
      "\u001b[2m2025-04-16T10:38:26.029926Z\u001b[0m \u001b[32m INFO\u001b[0m \u001b[2mdfembed::indexer\u001b[0m\u001b[2m:\u001b[0m Created embedder for thread id ThreadId(33)\n",
      "\u001b[2m2025-04-16T10:38:26.029947Z\u001b[0m \u001b[32m INFO\u001b[0m \u001b[2mdfembed::indexer\u001b[0m\u001b[2m:\u001b[0m Embedding thread finished.. closing channel\n",
      "\u001b[2m2025-04-16T10:38:26.029950Z\u001b[0m \u001b[32m INFO\u001b[0m \u001b[2mdfembed::indexer\u001b[0m\u001b[2m:\u001b[0m Embedding thread id ThreadId(33) finished .. closing channel\n",
      "\u001b[2m2025-04-16T10:38:26.048349Z\u001b[0m \u001b[32m INFO\u001b[0m \u001b[2mdfembed::indexer\u001b[0m\u001b[2m:\u001b[0m Created embedder for thread id ThreadId(31)\n",
      "\u001b[2m2025-04-16T10:38:26.048388Z\u001b[0m \u001b[32m INFO\u001b[0m \u001b[2mdfembed::indexer\u001b[0m\u001b[2m:\u001b[0m Embedding thread finished.. closing channel\n",
      "\u001b[2m2025-04-16T10:38:26.048392Z\u001b[0m \u001b[32m INFO\u001b[0m \u001b[2mdfembed::indexer\u001b[0m\u001b[2m:\u001b[0m Embedding thread id ThreadId(31) finished .. closing channel\n",
      "\u001b[2m2025-04-16T10:38:26.056353Z\u001b[0m \u001b[32m INFO\u001b[0m \u001b[2mdfembed::indexer\u001b[0m\u001b[2m:\u001b[0m Created embedder for thread id ThreadId(20)\n",
      "\u001b[2m2025-04-16T10:38:26.056381Z\u001b[0m \u001b[32m INFO\u001b[0m \u001b[2mdfembed::indexer\u001b[0m\u001b[2m:\u001b[0m Embedding thread finished.. closing channel\n",
      "\u001b[2m2025-04-16T10:38:26.056384Z\u001b[0m \u001b[32m INFO\u001b[0m \u001b[2mdfembed::indexer\u001b[0m\u001b[2m:\u001b[0m Embedding thread id ThreadId(20) finished .. closing channel\n",
      "\u001b[2m2025-04-16T10:38:26.073558Z\u001b[0m \u001b[32m INFO\u001b[0m \u001b[2mdfembed::indexer\u001b[0m\u001b[2m:\u001b[0m Created embedder for thread id ThreadId(25)\n",
      "\u001b[2m2025-04-16T10:38:26.073591Z\u001b[0m \u001b[32m INFO\u001b[0m \u001b[2mdfembed::indexer\u001b[0m\u001b[2m:\u001b[0m Embedding thread finished.. closing channel\n",
      "\u001b[2m2025-04-16T10:38:26.073594Z\u001b[0m \u001b[32m INFO\u001b[0m \u001b[2mdfembed::indexer\u001b[0m\u001b[2m:\u001b[0m Embedding thread id ThreadId(25) finished .. closing channel\n",
      "\u001b[2m2025-04-16T10:38:26.082376Z\u001b[0m \u001b[32m INFO\u001b[0m \u001b[2mdfembed::indexer\u001b[0m\u001b[2m:\u001b[0m Embedding thread finished.. closing channel\n",
      "\u001b[2m2025-04-16T10:38:26.082404Z\u001b[0m \u001b[32m INFO\u001b[0m \u001b[2mdfembed::indexer\u001b[0m\u001b[2m:\u001b[0m Embedding thread id ThreadId(28) finished .. closing channel\n",
      "\u001b[2m2025-04-16T10:38:26.098457Z\u001b[0m \u001b[32m INFO\u001b[0m \u001b[2mdfembed::indexer\u001b[0m\u001b[2m:\u001b[0m Created embedder for thread id ThreadId(30)\n",
      "\u001b[2m2025-04-16T10:38:26.098488Z\u001b[0m \u001b[32m INFO\u001b[0m \u001b[2mdfembed::indexer\u001b[0m\u001b[2m:\u001b[0m Embedding thread finished.. closing channel\n",
      "\u001b[2m2025-04-16T10:38:26.098529Z\u001b[0m \u001b[32m INFO\u001b[0m \u001b[2mdfembed::indexer\u001b[0m\u001b[2m:\u001b[0m Embedding thread id ThreadId(30) finished .. closing channel\n",
      "\u001b[2m2025-04-16T10:38:26.125626Z\u001b[0m \u001b[33m WARN\u001b[0m \u001b[2mlance::dataset::write::insert\u001b[0m\u001b[2m:\u001b[0m No existing dataset at example_lancedb/films_table.lance, it will be created    \n",
      "\u001b[2m2025-04-16T10:38:26.147123Z\u001b[0m \u001b[32m INFO\u001b[0m \u001b[2mlance::file_audit\u001b[0m\u001b[2m:\u001b[0m \u001b[3mmode\u001b[0m\u001b[2m=\u001b[0m\"create\" \u001b[3mtype\u001b[0m\u001b[2m=\u001b[0m\"data\" \u001b[3mpath\u001b[0m\u001b[2m=\u001b[0m\"77fddccb-4618-465d-8c3e-480aa293f851.lance\"\n",
      "\u001b[2m2025-04-16T10:38:26.149937Z\u001b[0m \u001b[32m INFO\u001b[0m \u001b[2mlance::file_audit\u001b[0m\u001b[2m:\u001b[0m \u001b[3mmode\u001b[0m\u001b[2m=\u001b[0m\"create\" \u001b[3mtype\u001b[0m\u001b[2m=\u001b[0m\"manifest\" \u001b[3mpath\u001b[0m\u001b[2m=\u001b[0m\"home/alonagmon/test_package/example_lancedb/films_table.lance/_versions/1.manifest-107c7cb8-d079-4494-ba02-3999786ba152\"\n",
      "\u001b[2m2025-04-16T10:38:26.151691Z\u001b[0m \u001b[32m INFO\u001b[0m \u001b[2mdfembed::indexer\u001b[0m\u001b[2m:\u001b[0m Writer thread finished - closing channel\n"
     ]
    }
   ],
   "source": [
    "\n",
    "from dfembed import DfEmbedder\n",
    "embedder = DfEmbedder(database_name=DATA_BASE_NAME) # Using default params for simplicity\n",
    "embedder.index_table(arrow_table, table_name=TABLE_NAME)"
   ]
  },
  {
   "cell_type": "code",
   "execution_count": 6,
   "metadata": {},
   "outputs": [
    {
     "name": "stdout",
     "output_type": "stream",
     "text": [
      "id is 353486; movie_title is Jumanji: Welcome to the Jungle; movie_description is Four teenagers in detention discover an old video game console with a game they’ve never heard of. When they decide to play, they are immediately sucked into the jungle world of Jumanji in the bodies of their avatars. They’ll have to complete the adventure of their lives filled with fun, thrills and danger or be stuck in the game forever!; movie_genres is Adventure, Action, Comedy, Fantasy; movie_vote_average is 6.827\n",
      "id is 329; movie_title is Jurassic Park; movie_description is A wealthy entrepreneur secretly creates a theme park featuring living dinosaurs drawn from prehistoric DNA. Before opening day, he invites a team of experts and his two eager grandchildren to experience the park and help calm anxious investors. However, the park is anything but amusing as the security systems go off-line and the dinosaurs escape.; movie_genres is Adventure, Science Fiction; movie_vote_average is 7.941\n",
      "id is 269149; movie_title is Zootopia; movie_description is Determined to prove herself, Officer Judy Hopps, the first bunny on Zootopia's police force, jumps at the chance to crack her first case - even if it means partnering with scam-artist fox Nick Wilde to solve the mystery.; movie_genres is Animation, Adventure, Family, Comedy; movie_vote_average is 7.748\n",
      "id is 425; movie_title is Ice Age; movie_description is With the impending ice age almost upon them, a mismatched trio of prehistoric critters – Manny the woolly mammoth, Diego the saber-toothed tiger and Sid the giant sloth – find an orphaned infant and decide to return it to its human parents. Along the way, the unlikely allies become friends but, when enemies attack, their quest takes on far nobler aims.; movie_genres is Animation, Comedy, Family, Adventure; movie_vote_average is 7.348\n",
      "id is 135397; movie_title is Jurassic World; movie_description is Twenty-two years after the events of Jurassic Park, Isla Nublar now features a fully functioning dinosaur theme park, Jurassic World, as originally envisioned by John Hammond.; movie_genres is Action, Adventure, Science Fiction, Thriller; movie_vote_average is 6.682\n",
      "\u001b[2m2025-04-16T10:38:26.254250Z\u001b[0m \u001b[32m INFO\u001b[0m \u001b[1mDatasetRecordBatchStream\u001b[0m\u001b[2m:\u001b[0m \u001b[2mlance::execution\u001b[0m\u001b[2m:\u001b[0m \u001b[3mtype\u001b[0m\u001b[2m=\u001b[0m\"plan_run\" \u001b[3moutput_rows\u001b[0m\u001b[2m=\u001b[0m5 \u001b[3miops\u001b[0m\u001b[2m=\u001b[0m12 \u001b[3mrequests\u001b[0m\u001b[2m=\u001b[0m4 \u001b[3mbytes_read\u001b[0m\u001b[2m=\u001b[0m825558 \u001b[3mindices_loaded\u001b[0m\u001b[2m=\u001b[0m0 \u001b[3mparts_loaded\u001b[0m\u001b[2m=\u001b[0m0 \u001b[3mindex_comparisons\u001b[0m\u001b[2m=\u001b[0m0\n"
     ]
    }
   ],
   "source": [
    "query = \"jungle adventures kids\"\n",
    "similar = embedder.find_similar(query, TABLE_NAME, k=5)\n",
    "for film in similar:\n",
    "    print(film)"
   ]
  },
  {
   "cell_type": "code",
   "execution_count": 7,
   "metadata": {},
   "outputs": [
    {
     "data": {
      "text/html": [
       "<div>\n",
       "<style scoped>\n",
       "    .dataframe tbody tr th:only-of-type {\n",
       "        vertical-align: middle;\n",
       "    }\n",
       "\n",
       "    .dataframe tbody tr th {\n",
       "        vertical-align: top;\n",
       "    }\n",
       "\n",
       "    .dataframe thead th {\n",
       "        text-align: right;\n",
       "    }\n",
       "</style>\n",
       "<table border=\"1\" class=\"dataframe\">\n",
       "  <thead>\n",
       "    <tr style=\"text-align: right;\">\n",
       "      <th></th>\n",
       "      <th>filename</th>\n",
       "      <th>text</th>\n",
       "      <th>vector</th>\n",
       "      <th>_distance</th>\n",
       "    </tr>\n",
       "  </thead>\n",
       "  <tbody>\n",
       "    <tr>\n",
       "      <th>0</th>\n",
       "      <td>id is 353486; movie_title is Jumanji: Welcome ...</td>\n",
       "      <td>id is 353486; movie_title is Jumanji: Welcome ...</td>\n",
       "      <td>[-0.024141256, 0.05927249, -0.022344539, 0.012...</td>\n",
       "      <td>1.183995</td>\n",
       "    </tr>\n",
       "    <tr>\n",
       "      <th>1</th>\n",
       "      <td>id is 329; movie_title is Jurassic Park; movie...</td>\n",
       "      <td>id is 329; movie_title is Jurassic Park; movie...</td>\n",
       "      <td>[-0.02603601, 0.026940161, -0.0929412, 0.02070...</td>\n",
       "      <td>1.482222</td>\n",
       "    </tr>\n",
       "    <tr>\n",
       "      <th>2</th>\n",
       "      <td>id is 269149; movie_title is Zootopia; movie_d...</td>\n",
       "      <td>id is 269149; movie_title is Zootopia; movie_d...</td>\n",
       "      <td>[-0.04254988, 0.05369326, -0.013325058, -0.005...</td>\n",
       "      <td>1.492725</td>\n",
       "    </tr>\n",
       "    <tr>\n",
       "      <th>3</th>\n",
       "      <td>id is 425; movie_title is Ice Age; movie_descr...</td>\n",
       "      <td>id is 425; movie_title is Ice Age; movie_descr...</td>\n",
       "      <td>[-0.0047214017, -0.010727687, -0.031148905, 0....</td>\n",
       "      <td>1.544784</td>\n",
       "    </tr>\n",
       "    <tr>\n",
       "      <th>4</th>\n",
       "      <td>id is 135397; movie_title is Jurassic World; m...</td>\n",
       "      <td>id is 135397; movie_title is Jurassic World; m...</td>\n",
       "      <td>[-0.045647327, -0.021175912, -0.09689002, 0.03...</td>\n",
       "      <td>1.557309</td>\n",
       "    </tr>\n",
       "  </tbody>\n",
       "</table>\n",
       "</div>"
      ],
      "text/plain": [
       "                                            filename  \\\n",
       "0  id is 353486; movie_title is Jumanji: Welcome ...   \n",
       "1  id is 329; movie_title is Jurassic Park; movie...   \n",
       "2  id is 269149; movie_title is Zootopia; movie_d...   \n",
       "3  id is 425; movie_title is Ice Age; movie_descr...   \n",
       "4  id is 135397; movie_title is Jurassic World; m...   \n",
       "\n",
       "                                                text  \\\n",
       "0  id is 353486; movie_title is Jumanji: Welcome ...   \n",
       "1  id is 329; movie_title is Jurassic Park; movie...   \n",
       "2  id is 269149; movie_title is Zootopia; movie_d...   \n",
       "3  id is 425; movie_title is Ice Age; movie_descr...   \n",
       "4  id is 135397; movie_title is Jurassic World; m...   \n",
       "\n",
       "                                              vector  _distance  \n",
       "0  [-0.024141256, 0.05927249, -0.022344539, 0.012...   1.183995  \n",
       "1  [-0.02603601, 0.026940161, -0.0929412, 0.02070...   1.482222  \n",
       "2  [-0.04254988, 0.05369326, -0.013325058, -0.005...   1.492725  \n",
       "3  [-0.0047214017, -0.010727687, -0.031148905, 0....   1.544784  \n",
       "4  [-0.045647327, -0.021175912, -0.09689002, 0.03...   1.557309  "
      ]
     },
     "execution_count": 7,
     "metadata": {},
     "output_type": "execute_result"
    }
   ],
   "source": [
    "# use lancedb to query and get the results\n",
    "import lancedb\n",
    "\n",
    "db = lancedb.connect(DATA_BASE_NAME)\n",
    "table = db.open_table(TABLE_NAME)\n",
    "\n",
    "query = \"jungle adventures kids\"\n",
    "query_vector = embedder.embed_string(query)\n",
    "\n",
    "results = table.search(query_vector).limit(5).to_pandas()\n",
    "results"
   ]
  },
  {
   "cell_type": "code",
   "execution_count": 8,
   "metadata": {},
   "outputs": [
    {
     "name": "stdout",
     "output_type": "stream",
     "text": [
      "DfEmbedVectorStore initialized for table: 'films_table'\n",
      "\n",
      "Query: 'Please recommend me a movie about adventures in the jungle'\n",
      "DfEmbedVectorStore: Received query: 'Please recommend me a movie about adventures in the jungle', k=5\n",
      "DfEmbedVectorStore: find_similar returned 5 results.\n",
      "\u001b[2m2025-04-16T10:38:28.829676Z\u001b[0m \u001b[32m INFO\u001b[0m \u001b[1mDatasetRecordBatchStream\u001b[0m\u001b[2m:\u001b[0m \u001b[2mlance::execution\u001b[0m\u001b[2m:\u001b[0m \u001b[3mtype\u001b[0m\u001b[2m=\u001b[0m\"plan_run\" \u001b[3moutput_rows\u001b[0m\u001b[2m=\u001b[0m5 \u001b[3miops\u001b[0m\u001b[2m=\u001b[0m12 \u001b[3mrequests\u001b[0m\u001b[2m=\u001b[0m4 \u001b[3mbytes_read\u001b[0m\u001b[2m=\u001b[0m825433 \u001b[3mindices_loaded\u001b[0m\u001b[2m=\u001b[0m0 \u001b[3mparts_loaded\u001b[0m\u001b[2m=\u001b[0m0 \u001b[3mindex_comparisons\u001b[0m\u001b[2m=\u001b[0m0\n",
      "I'd be happy to help you with that! A movie about adventures in the jungle that I think you might enjoy is... Jumanji: Welcome to the Jungle (id = 353486). Give it a try and see how you like it!\n"
     ]
    }
   ],
   "source": [
    "# LlamaIndex integration\n",
    "\n",
    "from dfembed import DfEmbedVectorStore # the LlamaIndex's vector store for DfEmbedder\n",
    "from llama_index.llms.ollama import Ollama\n",
    "from llama_index.core.settings import Settings\n",
    "from llama_index.core.indices import VectorStoreIndex\n",
    "from llama_index.core.embeddings import MockEmbedding\n",
    "\n",
    "\n",
    "# because we use our own embedding model\n",
    "Settings.embed_model = MockEmbedding(embed_dim=1024)\n",
    "vector_store = DfEmbedVectorStore(\n",
    "    df_embedder=embedder,\n",
    "    table_name=TABLE_NAME\n",
    ")\n",
    "index = VectorStoreIndex.from_vector_store(vector_store=vector_store)\n",
    "\n",
    "llm = Ollama(model=\"llama3:8b\", request_timeout=120.0)\n",
    "query_engine = index.as_query_engine(similarity_top_k=5, llm=llm)\n",
    "\n",
    "# Perform a query\n",
    "query_str = \"Please recommend me a movie about adventures in the jungle\"\n",
    "print(f\"\\nQuery: '{query_str}'\")\n",
    "response = query_engine.query(query_str)\n",
    "print(str(response))"
   ]
  }
 ],
 "metadata": {
  "kernelspec": {
   "display_name": "venv",
   "language": "python",
   "name": "python3"
  },
  "language_info": {
   "codemirror_mode": {
    "name": "ipython",
    "version": 3
   },
   "file_extension": ".py",
   "mimetype": "text/x-python",
   "name": "python",
   "nbconvert_exporter": "python",
   "pygments_lexer": "ipython3",
   "version": "3.10.13"
  }
 },
 "nbformat": 4,
 "nbformat_minor": 2
}
